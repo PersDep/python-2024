{
  "nbformat": 4,
  "nbformat_minor": 0,
  "metadata": {
    "colab": {
      "provenance": []
    },
    "kernelspec": {
      "name": "python3",
      "display_name": "Python 3"
    },
    "language_info": {
      "name": "python"
    }
  },
  "cells": [
    {
      "cell_type": "markdown",
      "source": [
        "#Теоретические введение\n"
      ],
      "metadata": {
        "id": "mQwByYoXljX0"
      }
    },
    {
      "cell_type": "markdown",
      "source": [
        "План урока: всего на 1 час 20 минут\n",
        "- Рассказываем, что будет на занятии\n",
        "- Работаем поэтапно с задачей, комментируем каждый шаг, отвечаем на вопросы\n",
        "- если будут вопросы по дальнейшему прохождению, говорим что на семинарах будет оч много примеров с интрументами библиотек\n",
        "\n",
        "Занятие ведем динамично, желательно успеть пройтись по всему материалу. В качестве помощи файлик с решением с урокам закинуть ребятам."
      ],
      "metadata": {
        "id": "IIglfj2bmz6H"
      }
    },
    {
      "cell_type": "markdown",
      "source": [
        "#Введение\n"
      ],
      "metadata": {
        "id": "hn-xHaPhoD_U"
      }
    },
    {
      "cell_type": "markdown",
      "source": [
        "Всем привет!\n",
        "Сегодня мы начинаем работать с анализом данных. Будем на примере конкретных данных рассматривать возможности библиотек pandas и numpy."
      ],
      "metadata": {
        "id": "z05-B4n4rS9C"
      }
    },
    {
      "cell_type": "markdown",
      "source": [
        "#Numpy"
      ],
      "metadata": {
        "id": "0UuMg-KdrgNK"
      }
    },
    {
      "cell_type": "markdown",
      "source": [
        "Язык программирования Python удобен для быстрого создания программ с целью проверки какой-либо идеи. Однако зачастую его используют и в решении научных задач, а также при анализе больших данных и машинном обучении. Возникает вопрос: каким образом может быстро обрабатывать много данных интерпретируемая, а не скомпилированная программа? Оказывается, что в решении некоторых математических задач программы на Python могут быть такими же быстрыми, как и программы, созданные на компилируемых языках.\n",
        "\n",
        "Существенную прибавку в скорости обеспечивает библиотека numpy (Numerical Python, читается как \"нампАй\"). Библиотека numpy частично написана на языках Си и Фортран, благодаря чему и работает быстро. Таким образом, numpy сочетает в себе вычислительную мощность языков Си и Фортран и простоту синтаксиса Python.\n",
        "\n",
        "Библиотека numpy является нестандартной библиотекой."
      ],
      "metadata": {
        "id": "VCwN0QfUrrtg"
      }
    },
    {
      "cell_type": "markdown",
      "source": [
        "#Подключение библиотеки"
      ],
      "metadata": {
        "id": "oU2DUtPTsQgQ"
      }
    },
    {
      "cell_type": "markdown",
      "source": [
        "Для установки библиотек из репозитория необходимо подключение к сети Интернет, а далее выполнить команду в консоли (терминале):"
      ],
      "metadata": {
        "id": "bYgdGRdQrt6Y"
      }
    },
    {
      "cell_type": "code",
      "source": [
        "pip install <название библиотеки>"
      ],
      "metadata": {
        "id": "CzHagRa1rvFW"
      },
      "execution_count": null,
      "outputs": []
    },
    {
      "cell_type": "markdown",
      "source": [
        "Установим библиотеку numpy командой:"
      ],
      "metadata": {
        "id": "4rjKBjgjrwFA"
      }
    },
    {
      "cell_type": "code",
      "source": [
        "pip install numpy"
      ],
      "metadata": {
        "id": "woZq736QrxMf"
      },
      "execution_count": null,
      "outputs": []
    },
    {
      "cell_type": "markdown",
      "source": [
        "После ввода команды начнётся загрузка установочного пакета и дополнительных библиотек, от которых зависит numpy. Затем начнётся процесс установки."
      ],
      "metadata": {
        "id": "7K4sMGq2rzVq"
      }
    },
    {
      "cell_type": "markdown",
      "source": [
        "Для импорта numpy обычно используют следующий код:"
      ],
      "metadata": {
        "id": "xehaSibar9xf"
      }
    },
    {
      "cell_type": "code",
      "source": [
        "import numpy as np"
      ],
      "metadata": {
        "id": "DeI_cWYrsB5T"
      },
      "execution_count": 1,
      "outputs": []
    },
    {
      "cell_type": "markdown",
      "source": [
        "В программе мы сможем обращаться к numpy по новому имени – np. Это упростит чтение кода. Такой импорт широко используется сообществом программистов, поэтому стоит его придерживаться, чтобы ваш код был понятен каждому.\n",
        "\n",
        "Библиотека numpy работает с объектами-массивами, которые способны хранить много значений и быть многомерными. При этом в отличие от списков массивы могут хранить только значения одного типа. За счёт этого массивы в numpy занимают меньше памяти и работают быстрее, чем списки."
      ],
      "metadata": {
        "id": "wYycHSz2sDdT"
      }
    },
    {
      "cell_type": "markdown",
      "source": [
        "Основа numpy это вектора (array) и матрицы (matrix).\n",
        "Создадим вектор и попробуем возможности библиотеки."
      ],
      "metadata": {
        "id": "ECJ38zybsVbK"
      }
    },
    {
      "metadata": {
        "id": "j-jddNMpJH1W"
      },
      "cell_type": "markdown",
      "source": [
        "# Вектора"
      ]
    },
    {
      "cell_type": "markdown",
      "source": [
        "**ВАЖНО - используй авторские значения и наименования переменных.**"
      ],
      "metadata": {
        "id": "AQa05eT04kMO"
      }
    },
    {
      "cell_type": "markdown",
      "source": [
        "Массивы numpy являются объектами класса ndarray. Наиболее важными атрибутами класса ndarray являются:\n",
        "\n",
        "ndarray.ndim – размерность (количество осей) массива;\n",
        "\n",
        "ndarray.shape – кортеж, значения которого содержат количество элементов по каждой из осей массива;\n",
        "\n",
        "ndarray.size – общее количество элементов массива;\n",
        "\n",
        "ndarray.dtype – объект, описывающий тип данных элементов массива;\n",
        "\n",
        "ndarray.itemsize – размер памяти в байтах, занимаемый одним элементом массива."
      ],
      "metadata": {
        "id": "fO0BhHBQtVYH"
      }
    },
    {
      "metadata": {
        "id": "bYvvRSUIJH1Y",
        "outputId": "fcc2f9cf-2b82-4357-d5e8-7fa783beeaf6",
        "colab": {
          "base_uri": "https://localhost:8080/"
        }
      },
      "cell_type": "code",
      "source": [
        "type(np.array([1, 2, 3, 4, 5]))"
      ],
      "execution_count": 21,
      "outputs": [
        {
          "output_type": "execute_result",
          "data": {
            "text/plain": [
              "numpy.ndarray"
            ]
          },
          "metadata": {},
          "execution_count": 21
        }
      ]
    },
    {
      "metadata": {
        "id": "aj2O1SXKJH1d",
        "outputId": "f9211def-f885-4947-9fde-8183d0316902"
      },
      "cell_type": "code",
      "source": [
        "print(type(a))"
      ],
      "execution_count": null,
      "outputs": [
        {
          "output_type": "stream",
          "text": [
            "<class 'numpy.ndarray'>\n"
          ],
          "name": "stdout"
        }
      ]
    },
    {
      "metadata": {
        "id": "odyLfGxuJH1m",
        "outputId": "95da7783-dec0-4567-e2e2-c4b19cf8fa85"
      },
      "cell_type": "code",
      "source": [
        "print(a.shape)"
      ],
      "execution_count": null,
      "outputs": [
        {
          "output_type": "stream",
          "text": [
            "(5,)\n"
          ],
          "name": "stdout"
        }
      ]
    },
    {
      "metadata": {
        "id": "Gwa8t2L5JH1w",
        "outputId": "436dc759-6fc2-48d7-82b1-4cadfe03e49e"
      },
      "cell_type": "code",
      "source": [
        "print(a[0], a[1], a[3]) # индексация по элементам"
      ],
      "execution_count": null,
      "outputs": [
        {
          "output_type": "stream",
          "text": [
            "1 2 4\n"
          ],
          "name": "stdout"
        }
      ]
    },
    {
      "metadata": {
        "id": "JzJesTEYJH12",
        "outputId": "9a5e2461-bb8e-4007-eb77-1f75d8e0edc5"
      },
      "cell_type": "code",
      "source": [
        "a[:2] # индексация диапазоном"
      ],
      "execution_count": null,
      "outputs": [
        {
          "output_type": "execute_result",
          "data": {
            "text/plain": [
              "array([1, 2])"
            ]
          },
          "metadata": {
            "tags": []
          },
          "execution_count": 70
        }
      ]
    },
    {
      "metadata": {
        "id": "GVJvqyOlJH18",
        "outputId": "d8c9fc9a-bd61-4f66-e0bc-a3ffac09bed1"
      },
      "cell_type": "code",
      "source": [
        "a[-2:] # берем последний элемент в массиве"
      ],
      "execution_count": null,
      "outputs": [
        {
          "output_type": "execute_result",
          "data": {
            "text/plain": [
              "array([4, 5])"
            ]
          },
          "metadata": {
            "tags": []
          },
          "execution_count": 72
        }
      ]
    },
    {
      "metadata": {
        "id": "coEUo6B8JH2D",
        "outputId": "d4673c2a-6bcc-4f09-cbe4-ef6ab02163ad"
      },
      "cell_type": "code",
      "source": [
        "a[::-1] # перевернуть массив"
      ],
      "execution_count": null,
      "outputs": [
        {
          "output_type": "execute_result",
          "data": {
            "text/plain": [
              "array([5, 4, 3, 2, 1])"
            ]
          },
          "metadata": {
            "tags": []
          },
          "execution_count": 73
        }
      ]
    },
    {
      "metadata": {
        "id": "HaLOFdKBJH2J",
        "outputId": "e0599660-6a64-4071-9796-e33bfe03d106"
      },
      "cell_type": "code",
      "source": [
        "a[0] = 5 # операция присвоения\n",
        "a"
      ],
      "execution_count": null,
      "outputs": [
        {
          "output_type": "execute_result",
          "data": {
            "text/plain": [
              "array([5, 2, 3, 4, 5])"
            ]
          },
          "metadata": {
            "tags": []
          },
          "execution_count": 75
        }
      ]
    },
    {
      "metadata": {
        "id": "fl_tAQ84JH2P"
      },
      "cell_type": "code",
      "source": [
        "print(a + 5)\n",
        "\n",
        "b = np.array([1, 2.0, 3, 4, 'lol'])\n",
        "b * 5"
      ],
      "execution_count": null,
      "outputs": []
    },
    {
      "cell_type": "markdown",
      "source": [
        "В массивах можно брать срез. Для одномерных массивов эта операция аналогична стандартному срезу в Python. Для многомерного массива можно задавать диапазон среза отдельно для каждой оси. Таким образом, можно взять срез отдельной части матрицы, указав какие строки и столбцы должны попасть в срез:"
      ],
      "metadata": {
        "id": "qukChWEj3nzj"
      }
    },
    {
      "cell_type": "code",
      "source": [
        "start = 2\n",
        "end = 7\n",
        "step = 2"
      ],
      "metadata": {
        "id": "Hc248OPwr2vL"
      },
      "execution_count": 11,
      "outputs": []
    },
    {
      "cell_type": "code",
      "source": [
        "np.arange(1, 10)[start:end:step]"
      ],
      "metadata": {
        "id": "OVcfhKqhrI3y",
        "outputId": "431fb1d1-ecbe-49ef-a961-208692380089",
        "colab": {
          "base_uri": "https://localhost:8080/"
        }
      },
      "execution_count": 12,
      "outputs": [
        {
          "output_type": "execute_result",
          "data": {
            "text/plain": [
              "array([3, 5, 7])"
            ]
          },
          "metadata": {},
          "execution_count": 12
        }
      ]
    },
    {
      "cell_type": "code",
      "source": [
        "np.ndarray(10)"
      ],
      "metadata": {
        "id": "hD5RF0AvrUrI",
        "outputId": "90e688af-d8e1-490e-cbf3-d6b5ad07147a",
        "colab": {
          "base_uri": "https://localhost:8080/"
        }
      },
      "execution_count": 10,
      "outputs": [
        {
          "output_type": "execute_result",
          "data": {
            "text/plain": [
              "array([1.27057281e-311, 1.77863633e-322, 0.00000000e+000, 0.00000000e+000,\n",
              "       1.60218491e-306, 1.11640063e-046, 2.10661137e-052, 5.89331477e-091,\n",
              "       3.73850708e-061, 1.42404780e-306])"
            ]
          },
          "metadata": {},
          "execution_count": 10
        }
      ]
    },
    {
      "cell_type": "code",
      "source": [],
      "metadata": {
        "id": "KkEL6r7UrVXE"
      },
      "execution_count": null,
      "outputs": []
    },
    {
      "cell_type": "code",
      "source": [
        "import numpy as np\n",
        "\n",
        "\n",
        "\n",
        "a = np.arange(1, 13).reshape(3, 4)\n",
        "print(a)\n",
        "print()\n",
        "print(a[:2, 2:]) // :2 -- по строкам ; 2: -- по стоблцам\n",
        "print()\n",
        "print(a[:, ::2])"
      ],
      "metadata": {
        "id": "jr7ExjMq3oX7",
        "outputId": "631fb553-31c0-421f-f02e-3f357eca4a59",
        "colab": {
          "base_uri": "https://localhost:8080/"
        }
      },
      "execution_count": 2,
      "outputs": [
        {
          "output_type": "stream",
          "name": "stdout",
          "text": [
            "[[ 1  2  3  4]\n",
            " [ 5  6  7  8]\n",
            " [ 9 10 11 12]]\n",
            "\n",
            "[[3 4]\n",
            " [7 8]]\n",
            "\n",
            "[[ 1  3]\n",
            " [ 5  7]\n",
            " [ 9 11]]\n"
          ]
        }
      ]
    },
    {
      "cell_type": "markdown",
      "source": [
        "В цикле for можно пройти по элементам первой оси массива:\n"
      ],
      "metadata": {
        "id": "FZ_6ejhD3xoG"
      }
    },
    {
      "cell_type": "code",
      "source": [
        "import numpy as np\n",
        "\n",
        "a = np.arange(1, 13).reshape(3, 4)\n",
        "print(a)\n",
        "for row in a:\n",
        "    print(row)"
      ],
      "metadata": {
        "id": "RIVJRcsd3yyY"
      },
      "execution_count": null,
      "outputs": []
    },
    {
      "cell_type": "markdown",
      "source": [
        "Покажем на примере различие в скорости работы массивов и списков. Посчитаем сумму квадратных корней первых 10^7 чисел."
      ],
      "metadata": {
        "id": "pdDBNRPM4Ox3"
      }
    },
    {
      "cell_type": "code",
      "source": [
        "import numpy as np\n",
        "from time import time\n",
        "\n",
        "t = time()\n",
        "print(f\"Итератор и список: {sum(x ** 0.5 for x in range(10 ** 7))}.\")\n",
        "print(f\"{time() - t} с.\")\n",
        "t = time()\n",
        "print(f\"numpy: {np.sqrt(np.arange(10 ** 7)).sum()}.\")\n",
        "print(f\"{time() - t} с.\")"
      ],
      "metadata": {
        "id": "L-UExn9X4TkD",
        "outputId": "83320d93-3e61-475d-ff0a-92393671bf48",
        "colab": {
          "base_uri": "https://localhost:8080/"
        }
      },
      "execution_count": 15,
      "outputs": [
        {
          "output_type": "stream",
          "name": "stdout",
          "text": [
            "Итератор и список: 21081849486.439312.\n",
            "1.270658254623413 с.\n",
            "numpy: 21081849486.442448.\n",
            "0.05005335807800293 с.\n"
          ]
        }
      ]
    },
    {
      "cell_type": "markdown",
      "source": [
        "Библиотека numpy решила задачу в 30 раз быстрее, чем итератор.\n",
        "\n",
        "За счёт скорости работы и удобной обработки массивов библиотека numpy используется для расчётов во многих других библиотеках. С одной из них мы поработаем в следующей главе."
      ],
      "metadata": {
        "id": "QSZVPX354dYy"
      }
    },
    {
      "metadata": {
        "id": "KRYbKgIoJH2X"
      },
      "cell_type": "markdown",
      "source": [
        "# Матрицы"
      ]
    },
    {
      "metadata": {
        "id": "lTG_A2FYJH2Y"
      },
      "cell_type": "markdown",
      "source": [
        "Матрицы по сути это таблички без границ."
      ]
    },
    {
      "metadata": {
        "id": "EXQO4iSIJH2Z"
      },
      "cell_type": "code",
      "source": [
        "a = np.array([[1.0,2,3,4], [5,6,7,8], [9,10,11,12]])"
      ],
      "execution_count": 34,
      "outputs": []
    },
    {
      "metadata": {
        "id": "iHXKM-m8JH2d",
        "outputId": "76a86b01-8c78-41d2-8e34-a953faf779ad",
        "colab": {
          "base_uri": "https://localhost:8080/"
        }
      },
      "cell_type": "code",
      "source": [
        "a[::-1,::-1].shape"
      ],
      "execution_count": 25,
      "outputs": [
        {
          "output_type": "execute_result",
          "data": {
            "text/plain": [
              "(3, 4)"
            ]
          },
          "metadata": {},
          "execution_count": 25
        }
      ]
    },
    {
      "cell_type": "code",
      "source": [
        "a.reshape(-1)"
      ],
      "metadata": {
        "id": "iqeBkT6_t7eD",
        "outputId": "83311a12-d3d2-4189-c5b3-283421037550",
        "colab": {
          "base_uri": "https://localhost:8080/"
        }
      },
      "execution_count": 31,
      "outputs": [
        {
          "output_type": "execute_result",
          "data": {
            "text/plain": [
              "array([ 1,  2,  3,  4,  5,  6,  7,  8,  9, 10, 11, 12])"
            ]
          },
          "metadata": {},
          "execution_count": 31
        }
      ]
    },
    {
      "metadata": {
        "id": "JrROdXHlJH2j",
        "outputId": "1e77697b-ddbb-4089-f9c0-93d35e762554",
        "colab": {
          "base_uri": "https://localhost:8080/"
        }
      },
      "cell_type": "code",
      "source": [
        "print(type(a))"
      ],
      "execution_count": 19,
      "outputs": [
        {
          "output_type": "stream",
          "name": "stdout",
          "text": [
            "<class 'numpy.ndarray'>\n"
          ]
        }
      ]
    },
    {
      "metadata": {
        "id": "V0CvWhWUJH2q",
        "outputId": "1d68da75-f1e5-43e7-8cf2-994a1210fdff"
      },
      "cell_type": "code",
      "source": [
        "a[:,::-1]"
      ],
      "execution_count": null,
      "outputs": [
        {
          "output_type": "execute_result",
          "data": {
            "text/plain": [
              "array([[ 4,  3,  2,  1],\n",
              "       [ 8,  7,  6,  5],\n",
              "       [12, 11, 10,  9]])"
            ]
          },
          "metadata": {
            "tags": []
          },
          "execution_count": 14
        }
      ]
    },
    {
      "cell_type": "code",
      "source": [
        "a.dtype"
      ],
      "metadata": {
        "id": "npf_w_SWuR0E",
        "outputId": "65300d20-6344-41d9-bd71-3a736475fc87",
        "colab": {
          "base_uri": "https://localhost:8080/"
        }
      },
      "execution_count": 35,
      "outputs": [
        {
          "output_type": "execute_result",
          "data": {
            "text/plain": [
              "dtype('float64')"
            ]
          },
          "metadata": {},
          "execution_count": 35
        }
      ]
    },
    {
      "metadata": {
        "id": "JEPS3wDtJH2v",
        "outputId": "c4a05683-fa92-4105-9619-f66b6f5a4ffb"
      },
      "cell_type": "code",
      "source": [
        "print('Наша матрица:')\n",
        "print(a)\n",
        "print('---')\n",
        "print('Наша распрямленная матрица:')\n",
        "print(a.flatten())"
      ],
      "execution_count": null,
      "outputs": [
        {
          "output_type": "stream",
          "text": [
            "Наша матрица:\n",
            "[[ 1  2  3  4]\n",
            " [ 5  6  7  8]\n",
            " [ 9 10 11 12]]\n",
            "---\n",
            "Наша распрямленная матрица:\n",
            "[ 1  2  3  4  5  6  7  8  9 10 11 12]\n"
          ],
          "name": "stdout"
        }
      ]
    },
    {
      "metadata": {
        "id": "0ZUKUWFJJH21",
        "outputId": "b66d7b22-1ec9-4b91-c72e-e7ddd17f287d",
        "colab": {
          "base_uri": "https://localhost:8080/"
        }
      },
      "cell_type": "code",
      "source": [
        "a.nbytes"
      ],
      "execution_count": 36,
      "outputs": [
        {
          "output_type": "execute_result",
          "data": {
            "text/plain": [
              "96"
            ]
          },
          "metadata": {},
          "execution_count": 36
        }
      ]
    },
    {
      "metadata": {
        "id": "WQXj1N1QJH26",
        "outputId": "9fafd665-5a38-47c4-b0e7-fa8eda343f1c",
        "colab": {
          "base_uri": "https://localhost:8080/"
        }
      },
      "cell_type": "code",
      "source": [
        "a.shape"
      ],
      "execution_count": 37,
      "outputs": [
        {
          "output_type": "execute_result",
          "data": {
            "text/plain": [
              "(3, 4)"
            ]
          },
          "metadata": {},
          "execution_count": 37
        }
      ]
    },
    {
      "metadata": {
        "id": "2ysQXnkBJH2_",
        "outputId": "8efff272-bba6-4b65-d0d6-067fd7adcb73",
        "colab": {
          "base_uri": "https://localhost:8080/"
        }
      },
      "cell_type": "code",
      "source": [
        "a.shape[0]* a.shape[1]*8"
      ],
      "execution_count": 38,
      "outputs": [
        {
          "output_type": "execute_result",
          "data": {
            "text/plain": [
              "96"
            ]
          },
          "metadata": {},
          "execution_count": 38
        }
      ]
    },
    {
      "metadata": {
        "id": "Cp4TJ9FvJH3D",
        "outputId": "b4e8b407-ffc3-4cb0-f676-0ecf39fba881"
      },
      "cell_type": "code",
      "source": [
        "row_r1 = a[1, :] # Индексируемся по строкам матрицы. Первый ряд, помните о том что индексация в Python начинается с 0.\n",
        "row_r1"
      ],
      "execution_count": null,
      "outputs": [
        {
          "output_type": "execute_result",
          "data": {
            "text/plain": [
              "array([5, 6, 7, 8])"
            ]
          },
          "metadata": {
            "tags": []
          },
          "execution_count": 87
        }
      ]
    },
    {
      "metadata": {
        "id": "Tiqym-31JH3I",
        "outputId": "32ce4af0-bd20-42f8-d779-90f2e9e038f9"
      },
      "cell_type": "code",
      "source": [
        "row_r2 = a[:2, :3]\n",
        "row_r2"
      ],
      "execution_count": null,
      "outputs": [
        {
          "output_type": "execute_result",
          "data": {
            "text/plain": [
              "array([[1, 2, 3],\n",
              "       [5, 6, 7]])"
            ]
          },
          "metadata": {
            "tags": []
          },
          "execution_count": 88
        }
      ]
    },
    {
      "metadata": {
        "id": "ruKup_wqJH3N",
        "outputId": "59011ee5-66cf-46e3-ee9d-4fd0fa767c0a"
      },
      "cell_type": "code",
      "source": [
        "row_r2.base"
      ],
      "execution_count": null,
      "outputs": [
        {
          "output_type": "execute_result",
          "data": {
            "text/plain": [
              "array([[ 1,  2,  3,  4],\n",
              "       [ 5,  6,  7,  8],\n",
              "       [ 9, 10, 11, 12]])"
            ]
          },
          "metadata": {
            "tags": []
          },
          "execution_count": 89
        }
      ]
    },
    {
      "metadata": {
        "id": "82RYQsSTJH3T",
        "outputId": "ab7cf7a2-16c7-45d2-9865-af7595bcafb7"
      },
      "cell_type": "code",
      "source": [
        "print(row_r1, row_r1.shape)\n",
        "print(row_r2, row_r2.shape)"
      ],
      "execution_count": null,
      "outputs": [
        {
          "output_type": "stream",
          "text": [
            "[5 6 7 8] (4,)\n",
            "[[1 2 3]\n",
            " [5 6 7]] (2, 3)\n"
          ],
          "name": "stdout"
        }
      ]
    },
    {
      "metadata": {
        "id": "XcxELxu9JH3Z",
        "outputId": "97a4a864-36d6-4a14-f70c-5afe2d71fe34"
      },
      "cell_type": "code",
      "source": [
        "row_r2"
      ],
      "execution_count": null,
      "outputs": [
        {
          "output_type": "execute_result",
          "data": {
            "text/plain": [
              "array([[1, 2, 3],\n",
              "       [5, 6, 7]])"
            ]
          },
          "metadata": {
            "tags": []
          },
          "execution_count": 91
        }
      ]
    },
    {
      "metadata": {
        "id": "xW4BZ5dTJH3c",
        "outputId": "030f4170-88e6-4b01-b02f-77db7c56c79b"
      },
      "cell_type": "code",
      "source": [
        "row_r2.base # Посмотреть изначальную матрицу"
      ],
      "execution_count": null,
      "outputs": [
        {
          "output_type": "execute_result",
          "data": {
            "text/plain": [
              "array([[ 1,  2,  3,  4],\n",
              "       [ 5,  6,  7,  8],\n",
              "       [ 9, 10, 11, 12]])"
            ]
          },
          "metadata": {
            "tags": []
          },
          "execution_count": 92
        }
      ]
    },
    {
      "metadata": {
        "id": "1Spj2bjxJH3g",
        "outputId": "65d895f5-b6d0-43dd-bfeb-b9d102e19103"
      },
      "cell_type": "code",
      "source": [
        "col_r1 = a[:, 1] # Индексируемся по колонкам матрицы.\n",
        "print(col_r1)\n",
        "print('---')\n",
        "print(col_r1.shape)"
      ],
      "execution_count": null,
      "outputs": [
        {
          "output_type": "stream",
          "text": [
            "[ 2  6 10]\n",
            "---\n",
            "(3,)\n"
          ],
          "name": "stdout"
        }
      ]
    },
    {
      "metadata": {
        "id": "h1e9RrJOJH3l",
        "outputId": "10c85602-7c17-4a06-a7fa-c3c8f480343e"
      },
      "cell_type": "code",
      "source": [
        "col_r2 = a[:, 1:3]\n",
        "print(col_r2)\n",
        "print('---')\n",
        "print(col_r2.shape)"
      ],
      "execution_count": null,
      "outputs": [
        {
          "output_type": "stream",
          "text": [
            "[[ 2  3]\n",
            " [ 6  7]\n",
            " [10 11]]\n",
            "---\n",
            "(3, 2)\n"
          ],
          "name": "stdout"
        }
      ]
    },
    {
      "metadata": {
        "id": "BAsCsSAdJH3p"
      },
      "cell_type": "markdown",
      "source": [
        "# Операции"
      ]
    },
    {
      "cell_type": "code",
      "source": [
        "np.array([[1,2],[3,4]]).dtype"
      ],
      "metadata": {
        "id": "_6nHWQ1zupsy",
        "outputId": "c6ace766-c3cb-43e3-b20d-740af7c06191",
        "colab": {
          "base_uri": "https://localhost:8080/"
        }
      },
      "execution_count": 41,
      "outputs": [
        {
          "output_type": "execute_result",
          "data": {
            "text/plain": [
              "dtype('int32')"
            ]
          },
          "metadata": {},
          "execution_count": 41
        }
      ]
    },
    {
      "cell_type": "code",
      "source": [
        "x"
      ],
      "metadata": {
        "id": "tvMkpRDcuxqe",
        "outputId": "a07d657e-9838-48ca-cc2b-a4dcd48e0d84",
        "colab": {
          "base_uri": "https://localhost:8080/"
        }
      },
      "execution_count": 43,
      "outputs": [
        {
          "output_type": "execute_result",
          "data": {
            "text/plain": [
              "array([[1., 2.],\n",
              "       [3., 4.]])"
            ]
          },
          "metadata": {},
          "execution_count": 43
        }
      ]
    },
    {
      "cell_type": "code",
      "source": [
        "y"
      ],
      "metadata": {
        "id": "GEC3EHaxuyXi",
        "outputId": "7c418e80-f8b8-4825-f5e8-f1ca3c800fd1",
        "colab": {
          "base_uri": "https://localhost:8080/"
        }
      },
      "execution_count": 44,
      "outputs": [
        {
          "output_type": "execute_result",
          "data": {
            "text/plain": [
              "array([[5., 6.],\n",
              "       [7., 8.]])"
            ]
          },
          "metadata": {},
          "execution_count": 44
        }
      ]
    },
    {
      "metadata": {
        "id": "qzHiWbqKJH3q",
        "outputId": "8b821ab0-e640-4d3c-dc3e-6632702351c7",
        "colab": {
          "base_uri": "https://localhost:8080/"
        }
      },
      "cell_type": "code",
      "source": [
        "x = np.array([[1,2],[3,4]], dtype=np.float64)\n",
        "y = np.array([[5,6],[7,8]], dtype=np.float64)\n",
        "\n",
        "# Поэлементное сложение\n",
        "print(x + y)\n",
        "print(np.add(x, y))"
      ],
      "execution_count": 45,
      "outputs": [
        {
          "output_type": "stream",
          "name": "stdout",
          "text": [
            "[[ 6.  8.]\n",
            " [10. 12.]]\n",
            "[[ 6.  8.]\n",
            " [10. 12.]]\n"
          ]
        }
      ]
    },
    {
      "cell_type": "code",
      "source": [
        "x * 7"
      ],
      "metadata": {
        "id": "arL_q5M6u3bj",
        "outputId": "6de9a36f-16ea-4bc9-ecc7-1ddfd90b82a0",
        "colab": {
          "base_uri": "https://localhost:8080/"
        }
      },
      "execution_count": 46,
      "outputs": [
        {
          "output_type": "execute_result",
          "data": {
            "text/plain": [
              "array([[ 7., 14.],\n",
              "       [21., 28.]])"
            ]
          },
          "metadata": {},
          "execution_count": 46
        }
      ]
    },
    {
      "cell_type": "code",
      "source": [
        "x @ y"
      ],
      "metadata": {
        "id": "aODGxtGjv_Cq",
        "outputId": "70d03c34-9a0c-45bb-9981-af22a5aef5e6",
        "colab": {
          "base_uri": "https://localhost:8080/"
        }
      },
      "execution_count": 48,
      "outputs": [
        {
          "output_type": "execute_result",
          "data": {
            "text/plain": [
              "array([[19., 22.],\n",
              "       [43., 50.]])"
            ]
          },
          "metadata": {},
          "execution_count": 48
        }
      ]
    },
    {
      "metadata": {
        "id": "afbXrsg-JH3t",
        "outputId": "3b5164e3-32da-45c4-8014-5ba75fd96f99",
        "colab": {
          "base_uri": "https://localhost:8080/"
        }
      },
      "cell_type": "code",
      "source": [
        "# Поэлементное вычитание\n",
        "# [[-4.0 -4.0]\n",
        "#  [-4.0 -4.0]]\n",
        "print(x - y)\n",
        "print(np.subtract(x, y))"
      ],
      "execution_count": 47,
      "outputs": [
        {
          "output_type": "stream",
          "name": "stdout",
          "text": [
            "[[-4. -4.]\n",
            " [-4. -4.]]\n",
            "[[-4. -4.]\n",
            " [-4. -4.]]\n"
          ]
        }
      ]
    },
    {
      "metadata": {
        "id": "z9cdW6UhJH3x",
        "outputId": "a0e7e728-0434-44ca-c354-b286fbd3a040",
        "colab": {
          "base_uri": "https://localhost:8080/"
        }
      },
      "cell_type": "code",
      "source": [
        "import time\n",
        "\n",
        "print('Поэлементное умножение')\n",
        "# [[ 5.0 12.0]\n",
        "#  [21.0 32.0]]\n",
        "print(x * y)\n",
        "print(np.multiply(x, y))\n",
        "print('---')\n",
        "print('Поэлементное деление')\n",
        "# [[ 0.2         0.33333333]\n",
        "#  [ 0.42857143  0.5       ]]\n",
        "print(x / y)\n",
        "print(np.divide(x, y))\n",
        "print('---')\n",
        "print('Поэлементное взятие квадратного корня')\n",
        "# [[ 1.          1.41421356]\n",
        "#  [ 1.73205081  2.        ]]\n",
        "print(np.sqrt(x))\n",
        "\n",
        "%time"
      ],
      "execution_count": 49,
      "outputs": [
        {
          "output_type": "stream",
          "name": "stdout",
          "text": [
            "Поэлементное умножение\n",
            "[[ 5. 12.]\n",
            " [21. 32.]]\n",
            "[[ 5. 12.]\n",
            " [21. 32.]]\n",
            "---\n",
            "Поэлементное деление\n",
            "[[0.2        0.33333333]\n",
            " [0.42857143 0.5       ]]\n",
            "[[0.2        0.33333333]\n",
            " [0.42857143 0.5       ]]\n",
            "---\n",
            "Поэлементное взятие квадратного корня\n",
            "[[1.         1.41421356]\n",
            " [1.73205081 2.        ]]\n",
            "Wall time: 0 ns\n"
          ]
        }
      ]
    },
    {
      "metadata": {
        "id": "4KTUyoCVJH31"
      },
      "cell_type": "markdown",
      "source": [
        "# Некоторые полезные методы"
      ]
    },
    {
      "metadata": {
        "id": "3ObrlSr0JH33"
      },
      "cell_type": "markdown",
      "source": [
        "### Argmax/argmin"
      ]
    },
    {
      "metadata": {
        "id": "WSPXlJNMJH33",
        "outputId": "7e256a85-94e7-4ba2-f23e-58b2cbc211e6",
        "colab": {
          "base_uri": "https://localhost:8080/"
        }
      },
      "cell_type": "code",
      "source": [
        "x = np.array(list(range(2,14)))\n",
        "print(x)\n",
        "print(type(x))"
      ],
      "execution_count": 52,
      "outputs": [
        {
          "output_type": "stream",
          "name": "stdout",
          "text": [
            "[ 2  3  4  5  6  7  8  9 10 11 12 13]\n",
            "<class 'numpy.ndarray'>\n"
          ]
        }
      ]
    },
    {
      "cell_type": "code",
      "source": [
        "print(x.max())\n",
        "print(x.min())"
      ],
      "metadata": {
        "id": "oN52ISJ6wgIA",
        "outputId": "8330eb5f-f3c8-4f69-89f1-6030aff3375a",
        "colab": {
          "base_uri": "https://localhost:8080/"
        }
      },
      "execution_count": 54,
      "outputs": [
        {
          "output_type": "stream",
          "name": "stdout",
          "text": [
            "13\n",
            "2\n"
          ]
        }
      ]
    },
    {
      "metadata": {
        "id": "iAB6Jqj_JH37",
        "outputId": "bd756e4e-4c57-4e1e-a3f4-e4125e9d6e67",
        "colab": {
          "base_uri": "https://localhost:8080/"
        }
      },
      "cell_type": "code",
      "source": [
        "print(x.argmax())\n",
        "print(x.argmin())"
      ],
      "execution_count": 53,
      "outputs": [
        {
          "output_type": "stream",
          "name": "stdout",
          "text": [
            "11\n",
            "0\n"
          ]
        }
      ]
    },
    {
      "metadata": {
        "id": "y8bKvZsBJH3_",
        "outputId": "6fa241d2-9eff-474e-e77d-e8d3d723168a",
        "colab": {
          "base_uri": "https://localhost:8080/"
        }
      },
      "cell_type": "code",
      "source": [
        "x[5] = 99\n",
        "x[9] = -99\n",
        "x"
      ],
      "execution_count": 55,
      "outputs": [
        {
          "output_type": "execute_result",
          "data": {
            "text/plain": [
              "array([  2,   3,   4,   5,   6,  99,   8,   9,  10, -99,  12,  13])"
            ]
          },
          "metadata": {},
          "execution_count": 55
        }
      ]
    },
    {
      "metadata": {
        "id": "LhwH4qybJH4D",
        "outputId": "fda0e550-81cc-496b-c020-022570280c91"
      },
      "cell_type": "code",
      "source": [
        "print(x.argmax()) # Показывает индекс максимального значения, бывает очень полезно при поиске значений в массиве\n",
        "print(x.argmin()) # Показывает индекс минимального значения"
      ],
      "execution_count": null,
      "outputs": [
        {
          "output_type": "stream",
          "text": [
            "5\n",
            "9\n"
          ],
          "name": "stdout"
        }
      ]
    },
    {
      "metadata": {
        "id": "vREQkHOzJH4L"
      },
      "cell_type": "markdown",
      "source": [
        "### Transpose"
      ]
    },
    {
      "metadata": {
        "id": "BO1aejl_JH4M",
        "outputId": "c87a8131-925a-452c-f4fd-52c4581774de",
        "colab": {
          "base_uri": "https://localhost:8080/"
        }
      },
      "cell_type": "code",
      "source": [
        "a = np.array([[1,2,3,4], [5,6,7,8]])\n",
        "a"
      ],
      "execution_count": 56,
      "outputs": [
        {
          "output_type": "execute_result",
          "data": {
            "text/plain": [
              "array([[1, 2, 3, 4],\n",
              "       [5, 6, 7, 8]])"
            ]
          },
          "metadata": {},
          "execution_count": 56
        }
      ]
    },
    {
      "metadata": {
        "id": "Q8iwFoYIJH4T",
        "outputId": "f771fcb5-7d4b-4b08-cf51-872d07f6dbb4",
        "colab": {
          "base_uri": "https://localhost:8080/"
        }
      },
      "cell_type": "code",
      "source": [
        "a.T # транспонирование или переворачивание объекта вокруг диагональной оси"
      ],
      "execution_count": 57,
      "outputs": [
        {
          "output_type": "execute_result",
          "data": {
            "text/plain": [
              "array([[1, 5],\n",
              "       [2, 6],\n",
              "       [3, 7],\n",
              "       [4, 8]])"
            ]
          },
          "metadata": {},
          "execution_count": 57
        }
      ]
    },
    {
      "metadata": {
        "id": "GD3SjrB8JH4X",
        "outputId": "9e891546-c373-4f50-f1a4-504a59c4766f"
      },
      "cell_type": "code",
      "source": [
        "a = np.array([['may','june','july','august'], [100,101,102,500]])\n",
        "print(a)\n",
        "print('---')\n",
        "print(a.T)"
      ],
      "execution_count": null,
      "outputs": [
        {
          "output_type": "stream",
          "text": [
            "[['may' 'june' 'july' 'august']\n",
            " ['100' '101' '102' '500']]\n",
            "---\n",
            "[['may' '100']\n",
            " ['june' '101']\n",
            " ['july' '102']\n",
            " ['august' '500']]\n"
          ],
          "name": "stdout"
        }
      ]
    },
    {
      "metadata": {
        "id": "xkHJ_aOBJH4a",
        "outputId": "6142cf36-c243-4ea4-fc5d-f626fea63d33",
        "colab": {
          "base_uri": "https://localhost:8080/"
        }
      },
      "cell_type": "code",
      "source": [
        "print(x)\n",
        "print(x.T)"
      ],
      "execution_count": 58,
      "outputs": [
        {
          "output_type": "stream",
          "name": "stdout",
          "text": [
            "[  2   3   4   5   6  99   8   9  10 -99  12  13]\n",
            "[  2   3   4   5   6  99   8   9  10 -99  12  13]\n"
          ]
        }
      ]
    },
    {
      "metadata": {
        "id": "2eXWv2amJH4f"
      },
      "cell_type": "markdown",
      "source": [
        "### Append"
      ]
    },
    {
      "metadata": {
        "id": "TNMpalaOJH4f"
      },
      "cell_type": "code",
      "source": [
        "a = np.array(['may', 'june', 'july', 'august'])\n",
        "a.append('august')"
      ],
      "execution_count": null,
      "outputs": []
    },
    {
      "metadata": {
        "id": "s_GjibUSJH4q",
        "outputId": "2fde9216-37a1-4869-e90a-cf7fe4512380"
      },
      "cell_type": "code",
      "source": [
        "print(np.append(a,'august'))\n",
        "print(a)\n",
        "a = np.append(a,'august') # Надо переназначать объект/ присваивать его заново после операций, чтобы он обновился.\n",
        "print(a)"
      ],
      "execution_count": null,
      "outputs": [
        {
          "output_type": "stream",
          "text": [
            "['may' 'june' 'july' 'august' 'august']\n",
            "['may' 'june' 'july' 'august']\n",
            "['may' 'june' 'july' 'august' 'august']\n"
          ],
          "name": "stdout"
        }
      ]
    },
    {
      "metadata": {
        "id": "YMwdF3uMJH4u"
      },
      "cell_type": "markdown",
      "source": [
        "### Unique"
      ]
    },
    {
      "metadata": {
        "id": "QxpNHoswJH4u",
        "outputId": "eb87cb5c-8169-402a-af05-6b69abf6f099",
        "colab": {
          "base_uri": "https://localhost:8080/"
        }
      },
      "cell_type": "code",
      "source": [
        "a = np.append(a, 8)\n",
        "print(a)\n",
        "np.unique(a)"
      ],
      "execution_count": 67,
      "outputs": [
        {
          "output_type": "stream",
          "name": "stdout",
          "text": [
            "[ 1  2  3  4  5  6  7  8 10  8  8]\n"
          ]
        },
        {
          "output_type": "execute_result",
          "data": {
            "text/plain": [
              "array([ 1,  2,  3,  4,  5,  6,  7,  8, 10])"
            ]
          },
          "metadata": {},
          "execution_count": 67
        }
      ]
    },
    {
      "metadata": {
        "scrolled": true,
        "id": "zihPmCCWJH41",
        "outputId": "58c12a9e-be0c-4774-eabd-6a02257e9452"
      },
      "cell_type": "code",
      "source": [
        "b = np.unique(a)\n",
        "b"
      ],
      "execution_count": null,
      "outputs": [
        {
          "output_type": "execute_result",
          "data": {
            "text/plain": [
              "array(['august', 'july', 'june', 'may'], dtype='<U6')"
            ]
          },
          "metadata": {
            "tags": []
          },
          "execution_count": 112
        }
      ]
    },
    {
      "metadata": {
        "id": "qk5J0ryYJH44",
        "outputId": "c0d77208-c0e2-4181-9890-0ee30a6ae46f"
      },
      "cell_type": "code",
      "source": [
        "a"
      ],
      "execution_count": null,
      "outputs": [
        {
          "output_type": "execute_result",
          "data": {
            "text/plain": [
              "array(['may', 'june', 'july', 'august', 'august'], dtype='<U6')"
            ]
          },
          "metadata": {
            "tags": []
          },
          "execution_count": 114
        }
      ]
    },
    {
      "metadata": {
        "id": "ZjHqbgJrJH47"
      },
      "cell_type": "markdown",
      "source": [
        "### Concatenate"
      ]
    },
    {
      "metadata": {
        "id": "_YZgnwDQJH48",
        "outputId": "44c4205e-dcaa-4ecd-fc25-defca2ade394",
        "colab": {
          "base_uri": "https://localhost:8080/"
        }
      },
      "cell_type": "code",
      "source": [
        "spring = np.array(['march', 'april', 'may'])\n",
        "summer = np.array(['june', 'july', 'august'])\n",
        "warm_months = np.concatenate([spring, summer])\n",
        "warm_months\n",
        "np.vstack((spring, summer))"
      ],
      "execution_count": 74,
      "outputs": [
        {
          "output_type": "execute_result",
          "data": {
            "text/plain": [
              "array([['march', 'april', 'may'],\n",
              "       ['june', 'july', 'august']], dtype='<U6')"
            ]
          },
          "metadata": {},
          "execution_count": 74
        }
      ]
    },
    {
      "metadata": {
        "id": "OyG5UBMCJH5D"
      },
      "cell_type": "markdown",
      "source": [
        "### Nonzero"
      ]
    },
    {
      "metadata": {
        "id": "8JFYCvMzJH5E",
        "outputId": "35bda780-fdf0-4c68-fec8-6dfbe5e2d13b"
      },
      "cell_type": "code",
      "source": [
        "a = np.array([100,101,102,500,0])\n",
        "print('Наш вектор длиной:')\n",
        "print(len(a))\n",
        "print('---')\n",
        "print('Метод покажет ненулевые индексы:')\n",
        "print(np.nonzero(a))\n",
        "print('Вывести значения можно так:')\n",
        "print(a[np.nonzero(a)])\n",
        "print('Проверим длину:')\n",
        "print(len(a[np.nonzero(a)]))\n",
        "\n",
        "#print(len(np.argwhere(a)))"
      ],
      "execution_count": null,
      "outputs": [
        {
          "output_type": "stream",
          "text": [
            "Наш вектор длиной:\n",
            "5\n",
            "---\n",
            "Метод покажет ненулевые индексы:\n",
            "(array([0, 1, 2, 3]),)\n",
            "Вывести значения можно так:\n",
            "[100 101 102 500]\n",
            "Проверим длину:\n",
            "4\n"
          ],
          "name": "stdout"
        }
      ]
    },
    {
      "metadata": {
        "id": "oFRiWgcEJH5H"
      },
      "cell_type": "markdown",
      "source": [
        "# Пересечение двух массивов"
      ]
    },
    {
      "metadata": {
        "id": "ItgTgZbcJH5I"
      },
      "cell_type": "markdown",
      "source": [
        "Нередко стоит задача найти общие объекты среди 2-х массивов и найти общие элементы."
      ]
    },
    {
      "metadata": {
        "id": "eo_2GxJDJH5J"
      },
      "cell_type": "code",
      "source": [
        "a = np.array([1,10,100,1000])\n",
        "b = np.array([1,4,100])"
      ],
      "execution_count": 75,
      "outputs": []
    },
    {
      "metadata": {
        "id": "xe235PbCJH5L"
      },
      "cell_type": "markdown",
      "source": [
        "А теперь пересечем их методом **np.intersect1d()** и передадим 2 вектора в качестве аргументов."
      ]
    },
    {
      "metadata": {
        "id": "OBSKdZNvJH5N",
        "outputId": "ccc224c6-010e-4525-c7c8-507d01335ff3",
        "colab": {
          "base_uri": "https://localhost:8080/"
        }
      },
      "cell_type": "code",
      "source": [
        "c = np.intersect1d(a, b)\n",
        "c"
      ],
      "execution_count": 77,
      "outputs": [
        {
          "output_type": "execute_result",
          "data": {
            "text/plain": [
              "array([  1, 100])"
            ]
          },
          "metadata": {},
          "execution_count": 77
        }
      ]
    },
    {
      "metadata": {
        "id": "hRarvt4GJH5W"
      },
      "cell_type": "markdown",
      "source": [
        "Этот метод, конечно, работает не только с цифрами, но и с другими объектами, например с строками."
      ]
    },
    {
      "metadata": {
        "id": "dkM2tLT4JH5X"
      },
      "cell_type": "code",
      "source": [
        "a = np.array(['Юля', 'Олег', 'Роман', 'Иван'])\n",
        "b = np.array(['Юля','Иван','Леонид'])"
      ],
      "execution_count": 78,
      "outputs": []
    },
    {
      "metadata": {
        "id": "8mUyI1yYJH5b",
        "outputId": "e901d246-3117-49a4-920e-4f4bfcdc06ec",
        "colab": {
          "base_uri": "https://localhost:8080/"
        }
      },
      "cell_type": "code",
      "source": [
        "c = np.intersect1d(a,b)\n",
        "c"
      ],
      "execution_count": 79,
      "outputs": [
        {
          "output_type": "execute_result",
          "data": {
            "text/plain": [
              "array(['Иван', 'Юля'], dtype='<U6')"
            ]
          },
          "metadata": {},
          "execution_count": 79
        }
      ]
    },
    {
      "cell_type": "markdown",
      "source": [
        "Чтобы пересечь более двух массивов,используйте functools.reduce:\n"
      ],
      "metadata": {
        "id": "vexyeBSxwKIM"
      }
    },
    {
      "cell_type": "code",
      "source": [
        "from functools import reduce\n",
        "reduce(np.intersect1d, ([1, 3, 4, 3], [3, 1, 2, 1], [6, 3, 4, 2]))\n",
        "array([3])"
      ],
      "metadata": {
        "id": "JyfGJ1ODwLTv"
      },
      "execution_count": null,
      "outputs": []
    },
    {
      "metadata": {
        "id": "q3vVgV-sJH5f"
      },
      "cell_type": "markdown",
      "source": [
        "Вспомним метод, который показывает размерности объекта. <br>\n",
        "И не смотря на то, что у нас всего-лишь вектор, метод **.size** выведет нам количество объектов, которые содержатся в результирующем векторе ( который тоже в свою очередь является объектом, потому что все в Python, как мы помним, это объект!)."
      ]
    },
    {
      "metadata": {
        "id": "b6vPLYp5JH5g",
        "outputId": "89e8bc3c-043f-49c5-efe7-8e1d4d027f4f",
        "colab": {
          "base_uri": "https://localhost:8080/"
        }
      },
      "cell_type": "code",
      "source": [
        "c.size"
      ],
      "execution_count": 80,
      "outputs": [
        {
          "output_type": "execute_result",
          "data": {
            "text/plain": [
              "2"
            ]
          },
          "metadata": {},
          "execution_count": 80
        }
      ]
    },
    {
      "metadata": {
        "id": "73Ba8acrJH5k"
      },
      "cell_type": "markdown",
      "source": [
        "Тоже самое мы можем найти, используя метод **len( )**, встроенный в язык Python, который измеряет длину вектора."
      ]
    },
    {
      "metadata": {
        "id": "SbeNx0DdJH5l",
        "outputId": "98520581-80f1-4798-ab35-94294a1ee0ad"
      },
      "cell_type": "code",
      "source": [
        "len(c)"
      ],
      "execution_count": null,
      "outputs": [
        {
          "output_type": "execute_result",
          "data": {
            "text/plain": [
              "2"
            ]
          },
          "metadata": {
            "tags": []
          },
          "execution_count": 135
        }
      ]
    },
    {
      "metadata": {
        "id": "HvzhZDrhJH5o"
      },
      "cell_type": "markdown",
      "source": [
        "Так же часто встает задача найти значения, которые не являются общими, эдакие эксклюзивные значения из 2х векторов/наборов объектов.\n",
        "Это тоже можно сделать в одну строчку с помощью метода **.setxor1d()** передав ему 2 вектора в качестве аргументов."
      ]
    },
    {
      "metadata": {
        "id": "LlJSPCAUJH5p"
      },
      "cell_type": "code",
      "source": [
        "np.setxor1d(a, b)"
      ],
      "execution_count": null,
      "outputs": []
    },
    {
      "metadata": {
        "id": "Z3pQyPydJH5q"
      },
      "cell_type": "markdown",
      "source": [
        "# Более жизненный пример."
      ]
    },
    {
      "metadata": {
        "id": "yxXYOni3JH5q"
      },
      "cell_type": "markdown",
      "source": [
        "На \"игрушечном\" и маленьком массиве мы смогли построить пересечение. Принцип остается тот же, если мы ,например, хотим найти пересечение между большим количеством объектов.<br>\n",
        "Допустим у нас есть какие-либо id пользователей и нам нужно найти пересечение между группами."
      ]
    },
    {
      "metadata": {
        "id": "jYHeV2TsJH5r"
      },
      "cell_type": "markdown",
      "source": [
        "Импортируем ниже библиотеку random, с помощью которой можно нагенерить числа, например 4-х значные.<br>\n",
        "Сделаем списки"
      ]
    },
    {
      "metadata": {
        "id": "eColT3LfJH5s",
        "outputId": "13b56a7d-da64-49ea-c0fd-9c70bf1886c3",
        "colab": {
          "base_uri": "https://localhost:8080/"
        }
      },
      "cell_type": "code",
      "source": [
        "import random\n",
        "import time\n",
        "\n",
        "%time\n",
        "customer_ids_a = random.sample(range(1000000, 5000000), 1000000)\n",
        "customer_ids_b = random.sample(range(1000000, 5000000), 1000000)"
      ],
      "execution_count": 81,
      "outputs": [
        {
          "output_type": "stream",
          "name": "stdout",
          "text": [
            "Wall time: 0 ns\n"
          ]
        }
      ]
    },
    {
      "metadata": {
        "id": "Ep0Jw85YJH5w"
      },
      "cell_type": "markdown",
      "source": [
        "Посмотрим на наши массивы, делая срезы в 5 и 10 элементов."
      ]
    },
    {
      "metadata": {
        "id": "MTloAasvJH5w",
        "outputId": "5f21216f-45ac-4763-9f53-c0fb2f4b42aa",
        "colab": {
          "base_uri": "https://localhost:8080/"
        }
      },
      "cell_type": "code",
      "source": [
        "print('Массив А:%s'%customer_ids_a[:5])\n",
        "print('Массив Б:%s'%customer_ids_b[:10])"
      ],
      "execution_count": 82,
      "outputs": [
        {
          "output_type": "stream",
          "name": "stdout",
          "text": [
            "Массив А:[4969175, 4293469, 4436653, 1800905, 2979209]\n",
            "Массив Б:[1866527, 3997548, 4689056, 2535605, 2217323, 2480137, 4394243, 2539937, 2091103, 4285555]\n"
          ]
        }
      ]
    },
    {
      "metadata": {
        "id": "q6A0vApkJH5z"
      },
      "cell_type": "markdown",
      "source": [
        "В таких задачах так же могут попадаться неуникальные или повторяющиеся значения, которые не хотелось бы использовать, чтобы избежать ошибок и коллизий.<br>\n",
        "Вспомним упомянутый выше удобный метод **.unique()**, который возвращает нам только уникальные значения обхекта к которому мы его применям.<br>\n",
        "Проверим наши вектора на уникальность."
      ]
    },
    {
      "metadata": {
        "id": "sMLvGQ1XJH5z",
        "outputId": "4bd7e2a9-af9a-4d0d-cd56-7cc780a00705",
        "colab": {
          "base_uri": "https://localhost:8080/"
        }
      },
      "cell_type": "code",
      "source": [
        "print('Уникальныых значений в массиве А: %s'% len(np.unique(customer_ids_a)))\n",
        "print('Уникальныых значений в массиве Б: %s'% len(np.unique(customer_ids_b)))"
      ],
      "execution_count": 83,
      "outputs": [
        {
          "output_type": "stream",
          "name": "stdout",
          "text": [
            "Уникальныых значений в массиве А: 1000000\n",
            "Уникальныых значений в массиве Б: 1000000\n"
          ]
        }
      ]
    },
    {
      "metadata": {
        "id": "0n8aOTbLJH56"
      },
      "cell_type": "markdown",
      "source": [
        "Все проверив, мы можем применить метод **.intersect1d()** и посмотреть на пересечение."
      ]
    },
    {
      "metadata": {
        "id": "WlZg496yJH56",
        "outputId": "33f116b4-f221-4e2e-861b-23ac5603f971",
        "colab": {
          "base_uri": "https://localhost:8080/"
        }
      },
      "cell_type": "code",
      "source": [
        "%time\n",
        "c = np.intersect1d(customer_ids_a,customer_ids_b)"
      ],
      "execution_count": 84,
      "outputs": [
        {
          "output_type": "stream",
          "name": "stdout",
          "text": [
            "Wall time: 0 ns\n"
          ]
        }
      ]
    },
    {
      "metadata": {
        "id": "sDi5laumJH59",
        "outputId": "a0b12475-15fa-471f-fa28-c8d5a83fd5d1",
        "colab": {
          "base_uri": "https://localhost:8080/"
        }
      },
      "cell_type": "code",
      "source": [
        "c"
      ],
      "execution_count": 85,
      "outputs": [
        {
          "output_type": "execute_result",
          "data": {
            "text/plain": [
              "array([1000011, 1000018, 1000019, ..., 4999922, 4999958, 4999979])"
            ]
          },
          "metadata": {},
          "execution_count": 85
        }
      ]
    },
    {
      "metadata": {
        "id": "544ZAySVJH5_"
      },
      "cell_type": "markdown",
      "source": [
        "Так как у нас довольно большое количество элементов в списке, то веротяность того что будет хотя бы одно пересечение довольно высока.\n",
        "Посмотрим на то, что у нас получилось."
      ]
    },
    {
      "metadata": {
        "id": "pVIJ1aUpJH6A"
      },
      "cell_type": "markdown",
      "source": [
        "У нас получился вектор пересечений, который не вмещается строчку отображения в Jupyter notebook, так что давайте посмотрим на то сколько у нас получилось в нем объектов, используя метод **len()**."
      ]
    },
    {
      "metadata": {
        "id": "DdkAmdhrJH6B",
        "outputId": "b99d0e0e-1f15-4dd7-b1eb-006e84adc9d2",
        "colab": {
          "base_uri": "https://localhost:8080/"
        }
      },
      "cell_type": "code",
      "source": [
        "print('Наше пересечение равно %s объектам.' %len(c))"
      ],
      "execution_count": 86,
      "outputs": [
        {
          "output_type": "stream",
          "name": "stdout",
          "text": [
            "Наше пересечение равно 249998 объектам.\n"
          ]
        }
      ]
    },
    {
      "metadata": {
        "id": "Enl5WrYMJH6E"
      },
      "cell_type": "markdown",
      "source": [
        "В 1 строчкe можно посчитать отношение нашего пересечения к количеству id нашего массива, в котором мы искали пересечение."
      ]
    },
    {
      "metadata": {
        "id": "Aji4tKkBJH6F",
        "outputId": "a03e999e-6204-4854-d633-7a36ec8b9d18"
      },
      "cell_type": "code",
      "source": [
        "len(c)/len(customer_ids_b)*100"
      ],
      "execution_count": null,
      "outputs": [
        {
          "output_type": "execute_result",
          "data": {
            "text/plain": [
              "25.0572"
            ]
          },
          "metadata": {
            "tags": []
          },
          "execution_count": 144
        }
      ]
    },
    {
      "metadata": {
        "id": "I4Y6K48pJH6G"
      },
      "cell_type": "markdown",
      "source": [
        "И предстваить его в более читаемом и осмысленном виде."
      ]
    },
    {
      "metadata": {
        "id": "KYwtuTZVJH6I",
        "outputId": "f6729b81-621c-4bf4-d877-adb98f3474bb"
      },
      "cell_type": "code",
      "source": [
        "print('Наше пересечение равно %s процентов.'%round(len(c)/len(customer_ids_b)*100,2))"
      ],
      "execution_count": null,
      "outputs": [
        {
          "output_type": "stream",
          "text": [
            "Наше пересечение равно 25.06 процентов.\n"
          ],
          "name": "stdout"
        }
      ]
    },
    {
      "metadata": {
        "id": "EWcPCwZyJH6K"
      },
      "cell_type": "markdown",
      "source": [
        "Другие методы для выполнения математических и логических операций с векторами и матрицами можно найти в документации на официальном сайте [библиотеки](https://docs.scipy.org/doc/numpy-1.15.1/reference/)."
      ]
    },
    {
      "cell_type": "markdown",
      "source": [
        "#Pandas. Введение"
      ],
      "metadata": {
        "id": "cz66seyOTpmV"
      }
    },
    {
      "cell_type": "markdown",
      "source": [
        "Pandas — это библиотека Python, предоставляющая широкие возможности для анализа данных. С ее помощью очень удобно загружать, обрабатывать и анализировать табличные данные с помощью SQL-подобных запросов. В связке с библиотеками Matplotlib и Seaborn появляется возможность удобного визуального анализа табличных данных.\n",
        "\n",
        "Данные, с которыми работают датсаентисты и аналитики, обычно хранятся в виде табличек — например, в форматах .csv, .tsv или .xlsx. Для того, чтобы считать нужные данные из такого файла, отлично подходит библиотека Pandas.\n",
        "\n",
        "Основными структурами данных в Pandas являются классы Series и DataFrame. Первый из них представляет собой одномерный индексированный массив данных некоторого фиксированного типа. Второй - это двухмерная структура данных, представляющая собой таблицу, каждый столбец которой содержит данные одного типа. Можно представлять её как словарь объектов типа Series. Структура DataFrame отлично подходит для представления реальных данных: строки соответствуют признаковым описаниям отдельных объектов, а столбцы соответствуют признакам."
      ],
      "metadata": {
        "id": "aYS9qULZToVl"
      }
    },
    {
      "cell_type": "markdown",
      "source": [
        "Pandas упрощает жизнь аналитикам: где раньше использовалось 10 строк кода теперь хватит одной.\n",
        "\n",
        "Например, чтобы прочитать данные из csv, в стандартном Python надо сначала решить, как хранить данные, затем открыть файл, прочитать его построчно, отделить значения друг от друга и очистить данные от специальных символов.\n",
        "\n",
        "В Pandas всё проще. Во-первых, не нужно думать, как будут храниться данные — они лежат в датафрейме. Во-вторых, достаточно написать одну команду:\n",
        "\n",
        ">"
      ],
      "metadata": {
        "id": "ta5KO4mhTZDr"
      }
    },
    {
      "cell_type": "code",
      "source": [
        "#привычный способ\n",
        "with open('file.csv') as f:\n",
        "    content = f.readlines()\n",
        "    content = [x.split(',').replace('\\n','') for x in content]"
      ],
      "metadata": {
        "id": "futIZ87mUCSE"
      },
      "execution_count": null,
      "outputs": []
    },
    {
      "cell_type": "code",
      "source": [
        "#непривычный способ\n",
        "import numpy as np\n",
        "import pandas as pd\n",
        "\n",
        "\n",
        "data = pd.read_csv('file.csv')"
      ],
      "metadata": {
        "id": "CP1iBpxsUJC5"
      },
      "execution_count": null,
      "outputs": []
    },
    {
      "cell_type": "markdown",
      "source": [
        "Pandas Series (серия) — это одномерный массив. Визуально он похож на пронумерованный список: слева в колонке находятся индексы элементов, а справа — сами элементы."
      ],
      "metadata": {
        "id": "-2NDiIutUaZL"
      }
    },
    {
      "cell_type": "markdown",
      "source": [
        "Индексом может быть числовой показатель (0, 1, 2…), буквенные значения (a, b, c…) или другие данные, выбранные программистом. Если особое значение не задано, то числовые индексы проставляются автоматически. Например, от 0 до 5 как в примере выше.\n",
        "\n",
        "Такая нумерация называется RangeIndex, в ней всегда содержатся числа от 0 до определенного числа N, которое обозначает количество элементов в серии. Собственные значения индексов задаются в квадратных скобках через index, как в примере ниже"
      ],
      "metadata": {
        "id": "v_hW6R8eUcDf"
      }
    },
    {
      "cell_type": "markdown",
      "source": [
        "Pandas DataFrame — это двумерный массив, похожий на таблицу/лист Excel (кстати, данные из Excel можно читать с помощью команды pandas.read_excel(‘file.xls’)). В нем можно проводить такие же манипуляции с данными: объединять в группы, сортировать по определенному признаку, производить вычисления. Как любая таблица, датафрейм состоит из столбцов и строк, причем столбцами будут уже известные объекты — Series."
      ],
      "metadata": {
        "id": "_bK8KXeSUhfR"
      }
    },
    {
      "cell_type": "markdown",
      "metadata": {
        "id": "JZfa-5FTCDGM"
      },
      "source": [
        "## Series\n",
        "\n",
        "`Series` в это одномерный набор данных, по сути дела вектор.<br>\n",
        "Сгенерируем данные, пускай это будут показатели температуры на термометре за эту неделю<br>\n",
        "Отсутствующий данные записываются как `np.nan` (в этот день мы забыли записать показания или в нашем термометре села батарейка).<br>\n",
        "Пропущенные значения это по сути `None` и не участвуют в вычислении средних, среднеквадратичных отклонений и т.д.<br>"
      ]
    },
    {
      "cell_type": "code",
      "execution_count": null,
      "metadata": {
        "id": "eWTOWD4aCDGN",
        "outputId": "e6d19964-0d04-4301-b766-b2cba5dcd3be"
      },
      "outputs": [
        {
          "data": {
            "text/plain": [
              "0    15.0\n",
              "1    11.0\n",
              "2    16.0\n",
              "3     NaN\n",
              "4    14.0\n",
              "5    13.0\n",
              "6    12.0\n",
              "dtype: float64"
            ]
          },
          "execution_count": 2,
          "metadata": {},
          "output_type": "execute_result"
        }
      ],
      "source": [
        "l = [15,11,16,np.nan,14,13,12]\n",
        "s = pd.Series(l)\n",
        "s"
      ]
    },
    {
      "cell_type": "code",
      "execution_count": null,
      "metadata": {
        "id": "8n-oG43lCDGO",
        "outputId": "60d7db2c-a194-41b9-c2b0-0d4f234fbc8e"
      },
      "outputs": [
        {
          "data": {
            "text/plain": [
              "pandas.core.series.Series"
            ]
          },
          "execution_count": 4,
          "metadata": {},
          "output_type": "execute_result"
        }
      ],
      "source": [
        "type(s)"
      ]
    },
    {
      "cell_type": "markdown",
      "metadata": {
        "id": "nMruZR-ECDGP"
      },
      "source": [
        "\n",
        "Основная информация о наборе данных: среднее, среднеквадратичное отклонение, минимум, максимум, медиана (которая отличается от среднего для несимметричных распределений)."
      ]
    },
    {
      "cell_type": "code",
      "execution_count": null,
      "metadata": {
        "id": "cz-pFsuaCDGP",
        "outputId": "589a0583-b6fe-45da-f8c3-f729b30ff7ee"
      },
      "outputs": [
        {
          "data": {
            "text/plain": [
              "count     6.000000\n",
              "mean     13.500000\n",
              "std       1.870829\n",
              "min      11.000000\n",
              "25%      12.250000\n",
              "50%      13.500000\n",
              "75%      14.750000\n",
              "max      16.000000\n",
              "dtype: float64"
            ]
          },
          "execution_count": 5,
          "metadata": {},
          "output_type": "execute_result"
        }
      ],
      "source": [
        "s.describe()"
      ]
    },
    {
      "cell_type": "markdown",
      "metadata": {
        "id": "3HZP0aBCCDGQ"
      },
      "source": [
        "Можем проиндексироваться по нашему массиву."
      ]
    },
    {
      "cell_type": "code",
      "execution_count": null,
      "metadata": {
        "id": "p8H6UQBkCDGQ",
        "outputId": "7944f264-908c-4db8-a6e7-75b76fb208a2"
      },
      "outputs": [
        {
          "data": {
            "text/plain": [
              "0    15.0\n",
              "1    11.0\n",
              "2    16.0\n",
              "3     NaN\n",
              "4    14.0\n",
              "5    13.0\n",
              "6    12.0\n",
              "dtype: float64"
            ]
          },
          "execution_count": 6,
          "metadata": {},
          "output_type": "execute_result"
        }
      ],
      "source": [
        "s"
      ]
    },
    {
      "cell_type": "code",
      "execution_count": null,
      "metadata": {
        "id": "bWv6VpYNCDGR",
        "outputId": "5fd6403a-9208-427a-ed9b-e029f6e523f9"
      },
      "outputs": [
        {
          "data": {
            "text/plain": [
              "13.0"
            ]
          },
          "execution_count": 7,
          "metadata": {},
          "output_type": "execute_result"
        }
      ],
      "source": [
        "s[5]"
      ]
    },
    {
      "cell_type": "markdown",
      "metadata": {
        "id": "f6xnWvf7CDGR"
      },
      "source": [
        "Можем исправить свои показания, тк выяснилось что мы ошиблись и 11 должно быть 17."
      ]
    },
    {
      "cell_type": "code",
      "execution_count": null,
      "metadata": {
        "id": "m7YmuS5mCDGS",
        "outputId": "0b5914fd-d259-4dcb-b008-f8a9cb3fba1d"
      },
      "outputs": [
        {
          "data": {
            "text/plain": [
              "0    15.0\n",
              "1    11.0\n",
              "2    17.0\n",
              "3     NaN\n",
              "4    14.0\n",
              "5    13.0\n",
              "6    12.0\n",
              "dtype: float64"
            ]
          },
          "execution_count": 8,
          "metadata": {},
          "output_type": "execute_result"
        }
      ],
      "source": [
        "s[2]=17\n",
        "s"
      ]
    },
    {
      "cell_type": "markdown",
      "metadata": {
        "id": "dwIwtnNfCDGS"
      },
      "source": [
        "Можем сделать срез, выбрать некое количество значений."
      ]
    },
    {
      "cell_type": "code",
      "execution_count": null,
      "metadata": {
        "id": "wT70IhAhCDGS",
        "outputId": "a2a242cd-a3ab-455b-e57e-5df7c6baf4ca"
      },
      "outputs": [
        {
          "data": {
            "text/plain": [
              "2    17.0\n",
              "3     NaN\n",
              "4    14.0\n",
              "dtype: float64"
            ]
          },
          "execution_count": 9,
          "metadata": {},
          "output_type": "execute_result"
        }
      ],
      "source": [
        "s[2:5]"
      ]
    },
    {
      "cell_type": "markdown",
      "metadata": {
        "id": "C9IxQkDMCDGT"
      },
      "source": [
        "Можем создать новый объект без первого значения и без последнего."
      ]
    },
    {
      "cell_type": "code",
      "execution_count": null,
      "metadata": {
        "id": "tAFgrCf5CDGT",
        "outputId": "d4401944-f984-4343-80f6-6834d9837fec"
      },
      "outputs": [
        {
          "data": {
            "text/plain": [
              "1    11.0\n",
              "2    17.0\n",
              "3     NaN\n",
              "4    14.0\n",
              "5    13.0\n",
              "6    12.0\n",
              "dtype: float64"
            ]
          },
          "execution_count": 10,
          "metadata": {},
          "output_type": "execute_result"
        }
      ],
      "source": [
        "s1=s[1:]\n",
        "s1"
      ]
    },
    {
      "cell_type": "code",
      "execution_count": null,
      "metadata": {
        "id": "w56fu2oNCDGT",
        "outputId": "0b43cbf3-10dc-4588-b9a3-a96c16a36964"
      },
      "outputs": [
        {
          "data": {
            "text/plain": [
              "0    15.0\n",
              "1    11.0\n",
              "2    17.0\n",
              "3     NaN\n",
              "4    14.0\n",
              "5    13.0\n",
              "dtype: float64"
            ]
          },
          "execution_count": 11,
          "metadata": {},
          "output_type": "execute_result"
        }
      ],
      "source": [
        "s2=s[:-1]\n",
        "s2"
      ]
    },
    {
      "cell_type": "markdown",
      "metadata": {
        "id": "u427bJ6pCDGU"
      },
      "source": [
        "\n",
        "В сумме `s1+s2` складываются данные с одинаковыми индексами. Поскольку в `s1` нет данного и индексом 0, а в `s2` - с индексом 5, в `s1+s2` в соответствующих позициях будет `NaN`. Однако смысла в такой операции тоже нет."
      ]
    },
    {
      "cell_type": "code",
      "execution_count": null,
      "metadata": {
        "id": "UAj5zdKDCDGU",
        "outputId": "95ef7f5f-4352-42f4-bbf5-2233b1ee1bbe"
      },
      "outputs": [
        {
          "data": {
            "text/plain": [
              "0     NaN\n",
              "1    22.0\n",
              "2    34.0\n",
              "3     NaN\n",
              "4    28.0\n",
              "5    26.0\n",
              "6     NaN\n",
              "dtype: float64"
            ]
          },
          "execution_count": 12,
          "metadata": {},
          "output_type": "execute_result"
        }
      ],
      "source": [
        "s1+s2"
      ]
    },
    {
      "cell_type": "markdown",
      "metadata": {
        "id": "Ou3U-7BGCDGU"
      },
      "source": [
        "К **Series** можно применять функции из `numpy`.\n",
        "\n",
        "**P.S.** Логарифм числа (например по основанию 2) это степень в которое нужно возвести основание, чтобы получить искомое число."
      ]
    },
    {
      "cell_type": "code",
      "execution_count": null,
      "metadata": {
        "id": "Dhe5zSyHCDGU",
        "outputId": "cd83710b-76e2-4760-ab2c-54050fafd215"
      },
      "outputs": [
        {
          "data": {
            "text/plain": [
              "0    3.906891\n",
              "1    3.459432\n",
              "2    4.087463\n",
              "3         NaN\n",
              "4    3.807355\n",
              "5    3.700440\n",
              "6    3.584963\n",
              "dtype: float64"
            ]
          },
          "execution_count": 13,
          "metadata": {},
          "output_type": "execute_result"
        }
      ],
      "source": [
        "np.log2(s)"
      ]
    },
    {
      "cell_type": "markdown",
      "metadata": {
        "id": "jsDlF-C5CDGU"
      },
      "source": [
        "Проверим себя, возведем полученное число в степень."
      ]
    },
    {
      "cell_type": "code",
      "execution_count": null,
      "metadata": {
        "id": "dLWfbiHLCDGV",
        "outputId": "3b97ec89-fa7d-482e-c2dc-db49817e6b2d"
      },
      "outputs": [
        {
          "data": {
            "text/plain": [
              "0    15.0\n",
              "1    11.0\n",
              "2    17.0\n",
              "3     NaN\n",
              "4    14.0\n",
              "5    13.0\n",
              "6    12.0\n",
              "dtype: float64"
            ]
          },
          "execution_count": 14,
          "metadata": {},
          "output_type": "execute_result"
        }
      ],
      "source": [
        "s"
      ]
    },
    {
      "cell_type": "code",
      "execution_count": null,
      "metadata": {
        "id": "tvnnGLBuCDGV",
        "outputId": "8acc9050-c187-478b-948c-f5022fc4c311"
      },
      "outputs": [
        {
          "data": {
            "text/plain": [
              "13.000002539806442"
            ]
          },
          "execution_count": 15,
          "metadata": {},
          "output_type": "execute_result"
        }
      ],
      "source": [
        "pow(2,3.700440)"
      ]
    },
    {
      "cell_type": "markdown",
      "metadata": {
        "id": "Ri_fQRnrCDGV"
      },
      "source": [
        "При создании набора данных s мы не указали, что будет играть роль индекса. По умолчанию это последовательность целых чисел 0, 1, 2, ..."
      ]
    },
    {
      "cell_type": "code",
      "execution_count": null,
      "metadata": {
        "id": "fy4Z6GBuCDGV",
        "outputId": "fd5601b5-7de8-4472-ec11-f6efd8100475"
      },
      "outputs": [
        {
          "data": {
            "text/plain": [
              "[0, 1, 2, 3, 4, 5, 6]"
            ]
          },
          "execution_count": 16,
          "metadata": {},
          "output_type": "execute_result"
        }
      ],
      "source": [
        "list(s.index)"
      ]
    },
    {
      "cell_type": "markdown",
      "metadata": {
        "id": "J21A8bJmCDGV"
      },
      "source": [
        "\n",
        "Но можно создавать наборы данных с индексом, заданным списком."
      ]
    },
    {
      "cell_type": "code",
      "execution_count": null,
      "metadata": {
        "id": "GaJeIoXkCDGV",
        "outputId": "00608657-ca6c-46f3-d75c-a75d569c53a8"
      },
      "outputs": [
        {
          "data": {
            "text/plain": [
              "['a', 'b', 'c', 'd', 'e', 'f', 'g']"
            ]
          },
          "execution_count": 17,
          "metadata": {},
          "output_type": "execute_result"
        }
      ],
      "source": [
        "i = list('abcdefg')\n",
        "i"
      ]
    },
    {
      "cell_type": "code",
      "execution_count": null,
      "metadata": {
        "id": "Y4oMarUcCDGW",
        "outputId": "5e4bf038-2fb8-4cab-ae5a-db85e9031653"
      },
      "outputs": [
        {
          "data": {
            "text/plain": [
              "a    15.0\n",
              "b    11.0\n",
              "c    16.0\n",
              "d     NaN\n",
              "e    14.0\n",
              "f    13.0\n",
              "g    12.0\n",
              "dtype: float64"
            ]
          },
          "execution_count": 18,
          "metadata": {},
          "output_type": "execute_result"
        }
      ],
      "source": [
        "s = pd.Series(l,index=i)\n",
        "s"
      ]
    },
    {
      "cell_type": "markdown",
      "metadata": {
        "id": "eLJaZvByCDGW"
      },
      "source": [
        "И независимо от значений в индексе, мы можем индексироваться."
      ]
    },
    {
      "cell_type": "code",
      "execution_count": null,
      "metadata": {
        "id": "ibLDIzljCDGW",
        "outputId": "9d1e2cda-7bef-4cec-ce37-adf653887f14"
      },
      "outputs": [
        {
          "data": {
            "text/plain": [
              "16.0"
            ]
          },
          "execution_count": 19,
          "metadata": {},
          "output_type": "execute_result"
        }
      ],
      "source": [
        "s['c']"
      ]
    },
    {
      "cell_type": "markdown",
      "metadata": {
        "id": "wdZJi7K6CDGW"
      },
      "source": [
        "Если индекс - строка, то вместо s['c'] можно индексироваться через точку."
      ]
    },
    {
      "cell_type": "code",
      "execution_count": null,
      "metadata": {
        "id": "XeG7G1G_CDGW",
        "outputId": "39c8cf3c-4dbc-4009-9f70-f6a7d0c6a0ca"
      },
      "outputs": [
        {
          "data": {
            "text/plain": [
              "16.0"
            ]
          },
          "execution_count": 20,
          "metadata": {},
          "output_type": "execute_result"
        }
      ],
      "source": [
        "s.c"
      ]
    },
    {
      "cell_type": "markdown",
      "metadata": {
        "id": "4yGhZj2tCDGW"
      },
      "source": [
        "Набор данных можно создать из словаря."
      ]
    },
    {
      "cell_type": "code",
      "execution_count": null,
      "metadata": {
        "id": "XbfXD1CZCDGW",
        "outputId": "a01f12bb-4d71-484c-d411-b5822ea97d7d"
      },
      "outputs": [
        {
          "data": {
            "text/plain": [
              "a    1\n",
              "b    2\n",
              "c    0\n",
              "dtype: int64"
            ]
          },
          "execution_count": 21,
          "metadata": {},
          "output_type": "execute_result"
        }
      ],
      "source": [
        "s = pd.Series({'a':1,'b':2,'c':0})\n",
        "s"
      ]
    },
    {
      "cell_type": "markdown",
      "metadata": {
        "id": "ohLpNknFCDGX"
      },
      "source": [
        "\n",
        "Можно отсортировать набор данных."
      ]
    },
    {
      "cell_type": "code",
      "execution_count": null,
      "metadata": {
        "id": "g2SsivLqCDGX"
      },
      "outputs": [],
      "source": [
        "s.sort_values()"
      ]
    },
    {
      "cell_type": "markdown",
      "metadata": {
        "id": "BVfbWxy9CDGX"
      },
      "source": [
        "Роль индекса может играть, скажем, последовательность дат (или времён измерения и т.д.)."
      ]
    },
    {
      "cell_type": "code",
      "execution_count": null,
      "metadata": {
        "id": "WgGQOo1QCDGX",
        "outputId": "4c4d3484-a2a3-4fbd-d827-bb185447cc45"
      },
      "outputs": [
        {
          "data": {
            "text/plain": [
              "DatetimeIndex(['2018-10-12', '2018-10-13', '2018-10-14', '2018-10-15',\n",
              "               '2018-10-16', '2018-10-17', '2018-10-18', '2018-10-19',\n",
              "               '2018-10-20', '2018-10-21'],\n",
              "              dtype='datetime64[ns]', freq='D')"
            ]
          },
          "execution_count": 23,
          "metadata": {},
          "output_type": "execute_result"
        }
      ],
      "source": [
        "d = pd.date_range('20181012',periods=10)\n",
        "d"
      ]
    },
    {
      "cell_type": "markdown",
      "metadata": {
        "id": "nmt8fY9GCDGX"
      },
      "source": [
        "Сгенерируем данные из нормального распределения."
      ]
    },
    {
      "cell_type": "code",
      "execution_count": null,
      "metadata": {
        "id": "ETr_vCzwCDGX",
        "outputId": "24b91ac7-06b5-41d6-a4ea-acc86a355841"
      },
      "outputs": [
        {
          "data": {
            "text/plain": [
              "2018-10-12   -0.737663\n",
              "2018-10-13   -0.603382\n",
              "2018-10-14   -0.350966\n",
              "2018-10-15   -2.804666\n",
              "2018-10-16   -0.983462\n",
              "2018-10-17    0.338909\n",
              "2018-10-18    0.571361\n",
              "2018-10-19   -0.533429\n",
              "2018-10-20    1.378316\n",
              "2018-10-21    0.537023\n",
              "Freq: D, dtype: float64"
            ]
          },
          "execution_count": 24,
          "metadata": {},
          "output_type": "execute_result"
        }
      ],
      "source": [
        "s = pd.Series(np.random.normal(size=10),index=d)\n",
        "s"
      ]
    },
    {
      "cell_type": "markdown",
      "metadata": {
        "id": "0efxmjRgCDGX"
      },
      "source": [
        "Можем сравненивать возвращают наборы булевых данных."
      ]
    },
    {
      "cell_type": "code",
      "execution_count": null,
      "metadata": {
        "id": "CuWS2rV9CDGY",
        "outputId": "a97cae95-18f6-438a-c0b7-9f9ee0aedf07"
      },
      "outputs": [
        {
          "data": {
            "text/plain": [
              "2018-10-12    False\n",
              "2018-10-13    False\n",
              "2018-10-14    False\n",
              "2018-10-15    False\n",
              "2018-10-16    False\n",
              "2018-10-17     True\n",
              "2018-10-18     True\n",
              "2018-10-19    False\n",
              "2018-10-20     True\n",
              "2018-10-21     True\n",
              "Freq: D, dtype: bool"
            ]
          },
          "execution_count": 25,
          "metadata": {},
          "output_type": "execute_result"
        }
      ],
      "source": [
        "s > 0"
      ]
    },
    {
      "cell_type": "markdown",
      "metadata": {
        "id": "XWKLi6NbCDGY"
      },
      "source": [
        "Если такой булев набор использовать для индексации, получится поднабор только из тех данных, для которых условие есть True."
      ]
    },
    {
      "cell_type": "code",
      "execution_count": null,
      "metadata": {
        "id": "FtPNLwneCDGY",
        "outputId": "7fef71e2-b7c0-4c3b-820d-00e0014d5e9e"
      },
      "outputs": [
        {
          "data": {
            "text/plain": [
              "2018-10-17    0.338909\n",
              "2018-10-18    0.571361\n",
              "2018-10-20    1.378316\n",
              "2018-10-21    0.537023\n",
              "dtype: float64"
            ]
          },
          "execution_count": 26,
          "metadata": {},
          "output_type": "execute_result"
        }
      ],
      "source": [
        "s[s > 0]"
      ]
    },
    {
      "cell_type": "markdown",
      "metadata": {
        "id": "kP6Z-dIsCDGY"
      },
      "source": [
        "Кумулятивные максимумы измеряют максимум от первого элемента до текущего, представте плавающее окно, которое каждый раз добавляет по одной дате и ищет максимум среди получившегося массива."
      ]
    },
    {
      "cell_type": "code",
      "execution_count": null,
      "metadata": {
        "id": "1ZdFCYVCCDGY",
        "outputId": "4e26de22-02da-47d0-bd0f-b543a3d338f5"
      },
      "outputs": [
        {
          "data": {
            "text/plain": [
              "2018-10-12   -0.737663\n",
              "2018-10-13   -0.603382\n",
              "2018-10-14   -0.350966\n",
              "2018-10-15   -0.350966\n",
              "2018-10-16   -0.350966\n",
              "2018-10-17    0.338909\n",
              "2018-10-18    0.571361\n",
              "2018-10-19    0.571361\n",
              "2018-10-20    1.378316\n",
              "2018-10-21    1.378316\n",
              "Freq: D, dtype: float64"
            ]
          },
          "execution_count": 27,
          "metadata": {},
          "output_type": "execute_result"
        }
      ],
      "source": [
        "s.cummax()"
      ]
    },
    {
      "cell_type": "markdown",
      "metadata": {
        "id": "lXhtn8f0CDGZ"
      },
      "source": [
        "\n",
        "Кумулятивные суммы."
      ]
    },
    {
      "cell_type": "code",
      "execution_count": null,
      "metadata": {
        "id": "Re_sFMo9CDGZ",
        "outputId": "f4f96b11-8b1f-4f45-ad26-f33a7d3de45c"
      },
      "outputs": [
        {
          "data": {
            "text/plain": [
              "2018-10-12   -0.737663\n",
              "2018-10-13   -1.341044\n",
              "2018-10-14   -1.692010\n",
              "2018-10-15   -4.496676\n",
              "2018-10-16   -5.480138\n",
              "2018-10-17   -5.141229\n",
              "2018-10-18   -4.569868\n",
              "2018-10-19   -5.103298\n",
              "2018-10-20   -3.724981\n",
              "2018-10-21   -3.187958\n",
              "Freq: D, dtype: float64"
            ]
          },
          "execution_count": 28,
          "metadata": {},
          "output_type": "execute_result"
        }
      ],
      "source": [
        "s = s.cumsum()\n",
        "s"
      ]
    },
    {
      "cell_type": "markdown",
      "metadata": {
        "id": "mgxbrnDBCDGZ"
      },
      "source": [
        "Построим график наших данных. <br>\n",
        "Для этого нам понадобится библиотека `matplotlib` и волшебная команда `%matplotlib inline` чтобы выводились только графики."
      ]
    },
    {
      "cell_type": "code",
      "execution_count": null,
      "metadata": {
        "id": "1RVYQdtZCDGZ"
      },
      "outputs": [],
      "source": [
        "import matplotlib.pyplot as plt\n",
        "%matplotlib inline"
      ]
    },
    {
      "cell_type": "code",
      "execution_count": null,
      "metadata": {
        "id": "CpzD2uU6CDGZ",
        "outputId": "9403ab28-eb26-4c97-d643-cd884e53cdb1"
      },
      "outputs": [
        {
          "data": {
            "text/plain": [
              "[<matplotlib.lines.Line2D at 0x119749898>]"
            ]
          },
          "execution_count": 30,
          "metadata": {},
          "output_type": "execute_result"
        },
        {
          "data": {
            "image/png": "[encoded data removed]",
            "text/plain": [
              "<Figure size 1080x288 with 1 Axes>"
            ]
          },
          "metadata": {},
          "output_type": "display_data"
        }
      ],
      "source": [
        "plt.figure(figsize=(15,4))\n",
        "plt.plot(s)"
      ]
    }
  ]
}