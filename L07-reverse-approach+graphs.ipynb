{
  "cells": [
    {
      "cell_type": "markdown",
      "metadata": {
        "id": "zn9N4bY0q9Qz"
      },
      "source": [
        "# Макемакеанские пирамиды"
      ]
    },
    {
      "cell_type": "markdown",
      "metadata": {
        "id": "PBEVcYESpNTP"
      },
      "source": [
        "Как известно, знаменитые египетские пирамиды были построены инопланетянами. Именно они послужили толчком к развитию цивилизации на Земле. Но мало кто знает, что этими инопланетянами был пандорианцы. Теперь они хотят повторить свой успех на планете Макемаке.\n",
        "\n",
        "Для постройки пирамид на Макемаке были завезены и расставлены в ряд $N$ каменных блоков различных типов. Всего существует 9 типов блоков. Тип блока определяется его размером: самые большие блоки имеют тип 9, а самые маленькие --- 1. Правильная пирамида должна состоять из поставленных друг на друга блоков, причем сверху обязательно должен быть блок типа 1, а каждый блок должен стоять на блоке следующего по величине типа.\n",
        "\n",
        "Конечно, пирамиды строят не сами пандорианцы, а местное население Макемаке. Пандорианцы лишь руководят строительным процессом, указывая, какой блок нужно двигать. Особенности анатомии макемакеанцев позволяют им поднять один блок и поставить его на первый встреченный справа блок или стопку блоков. Как только очередная пирамида оказывается достроенной (то есть на ней сверху оказывается блок типа 1), она вывозится из ряда блоков и устанавливается на специально подготовленную для нее площадку.\n",
        "\n",
        "Разработайте стратегию постройки пирамид, при которой неиспользованных блоков останется как можно меньше.\n",
        "\n",
        "### Формат ввода\n",
        "\n",
        "В первой строке задано целое число $N$ --- количество завезенных блоков $(1 \\leqslant N \\leqslant 100 000)$.\n",
        "\n",
        "Во второй строке даны $N$ целых чисел от $1$ до $9$ --- типы блоков в том порядке, в котором они стоят в ряду, перечисленные слева направо.\n",
        "\n",
        "### Формат вывода\n",
        "\n",
        "Выведите минимально возможное число неиспользованных блоков."
      ]
    },
    {
      "cell_type": "markdown",
      "metadata": {
        "id": "NKE6fvdB0S4v"
      },
      "source": [
        "7\n",
        "\n",
        "1 2 3 1 2 4 5\n"
      ]
    },
    {
      "cell_type": "code",
      "execution_count": 2,
      "metadata": {
        "colab": {
          "base_uri": "https://localhost:8080/"
        },
        "id": "LQgxD8GDpJcK",
        "outputId": "60f14cbe-5bd5-43b7-ea62-dcaa4e2b9874"
      },
      "outputs": [
        {
          "name": "stdout",
          "output_type": "stream",
          "text": [
            "8\n",
            "1 2 1 2 3 3 4 5 6\n",
            "building block -7 size: 1\n",
            "building block -6 size: 2\n",
            "building block -5 size: 3\n",
            "building block -9 size: 1\n",
            "building block -8 size: 2\n",
            "building block -7 size: 3\n",
            "building block -6 size: 4\n",
            "building block -5 size: 5\n",
            "building block -4 size: 6\n",
            "0\n"
          ]
        }
      ],
      "source": [
        "_ = input()\n",
        "block_sizes = list(map(int, input().split()))\n",
        "\n",
        "unused_block_sizes = []\n",
        "# iterate from last block to the first one backwards\n",
        "for i in range(-1, -(len(block_sizes) + 1), -1):\n",
        "  # print(i, block_sizes[i])\n",
        "  unused_block_sizes.append(block_sizes[i]) # adding all the blocks\n",
        "  needed_block_size = 1\n",
        "  j = i\n",
        "  if block_sizes[i] == needed_block_size: # we can try to start building the pyramid from the top\n",
        "    while unused_block_sizes and unused_block_sizes[-1] == needed_block_size:\n",
        "      print('building block', j, \"size:\", needed_block_size)\n",
        "      j += 1\n",
        "      needed_block_size += 1\n",
        "      unused_block_sizes.pop()\n",
        "\n",
        "print(len(unused_block_sizes))"
      ]
    },
    {
      "cell_type": "markdown",
      "metadata": {
        "id": "YVeNXpFB23D4"
      },
      "source": [
        "Если из вспомогательного списка не удалять элементы, то сложность будет почти квадратная. Засчёт удаления это два прохода, то есть O(n)"
      ]
    },
    {
      "cell_type": "markdown",
      "metadata": {
        "id": "KN8pJcMbqraY"
      },
      "source": [
        "\n",
        "# Поиск в глубину (DFS) <a name=\"dfs\"></a>  \n",
        "\n",
        "Метод обхода графа. Depth-first search (DFS) можно чуть точнее перевести как \"поиск в первую очередь в глубину\". Соответственно, рекурсивный алгоритм поиска идет «вглубь» графа, насколько это возможно. Есть нерекурсивные варианты алгоритма, разгружающие стек вызовов.\n"
      ]
    },
    {
      "cell_type": "code",
      "execution_count": 3,
      "metadata": {
        "id": "Lxxb_3T83Nmi"
      },
      "outputs": [],
      "source": [
        "graph = {\n",
        "    '5' : ['3', '7'],\n",
        "    '3' : ['2', '4'],\n",
        "    '7' : ['8'],\n",
        "    '2' : [],\n",
        "    '4' : ['8'],\n",
        "    '8' : []\n",
        "}"
      ]
    },
    {
      "cell_type": "code",
      "execution_count": 5,
      "metadata": {
        "colab": {
          "base_uri": "https://localhost:8080/"
        },
        "id": "R4MmzARmsCE5",
        "outputId": "4864fecb-2909-4d96-8944-e014f6e410c3"
      },
      "outputs": [
        {
          "name": "stdout",
          "output_type": "stream",
          "text": [
            "5\n",
            "3\n",
            "2\n",
            "4\n",
            "8\n",
            "7\n"
          ]
        }
      ],
      "source": [
        "import sys\n",
        "sys.setrecursionlimit(100000)\n",
        "\n",
        "def dfs(visited, graph, node):\n",
        "    if node not in visited:\n",
        "      print(node)\n",
        "      visited.add(node)\n",
        "      for neighbour in graph[node]:\n",
        "        dfs(visited, graph, neighbour)\n",
        "\n",
        "\n",
        "visited = set() # to keep track of visited nodes\n",
        "dfs(visited, graph, '5')"
      ]
    },
    {
      "cell_type": "code",
      "execution_count": 20,
      "metadata": {
        "id": "Yham4wT09IAV"
      },
      "outputs": [],
      "source": [
        "def convert_graph(graph):\n",
        "  new_graph = {}\n",
        "  for elem in graph:\n",
        "    new_graph[elem] = set(graph[elem])\n",
        "  return new_graph"
      ]
    },
    {
      "cell_type": "code",
      "execution_count": 21,
      "metadata": {
        "colab": {
          "base_uri": "https://localhost:8080/"
        },
        "id": "t2e8OtvI9V0h",
        "outputId": "3ffed88a-4dcf-431c-9f3e-eb07138612cb"
      },
      "outputs": [
        {
          "data": {
            "text/plain": [
              "{'5': {'3', '7'},\n",
              " '3': {'2', '4', '5'},\n",
              " '7': {'5', '8'},\n",
              " '2': {'3'},\n",
              " '4': {'3', '8'},\n",
              " '8': {'4', '7'}}"
            ]
          },
          "execution_count": 21,
          "metadata": {},
          "output_type": "execute_result"
        }
      ],
      "source": [
        "set_graph = convert_graph(new_graph)\n",
        "set_graph"
      ]
    },
    {
      "cell_type": "code",
      "execution_count": 18,
      "metadata": {
        "colab": {
          "base_uri": "https://localhost:8080/"
        },
        "id": "hIvHDI-H62Zc",
        "outputId": "a9f0c962-9273-4aa7-b696-bca3dc8e2f12"
      },
      "outputs": [
        {
          "name": "stdout",
          "output_type": "stream",
          "text": [
            "5\n",
            "Adding node 5 to the adjacency list for neighbour 3\n",
            "3\n",
            "Adding node 3 to the adjacency list for neighbour 2\n",
            "2\n",
            "Adding node 2 to the adjacency list for neighbour 3\n",
            "Adding node 3 to the adjacency list for neighbour 4\n",
            "4\n",
            "Adding node 4 to the adjacency list for neighbour 8\n",
            "8\n",
            "Adding node 8 to the adjacency list for neighbour 4\n",
            "Adding node 4 to the adjacency list for neighbour 3\n",
            "Adding node 4 to the adjacency list for neighbour 8\n",
            "Adding node 3 to the adjacency list for neighbour 5\n",
            "Adding node 3 to the adjacency list for neighbour 2\n",
            "Adding node 3 to the adjacency list for neighbour 4\n",
            "Adding node 5 to the adjacency list for neighbour 7\n",
            "7\n",
            "Adding node 7 to the adjacency list for neighbour 8\n",
            "Adding node 7 to the adjacency list for neighbour 5\n",
            "Adding node 5 to the adjacency list for neighbour 3\n",
            "Adding node 5 to the adjacency list for neighbour 7\n"
          ]
        }
      ],
      "source": [
        "from copy import deepcopy\n",
        "new_graph = deepcopy(graph)\n",
        "\n",
        "def filling(visited, graph, node):\n",
        "    if node not in visited:\n",
        "      print(node)\n",
        "      visited.add(node)\n",
        "      for neighbour in graph[node]:\n",
        "        print('Adding node', node, 'to the adjacency list for neighbour', neighbour)\n",
        "        graph[neighbour].append(node)\n",
        "        filling(visited, graph, neighbour)\n",
        "\n",
        "filling_visited = set()\n",
        "filling(filling_visited, new_graph, '5')"
      ]
    },
    {
      "cell_type": "code",
      "execution_count": 19,
      "metadata": {
        "colab": {
          "base_uri": "https://localhost:8080/"
        },
        "id": "CHu3YBfb7v3y",
        "outputId": "552c5461-4c33-4839-93b8-b1c593a85f6a"
      },
      "outputs": [
        {
          "data": {
            "text/plain": [
              "{'5': ['3', '7', '3', '7'],\n",
              " '3': ['2', '4', '5', '2', '4', '5'],\n",
              " '7': ['8', '5', '5'],\n",
              " '2': ['3', '3'],\n",
              " '4': ['8', '3', '8', '3'],\n",
              " '8': ['4', '4', '7']}"
            ]
          },
          "execution_count": 19,
          "metadata": {},
          "output_type": "execute_result"
        }
      ],
      "source": [
        "new_graph"
      ]
    },
    {
      "cell_type": "code",
      "execution_count": 14,
      "metadata": {
        "colab": {
          "base_uri": "https://localhost:8080/"
        },
        "id": "IT6ienyH7yta",
        "outputId": "c9b5d447-bbf2-41ea-ce43-ef0cb99a7cea"
      },
      "outputs": [
        {
          "data": {
            "text/plain": [
              "{'5': ['3', '7'], '3': ['2', '4'], '7': ['8'], '2': [], '4': ['8'], '8': []}"
            ]
          },
          "execution_count": 14,
          "metadata": {},
          "output_type": "execute_result"
        }
      ],
      "source": [
        "graph"
      ]
    },
    {
      "cell_type": "markdown",
      "metadata": {
        "id": "8GMlBfnlsBZ9"
      },
      "source": [
        "# Поиск в ширину (BFS) <a name=\"bfs\"></a>  \n",
        "\n",
        "В отличие от предыдущего варианта алгоритм Breadth-first search (BFS) перебирает в первую очередь вершины с одинаковым расстоянием от корня, и только потом идет «вглубь».\n"
      ]
    },
    {
      "cell_type": "code",
      "execution_count": 23,
      "metadata": {
        "colab": {
          "base_uri": "https://localhost:8080/"
        },
        "id": "oydtkJ3v-unv",
        "outputId": "def0195d-6778-4714-e4d9-6833fe9f5dc9"
      },
      "outputs": [
        {
          "data": {
            "text/plain": [
              "{1, 2, 3, 4, 5}"
            ]
          },
          "execution_count": 23,
          "metadata": {},
          "output_type": "execute_result"
        }
      ],
      "source": [
        "my_set = {1, 1, 2, 3, 4, 4, 5}\n",
        "my_set"
      ]
    },
    {
      "cell_type": "code",
      "execution_count": 25,
      "metadata": {
        "colab": {
          "base_uri": "https://localhost:8080/"
        },
        "id": "TpmKhqBJ--JJ",
        "outputId": "2a9edecb-7683-4610-fb7c-7dce43dcb5eb"
      },
      "outputs": [
        {
          "data": {
            "text/plain": [
              "{'5': {'3', '7'},\n",
              " '3': {'2', '4', '5'},\n",
              " '7': {'5', '8'},\n",
              " '2': {'3'},\n",
              " '4': {'3', '8'},\n",
              " '8': {'4', '7'}}"
            ]
          },
          "execution_count": 25,
          "metadata": {},
          "output_type": "execute_result"
        }
      ],
      "source": [
        "set_graph"
      ]
    },
    {
      "cell_type": "code",
      "execution_count": 24,
      "metadata": {
        "colab": {
          "base_uri": "https://localhost:8080/"
        },
        "id": "B7p22q7ysF5b",
        "outputId": "9b23682c-022f-4c43-a88a-e25a80d9bdc5"
      },
      "outputs": [
        {
          "name": "stdout",
          "output_type": "stream",
          "text": [
            "{'4', '8', '7', '5', '2', '3'}\n"
          ]
        }
      ],
      "source": [
        "from collections import deque\n",
        "\n",
        "def bfs(graph, root):\n",
        "  visited = set()\n",
        "  queue = deque([root])\n",
        "  while queue:\n",
        "    node = queue.popleft()\n",
        "    for neighbour in graph[node]:\n",
        "      if neighbour not in visited:\n",
        "        visited.add(neighbour)\n",
        "        queue.append(neighbour)\n",
        "  return visited\n",
        "\n",
        "print(bfs(set_graph, '8'))"
      ]
    },
    {
      "cell_type": "markdown",
      "metadata": {
        "id": "NC8SW1dnsIBD"
      },
      "source": [
        "# Алгоритм Дейкстры  \n",
        "\n",
        "Находит кратчайшие пути от одной из вершин графа до всех остальных. Алгоритм работает только для графов без отрицательных рёбер.\n"
      ]
    },
    {
      "cell_type": "code",
      "execution_count": 27,
      "metadata": {
        "colab": {
          "base_uri": "https://localhost:8080/"
        },
        "id": "qORGUuK2sKk2",
        "outputId": "4ab900a7-429c-494f-e365-b36281d50018"
      },
      "outputs": [
        {
          "name": "stdout",
          "output_type": "stream",
          "text": [
            "{'A': None, 'B': None, 'C': None, 'D': None, 'G': None, 'E': None, 'F': None}\n",
            "{'B': 0, 'D': 1, 'G': 2, 'E': 2, 'C': 3, 'A': 4, 'F': 4}\n"
          ]
        }
      ],
      "source": [
        "distance_graph = {\n",
        "    'A': {'B': 5, 'D': 3, 'E': 12, 'F': 5},\n",
        "    'B': {'A': 5, 'D': 1, 'G': 2},\n",
        "    'C': {'G': 2, 'E': 1, 'F': 16},\n",
        "    'D': {'A': 3, 'B': 1, 'E': 1, 'G': 1},\n",
        "    'G': {'B': 2, 'C': 2, 'D': 1},\n",
        "    'E': {'A': 12, 'C': 1, 'D': 1, 'F': 2},\n",
        "    'F': {'A': 5, 'C': 16, 'E': 2}\n",
        "}\n",
        "\n",
        "unvisited = {node: None for node in distance_graph}\n",
        "print(unvisited)\n",
        "current = 'B'\n",
        "currentDistance = 0\n",
        "unvisited[current] = currentDistance\n",
        "\n",
        "visited = {}\n",
        "\n",
        "while True:\n",
        "  for neighbour, distance in distance_graph[current].items():\n",
        "    if neighbour not in unvisited:\n",
        "      continue # skip iteration\n",
        "    newDistance = currentDistance + distance\n",
        "    if unvisited[neighbour] is None or unvisited[neighbour] > newDistance:\n",
        "      unvisited[neighbour] = newDistance\n",
        "  visited[current] = currentDistance\n",
        "  del unvisited[current]\n",
        "  if not unvisited: break\n",
        "  candidates = [node for node in unvisited.items() if node[1]]\n",
        "  current, currentDistance = sorted(candidates, key = lambda x: x[1])[0]\n",
        "\n",
        "print(visited)"
      ]
    },
    {
      "cell_type": "markdown",
      "metadata": {
        "id": "ycsC0WXssMpj"
      },
      "source": [
        "# Алгоритм Беллмана-Форда <a name=\"bellmanford\"></a>  \n",
        "\n",
        "Как и алгоритм Дейкстры, находит кратчайшие пути от одной из вершин графа до всех остальных, но, в отличие от первого, позволяет работать с графами с ребрами, имеющими отрицательный вес.\n"
      ]
    },
    {
      "cell_type": "code",
      "execution_count": null,
      "metadata": {
        "id": "03i_kt6ZsN9p"
      },
      "outputs": [],
      "source": [
        "def bellman_ford(graph, source):\n",
        "    # Step 1: Initialize distances\n",
        "    distances = {vertex: float('inf') for vertex in graph}\n",
        "    distances[source] = 0\n",
        "\n",
        "    # Step 2: Relax edges |V| - 1 times\n",
        "    for _ in range(len(graph) - 1):\n",
        "        for u in graph:\n",
        "            for v, weight in graph[u].items():\n",
        "                if distances[u] != float('inf') and distances[u] + weight < distances[v]:\n",
        "                    distances[v] = distances[u] + weight\n",
        "\n",
        "    # Step 3: Check for negative weight cycles\n",
        "    for u in graph:\n",
        "        for v, weight in graph[u].items():\n",
        "            if distances[u] != float('inf') and distances[u] + weight < distances[v]:\n",
        "                raise ValueError(\"Graph contains negative weight cycle\")\n",
        "\n",
        "    return distances\n",
        "\n",
        "\n",
        "graph = {\n",
        "    'A': {'B': -1, 'C': 4},\n",
        "    'B': {'C': 3, 'D': 2, 'E': 2},\n",
        "    'C': {},\n",
        "    'D': {'B': 1, 'C': 5},\n",
        "    'E': {'D': -3}\n",
        "}\n",
        "source = 'A'\n",
        "\n",
        "shortest_distances = bellman_ford(graph, source)\n",
        "print(shortest_distances)"
      ]
    },
    {
      "cell_type": "markdown",
      "metadata": {
        "id": "DetsWh2TsPgn"
      },
      "source": [
        "# Динамическое программирование\n",
        "\n",
        "Динамическое программирование — способ решения сложных задач путём разбиения их на более простые подзадачи. Он применим к задачам со структурой, выглядящей как набор перекрывающихся подзадач, сложность которых меньше исходной.\n",
        "Ключевая идея: как правило, чтобы решить поставленную задачу, требуется решить отдельные части задачи (подзадачи), после чего объединить решения подзадач в одно общее решение. Часто многие из этих подзадач одинаковы. Подход динамического программирования состоит в том, чтобы решить каждую подзадачу только один раз, сократив тем самым количество вычислений. Это особенно полезно в случаях, когда число повторяющихся подзадач экспоненциально велико.ы"
      ]
    },
    {
      "cell_type": "markdown",
      "metadata": {
        "id": "AkTocPM2sSFP"
      },
      "source": [
        "На вершине лесенки, содержащей N ступенек, находится мячик, который начинает прыгать по ним вниз, к основанию. Мячик может прыгнуть на следующую ступеньку, на ступеньку через одну или через 2. (То есть, если мячик лежит на 8-ой ступеньке, то он может переместиться на 5-ую, 6-ую или 7-ую.) Определить число всевозможных \"маршрутов\" мячика с вершины на землю.\n",
        "\n",
        "## Формат ввода\n",
        "\n",
        "Вводится одно число 0 < N < 31.\n",
        "\n",
        "## Формат вывода\n",
        "\n",
        "Выведите одно число — количество маршрутов."
      ]
    },
    {
      "cell_type": "code",
      "execution_count": null,
      "metadata": {
        "id": "wB49K8zVsqyc"
      },
      "outputs": [],
      "source": []
    },
    {
      "cell_type": "markdown",
      "metadata": {
        "id": "CUXnnU7WQ6hi"
      },
      "source": [
        "# Подсказки к задачам из ДЗ 2"
      ]
    },
    {
      "cell_type": "markdown",
      "metadata": {
        "id": "OwFQwPz4RYVS"
      },
      "source": [
        "Word Cover:\n",
        "\n",
        "Вам поможет понимание KMP"
      ]
    },
    {
      "cell_type": "markdown",
      "metadata": {
        "id": "1P4Q6lSIQ5sl"
      },
      "source": [
        "Ретрострока:\n",
        "\n",
        "Используем префикс-функцию (она в том числе релевантна для KMP)"
      ]
    },
    {
      "cell_type": "markdown",
      "metadata": {
        "id": "VMnas7dmRpFk"
      },
      "source": [
        "ТЕХнические проблемы:\n",
        "\n",
        "Нужно аккуратно разобрать все случаи"
      ]
    },
    {
      "cell_type": "markdown",
      "metadata": {
        "id": "uQwdddnfVzH9"
      },
      "source": [
        "Карточки и здоровье графа теперь бонусные, т.е. за отсутствие решения баллы вычитаться не будут. При наличии решения баллы пойдут бонусом в другие ДЗ. Помечены *"
      ]
    }
  ],
  "metadata": {
    "colab": {
      "collapsed_sections": [
        "zn9N4bY0q9Qz",
        "DetsWh2TsPgn"
      ],
      "provenance": []
    },
    "kernelspec": {
      "display_name": "Python 3",
      "name": "python3"
    },
    "language_info": {
      "codemirror_mode": {
        "name": "ipython",
        "version": 3
      },
      "file_extension": ".py",
      "mimetype": "text/x-python",
      "name": "python",
      "nbconvert_exporter": "python",
      "pygments_lexer": "ipython3",
      "version": "3.10.0"
    }
  },
  "nbformat": 4,
  "nbformat_minor": 0
}
