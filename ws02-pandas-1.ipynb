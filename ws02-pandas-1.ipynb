{
  "nbformat": 4,
  "nbformat_minor": 0,
  "metadata": {
    "colab": {
      "provenance": []
    },
    "kernelspec": {
      "name": "python3",
      "display_name": "Python 3"
    },
    "language_info": {
      "name": "python"
    }
  },
  "cells": [
    {
      "cell_type": "markdown",
      "source": [
        "#Теоретические введение\n"
      ],
      "metadata": {
        "id": "mQwByYoXljX0"
      }
    },
    {
      "cell_type": "markdown",
      "source": [
        "План урока: всего на 1 час 20 минут\n",
        "- Рассказываем, что будет на занятии\n",
        "- Работаем поэтапно с задачей, комментируем каждый шаг, отвечаем на вопросы\n",
        "- продолжение изучения инструментой pandas будет на семинарах\n",
        "\n",
        "Почти всё занятие необходимо вести в вс коде, презентация носит больше условный характер."
      ],
      "metadata": {
        "id": "IIglfj2bmz6H"
      }
    },
    {
      "cell_type": "markdown",
      "source": [
        "Исходники:\n",
        "\n",
        "https://drive.google.com/drive/folders/1pw2wle59tG3nG8aaJnZmMi2BuOs_00Qa?usp=share_link"
      ],
      "metadata": {
        "id": "gTn466_VZnAg"
      }
    },
    {
      "cell_type": "markdown",
      "source": [
        "#Продолжаем изучать pandas (40 мин)"
      ],
      "metadata": {
        "id": "oVPGRLTv6WmD"
      }
    },
    {
      "cell_type": "markdown",
      "metadata": {
        "id": "QJrAL-joCDGa"
      },
      "source": [
        "## DataFrame\n",
        "\n",
        "`DataFrame` это двумерная таблица данных. <br>\n",
        "Имеет индекс и набор столбцов (возможно, имеющих разные типы). <br>\n",
        "Таблицу можно построить, например, из словаря, значениями в котором являются одномерные наборы данных."
      ]
    },
    {
      "cell_type": "code",
      "source": [
        "import pandas as pd"
      ],
      "metadata": {
        "id": "JVFPTFfWLdG2"
      },
      "execution_count": 3,
      "outputs": []
    },
    {
      "cell_type": "code",
      "execution_count": 4,
      "metadata": {
        "id": "2OA89YLLCDGa",
        "outputId": "da2d1251-39b2-41ff-8ea4-237d8586f4ad",
        "colab": {
          "base_uri": "https://localhost:8080/",
          "height": 175
        }
      },
      "outputs": [
        {
          "output_type": "execute_result",
          "data": {
            "text/plain": [
              "   one  two\n",
              "a  1.0    1\n",
              "b  2.0    2\n",
              "c  3.0    3\n",
              "d  NaN    4"
            ],
            "text/html": [
              "<div>\n",
              "<style scoped>\n",
              "    .dataframe tbody tr th:only-of-type {\n",
              "        vertical-align: middle;\n",
              "    }\n",
              "\n",
              "    .dataframe tbody tr th {\n",
              "        vertical-align: top;\n",
              "    }\n",
              "\n",
              "    .dataframe thead th {\n",
              "        text-align: right;\n",
              "    }\n",
              "</style>\n",
              "<table border=\"1\" class=\"dataframe\">\n",
              "  <thead>\n",
              "    <tr style=\"text-align: right;\">\n",
              "      <th></th>\n",
              "      <th>one</th>\n",
              "      <th>two</th>\n",
              "    </tr>\n",
              "  </thead>\n",
              "  <tbody>\n",
              "    <tr>\n",
              "      <th>a</th>\n",
              "      <td>1.0</td>\n",
              "      <td>1</td>\n",
              "    </tr>\n",
              "    <tr>\n",
              "      <th>b</th>\n",
              "      <td>2.0</td>\n",
              "      <td>2</td>\n",
              "    </tr>\n",
              "    <tr>\n",
              "      <th>c</th>\n",
              "      <td>3.0</td>\n",
              "      <td>3</td>\n",
              "    </tr>\n",
              "    <tr>\n",
              "      <th>d</th>\n",
              "      <td>NaN</td>\n",
              "      <td>4</td>\n",
              "    </tr>\n",
              "  </tbody>\n",
              "</table>\n",
              "</div>"
            ]
          },
          "metadata": {},
          "execution_count": 4
        }
      ],
      "source": [
        "d={'one':pd.Series([1,2,3], index = ['a','b','c']),\n",
        "   'two':pd.Series([1,2,3,4], index = ['a','b','c','d'])}\n",
        "df=pd.DataFrame(d)\n",
        "df\n",
        "\n",
        "# строки -- объекты\n",
        "# стоблцы -- это параметры объектов"
      ]
    },
    {
      "cell_type": "code",
      "execution_count": 5,
      "metadata": {
        "id": "U7L6teueCDGa",
        "outputId": "fa3d2a77-02ec-49d7-d8a8-6c437d39aa42",
        "colab": {
          "base_uri": "https://localhost:8080/"
        }
      },
      "outputs": [
        {
          "output_type": "execute_result",
          "data": {
            "text/plain": [
              "Index(['a', 'b', 'c', 'd'], dtype='object')"
            ]
          },
          "metadata": {},
          "execution_count": 5
        }
      ],
      "source": [
        "df.index"
      ]
    },
    {
      "cell_type": "code",
      "execution_count": 6,
      "metadata": {
        "id": "pXCX6gLiCDGa",
        "outputId": "281966bd-6673-4ccb-bb63-f64731fa0ab2",
        "colab": {
          "base_uri": "https://localhost:8080/"
        }
      },
      "outputs": [
        {
          "output_type": "execute_result",
          "data": {
            "text/plain": [
              "Index(['one', 'two'], dtype='object')"
            ]
          },
          "metadata": {},
          "execution_count": 6
        }
      ],
      "source": [
        "df.columns"
      ]
    },
    {
      "cell_type": "markdown",
      "metadata": {
        "id": "hYPTQOx1CDGa"
      },
      "source": [
        "Если в качестве индекса указать имя столбца, получится одномерный набор данных."
      ]
    },
    {
      "cell_type": "code",
      "execution_count": 7,
      "metadata": {
        "id": "OmBGsErWCDGa",
        "outputId": "1988c638-8625-4c17-a91f-42cc31c31bb1",
        "colab": {
          "base_uri": "https://localhost:8080/"
        }
      },
      "outputs": [
        {
          "output_type": "execute_result",
          "data": {
            "text/plain": [
              "a    1.0\n",
              "b    2.0\n",
              "c    3.0\n",
              "d    NaN\n",
              "Name: one, dtype: float64"
            ]
          },
          "metadata": {},
          "execution_count": 7
        }
      ],
      "source": [
        "df['one']"
      ]
    },
    {
      "cell_type": "code",
      "execution_count": 8,
      "metadata": {
        "id": "zGQfYdOLCDGb",
        "outputId": "04e16dfc-bb6b-4c45-a163-f2d4dad2d454",
        "colab": {
          "base_uri": "https://localhost:8080/"
        }
      },
      "outputs": [
        {
          "output_type": "execute_result",
          "data": {
            "text/plain": [
              "a    1.0\n",
              "b    2.0\n",
              "c    3.0\n",
              "d    NaN\n",
              "Name: one, dtype: float64"
            ]
          },
          "metadata": {},
          "execution_count": 8
        }
      ],
      "source": [
        "df.one"
      ]
    },
    {
      "cell_type": "code",
      "execution_count": 9,
      "metadata": {
        "id": "SUfWQfbpCDGb",
        "outputId": "7184a2b2-9ca1-49f1-c1fd-0bca924a7cfe",
        "colab": {
          "base_uri": "https://localhost:8080/"
        }
      },
      "outputs": [
        {
          "output_type": "execute_result",
          "data": {
            "text/plain": [
              "3.0"
            ]
          },
          "metadata": {},
          "execution_count": 9
        }
      ],
      "source": [
        "df['one']['c']"
      ]
    },
    {
      "cell_type": "markdown",
      "metadata": {
        "id": "WWpIwAXiCDGb"
      },
      "source": [
        "\n",
        "Однако если указать диапазон индексов, то это означает диапазон строк. Причём последняя строка включается в таблицу."
      ]
    },
    {
      "cell_type": "code",
      "execution_count": 10,
      "metadata": {
        "id": "98ZQ1_CyCDGb",
        "outputId": "c85c51df-9350-41d1-c30b-4800e26d0daa",
        "colab": {
          "base_uri": "https://localhost:8080/",
          "height": 175
        }
      },
      "outputs": [
        {
          "output_type": "execute_result",
          "data": {
            "text/plain": [
              "   one  two\n",
              "a  1.0    1\n",
              "b  2.0    2\n",
              "c  3.0    3\n",
              "d  NaN    4"
            ],
            "text/html": [
              "<div>\n",
              "<style scoped>\n",
              "    .dataframe tbody tr th:only-of-type {\n",
              "        vertical-align: middle;\n",
              "    }\n",
              "\n",
              "    .dataframe tbody tr th {\n",
              "        vertical-align: top;\n",
              "    }\n",
              "\n",
              "    .dataframe thead th {\n",
              "        text-align: right;\n",
              "    }\n",
              "</style>\n",
              "<table border=\"1\" class=\"dataframe\">\n",
              "  <thead>\n",
              "    <tr style=\"text-align: right;\">\n",
              "      <th></th>\n",
              "      <th>one</th>\n",
              "      <th>two</th>\n",
              "    </tr>\n",
              "  </thead>\n",
              "  <tbody>\n",
              "    <tr>\n",
              "      <th>a</th>\n",
              "      <td>1.0</td>\n",
              "      <td>1</td>\n",
              "    </tr>\n",
              "    <tr>\n",
              "      <th>b</th>\n",
              "      <td>2.0</td>\n",
              "      <td>2</td>\n",
              "    </tr>\n",
              "    <tr>\n",
              "      <th>c</th>\n",
              "      <td>3.0</td>\n",
              "      <td>3</td>\n",
              "    </tr>\n",
              "    <tr>\n",
              "      <th>d</th>\n",
              "      <td>NaN</td>\n",
              "      <td>4</td>\n",
              "    </tr>\n",
              "  </tbody>\n",
              "</table>\n",
              "</div>"
            ]
          },
          "metadata": {},
          "execution_count": 10
        }
      ],
      "source": [
        "df"
      ]
    },
    {
      "cell_type": "code",
      "execution_count": 14,
      "metadata": {
        "id": "eVcYhAewCDGb",
        "outputId": "7dd479c9-8a4a-4150-b3bf-0621a35cbf84",
        "colab": {
          "base_uri": "https://localhost:8080/",
          "height": 49
        }
      },
      "outputs": [
        {
          "output_type": "execute_result",
          "data": {
            "text/plain": [
              "Empty DataFrame\n",
              "Columns: [one, two]\n",
              "Index: []"
            ],
            "text/html": [
              "<div>\n",
              "<style scoped>\n",
              "    .dataframe tbody tr th:only-of-type {\n",
              "        vertical-align: middle;\n",
              "    }\n",
              "\n",
              "    .dataframe tbody tr th {\n",
              "        vertical-align: top;\n",
              "    }\n",
              "\n",
              "    .dataframe thead th {\n",
              "        text-align: right;\n",
              "    }\n",
              "</style>\n",
              "<table border=\"1\" class=\"dataframe\">\n",
              "  <thead>\n",
              "    <tr style=\"text-align: right;\">\n",
              "      <th></th>\n",
              "      <th>one</th>\n",
              "      <th>two</th>\n",
              "    </tr>\n",
              "  </thead>\n",
              "  <tbody>\n",
              "  </tbody>\n",
              "</table>\n",
              "</div>"
            ]
          },
          "metadata": {},
          "execution_count": 14
        }
      ],
      "source": [
        "df['b':'d']['one'::2]"
      ]
    },
    {
      "cell_type": "markdown",
      "metadata": {
        "id": "4ICV0CIeCDGb"
      },
      "source": [
        "\n",
        "Диапазон целых чисел даёт диапазон строк с такими номерами, не включая последнюю строку (как обычно при индексировании списков). Всё это кажется довольно нелогичным."
      ]
    },
    {
      "cell_type": "code",
      "execution_count": 15,
      "metadata": {
        "id": "F7W5dY9hCDGb",
        "outputId": "957a0a84-6a3c-411f-a096-7c1d1ad84e2c",
        "colab": {
          "base_uri": "https://localhost:8080/",
          "height": 112
        }
      },
      "outputs": [
        {
          "output_type": "execute_result",
          "data": {
            "text/plain": [
              "   one  two\n",
              "b  2.0    2\n",
              "c  3.0    3"
            ],
            "text/html": [
              "<div>\n",
              "<style scoped>\n",
              "    .dataframe tbody tr th:only-of-type {\n",
              "        vertical-align: middle;\n",
              "    }\n",
              "\n",
              "    .dataframe tbody tr th {\n",
              "        vertical-align: top;\n",
              "    }\n",
              "\n",
              "    .dataframe thead th {\n",
              "        text-align: right;\n",
              "    }\n",
              "</style>\n",
              "<table border=\"1\" class=\"dataframe\">\n",
              "  <thead>\n",
              "    <tr style=\"text-align: right;\">\n",
              "      <th></th>\n",
              "      <th>one</th>\n",
              "      <th>two</th>\n",
              "    </tr>\n",
              "  </thead>\n",
              "  <tbody>\n",
              "    <tr>\n",
              "      <th>b</th>\n",
              "      <td>2.0</td>\n",
              "      <td>2</td>\n",
              "    </tr>\n",
              "    <tr>\n",
              "      <th>c</th>\n",
              "      <td>3.0</td>\n",
              "      <td>3</td>\n",
              "    </tr>\n",
              "  </tbody>\n",
              "</table>\n",
              "</div>"
            ]
          },
          "metadata": {},
          "execution_count": 15
        }
      ],
      "source": [
        "df[1:3]"
      ]
    },
    {
      "cell_type": "markdown",
      "metadata": {
        "id": "tujP1dbWCDGb"
      },
      "source": [
        "\n",
        "Логичнее работает атрибут `loc`: первая позиция - всегда индекс строки, а вторая - название столбца."
      ]
    },
    {
      "cell_type": "code",
      "execution_count": 16,
      "metadata": {
        "id": "bg8OGVP0CDGc",
        "outputId": "3d3dd902-315a-4e0e-940c-95133cdffd4f",
        "colab": {
          "base_uri": "https://localhost:8080/"
        }
      },
      "outputs": [
        {
          "output_type": "execute_result",
          "data": {
            "text/plain": [
              "one    2.0\n",
              "two    2.0\n",
              "Name: b, dtype: float64"
            ]
          },
          "metadata": {},
          "execution_count": 16
        }
      ],
      "source": [
        "df.loc['b']"
      ]
    },
    {
      "cell_type": "code",
      "execution_count": 17,
      "metadata": {
        "id": "dAtq7cW5CDGc",
        "outputId": "a6869d86-fe20-4032-e150-bfbd2919fd2a",
        "colab": {
          "base_uri": "https://localhost:8080/",
          "height": 175
        }
      },
      "outputs": [
        {
          "output_type": "execute_result",
          "data": {
            "text/plain": [
              "   one  two\n",
              "a  1.0    1\n",
              "b  2.0    2\n",
              "c  3.0    3\n",
              "d  NaN    4"
            ],
            "text/html": [
              "<div>\n",
              "<style scoped>\n",
              "    .dataframe tbody tr th:only-of-type {\n",
              "        vertical-align: middle;\n",
              "    }\n",
              "\n",
              "    .dataframe tbody tr th {\n",
              "        vertical-align: top;\n",
              "    }\n",
              "\n",
              "    .dataframe thead th {\n",
              "        text-align: right;\n",
              "    }\n",
              "</style>\n",
              "<table border=\"1\" class=\"dataframe\">\n",
              "  <thead>\n",
              "    <tr style=\"text-align: right;\">\n",
              "      <th></th>\n",
              "      <th>one</th>\n",
              "      <th>two</th>\n",
              "    </tr>\n",
              "  </thead>\n",
              "  <tbody>\n",
              "    <tr>\n",
              "      <th>a</th>\n",
              "      <td>1.0</td>\n",
              "      <td>1</td>\n",
              "    </tr>\n",
              "    <tr>\n",
              "      <th>b</th>\n",
              "      <td>2.0</td>\n",
              "      <td>2</td>\n",
              "    </tr>\n",
              "    <tr>\n",
              "      <th>c</th>\n",
              "      <td>3.0</td>\n",
              "      <td>3</td>\n",
              "    </tr>\n",
              "    <tr>\n",
              "      <th>d</th>\n",
              "      <td>NaN</td>\n",
              "      <td>4</td>\n",
              "    </tr>\n",
              "  </tbody>\n",
              "</table>\n",
              "</div>"
            ]
          },
          "metadata": {},
          "execution_count": 17
        }
      ],
      "source": [
        "df"
      ]
    },
    {
      "cell_type": "code",
      "execution_count": 18,
      "metadata": {
        "id": "oBNZ0815CDGc",
        "outputId": "69f0591b-7750-4e29-9e72-4c8ff44aa843",
        "colab": {
          "base_uri": "https://localhost:8080/"
        }
      },
      "outputs": [
        {
          "output_type": "execute_result",
          "data": {
            "text/plain": [
              "2.0"
            ]
          },
          "metadata": {},
          "execution_count": 18
        }
      ],
      "source": [
        "df.loc['b','one']"
      ]
    },
    {
      "cell_type": "code",
      "execution_count": null,
      "metadata": {
        "id": "Oj0oBAPHCDGc",
        "outputId": "1d51cd93-ef25-4e10-a514-1b33ccec6389"
      },
      "outputs": [
        {
          "data": {
            "text/plain": [
              "a    1.0\n",
              "b    2.0\n",
              "Name: one, dtype: float64"
            ]
          },
          "execution_count": 43,
          "metadata": {},
          "output_type": "execute_result"
        }
      ],
      "source": [
        "df.loc['a':'b','one']"
      ]
    },
    {
      "cell_type": "code",
      "execution_count": null,
      "metadata": {
        "id": "E66Ej42ECDGc",
        "outputId": "7303e5bd-0f7b-4eb4-b439-b49d183216dd"
      },
      "outputs": [
        {
          "data": {
            "text/html": [
              "<div>\n",
              "<style scoped>\n",
              "    .dataframe tbody tr th:only-of-type {\n",
              "        vertical-align: middle;\n",
              "    }\n",
              "\n",
              "    .dataframe tbody tr th {\n",
              "        vertical-align: top;\n",
              "    }\n",
              "\n",
              "    .dataframe thead th {\n",
              "        text-align: right;\n",
              "    }\n",
              "</style>\n",
              "<table border=\"1\" class=\"dataframe\">\n",
              "  <thead>\n",
              "    <tr style=\"text-align: right;\">\n",
              "      <th></th>\n",
              "      <th>one</th>\n",
              "      <th>two</th>\n",
              "    </tr>\n",
              "  </thead>\n",
              "  <tbody>\n",
              "    <tr>\n",
              "      <th>a</th>\n",
              "      <td>1.0</td>\n",
              "      <td>1</td>\n",
              "    </tr>\n",
              "    <tr>\n",
              "      <th>b</th>\n",
              "      <td>2.0</td>\n",
              "      <td>2</td>\n",
              "    </tr>\n",
              "  </tbody>\n",
              "</table>\n",
              "</div>"
            ],
            "text/plain": [
              "   one  two\n",
              "a  1.0    1\n",
              "b  2.0    2"
            ]
          },
          "execution_count": 44,
          "metadata": {},
          "output_type": "execute_result"
        }
      ],
      "source": [
        "df.loc['a':'b',:]"
      ]
    },
    {
      "cell_type": "code",
      "execution_count": null,
      "metadata": {
        "id": "L5HOQqxtCDGc",
        "outputId": "dbf07497-0d0b-459a-f946-54f1c7564f69"
      },
      "outputs": [
        {
          "data": {
            "text/plain": [
              "a    1.0\n",
              "b    2.0\n",
              "c    3.0\n",
              "d    NaN\n",
              "Name: one, dtype: float64"
            ]
          },
          "execution_count": 45,
          "metadata": {},
          "output_type": "execute_result"
        }
      ],
      "source": [
        "df.loc[:,'one']"
      ]
    },
    {
      "cell_type": "markdown",
      "metadata": {
        "id": "BStxVg91CDGc"
      },
      "source": [
        "К таблице можно добавлять новые столбцы."
      ]
    },
    {
      "cell_type": "code",
      "execution_count": 19,
      "metadata": {
        "id": "9rZdOBMpCDGc",
        "outputId": "c72b7569-d3a6-4782-f298-f6de359310ce",
        "colab": {
          "base_uri": "https://localhost:8080/",
          "height": 175
        }
      },
      "outputs": [
        {
          "output_type": "execute_result",
          "data": {
            "text/plain": [
              "   one  two  three   flag\n",
              "a  1.0    1    1.0  False\n",
              "b  2.0    2    4.0  False\n",
              "c  3.0    3    9.0   True\n",
              "d  NaN    4    NaN   True"
            ],
            "text/html": [
              "<div>\n",
              "<style scoped>\n",
              "    .dataframe tbody tr th:only-of-type {\n",
              "        vertical-align: middle;\n",
              "    }\n",
              "\n",
              "    .dataframe tbody tr th {\n",
              "        vertical-align: top;\n",
              "    }\n",
              "\n",
              "    .dataframe thead th {\n",
              "        text-align: right;\n",
              "    }\n",
              "</style>\n",
              "<table border=\"1\" class=\"dataframe\">\n",
              "  <thead>\n",
              "    <tr style=\"text-align: right;\">\n",
              "      <th></th>\n",
              "      <th>one</th>\n",
              "      <th>two</th>\n",
              "      <th>three</th>\n",
              "      <th>flag</th>\n",
              "    </tr>\n",
              "  </thead>\n",
              "  <tbody>\n",
              "    <tr>\n",
              "      <th>a</th>\n",
              "      <td>1.0</td>\n",
              "      <td>1</td>\n",
              "      <td>1.0</td>\n",
              "      <td>False</td>\n",
              "    </tr>\n",
              "    <tr>\n",
              "      <th>b</th>\n",
              "      <td>2.0</td>\n",
              "      <td>2</td>\n",
              "      <td>4.0</td>\n",
              "      <td>False</td>\n",
              "    </tr>\n",
              "    <tr>\n",
              "      <th>c</th>\n",
              "      <td>3.0</td>\n",
              "      <td>3</td>\n",
              "      <td>9.0</td>\n",
              "      <td>True</td>\n",
              "    </tr>\n",
              "    <tr>\n",
              "      <th>d</th>\n",
              "      <td>NaN</td>\n",
              "      <td>4</td>\n",
              "      <td>NaN</td>\n",
              "      <td>True</td>\n",
              "    </tr>\n",
              "  </tbody>\n",
              "</table>\n",
              "</div>"
            ]
          },
          "metadata": {},
          "execution_count": 19
        }
      ],
      "source": [
        "df['three']=df['one']*df['two']\n",
        "df['flag']=df['two']>2\n",
        "df"
      ]
    },
    {
      "cell_type": "markdown",
      "metadata": {
        "id": "Xcuy-_B-CDGd"
      },
      "source": [
        "Также можно удалять имеющиеся."
      ]
    },
    {
      "cell_type": "code",
      "execution_count": 20,
      "metadata": {
        "id": "f2LV_HlXCDGd",
        "outputId": "9c85882d-3d5f-482b-e1d6-31b8fb3e37b0",
        "colab": {
          "base_uri": "https://localhost:8080/",
          "height": 175
        }
      },
      "outputs": [
        {
          "output_type": "execute_result",
          "data": {
            "text/plain": [
              "   one  three   flag  foo\n",
              "a  1.0    1.0  False  0.0\n",
              "b  2.0    4.0  False  0.0\n",
              "c  3.0    9.0   True  0.0\n",
              "d  NaN    NaN   True  0.0"
            ],
            "text/html": [
              "<div>\n",
              "<style scoped>\n",
              "    .dataframe tbody tr th:only-of-type {\n",
              "        vertical-align: middle;\n",
              "    }\n",
              "\n",
              "    .dataframe tbody tr th {\n",
              "        vertical-align: top;\n",
              "    }\n",
              "\n",
              "    .dataframe thead th {\n",
              "        text-align: right;\n",
              "    }\n",
              "</style>\n",
              "<table border=\"1\" class=\"dataframe\">\n",
              "  <thead>\n",
              "    <tr style=\"text-align: right;\">\n",
              "      <th></th>\n",
              "      <th>one</th>\n",
              "      <th>three</th>\n",
              "      <th>flag</th>\n",
              "      <th>foo</th>\n",
              "    </tr>\n",
              "  </thead>\n",
              "  <tbody>\n",
              "    <tr>\n",
              "      <th>a</th>\n",
              "      <td>1.0</td>\n",
              "      <td>1.0</td>\n",
              "      <td>False</td>\n",
              "      <td>0.0</td>\n",
              "    </tr>\n",
              "    <tr>\n",
              "      <th>b</th>\n",
              "      <td>2.0</td>\n",
              "      <td>4.0</td>\n",
              "      <td>False</td>\n",
              "      <td>0.0</td>\n",
              "    </tr>\n",
              "    <tr>\n",
              "      <th>c</th>\n",
              "      <td>3.0</td>\n",
              "      <td>9.0</td>\n",
              "      <td>True</td>\n",
              "      <td>0.0</td>\n",
              "    </tr>\n",
              "    <tr>\n",
              "      <th>d</th>\n",
              "      <td>NaN</td>\n",
              "      <td>NaN</td>\n",
              "      <td>True</td>\n",
              "      <td>0.0</td>\n",
              "    </tr>\n",
              "  </tbody>\n",
              "</table>\n",
              "</div>"
            ]
          },
          "metadata": {},
          "execution_count": 20
        }
      ],
      "source": [
        "del df['two']\n",
        "df['foo']=0.\n",
        "df"
      ]
    },
    {
      "cell_type": "markdown",
      "metadata": {
        "id": "5Z9QlpikCDGd"
      },
      "source": [
        "\n",
        "Добавим копию столбца `one`, в которую входят только строки до второй."
      ]
    },
    {
      "cell_type": "code",
      "execution_count": 21,
      "metadata": {
        "id": "N8Gba1frCDGd",
        "outputId": "e4e5c8b3-247c-46d2-fcde-976d0f6aa8a6",
        "colab": {
          "base_uri": "https://localhost:8080/",
          "height": 175
        }
      },
      "outputs": [
        {
          "output_type": "execute_result",
          "data": {
            "text/plain": [
              "   one  three   flag  foo  one_tr\n",
              "a  1.0    1.0  False  0.0     1.0\n",
              "b  2.0    4.0  False  0.0     2.0\n",
              "c  3.0    9.0   True  0.0     NaN\n",
              "d  NaN    NaN   True  0.0     NaN"
            ],
            "text/html": [
              "<div>\n",
              "<style scoped>\n",
              "    .dataframe tbody tr th:only-of-type {\n",
              "        vertical-align: middle;\n",
              "    }\n",
              "\n",
              "    .dataframe tbody tr th {\n",
              "        vertical-align: top;\n",
              "    }\n",
              "\n",
              "    .dataframe thead th {\n",
              "        text-align: right;\n",
              "    }\n",
              "</style>\n",
              "<table border=\"1\" class=\"dataframe\">\n",
              "  <thead>\n",
              "    <tr style=\"text-align: right;\">\n",
              "      <th></th>\n",
              "      <th>one</th>\n",
              "      <th>three</th>\n",
              "      <th>flag</th>\n",
              "      <th>foo</th>\n",
              "      <th>one_tr</th>\n",
              "    </tr>\n",
              "  </thead>\n",
              "  <tbody>\n",
              "    <tr>\n",
              "      <th>a</th>\n",
              "      <td>1.0</td>\n",
              "      <td>1.0</td>\n",
              "      <td>False</td>\n",
              "      <td>0.0</td>\n",
              "      <td>1.0</td>\n",
              "    </tr>\n",
              "    <tr>\n",
              "      <th>b</th>\n",
              "      <td>2.0</td>\n",
              "      <td>4.0</td>\n",
              "      <td>False</td>\n",
              "      <td>0.0</td>\n",
              "      <td>2.0</td>\n",
              "    </tr>\n",
              "    <tr>\n",
              "      <th>c</th>\n",
              "      <td>3.0</td>\n",
              "      <td>9.0</td>\n",
              "      <td>True</td>\n",
              "      <td>0.0</td>\n",
              "      <td>NaN</td>\n",
              "    </tr>\n",
              "    <tr>\n",
              "      <th>d</th>\n",
              "      <td>NaN</td>\n",
              "      <td>NaN</td>\n",
              "      <td>True</td>\n",
              "      <td>0.0</td>\n",
              "      <td>NaN</td>\n",
              "    </tr>\n",
              "  </tbody>\n",
              "</table>\n",
              "</div>"
            ]
          },
          "metadata": {},
          "execution_count": 21
        }
      ],
      "source": [
        "df['one_tr']=df['one'][:2]\n",
        "df"
      ]
    },
    {
      "cell_type": "code",
      "execution_count": 22,
      "metadata": {
        "id": "8wRXBWUtCDGd",
        "outputId": "0f7552f7-ca64-491e-c481-5518e3d28bf2",
        "colab": {
          "base_uri": "https://localhost:8080/",
          "height": 175
        }
      },
      "outputs": [
        {
          "output_type": "execute_result",
          "data": {
            "text/plain": [
              "   one  one_tr\n",
              "a  1.0     1.0\n",
              "b  2.0     2.0\n",
              "c  3.0     NaN\n",
              "d  NaN     NaN"
            ],
            "text/html": [
              "<div>\n",
              "<style scoped>\n",
              "    .dataframe tbody tr th:only-of-type {\n",
              "        vertical-align: middle;\n",
              "    }\n",
              "\n",
              "    .dataframe tbody tr th {\n",
              "        vertical-align: top;\n",
              "    }\n",
              "\n",
              "    .dataframe thead th {\n",
              "        text-align: right;\n",
              "    }\n",
              "</style>\n",
              "<table border=\"1\" class=\"dataframe\">\n",
              "  <thead>\n",
              "    <tr style=\"text-align: right;\">\n",
              "      <th></th>\n",
              "      <th>one</th>\n",
              "      <th>one_tr</th>\n",
              "    </tr>\n",
              "  </thead>\n",
              "  <tbody>\n",
              "    <tr>\n",
              "      <th>a</th>\n",
              "      <td>1.0</td>\n",
              "      <td>1.0</td>\n",
              "    </tr>\n",
              "    <tr>\n",
              "      <th>b</th>\n",
              "      <td>2.0</td>\n",
              "      <td>2.0</td>\n",
              "    </tr>\n",
              "    <tr>\n",
              "      <th>c</th>\n",
              "      <td>3.0</td>\n",
              "      <td>NaN</td>\n",
              "    </tr>\n",
              "    <tr>\n",
              "      <th>d</th>\n",
              "      <td>NaN</td>\n",
              "      <td>NaN</td>\n",
              "    </tr>\n",
              "  </tbody>\n",
              "</table>\n",
              "</div>"
            ]
          },
          "metadata": {},
          "execution_count": 22
        }
      ],
      "source": [
        "df=df.loc[:,['one','one_tr']]\n",
        "df"
      ]
    },
    {
      "cell_type": "markdown",
      "metadata": {
        "id": "1j2NZWLCCDGd"
      },
      "source": [
        "Можно объединять таблицы по вертикали и по горизонтали."
      ]
    },
    {
      "cell_type": "code",
      "execution_count": 23,
      "metadata": {
        "id": "QgTt2SnOCDGd",
        "outputId": "d4ed0b06-8ce2-441b-ece3-82fc7631aad2",
        "colab": {
          "base_uri": "https://localhost:8080/",
          "height": 112
        }
      },
      "outputs": [
        {
          "output_type": "execute_result",
          "data": {
            "text/plain": [
              "   one  one_tr\n",
              "e    0     2.0\n",
              "f    1     NaN"
            ],
            "text/html": [
              "<div>\n",
              "<style scoped>\n",
              "    .dataframe tbody tr th:only-of-type {\n",
              "        vertical-align: middle;\n",
              "    }\n",
              "\n",
              "    .dataframe tbody tr th {\n",
              "        vertical-align: top;\n",
              "    }\n",
              "\n",
              "    .dataframe thead th {\n",
              "        text-align: right;\n",
              "    }\n",
              "</style>\n",
              "<table border=\"1\" class=\"dataframe\">\n",
              "  <thead>\n",
              "    <tr style=\"text-align: right;\">\n",
              "      <th></th>\n",
              "      <th>one</th>\n",
              "      <th>one_tr</th>\n",
              "    </tr>\n",
              "  </thead>\n",
              "  <tbody>\n",
              "    <tr>\n",
              "      <th>e</th>\n",
              "      <td>0</td>\n",
              "      <td>2.0</td>\n",
              "    </tr>\n",
              "    <tr>\n",
              "      <th>f</th>\n",
              "      <td>1</td>\n",
              "      <td>NaN</td>\n",
              "    </tr>\n",
              "  </tbody>\n",
              "</table>\n",
              "</div>"
            ]
          },
          "metadata": {},
          "execution_count": 23
        }
      ],
      "source": [
        "df2=pd.DataFrame({'one':{'e':0,'f':1},'one_tr':{'e':2}})\n",
        "df2"
      ]
    },
    {
      "cell_type": "markdown",
      "metadata": {
        "id": "6zZ6k3LtCDGd"
      },
      "source": [
        "Объединим по столбцам."
      ]
    },
    {
      "cell_type": "code",
      "execution_count": 26,
      "metadata": {
        "id": "meMcqpikCDGe",
        "outputId": "4e6189de-dc72-4105-aed3-3455c5fc218e",
        "colab": {
          "base_uri": "https://localhost:8080/",
          "height": 237
        }
      },
      "outputs": [
        {
          "output_type": "execute_result",
          "data": {
            "text/plain": [
              "   one  one_tr\n",
              "a  1.0     1.0\n",
              "b  2.0     2.0\n",
              "c  3.0     NaN\n",
              "d  NaN     NaN\n",
              "e  0.0     2.0\n",
              "f  1.0     NaN"
            ],
            "text/html": [
              "<div>\n",
              "<style scoped>\n",
              "    .dataframe tbody tr th:only-of-type {\n",
              "        vertical-align: middle;\n",
              "    }\n",
              "\n",
              "    .dataframe tbody tr th {\n",
              "        vertical-align: top;\n",
              "    }\n",
              "\n",
              "    .dataframe thead th {\n",
              "        text-align: right;\n",
              "    }\n",
              "</style>\n",
              "<table border=\"1\" class=\"dataframe\">\n",
              "  <thead>\n",
              "    <tr style=\"text-align: right;\">\n",
              "      <th></th>\n",
              "      <th>one</th>\n",
              "      <th>one_tr</th>\n",
              "    </tr>\n",
              "  </thead>\n",
              "  <tbody>\n",
              "    <tr>\n",
              "      <th>a</th>\n",
              "      <td>1.0</td>\n",
              "      <td>1.0</td>\n",
              "    </tr>\n",
              "    <tr>\n",
              "      <th>b</th>\n",
              "      <td>2.0</td>\n",
              "      <td>2.0</td>\n",
              "    </tr>\n",
              "    <tr>\n",
              "      <th>c</th>\n",
              "      <td>3.0</td>\n",
              "      <td>NaN</td>\n",
              "    </tr>\n",
              "    <tr>\n",
              "      <th>d</th>\n",
              "      <td>NaN</td>\n",
              "      <td>NaN</td>\n",
              "    </tr>\n",
              "    <tr>\n",
              "      <th>e</th>\n",
              "      <td>0.0</td>\n",
              "      <td>2.0</td>\n",
              "    </tr>\n",
              "    <tr>\n",
              "      <th>f</th>\n",
              "      <td>1.0</td>\n",
              "      <td>NaN</td>\n",
              "    </tr>\n",
              "  </tbody>\n",
              "</table>\n",
              "</div>"
            ]
          },
          "metadata": {},
          "execution_count": 26
        }
      ],
      "source": [
        "pd.concat([df,df2], axis=0)"
      ]
    },
    {
      "cell_type": "code",
      "execution_count": 27,
      "metadata": {
        "id": "PxjJKgzSCDGe",
        "outputId": "6230c937-16fd-4103-f8ef-2d94587efe62",
        "colab": {
          "base_uri": "https://localhost:8080/",
          "height": 175
        }
      },
      "outputs": [
        {
          "output_type": "execute_result",
          "data": {
            "text/plain": [
              "   two  three\n",
              "a  0.0    NaN\n",
              "b  1.0    NaN\n",
              "c  NaN    2.0\n",
              "d  NaN    3.0"
            ],
            "text/html": [
              "<div>\n",
              "<style scoped>\n",
              "    .dataframe tbody tr th:only-of-type {\n",
              "        vertical-align: middle;\n",
              "    }\n",
              "\n",
              "    .dataframe tbody tr th {\n",
              "        vertical-align: top;\n",
              "    }\n",
              "\n",
              "    .dataframe thead th {\n",
              "        text-align: right;\n",
              "    }\n",
              "</style>\n",
              "<table border=\"1\" class=\"dataframe\">\n",
              "  <thead>\n",
              "    <tr style=\"text-align: right;\">\n",
              "      <th></th>\n",
              "      <th>two</th>\n",
              "      <th>three</th>\n",
              "    </tr>\n",
              "  </thead>\n",
              "  <tbody>\n",
              "    <tr>\n",
              "      <th>a</th>\n",
              "      <td>0.0</td>\n",
              "      <td>NaN</td>\n",
              "    </tr>\n",
              "    <tr>\n",
              "      <th>b</th>\n",
              "      <td>1.0</td>\n",
              "      <td>NaN</td>\n",
              "    </tr>\n",
              "    <tr>\n",
              "      <th>c</th>\n",
              "      <td>NaN</td>\n",
              "      <td>2.0</td>\n",
              "    </tr>\n",
              "    <tr>\n",
              "      <th>d</th>\n",
              "      <td>NaN</td>\n",
              "      <td>3.0</td>\n",
              "    </tr>\n",
              "  </tbody>\n",
              "</table>\n",
              "</div>"
            ]
          },
          "metadata": {},
          "execution_count": 27
        }
      ],
      "source": [
        "df2=pd.DataFrame({'two':{'a':0,'b':1},'three':{'c':2,'d':3}})\n",
        "df2"
      ]
    },
    {
      "cell_type": "markdown",
      "metadata": {
        "id": "N9x-cY9MCDGe"
      },
      "source": [
        "Объединим по строкам."
      ]
    },
    {
      "cell_type": "code",
      "execution_count": 28,
      "metadata": {
        "id": "WnfFZeH-CDGe",
        "outputId": "84754b09-22bf-42bb-bfcb-f288987873aa",
        "colab": {
          "base_uri": "https://localhost:8080/",
          "height": 175
        }
      },
      "outputs": [
        {
          "output_type": "execute_result",
          "data": {
            "text/plain": [
              "   one  one_tr  two  three\n",
              "a  1.0     1.0  0.0    NaN\n",
              "b  2.0     2.0  1.0    NaN\n",
              "c  3.0     NaN  NaN    2.0\n",
              "d  NaN     NaN  NaN    3.0"
            ],
            "text/html": [
              "<div>\n",
              "<style scoped>\n",
              "    .dataframe tbody tr th:only-of-type {\n",
              "        vertical-align: middle;\n",
              "    }\n",
              "\n",
              "    .dataframe tbody tr th {\n",
              "        vertical-align: top;\n",
              "    }\n",
              "\n",
              "    .dataframe thead th {\n",
              "        text-align: right;\n",
              "    }\n",
              "</style>\n",
              "<table border=\"1\" class=\"dataframe\">\n",
              "  <thead>\n",
              "    <tr style=\"text-align: right;\">\n",
              "      <th></th>\n",
              "      <th>one</th>\n",
              "      <th>one_tr</th>\n",
              "      <th>two</th>\n",
              "      <th>three</th>\n",
              "    </tr>\n",
              "  </thead>\n",
              "  <tbody>\n",
              "    <tr>\n",
              "      <th>a</th>\n",
              "      <td>1.0</td>\n",
              "      <td>1.0</td>\n",
              "      <td>0.0</td>\n",
              "      <td>NaN</td>\n",
              "    </tr>\n",
              "    <tr>\n",
              "      <th>b</th>\n",
              "      <td>2.0</td>\n",
              "      <td>2.0</td>\n",
              "      <td>1.0</td>\n",
              "      <td>NaN</td>\n",
              "    </tr>\n",
              "    <tr>\n",
              "      <th>c</th>\n",
              "      <td>3.0</td>\n",
              "      <td>NaN</td>\n",
              "      <td>NaN</td>\n",
              "      <td>2.0</td>\n",
              "    </tr>\n",
              "    <tr>\n",
              "      <th>d</th>\n",
              "      <td>NaN</td>\n",
              "      <td>NaN</td>\n",
              "      <td>NaN</td>\n",
              "      <td>3.0</td>\n",
              "    </tr>\n",
              "  </tbody>\n",
              "</table>\n",
              "</div>"
            ]
          },
          "metadata": {},
          "execution_count": 28
        }
      ],
      "source": [
        "pd.concat([df,df2],axis=1)"
      ]
    },
    {
      "cell_type": "markdown",
      "metadata": {
        "id": "nMAei-SECDGe"
      },
      "source": [
        "\n",
        "Создадим таблицу из массива случайных чисел."
      ]
    },
    {
      "cell_type": "code",
      "source": [
        "import numpy as np"
      ],
      "metadata": {
        "id": "XxkwePvBOkTz"
      },
      "execution_count": 30,
      "outputs": []
    },
    {
      "cell_type": "code",
      "execution_count": 31,
      "metadata": {
        "id": "9Xze2Cn1CDGe",
        "outputId": "c544b3af-c42e-48c9-b9c8-60993855c95a",
        "colab": {
          "base_uri": "https://localhost:8080/",
          "height": 363
        }
      },
      "outputs": [
        {
          "output_type": "execute_result",
          "data": {
            "text/plain": [
              "          A         B         C         D\n",
              "0  0.842444 -0.086966  1.066125 -0.299693\n",
              "1  0.460979 -0.277370  0.040219 -0.909770\n",
              "2  0.135036  0.040051  0.187720 -0.068649\n",
              "3  0.611454  0.343661 -0.338658  0.555691\n",
              "4  0.045086  0.619425 -0.110672 -0.417633\n",
              "5  0.624329  0.276175  0.099501 -1.106303\n",
              "6 -0.665160 -0.022252  0.002672  0.611955\n",
              "7 -0.746039  1.990270 -2.144486  1.289535\n",
              "8 -0.197916 -0.637868 -0.512758 -0.484202\n",
              "9  0.499930  1.213653 -0.086969 -0.313271"
            ],
            "text/html": [
              "<div>\n",
              "<style scoped>\n",
              "    .dataframe tbody tr th:only-of-type {\n",
              "        vertical-align: middle;\n",
              "    }\n",
              "\n",
              "    .dataframe tbody tr th {\n",
              "        vertical-align: top;\n",
              "    }\n",
              "\n",
              "    .dataframe thead th {\n",
              "        text-align: right;\n",
              "    }\n",
              "</style>\n",
              "<table border=\"1\" class=\"dataframe\">\n",
              "  <thead>\n",
              "    <tr style=\"text-align: right;\">\n",
              "      <th></th>\n",
              "      <th>A</th>\n",
              "      <th>B</th>\n",
              "      <th>C</th>\n",
              "      <th>D</th>\n",
              "    </tr>\n",
              "  </thead>\n",
              "  <tbody>\n",
              "    <tr>\n",
              "      <th>0</th>\n",
              "      <td>0.842444</td>\n",
              "      <td>-0.086966</td>\n",
              "      <td>1.066125</td>\n",
              "      <td>-0.299693</td>\n",
              "    </tr>\n",
              "    <tr>\n",
              "      <th>1</th>\n",
              "      <td>0.460979</td>\n",
              "      <td>-0.277370</td>\n",
              "      <td>0.040219</td>\n",
              "      <td>-0.909770</td>\n",
              "    </tr>\n",
              "    <tr>\n",
              "      <th>2</th>\n",
              "      <td>0.135036</td>\n",
              "      <td>0.040051</td>\n",
              "      <td>0.187720</td>\n",
              "      <td>-0.068649</td>\n",
              "    </tr>\n",
              "    <tr>\n",
              "      <th>3</th>\n",
              "      <td>0.611454</td>\n",
              "      <td>0.343661</td>\n",
              "      <td>-0.338658</td>\n",
              "      <td>0.555691</td>\n",
              "    </tr>\n",
              "    <tr>\n",
              "      <th>4</th>\n",
              "      <td>0.045086</td>\n",
              "      <td>0.619425</td>\n",
              "      <td>-0.110672</td>\n",
              "      <td>-0.417633</td>\n",
              "    </tr>\n",
              "    <tr>\n",
              "      <th>5</th>\n",
              "      <td>0.624329</td>\n",
              "      <td>0.276175</td>\n",
              "      <td>0.099501</td>\n",
              "      <td>-1.106303</td>\n",
              "    </tr>\n",
              "    <tr>\n",
              "      <th>6</th>\n",
              "      <td>-0.665160</td>\n",
              "      <td>-0.022252</td>\n",
              "      <td>0.002672</td>\n",
              "      <td>0.611955</td>\n",
              "    </tr>\n",
              "    <tr>\n",
              "      <th>7</th>\n",
              "      <td>-0.746039</td>\n",
              "      <td>1.990270</td>\n",
              "      <td>-2.144486</td>\n",
              "      <td>1.289535</td>\n",
              "    </tr>\n",
              "    <tr>\n",
              "      <th>8</th>\n",
              "      <td>-0.197916</td>\n",
              "      <td>-0.637868</td>\n",
              "      <td>-0.512758</td>\n",
              "      <td>-0.484202</td>\n",
              "    </tr>\n",
              "    <tr>\n",
              "      <th>9</th>\n",
              "      <td>0.499930</td>\n",
              "      <td>1.213653</td>\n",
              "      <td>-0.086969</td>\n",
              "      <td>-0.313271</td>\n",
              "    </tr>\n",
              "  </tbody>\n",
              "</table>\n",
              "</div>"
            ]
          },
          "metadata": {},
          "execution_count": 31
        }
      ],
      "source": [
        "df=pd.DataFrame(np.random.randn(10,4),\n",
        "                columns=['A','B','C','D'])\n",
        "df"
      ]
    },
    {
      "cell_type": "code",
      "execution_count": null,
      "metadata": {
        "id": "_HXwli0mCDGe",
        "outputId": "4a8e46e7-a5f2-4536-b67a-37ecaef5bab0"
      },
      "outputs": [
        {
          "data": {
            "text/html": [
              "<div>\n",
              "<style scoped>\n",
              "    .dataframe tbody tr th:only-of-type {\n",
              "        vertical-align: middle;\n",
              "    }\n",
              "\n",
              "    .dataframe tbody tr th {\n",
              "        vertical-align: top;\n",
              "    }\n",
              "\n",
              "    .dataframe thead th {\n",
              "        text-align: right;\n",
              "    }\n",
              "</style>\n",
              "<table border=\"1\" class=\"dataframe\">\n",
              "  <thead>\n",
              "    <tr style=\"text-align: right;\">\n",
              "      <th></th>\n",
              "      <th>A</th>\n",
              "      <th>B</th>\n",
              "      <th>C</th>\n",
              "      <th>D</th>\n",
              "    </tr>\n",
              "  </thead>\n",
              "  <tbody>\n",
              "    <tr>\n",
              "      <th>0</th>\n",
              "      <td>0.652268</td>\n",
              "      <td>-1.933097</td>\n",
              "      <td>2.244354</td>\n",
              "      <td>NaN</td>\n",
              "    </tr>\n",
              "    <tr>\n",
              "      <th>1</th>\n",
              "      <td>2.251482</td>\n",
              "      <td>-2.156475</td>\n",
              "      <td>-0.935031</td>\n",
              "      <td>NaN</td>\n",
              "    </tr>\n",
              "    <tr>\n",
              "      <th>2</th>\n",
              "      <td>-0.847216</td>\n",
              "      <td>0.459933</td>\n",
              "      <td>1.452732</td>\n",
              "      <td>NaN</td>\n",
              "    </tr>\n",
              "    <tr>\n",
              "      <th>3</th>\n",
              "      <td>-1.872395</td>\n",
              "      <td>0.870940</td>\n",
              "      <td>-0.267882</td>\n",
              "      <td>NaN</td>\n",
              "    </tr>\n",
              "    <tr>\n",
              "      <th>4</th>\n",
              "      <td>-0.551765</td>\n",
              "      <td>2.339055</td>\n",
              "      <td>-1.174038</td>\n",
              "      <td>NaN</td>\n",
              "    </tr>\n",
              "    <tr>\n",
              "      <th>5</th>\n",
              "      <td>-1.306939</td>\n",
              "      <td>-1.528331</td>\n",
              "      <td>-1.062586</td>\n",
              "      <td>NaN</td>\n",
              "    </tr>\n",
              "    <tr>\n",
              "      <th>6</th>\n",
              "      <td>0.439756</td>\n",
              "      <td>0.379817</td>\n",
              "      <td>1.222286</td>\n",
              "      <td>NaN</td>\n",
              "    </tr>\n",
              "    <tr>\n",
              "      <th>7</th>\n",
              "      <td>NaN</td>\n",
              "      <td>NaN</td>\n",
              "      <td>NaN</td>\n",
              "      <td>NaN</td>\n",
              "    </tr>\n",
              "    <tr>\n",
              "      <th>8</th>\n",
              "      <td>NaN</td>\n",
              "      <td>NaN</td>\n",
              "      <td>NaN</td>\n",
              "      <td>NaN</td>\n",
              "    </tr>\n",
              "    <tr>\n",
              "      <th>9</th>\n",
              "      <td>NaN</td>\n",
              "      <td>NaN</td>\n",
              "      <td>NaN</td>\n",
              "      <td>NaN</td>\n",
              "    </tr>\n",
              "  </tbody>\n",
              "</table>\n",
              "</div>"
            ],
            "text/plain": [
              "          A         B         C   D\n",
              "0  0.652268 -1.933097  2.244354 NaN\n",
              "1  2.251482 -2.156475 -0.935031 NaN\n",
              "2 -0.847216  0.459933  1.452732 NaN\n",
              "3 -1.872395  0.870940 -0.267882 NaN\n",
              "4 -0.551765  2.339055 -1.174038 NaN\n",
              "5 -1.306939 -1.528331 -1.062586 NaN\n",
              "6  0.439756  0.379817  1.222286 NaN\n",
              "7       NaN       NaN       NaN NaN\n",
              "8       NaN       NaN       NaN NaN\n",
              "9       NaN       NaN       NaN NaN"
            ]
          },
          "execution_count": 55,
          "metadata": {},
          "output_type": "execute_result"
        }
      ],
      "source": [
        "df2=pd.DataFrame(np.random.randn(7,3),columns=['A','B','C'])\n",
        "df+df2"
      ]
    },
    {
      "cell_type": "markdown",
      "metadata": {
        "id": "slfpn3pmCDGe"
      },
      "source": [
        "Прошу заметить, что объекты **не изменяются пока мы их не перезапишем в явном виде**, например: `df = df+df2`"
      ]
    },
    {
      "cell_type": "code",
      "execution_count": 40,
      "metadata": {
        "id": "cqV4js50CDGe"
      },
      "outputs": [],
      "source": [
        "df.drop('A', axis=1, inplace=True)"
      ]
    },
    {
      "cell_type": "code",
      "source": [
        "df = df.drop('C', axis=1)"
      ],
      "metadata": {
        "id": "1Sv9m2BIPIZy"
      },
      "execution_count": 42,
      "outputs": []
    },
    {
      "cell_type": "code",
      "source": [
        "df"
      ],
      "metadata": {
        "id": "l4lR4kNGPQf2",
        "outputId": "93fce3fc-9aa4-4162-c401-52501dbfd345",
        "colab": {
          "base_uri": "https://localhost:8080/",
          "height": 363
        }
      },
      "execution_count": 43,
      "outputs": [
        {
          "output_type": "execute_result",
          "data": {
            "text/plain": [
              "          B         D\n",
              "0 -0.086966 -0.299693\n",
              "1 -0.277370 -0.909770\n",
              "2  0.040051 -0.068649\n",
              "3  0.343661  0.555691\n",
              "4  0.619425 -0.417633\n",
              "5  0.276175 -1.106303\n",
              "6 -0.022252  0.611955\n",
              "7  1.990270  1.289535\n",
              "8 -0.637868 -0.484202\n",
              "9  1.213653 -0.313271"
            ],
            "text/html": [
              "<div>\n",
              "<style scoped>\n",
              "    .dataframe tbody tr th:only-of-type {\n",
              "        vertical-align: middle;\n",
              "    }\n",
              "\n",
              "    .dataframe tbody tr th {\n",
              "        vertical-align: top;\n",
              "    }\n",
              "\n",
              "    .dataframe thead th {\n",
              "        text-align: right;\n",
              "    }\n",
              "</style>\n",
              "<table border=\"1\" class=\"dataframe\">\n",
              "  <thead>\n",
              "    <tr style=\"text-align: right;\">\n",
              "      <th></th>\n",
              "      <th>B</th>\n",
              "      <th>D</th>\n",
              "    </tr>\n",
              "  </thead>\n",
              "  <tbody>\n",
              "    <tr>\n",
              "      <th>0</th>\n",
              "      <td>-0.086966</td>\n",
              "      <td>-0.299693</td>\n",
              "    </tr>\n",
              "    <tr>\n",
              "      <th>1</th>\n",
              "      <td>-0.277370</td>\n",
              "      <td>-0.909770</td>\n",
              "    </tr>\n",
              "    <tr>\n",
              "      <th>2</th>\n",
              "      <td>0.040051</td>\n",
              "      <td>-0.068649</td>\n",
              "    </tr>\n",
              "    <tr>\n",
              "      <th>3</th>\n",
              "      <td>0.343661</td>\n",
              "      <td>0.555691</td>\n",
              "    </tr>\n",
              "    <tr>\n",
              "      <th>4</th>\n",
              "      <td>0.619425</td>\n",
              "      <td>-0.417633</td>\n",
              "    </tr>\n",
              "    <tr>\n",
              "      <th>5</th>\n",
              "      <td>0.276175</td>\n",
              "      <td>-1.106303</td>\n",
              "    </tr>\n",
              "    <tr>\n",
              "      <th>6</th>\n",
              "      <td>-0.022252</td>\n",
              "      <td>0.611955</td>\n",
              "    </tr>\n",
              "    <tr>\n",
              "      <th>7</th>\n",
              "      <td>1.990270</td>\n",
              "      <td>1.289535</td>\n",
              "    </tr>\n",
              "    <tr>\n",
              "      <th>8</th>\n",
              "      <td>-0.637868</td>\n",
              "      <td>-0.484202</td>\n",
              "    </tr>\n",
              "    <tr>\n",
              "      <th>9</th>\n",
              "      <td>1.213653</td>\n",
              "      <td>-0.313271</td>\n",
              "    </tr>\n",
              "  </tbody>\n",
              "</table>\n",
              "</div>"
            ]
          },
          "metadata": {},
          "execution_count": 43
        }
      ]
    },
    {
      "cell_type": "code",
      "source": [
        "[1, 2, 3] * 2"
      ],
      "metadata": {
        "id": "28Pn1cTJPbnO",
        "outputId": "5a3473e3-49d7-4619-eca2-22a94a5aa627",
        "colab": {
          "base_uri": "https://localhost:8080/"
        }
      },
      "execution_count": 45,
      "outputs": [
        {
          "output_type": "execute_result",
          "data": {
            "text/plain": [
              "[1, 2, 3, 1, 2, 3]"
            ]
          },
          "metadata": {},
          "execution_count": 45
        }
      ]
    },
    {
      "cell_type": "code",
      "execution_count": 44,
      "metadata": {
        "id": "weQe7cn0CDGf",
        "outputId": "11cecfa9-acea-4537-e529-b67e58c5ddf7",
        "colab": {
          "base_uri": "https://localhost:8080/",
          "height": 363
        }
      },
      "outputs": [
        {
          "output_type": "execute_result",
          "data": {
            "text/plain": [
              "          B         D\n",
              "0  2.826067  2.400613\n",
              "1  2.445261  1.180460\n",
              "2  3.080101  2.862702\n",
              "3  3.687322  4.111382\n",
              "4  4.238851  2.164733\n",
              "5  3.552351  0.787393\n",
              "6  2.955496  4.223911\n",
              "7  6.980541  5.579070\n",
              "8  1.724263  2.031595\n",
              "9  5.427306  2.373458"
            ],
            "text/html": [
              "<div>\n",
              "<style scoped>\n",
              "    .dataframe tbody tr th:only-of-type {\n",
              "        vertical-align: middle;\n",
              "    }\n",
              "\n",
              "    .dataframe tbody tr th {\n",
              "        vertical-align: top;\n",
              "    }\n",
              "\n",
              "    .dataframe thead th {\n",
              "        text-align: right;\n",
              "    }\n",
              "</style>\n",
              "<table border=\"1\" class=\"dataframe\">\n",
              "  <thead>\n",
              "    <tr style=\"text-align: right;\">\n",
              "      <th></th>\n",
              "      <th>B</th>\n",
              "      <th>D</th>\n",
              "    </tr>\n",
              "  </thead>\n",
              "  <tbody>\n",
              "    <tr>\n",
              "      <th>0</th>\n",
              "      <td>2.826067</td>\n",
              "      <td>2.400613</td>\n",
              "    </tr>\n",
              "    <tr>\n",
              "      <th>1</th>\n",
              "      <td>2.445261</td>\n",
              "      <td>1.180460</td>\n",
              "    </tr>\n",
              "    <tr>\n",
              "      <th>2</th>\n",
              "      <td>3.080101</td>\n",
              "      <td>2.862702</td>\n",
              "    </tr>\n",
              "    <tr>\n",
              "      <th>3</th>\n",
              "      <td>3.687322</td>\n",
              "      <td>4.111382</td>\n",
              "    </tr>\n",
              "    <tr>\n",
              "      <th>4</th>\n",
              "      <td>4.238851</td>\n",
              "      <td>2.164733</td>\n",
              "    </tr>\n",
              "    <tr>\n",
              "      <th>5</th>\n",
              "      <td>3.552351</td>\n",
              "      <td>0.787393</td>\n",
              "    </tr>\n",
              "    <tr>\n",
              "      <th>6</th>\n",
              "      <td>2.955496</td>\n",
              "      <td>4.223911</td>\n",
              "    </tr>\n",
              "    <tr>\n",
              "      <th>7</th>\n",
              "      <td>6.980541</td>\n",
              "      <td>5.579070</td>\n",
              "    </tr>\n",
              "    <tr>\n",
              "      <th>8</th>\n",
              "      <td>1.724263</td>\n",
              "      <td>2.031595</td>\n",
              "    </tr>\n",
              "    <tr>\n",
              "      <th>9</th>\n",
              "      <td>5.427306</td>\n",
              "      <td>2.373458</td>\n",
              "    </tr>\n",
              "  </tbody>\n",
              "</table>\n",
              "</div>"
            ]
          },
          "metadata": {},
          "execution_count": 44
        }
      ],
      "source": [
        "2*df+3"
      ]
    },
    {
      "cell_type": "code",
      "execution_count": 46,
      "metadata": {
        "id": "i2K5rSaNCDGf",
        "outputId": "fd4fe638-0462-4206-daa6-b050438282bc",
        "colab": {
          "base_uri": "https://localhost:8080/",
          "height": 300
        }
      },
      "outputs": [
        {
          "output_type": "execute_result",
          "data": {
            "text/plain": [
              "               B          D\n",
              "count  10.000000  10.000000\n",
              "mean    0.345878  -0.114234\n",
              "std     0.768068   0.735513\n",
              "min    -0.637868  -1.106303\n",
              "25%    -0.070788  -0.467560\n",
              "50%     0.158113  -0.306482\n",
              "75%     0.550484   0.399606\n",
              "max     1.990270   1.289535"
            ],
            "text/html": [
              "<div>\n",
              "<style scoped>\n",
              "    .dataframe tbody tr th:only-of-type {\n",
              "        vertical-align: middle;\n",
              "    }\n",
              "\n",
              "    .dataframe tbody tr th {\n",
              "        vertical-align: top;\n",
              "    }\n",
              "\n",
              "    .dataframe thead th {\n",
              "        text-align: right;\n",
              "    }\n",
              "</style>\n",
              "<table border=\"1\" class=\"dataframe\">\n",
              "  <thead>\n",
              "    <tr style=\"text-align: right;\">\n",
              "      <th></th>\n",
              "      <th>B</th>\n",
              "      <th>D</th>\n",
              "    </tr>\n",
              "  </thead>\n",
              "  <tbody>\n",
              "    <tr>\n",
              "      <th>count</th>\n",
              "      <td>10.000000</td>\n",
              "      <td>10.000000</td>\n",
              "    </tr>\n",
              "    <tr>\n",
              "      <th>mean</th>\n",
              "      <td>0.345878</td>\n",
              "      <td>-0.114234</td>\n",
              "    </tr>\n",
              "    <tr>\n",
              "      <th>std</th>\n",
              "      <td>0.768068</td>\n",
              "      <td>0.735513</td>\n",
              "    </tr>\n",
              "    <tr>\n",
              "      <th>min</th>\n",
              "      <td>-0.637868</td>\n",
              "      <td>-1.106303</td>\n",
              "    </tr>\n",
              "    <tr>\n",
              "      <th>25%</th>\n",
              "      <td>-0.070788</td>\n",
              "      <td>-0.467560</td>\n",
              "    </tr>\n",
              "    <tr>\n",
              "      <th>50%</th>\n",
              "      <td>0.158113</td>\n",
              "      <td>-0.306482</td>\n",
              "    </tr>\n",
              "    <tr>\n",
              "      <th>75%</th>\n",
              "      <td>0.550484</td>\n",
              "      <td>0.399606</td>\n",
              "    </tr>\n",
              "    <tr>\n",
              "      <th>max</th>\n",
              "      <td>1.990270</td>\n",
              "      <td>1.289535</td>\n",
              "    </tr>\n",
              "  </tbody>\n",
              "</table>\n",
              "</div>"
            ]
          },
          "metadata": {},
          "execution_count": 46
        }
      ],
      "source": [
        "df.describe()"
      ]
    },
    {
      "cell_type": "markdown",
      "metadata": {
        "id": "khIxerxdCDGf"
      },
      "source": [
        "Можем отсортировать по значениям в колонке."
      ]
    },
    {
      "cell_type": "code",
      "execution_count": 48,
      "metadata": {
        "id": "3slGi369CDGf",
        "outputId": "f742ad67-534a-4847-afe9-5bf3ed99b58b",
        "colab": {
          "base_uri": "https://localhost:8080/",
          "height": 363
        }
      },
      "outputs": [
        {
          "output_type": "execute_result",
          "data": {
            "text/plain": [
              "          B         D\n",
              "8 -0.637868 -0.484202\n",
              "1 -0.277370 -0.909770\n",
              "0 -0.086966 -0.299693\n",
              "6 -0.022252  0.611955\n",
              "2  0.040051 -0.068649\n",
              "5  0.276175 -1.106303\n",
              "3  0.343661  0.555691\n",
              "4  0.619425 -0.417633\n",
              "9  1.213653 -0.313271\n",
              "7  1.990270  1.289535"
            ],
            "text/html": [
              "<div>\n",
              "<style scoped>\n",
              "    .dataframe tbody tr th:only-of-type {\n",
              "        vertical-align: middle;\n",
              "    }\n",
              "\n",
              "    .dataframe tbody tr th {\n",
              "        vertical-align: top;\n",
              "    }\n",
              "\n",
              "    .dataframe thead th {\n",
              "        text-align: right;\n",
              "    }\n",
              "</style>\n",
              "<table border=\"1\" class=\"dataframe\">\n",
              "  <thead>\n",
              "    <tr style=\"text-align: right;\">\n",
              "      <th></th>\n",
              "      <th>B</th>\n",
              "      <th>D</th>\n",
              "    </tr>\n",
              "  </thead>\n",
              "  <tbody>\n",
              "    <tr>\n",
              "      <th>8</th>\n",
              "      <td>-0.637868</td>\n",
              "      <td>-0.484202</td>\n",
              "    </tr>\n",
              "    <tr>\n",
              "      <th>1</th>\n",
              "      <td>-0.277370</td>\n",
              "      <td>-0.909770</td>\n",
              "    </tr>\n",
              "    <tr>\n",
              "      <th>0</th>\n",
              "      <td>-0.086966</td>\n",
              "      <td>-0.299693</td>\n",
              "    </tr>\n",
              "    <tr>\n",
              "      <th>6</th>\n",
              "      <td>-0.022252</td>\n",
              "      <td>0.611955</td>\n",
              "    </tr>\n",
              "    <tr>\n",
              "      <th>2</th>\n",
              "      <td>0.040051</td>\n",
              "      <td>-0.068649</td>\n",
              "    </tr>\n",
              "    <tr>\n",
              "      <th>5</th>\n",
              "      <td>0.276175</td>\n",
              "      <td>-1.106303</td>\n",
              "    </tr>\n",
              "    <tr>\n",
              "      <th>3</th>\n",
              "      <td>0.343661</td>\n",
              "      <td>0.555691</td>\n",
              "    </tr>\n",
              "    <tr>\n",
              "      <th>4</th>\n",
              "      <td>0.619425</td>\n",
              "      <td>-0.417633</td>\n",
              "    </tr>\n",
              "    <tr>\n",
              "      <th>9</th>\n",
              "      <td>1.213653</td>\n",
              "      <td>-0.313271</td>\n",
              "    </tr>\n",
              "    <tr>\n",
              "      <th>7</th>\n",
              "      <td>1.990270</td>\n",
              "      <td>1.289535</td>\n",
              "    </tr>\n",
              "  </tbody>\n",
              "</table>\n",
              "</div>"
            ]
          },
          "metadata": {},
          "execution_count": 48
        }
      ],
      "source": [
        "df.sort_values(by='B')"
      ]
    },
    {
      "cell_type": "markdown",
      "metadata": {
        "id": "EoXj8aHaCDGf"
      },
      "source": [
        "Атрибут iloc подобен loc: первый индекс - индекс строки, второй - индекс столбца. Это целые числа, конец диапазона на включается (как обычно в питоне)."
      ]
    },
    {
      "cell_type": "code",
      "execution_count": 49,
      "metadata": {
        "id": "_rEFJPd1CDGf",
        "outputId": "09dc29a1-ef4e-4c0c-98eb-771602491cfe",
        "colab": {
          "base_uri": "https://localhost:8080/"
        }
      },
      "outputs": [
        {
          "output_type": "execute_result",
          "data": {
            "text/plain": [
              "B    0.040051\n",
              "D   -0.068649\n",
              "Name: 2, dtype: float64"
            ]
          },
          "metadata": {},
          "execution_count": 49
        }
      ],
      "source": [
        "df.iloc[2]"
      ]
    },
    {
      "cell_type": "code",
      "execution_count": 50,
      "metadata": {
        "id": "rLKoZIgcCDGf",
        "outputId": "c47c7104-8b64-4114-e4ed-375574a35042",
        "colab": {
          "base_uri": "https://localhost:8080/",
          "height": 112
        }
      },
      "outputs": [
        {
          "output_type": "execute_result",
          "data": {
            "text/plain": [
              "          B         D\n",
              "1 -0.277370 -0.909770\n",
              "2  0.040051 -0.068649"
            ],
            "text/html": [
              "<div>\n",
              "<style scoped>\n",
              "    .dataframe tbody tr th:only-of-type {\n",
              "        vertical-align: middle;\n",
              "    }\n",
              "\n",
              "    .dataframe tbody tr th {\n",
              "        vertical-align: top;\n",
              "    }\n",
              "\n",
              "    .dataframe thead th {\n",
              "        text-align: right;\n",
              "    }\n",
              "</style>\n",
              "<table border=\"1\" class=\"dataframe\">\n",
              "  <thead>\n",
              "    <tr style=\"text-align: right;\">\n",
              "      <th></th>\n",
              "      <th>B</th>\n",
              "      <th>D</th>\n",
              "    </tr>\n",
              "  </thead>\n",
              "  <tbody>\n",
              "    <tr>\n",
              "      <th>1</th>\n",
              "      <td>-0.277370</td>\n",
              "      <td>-0.909770</td>\n",
              "    </tr>\n",
              "    <tr>\n",
              "      <th>2</th>\n",
              "      <td>0.040051</td>\n",
              "      <td>-0.068649</td>\n",
              "    </tr>\n",
              "  </tbody>\n",
              "</table>\n",
              "</div>"
            ]
          },
          "metadata": {},
          "execution_count": 50
        }
      ],
      "source": [
        "df.iloc[1:3, 0:2]"
      ]
    },
    {
      "cell_type": "code",
      "execution_count": 51,
      "metadata": {
        "id": "NwLotNCuCDGf",
        "outputId": "9295e797-0a12-4671-ed65-eed5f4bfda7f",
        "colab": {
          "base_uri": "https://localhost:8080/",
          "height": 112
        }
      },
      "outputs": [
        {
          "output_type": "execute_result",
          "data": {
            "text/plain": [
              "          B         D\n",
              "1 -0.277370 -0.909770\n",
              "2  0.040051 -0.068649"
            ],
            "text/html": [
              "<div>\n",
              "<style scoped>\n",
              "    .dataframe tbody tr th:only-of-type {\n",
              "        vertical-align: middle;\n",
              "    }\n",
              "\n",
              "    .dataframe tbody tr th {\n",
              "        vertical-align: top;\n",
              "    }\n",
              "\n",
              "    .dataframe thead th {\n",
              "        text-align: right;\n",
              "    }\n",
              "</style>\n",
              "<table border=\"1\" class=\"dataframe\">\n",
              "  <thead>\n",
              "    <tr style=\"text-align: right;\">\n",
              "      <th></th>\n",
              "      <th>B</th>\n",
              "      <th>D</th>\n",
              "    </tr>\n",
              "  </thead>\n",
              "  <tbody>\n",
              "    <tr>\n",
              "      <th>1</th>\n",
              "      <td>-0.277370</td>\n",
              "      <td>-0.909770</td>\n",
              "    </tr>\n",
              "    <tr>\n",
              "      <th>2</th>\n",
              "      <td>0.040051</td>\n",
              "      <td>-0.068649</td>\n",
              "    </tr>\n",
              "  </tbody>\n",
              "</table>\n",
              "</div>"
            ]
          },
          "metadata": {},
          "execution_count": 51
        }
      ],
      "source": [
        "df.iloc[1:3,0:2]"
      ]
    },
    {
      "cell_type": "markdown",
      "metadata": {
        "id": "5cXauXEaCDGf"
      },
      "source": [
        "Посчитаем кумулятивные суммы."
      ]
    },
    {
      "cell_type": "code",
      "execution_count": 52,
      "metadata": {
        "id": "NtxtjdNPCDGg",
        "outputId": "f4ccbd73-3540-40b9-cd2d-7bc689c453c6",
        "colab": {
          "base_uri": "https://localhost:8080/",
          "height": 363
        }
      },
      "outputs": [
        {
          "output_type": "execute_result",
          "data": {
            "text/plain": [
              "          B         D\n",
              "0 -0.086966 -0.299693\n",
              "1 -0.364336 -1.209463\n",
              "2 -0.324285 -1.278112\n",
              "3  0.019376 -0.722421\n",
              "4  0.638801 -1.140055\n",
              "5  0.914976 -2.246358\n",
              "6  0.892724 -1.634403\n",
              "7  2.882995 -0.344868\n",
              "8  2.245126 -0.829070\n",
              "9  3.458779 -1.142341"
            ],
            "text/html": [
              "<div>\n",
              "<style scoped>\n",
              "    .dataframe tbody tr th:only-of-type {\n",
              "        vertical-align: middle;\n",
              "    }\n",
              "\n",
              "    .dataframe tbody tr th {\n",
              "        vertical-align: top;\n",
              "    }\n",
              "\n",
              "    .dataframe thead th {\n",
              "        text-align: right;\n",
              "    }\n",
              "</style>\n",
              "<table border=\"1\" class=\"dataframe\">\n",
              "  <thead>\n",
              "    <tr style=\"text-align: right;\">\n",
              "      <th></th>\n",
              "      <th>B</th>\n",
              "      <th>D</th>\n",
              "    </tr>\n",
              "  </thead>\n",
              "  <tbody>\n",
              "    <tr>\n",
              "      <th>0</th>\n",
              "      <td>-0.086966</td>\n",
              "      <td>-0.299693</td>\n",
              "    </tr>\n",
              "    <tr>\n",
              "      <th>1</th>\n",
              "      <td>-0.364336</td>\n",
              "      <td>-1.209463</td>\n",
              "    </tr>\n",
              "    <tr>\n",
              "      <th>2</th>\n",
              "      <td>-0.324285</td>\n",
              "      <td>-1.278112</td>\n",
              "    </tr>\n",
              "    <tr>\n",
              "      <th>3</th>\n",
              "      <td>0.019376</td>\n",
              "      <td>-0.722421</td>\n",
              "    </tr>\n",
              "    <tr>\n",
              "      <th>4</th>\n",
              "      <td>0.638801</td>\n",
              "      <td>-1.140055</td>\n",
              "    </tr>\n",
              "    <tr>\n",
              "      <th>5</th>\n",
              "      <td>0.914976</td>\n",
              "      <td>-2.246358</td>\n",
              "    </tr>\n",
              "    <tr>\n",
              "      <th>6</th>\n",
              "      <td>0.892724</td>\n",
              "      <td>-1.634403</td>\n",
              "    </tr>\n",
              "    <tr>\n",
              "      <th>7</th>\n",
              "      <td>2.882995</td>\n",
              "      <td>-0.344868</td>\n",
              "    </tr>\n",
              "    <tr>\n",
              "      <th>8</th>\n",
              "      <td>2.245126</td>\n",
              "      <td>-0.829070</td>\n",
              "    </tr>\n",
              "    <tr>\n",
              "      <th>9</th>\n",
              "      <td>3.458779</td>\n",
              "      <td>-1.142341</td>\n",
              "    </tr>\n",
              "  </tbody>\n",
              "</table>\n",
              "</div>"
            ]
          },
          "metadata": {},
          "execution_count": 52
        }
      ],
      "source": [
        "cs=df.cumsum()\n",
        "cs"
      ]
    },
    {
      "cell_type": "markdown",
      "metadata": {
        "id": "oaaK43FmCDGg"
      },
      "source": [
        "И построим график."
      ]
    },
    {
      "cell_type": "code",
      "source": [
        "from matplotlib import pyplot as plt"
      ],
      "metadata": {
        "id": "xeQWWrA9P6jj"
      },
      "execution_count": 57,
      "outputs": []
    },
    {
      "cell_type": "code",
      "execution_count": 58,
      "metadata": {
        "id": "0TXeZbAOCDGg",
        "outputId": "85ca718d-7f43-4286-911f-d32a4441ed48",
        "colab": {
          "base_uri": "https://localhost:8080/",
          "height": 300
        }
      },
      "outputs": [
        {
          "output_type": "execute_result",
          "data": {
            "text/plain": [
              "[<matplotlib.lines.Line2D at 0x1b1c07e8820>,\n",
              " <matplotlib.lines.Line2D at 0x1b1c07ebf70>]"
            ]
          },
          "metadata": {},
          "execution_count": 58
        },
        {
          "output_type": "display_data",
          "data": {
            "text/plain": [
              "<Figure size 432x288 with 1 Axes>"
            ],
            "image/png": "[encoded data removed]"
          },
          "metadata": {
            "needs_background": "light"
          }
        }
      ],
      "source": [
        "plt.plot(cs)"
      ]
    },
    {
      "cell_type": "markdown",
      "metadata": {
        "id": "WmFnWySXCDGg"
      },
      "source": [
        "## Чтение файлов"
      ]
    },
    {
      "cell_type": "markdown",
      "metadata": {
        "id": "wdsmEMqeCDGg"
      },
      "source": [
        "Так как основная форма обмена информации это таблицы, то нужно научиться загружать их и записывать.<br>\n",
        "В `Pandas` есть удобные методы для чтения`.read_csv()`/`.read_excel()`/`.read_table()` и `.to_csv()`/`.to_excel()`\n",
        "\n",
        "Прочитаем файл и вглянем на его."
      ]
    },
    {
      "cell_type": "markdown",
      "source": [
        "**Если необходимо, пути можно менять.**"
      ],
      "metadata": {
        "id": "LQHBcbVvaAxo"
      }
    },
    {
      "cell_type": "code",
      "source": [
        "!pwd"
      ],
      "metadata": {
        "id": "vMXM6TgGQVas",
        "outputId": "59871c43-a3a5-463c-d316-4e04a2e94bf7",
        "colab": {
          "base_uri": "https://localhost:8080/"
        }
      },
      "execution_count": 61,
      "outputs": [
        {
          "output_type": "stream",
          "name": "stderr",
          "text": [
            "\"pwd\" ­Ґ пў«пҐвбп ў­гваҐ­­Ґ© Ё«Ё ў­Ґи­Ґ©\n",
            "Є®¬ ­¤®©, ЁбЇ®«­пҐ¬®© Їа®Ја ¬¬®© Ё«Ё Ї ЄҐв­л¬ д ©«®¬.\n"
          ]
        }
      ]
    },
    {
      "cell_type": "code",
      "execution_count": 63,
      "metadata": {
        "id": "F7-F6G-MCDGg"
      },
      "outputs": [],
      "source": [
        "data = pd.read_csv('data/bank.csv',sep=';')"
      ]
    },
    {
      "cell_type": "code",
      "execution_count": null,
      "metadata": {
        "id": "th4h4qPcCDGg",
        "outputId": "5243cd06-e42b-42d1-90b0-56aac26618a4"
      },
      "outputs": [
        {
          "data": {
            "text/html": [
              "<div>\n",
              "<style scoped>\n",
              "    .dataframe tbody tr th:only-of-type {\n",
              "        vertical-align: middle;\n",
              "    }\n",
              "\n",
              "    .dataframe tbody tr th {\n",
              "        vertical-align: top;\n",
              "    }\n",
              "\n",
              "    .dataframe thead th {\n",
              "        text-align: right;\n",
              "    }\n",
              "</style>\n",
              "<table border=\"1\" class=\"dataframe\">\n",
              "  <thead>\n",
              "    <tr style=\"text-align: right;\">\n",
              "      <th></th>\n",
              "      <th>age</th>\n",
              "      <th>job</th>\n",
              "      <th>marital</th>\n",
              "      <th>education</th>\n",
              "      <th>default</th>\n",
              "      <th>balance</th>\n",
              "      <th>housing</th>\n",
              "      <th>loan</th>\n",
              "      <th>contact</th>\n",
              "      <th>day</th>\n",
              "      <th>month</th>\n",
              "      <th>duration</th>\n",
              "      <th>campaign</th>\n",
              "      <th>pdays</th>\n",
              "      <th>previous</th>\n",
              "      <th>poutcome</th>\n",
              "      <th>y</th>\n",
              "    </tr>\n",
              "  </thead>\n",
              "  <tbody>\n",
              "    <tr>\n",
              "      <th>0</th>\n",
              "      <td>30</td>\n",
              "      <td>unemployed</td>\n",
              "      <td>married</td>\n",
              "      <td>primary</td>\n",
              "      <td>no</td>\n",
              "      <td>1787</td>\n",
              "      <td>no</td>\n",
              "      <td>no</td>\n",
              "      <td>cellular</td>\n",
              "      <td>19</td>\n",
              "      <td>oct</td>\n",
              "      <td>79</td>\n",
              "      <td>1</td>\n",
              "      <td>-1</td>\n",
              "      <td>0</td>\n",
              "      <td>unknown</td>\n",
              "      <td>no</td>\n",
              "    </tr>\n",
              "    <tr>\n",
              "      <th>1</th>\n",
              "      <td>33</td>\n",
              "      <td>services</td>\n",
              "      <td>married</td>\n",
              "      <td>secondary</td>\n",
              "      <td>no</td>\n",
              "      <td>4789</td>\n",
              "      <td>yes</td>\n",
              "      <td>yes</td>\n",
              "      <td>cellular</td>\n",
              "      <td>11</td>\n",
              "      <td>may</td>\n",
              "      <td>220</td>\n",
              "      <td>1</td>\n",
              "      <td>339</td>\n",
              "      <td>4</td>\n",
              "      <td>failure</td>\n",
              "      <td>no</td>\n",
              "    </tr>\n",
              "    <tr>\n",
              "      <th>2</th>\n",
              "      <td>35</td>\n",
              "      <td>management</td>\n",
              "      <td>single</td>\n",
              "      <td>tertiary</td>\n",
              "      <td>no</td>\n",
              "      <td>1350</td>\n",
              "      <td>yes</td>\n",
              "      <td>no</td>\n",
              "      <td>cellular</td>\n",
              "      <td>16</td>\n",
              "      <td>apr</td>\n",
              "      <td>185</td>\n",
              "      <td>1</td>\n",
              "      <td>330</td>\n",
              "      <td>1</td>\n",
              "      <td>failure</td>\n",
              "      <td>no</td>\n",
              "    </tr>\n",
              "    <tr>\n",
              "      <th>3</th>\n",
              "      <td>30</td>\n",
              "      <td>management</td>\n",
              "      <td>married</td>\n",
              "      <td>tertiary</td>\n",
              "      <td>no</td>\n",
              "      <td>1476</td>\n",
              "      <td>yes</td>\n",
              "      <td>yes</td>\n",
              "      <td>unknown</td>\n",
              "      <td>3</td>\n",
              "      <td>jun</td>\n",
              "      <td>199</td>\n",
              "      <td>4</td>\n",
              "      <td>-1</td>\n",
              "      <td>0</td>\n",
              "      <td>unknown</td>\n",
              "      <td>no</td>\n",
              "    </tr>\n",
              "    <tr>\n",
              "      <th>4</th>\n",
              "      <td>59</td>\n",
              "      <td>blue-collar</td>\n",
              "      <td>married</td>\n",
              "      <td>secondary</td>\n",
              "      <td>no</td>\n",
              "      <td>0</td>\n",
              "      <td>yes</td>\n",
              "      <td>no</td>\n",
              "      <td>unknown</td>\n",
              "      <td>5</td>\n",
              "      <td>may</td>\n",
              "      <td>226</td>\n",
              "      <td>1</td>\n",
              "      <td>-1</td>\n",
              "      <td>0</td>\n",
              "      <td>unknown</td>\n",
              "      <td>no</td>\n",
              "    </tr>\n",
              "  </tbody>\n",
              "</table>\n",
              "</div>"
            ],
            "text/plain": [
              "   age          job  marital  education default  balance housing loan  \\\n",
              "0   30   unemployed  married    primary      no     1787      no   no   \n",
              "1   33     services  married  secondary      no     4789     yes  yes   \n",
              "2   35   management   single   tertiary      no     1350     yes   no   \n",
              "3   30   management  married   tertiary      no     1476     yes  yes   \n",
              "4   59  blue-collar  married  secondary      no        0     yes   no   \n",
              "\n",
              "    contact  day month  duration  campaign  pdays  previous poutcome   y  \n",
              "0  cellular   19   oct        79         1     -1         0  unknown  no  \n",
              "1  cellular   11   may       220         1    339         4  failure  no  \n",
              "2  cellular   16   apr       185         1    330         1  failure  no  \n",
              "3   unknown    3   jun       199         4     -1         0  unknown  no  \n",
              "4   unknown    5   may       226         1     -1         0  unknown  no  "
            ]
          },
          "execution_count": 66,
          "metadata": {},
          "output_type": "execute_result"
        }
      ],
      "source": [
        "data.head()"
      ]
    },
    {
      "cell_type": "code",
      "execution_count": 65,
      "metadata": {
        "scrolled": true,
        "id": "XBURtmCACDGg",
        "outputId": "b2fa56ef-b9e9-4336-dbd5-aacdabddff28",
        "colab": {
          "base_uri": "https://localhost:8080/",
          "height": 1000
        }
      },
      "outputs": [
        {
          "output_type": "error",
          "ename": "UnicodeDecodeError",
          "evalue": "'utf-8' codec can't decode bytes in position 15-16: invalid continuation byte",
          "traceback": [
            "\u001b[1;31m---------------------------------------------------------------------------\u001b[0m",
            "\u001b[1;31mUnicodeDecodeError\u001b[0m                        Traceback (most recent call last)",
            "\u001b[1;32mC:\\Temp/ipykernel_22208/975148353.py\u001b[0m in \u001b[0;36m<module>\u001b[1;34m\u001b[0m\n\u001b[1;32m----> 1\u001b[1;33m \u001b[0mdata\u001b[0m \u001b[1;33m=\u001b[0m \u001b[0mpd\u001b[0m\u001b[1;33m.\u001b[0m\u001b[0mread_csv\u001b[0m\u001b[1;33m(\u001b[0m\u001b[1;34m'data/bank.xlsx'\u001b[0m\u001b[1;33m,\u001b[0m\u001b[0msep\u001b[0m\u001b[1;33m=\u001b[0m\u001b[1;34m';'\u001b[0m\u001b[1;33m)\u001b[0m\u001b[1;33m\u001b[0m\u001b[1;33m\u001b[0m\u001b[0m\n\u001b[0m",
            "\u001b[1;32mC:\\Program Files\\Python310\\lib\\site-packages\\pandas\\util\\_decorators.py\u001b[0m in \u001b[0;36mwrapper\u001b[1;34m(*args, **kwargs)\u001b[0m\n\u001b[0;32m    309\u001b[0m                     \u001b[0mstacklevel\u001b[0m\u001b[1;33m=\u001b[0m\u001b[0mstacklevel\u001b[0m\u001b[1;33m,\u001b[0m\u001b[1;33m\u001b[0m\u001b[1;33m\u001b[0m\u001b[0m\n\u001b[0;32m    310\u001b[0m                 )\n\u001b[1;32m--> 311\u001b[1;33m             \u001b[1;32mreturn\u001b[0m \u001b[0mfunc\u001b[0m\u001b[1;33m(\u001b[0m\u001b[1;33m*\u001b[0m\u001b[0margs\u001b[0m\u001b[1;33m,\u001b[0m \u001b[1;33m**\u001b[0m\u001b[0mkwargs\u001b[0m\u001b[1;33m)\u001b[0m\u001b[1;33m\u001b[0m\u001b[1;33m\u001b[0m\u001b[0m\n\u001b[0m\u001b[0;32m    312\u001b[0m \u001b[1;33m\u001b[0m\u001b[0m\n\u001b[0;32m    313\u001b[0m         \u001b[1;32mreturn\u001b[0m \u001b[0mwrapper\u001b[0m\u001b[1;33m\u001b[0m\u001b[1;33m\u001b[0m\u001b[0m\n",
            "\u001b[1;32mC:\\Program Files\\Python310\\lib\\site-packages\\pandas\\io\\parsers\\readers.py\u001b[0m in \u001b[0;36mread_csv\u001b[1;34m(filepath_or_buffer, sep, delimiter, header, names, index_col, usecols, squeeze, prefix, mangle_dupe_cols, dtype, engine, converters, true_values, false_values, skipinitialspace, skiprows, skipfooter, nrows, na_values, keep_default_na, na_filter, verbose, skip_blank_lines, parse_dates, infer_datetime_format, keep_date_col, date_parser, dayfirst, cache_dates, iterator, chunksize, compression, thousands, decimal, lineterminator, quotechar, quoting, doublequote, escapechar, comment, encoding, encoding_errors, dialect, error_bad_lines, warn_bad_lines, on_bad_lines, delim_whitespace, low_memory, memory_map, float_precision, storage_options)\u001b[0m\n\u001b[0;32m    584\u001b[0m     \u001b[0mkwds\u001b[0m\u001b[1;33m.\u001b[0m\u001b[0mupdate\u001b[0m\u001b[1;33m(\u001b[0m\u001b[0mkwds_defaults\u001b[0m\u001b[1;33m)\u001b[0m\u001b[1;33m\u001b[0m\u001b[1;33m\u001b[0m\u001b[0m\n\u001b[0;32m    585\u001b[0m \u001b[1;33m\u001b[0m\u001b[0m\n\u001b[1;32m--> 586\u001b[1;33m     \u001b[1;32mreturn\u001b[0m \u001b[0m_read\u001b[0m\u001b[1;33m(\u001b[0m\u001b[0mfilepath_or_buffer\u001b[0m\u001b[1;33m,\u001b[0m \u001b[0mkwds\u001b[0m\u001b[1;33m)\u001b[0m\u001b[1;33m\u001b[0m\u001b[1;33m\u001b[0m\u001b[0m\n\u001b[0m\u001b[0;32m    587\u001b[0m \u001b[1;33m\u001b[0m\u001b[0m\n\u001b[0;32m    588\u001b[0m \u001b[1;33m\u001b[0m\u001b[0m\n",
            "\u001b[1;32mC:\\Program Files\\Python310\\lib\\site-packages\\pandas\\io\\parsers\\readers.py\u001b[0m in \u001b[0;36m_read\u001b[1;34m(filepath_or_buffer, kwds)\u001b[0m\n\u001b[0;32m    480\u001b[0m \u001b[1;33m\u001b[0m\u001b[0m\n\u001b[0;32m    481\u001b[0m     \u001b[1;31m# Create the parser.\u001b[0m\u001b[1;33m\u001b[0m\u001b[1;33m\u001b[0m\u001b[0m\n\u001b[1;32m--> 482\u001b[1;33m     \u001b[0mparser\u001b[0m \u001b[1;33m=\u001b[0m \u001b[0mTextFileReader\u001b[0m\u001b[1;33m(\u001b[0m\u001b[0mfilepath_or_buffer\u001b[0m\u001b[1;33m,\u001b[0m \u001b[1;33m**\u001b[0m\u001b[0mkwds\u001b[0m\u001b[1;33m)\u001b[0m\u001b[1;33m\u001b[0m\u001b[1;33m\u001b[0m\u001b[0m\n\u001b[0m\u001b[0;32m    483\u001b[0m \u001b[1;33m\u001b[0m\u001b[0m\n\u001b[0;32m    484\u001b[0m     \u001b[1;32mif\u001b[0m \u001b[0mchunksize\u001b[0m \u001b[1;32mor\u001b[0m \u001b[0miterator\u001b[0m\u001b[1;33m:\u001b[0m\u001b[1;33m\u001b[0m\u001b[1;33m\u001b[0m\u001b[0m\n",
            "\u001b[1;32mC:\\Program Files\\Python310\\lib\\site-packages\\pandas\\io\\parsers\\readers.py\u001b[0m in \u001b[0;36m__init__\u001b[1;34m(self, f, engine, **kwds)\u001b[0m\n\u001b[0;32m    809\u001b[0m             \u001b[0mself\u001b[0m\u001b[1;33m.\u001b[0m\u001b[0moptions\u001b[0m\u001b[1;33m[\u001b[0m\u001b[1;34m\"has_index_names\"\u001b[0m\u001b[1;33m]\u001b[0m \u001b[1;33m=\u001b[0m \u001b[0mkwds\u001b[0m\u001b[1;33m[\u001b[0m\u001b[1;34m\"has_index_names\"\u001b[0m\u001b[1;33m]\u001b[0m\u001b[1;33m\u001b[0m\u001b[1;33m\u001b[0m\u001b[0m\n\u001b[0;32m    810\u001b[0m \u001b[1;33m\u001b[0m\u001b[0m\n\u001b[1;32m--> 811\u001b[1;33m         \u001b[0mself\u001b[0m\u001b[1;33m.\u001b[0m\u001b[0m_engine\u001b[0m \u001b[1;33m=\u001b[0m \u001b[0mself\u001b[0m\u001b[1;33m.\u001b[0m\u001b[0m_make_engine\u001b[0m\u001b[1;33m(\u001b[0m\u001b[0mself\u001b[0m\u001b[1;33m.\u001b[0m\u001b[0mengine\u001b[0m\u001b[1;33m)\u001b[0m\u001b[1;33m\u001b[0m\u001b[1;33m\u001b[0m\u001b[0m\n\u001b[0m\u001b[0;32m    812\u001b[0m \u001b[1;33m\u001b[0m\u001b[0m\n\u001b[0;32m    813\u001b[0m     \u001b[1;32mdef\u001b[0m \u001b[0mclose\u001b[0m\u001b[1;33m(\u001b[0m\u001b[0mself\u001b[0m\u001b[1;33m)\u001b[0m\u001b[1;33m:\u001b[0m\u001b[1;33m\u001b[0m\u001b[1;33m\u001b[0m\u001b[0m\n",
            "\u001b[1;32mC:\\Program Files\\Python310\\lib\\site-packages\\pandas\\io\\parsers\\readers.py\u001b[0m in \u001b[0;36m_make_engine\u001b[1;34m(self, engine)\u001b[0m\n\u001b[0;32m   1038\u001b[0m             )\n\u001b[0;32m   1039\u001b[0m         \u001b[1;31m# error: Too many arguments for \"ParserBase\"\u001b[0m\u001b[1;33m\u001b[0m\u001b[1;33m\u001b[0m\u001b[0m\n\u001b[1;32m-> 1040\u001b[1;33m         \u001b[1;32mreturn\u001b[0m \u001b[0mmapping\u001b[0m\u001b[1;33m[\u001b[0m\u001b[0mengine\u001b[0m\u001b[1;33m]\u001b[0m\u001b[1;33m(\u001b[0m\u001b[0mself\u001b[0m\u001b[1;33m.\u001b[0m\u001b[0mf\u001b[0m\u001b[1;33m,\u001b[0m \u001b[1;33m**\u001b[0m\u001b[0mself\u001b[0m\u001b[1;33m.\u001b[0m\u001b[0moptions\u001b[0m\u001b[1;33m)\u001b[0m  \u001b[1;31m# type: ignore[call-arg]\u001b[0m\u001b[1;33m\u001b[0m\u001b[1;33m\u001b[0m\u001b[0m\n\u001b[0m\u001b[0;32m   1041\u001b[0m \u001b[1;33m\u001b[0m\u001b[0m\n\u001b[0;32m   1042\u001b[0m     \u001b[1;32mdef\u001b[0m \u001b[0m_failover_to_python\u001b[0m\u001b[1;33m(\u001b[0m\u001b[0mself\u001b[0m\u001b[1;33m)\u001b[0m\u001b[1;33m:\u001b[0m\u001b[1;33m\u001b[0m\u001b[1;33m\u001b[0m\u001b[0m\n",
            "\u001b[1;32mC:\\Program Files\\Python310\\lib\\site-packages\\pandas\\io\\parsers\\c_parser_wrapper.py\u001b[0m in \u001b[0;36m__init__\u001b[1;34m(self, src, **kwds)\u001b[0m\n\u001b[0;32m     67\u001b[0m         \u001b[0mkwds\u001b[0m\u001b[1;33m[\u001b[0m\u001b[1;34m\"dtype\"\u001b[0m\u001b[1;33m]\u001b[0m \u001b[1;33m=\u001b[0m \u001b[0mensure_dtype_objs\u001b[0m\u001b[1;33m(\u001b[0m\u001b[0mkwds\u001b[0m\u001b[1;33m.\u001b[0m\u001b[0mget\u001b[0m\u001b[1;33m(\u001b[0m\u001b[1;34m\"dtype\"\u001b[0m\u001b[1;33m,\u001b[0m \u001b[1;32mNone\u001b[0m\u001b[1;33m)\u001b[0m\u001b[1;33m)\u001b[0m\u001b[1;33m\u001b[0m\u001b[1;33m\u001b[0m\u001b[0m\n\u001b[0;32m     68\u001b[0m         \u001b[1;32mtry\u001b[0m\u001b[1;33m:\u001b[0m\u001b[1;33m\u001b[0m\u001b[1;33m\u001b[0m\u001b[0m\n\u001b[1;32m---> 69\u001b[1;33m             \u001b[0mself\u001b[0m\u001b[1;33m.\u001b[0m\u001b[0m_reader\u001b[0m \u001b[1;33m=\u001b[0m \u001b[0mparsers\u001b[0m\u001b[1;33m.\u001b[0m\u001b[0mTextReader\u001b[0m\u001b[1;33m(\u001b[0m\u001b[0mself\u001b[0m\u001b[1;33m.\u001b[0m\u001b[0mhandles\u001b[0m\u001b[1;33m.\u001b[0m\u001b[0mhandle\u001b[0m\u001b[1;33m,\u001b[0m \u001b[1;33m**\u001b[0m\u001b[0mkwds\u001b[0m\u001b[1;33m)\u001b[0m\u001b[1;33m\u001b[0m\u001b[1;33m\u001b[0m\u001b[0m\n\u001b[0m\u001b[0;32m     70\u001b[0m         \u001b[1;32mexcept\u001b[0m \u001b[0mException\u001b[0m\u001b[1;33m:\u001b[0m\u001b[1;33m\u001b[0m\u001b[1;33m\u001b[0m\u001b[0m\n\u001b[0;32m     71\u001b[0m             \u001b[0mself\u001b[0m\u001b[1;33m.\u001b[0m\u001b[0mhandles\u001b[0m\u001b[1;33m.\u001b[0m\u001b[0mclose\u001b[0m\u001b[1;33m(\u001b[0m\u001b[1;33m)\u001b[0m\u001b[1;33m\u001b[0m\u001b[1;33m\u001b[0m\u001b[0m\n",
            "\u001b[1;32mC:\\Program Files\\Python310\\lib\\site-packages\\pandas\\_libs\\parsers.pyx\u001b[0m in \u001b[0;36mpandas._libs.parsers.TextReader.__cinit__\u001b[1;34m()\u001b[0m\n",
            "\u001b[1;32mC:\\Program Files\\Python310\\lib\\site-packages\\pandas\\_libs\\parsers.pyx\u001b[0m in \u001b[0;36mpandas._libs.parsers.TextReader._get_header\u001b[1;34m()\u001b[0m\n",
            "\u001b[1;32mC:\\Program Files\\Python310\\lib\\site-packages\\pandas\\_libs\\parsers.pyx\u001b[0m in \u001b[0;36mpandas._libs.parsers.TextReader._tokenize_rows\u001b[1;34m()\u001b[0m\n",
            "\u001b[1;32mC:\\Program Files\\Python310\\lib\\site-packages\\pandas\\_libs\\parsers.pyx\u001b[0m in \u001b[0;36mpandas._libs.parsers.raise_parser_error\u001b[1;34m()\u001b[0m\n",
            "\u001b[1;31mUnicodeDecodeError\u001b[0m: 'utf-8' codec can't decode bytes in position 15-16: invalid continuation byte"
          ]
        }
      ],
      "source": [
        "data = pd.read_csv('data/bank.xlsx',sep=';')"
      ]
    },
    {
      "cell_type": "code",
      "execution_count": 68,
      "metadata": {
        "id": "OvuauMvvCDGg"
      },
      "outputs": [],
      "source": [
        "data = pd.read_excel('data/bikes_rent.xls')"
      ]
    },
    {
      "cell_type": "code",
      "execution_count": 70,
      "metadata": {
        "id": "37Aj7jOgCDGg",
        "outputId": "ed7310b4-88b7-45bf-c4f1-61a188f4e33b",
        "colab": {
          "base_uri": "https://localhost:8080/",
          "height": 423
        }
      },
      "outputs": [
        {
          "output_type": "execute_result",
          "data": {
            "text/plain": [
              "     season  yr  mnth  holiday  weekday  workingday  weathersit   cnt\n",
              "0         1   0     1        0        6           0           2   985\n",
              "1         1   0     1        0        0           0           2   801\n",
              "2         1   0     1        0        1           1           1  1349\n",
              "3         1   0     1        0        2           1           1  1562\n",
              "4         1   0     1        0        3           1           1  1600\n",
              "..      ...  ..   ...      ...      ...         ...         ...   ...\n",
              "726       1   1    12        0        4           1           2  2114\n",
              "727       1   1    12        0        5           1           2  3095\n",
              "728       1   1    12        0        6           0           2  1341\n",
              "729       1   1    12        0        0           0           1  1796\n",
              "730       1   1    12        0        1           1           2  2729\n",
              "\n",
              "[731 rows x 8 columns]"
            ],
            "text/html": [
              "<div>\n",
              "<style scoped>\n",
              "    .dataframe tbody tr th:only-of-type {\n",
              "        vertical-align: middle;\n",
              "    }\n",
              "\n",
              "    .dataframe tbody tr th {\n",
              "        vertical-align: top;\n",
              "    }\n",
              "\n",
              "    .dataframe thead th {\n",
              "        text-align: right;\n",
              "    }\n",
              "</style>\n",
              "<table border=\"1\" class=\"dataframe\">\n",
              "  <thead>\n",
              "    <tr style=\"text-align: right;\">\n",
              "      <th></th>\n",
              "      <th>season</th>\n",
              "      <th>yr</th>\n",
              "      <th>mnth</th>\n",
              "      <th>holiday</th>\n",
              "      <th>weekday</th>\n",
              "      <th>workingday</th>\n",
              "      <th>weathersit</th>\n",
              "      <th>cnt</th>\n",
              "    </tr>\n",
              "  </thead>\n",
              "  <tbody>\n",
              "    <tr>\n",
              "      <th>0</th>\n",
              "      <td>1</td>\n",
              "      <td>0</td>\n",
              "      <td>1</td>\n",
              "      <td>0</td>\n",
              "      <td>6</td>\n",
              "      <td>0</td>\n",
              "      <td>2</td>\n",
              "      <td>985</td>\n",
              "    </tr>\n",
              "    <tr>\n",
              "      <th>1</th>\n",
              "      <td>1</td>\n",
              "      <td>0</td>\n",
              "      <td>1</td>\n",
              "      <td>0</td>\n",
              "      <td>0</td>\n",
              "      <td>0</td>\n",
              "      <td>2</td>\n",
              "      <td>801</td>\n",
              "    </tr>\n",
              "    <tr>\n",
              "      <th>2</th>\n",
              "      <td>1</td>\n",
              "      <td>0</td>\n",
              "      <td>1</td>\n",
              "      <td>0</td>\n",
              "      <td>1</td>\n",
              "      <td>1</td>\n",
              "      <td>1</td>\n",
              "      <td>1349</td>\n",
              "    </tr>\n",
              "    <tr>\n",
              "      <th>3</th>\n",
              "      <td>1</td>\n",
              "      <td>0</td>\n",
              "      <td>1</td>\n",
              "      <td>0</td>\n",
              "      <td>2</td>\n",
              "      <td>1</td>\n",
              "      <td>1</td>\n",
              "      <td>1562</td>\n",
              "    </tr>\n",
              "    <tr>\n",
              "      <th>4</th>\n",
              "      <td>1</td>\n",
              "      <td>0</td>\n",
              "      <td>1</td>\n",
              "      <td>0</td>\n",
              "      <td>3</td>\n",
              "      <td>1</td>\n",
              "      <td>1</td>\n",
              "      <td>1600</td>\n",
              "    </tr>\n",
              "    <tr>\n",
              "      <th>...</th>\n",
              "      <td>...</td>\n",
              "      <td>...</td>\n",
              "      <td>...</td>\n",
              "      <td>...</td>\n",
              "      <td>...</td>\n",
              "      <td>...</td>\n",
              "      <td>...</td>\n",
              "      <td>...</td>\n",
              "    </tr>\n",
              "    <tr>\n",
              "      <th>726</th>\n",
              "      <td>1</td>\n",
              "      <td>1</td>\n",
              "      <td>12</td>\n",
              "      <td>0</td>\n",
              "      <td>4</td>\n",
              "      <td>1</td>\n",
              "      <td>2</td>\n",
              "      <td>2114</td>\n",
              "    </tr>\n",
              "    <tr>\n",
              "      <th>727</th>\n",
              "      <td>1</td>\n",
              "      <td>1</td>\n",
              "      <td>12</td>\n",
              "      <td>0</td>\n",
              "      <td>5</td>\n",
              "      <td>1</td>\n",
              "      <td>2</td>\n",
              "      <td>3095</td>\n",
              "    </tr>\n",
              "    <tr>\n",
              "      <th>728</th>\n",
              "      <td>1</td>\n",
              "      <td>1</td>\n",
              "      <td>12</td>\n",
              "      <td>0</td>\n",
              "      <td>6</td>\n",
              "      <td>0</td>\n",
              "      <td>2</td>\n",
              "      <td>1341</td>\n",
              "    </tr>\n",
              "    <tr>\n",
              "      <th>729</th>\n",
              "      <td>1</td>\n",
              "      <td>1</td>\n",
              "      <td>12</td>\n",
              "      <td>0</td>\n",
              "      <td>0</td>\n",
              "      <td>0</td>\n",
              "      <td>1</td>\n",
              "      <td>1796</td>\n",
              "    </tr>\n",
              "    <tr>\n",
              "      <th>730</th>\n",
              "      <td>1</td>\n",
              "      <td>1</td>\n",
              "      <td>12</td>\n",
              "      <td>0</td>\n",
              "      <td>1</td>\n",
              "      <td>1</td>\n",
              "      <td>2</td>\n",
              "      <td>2729</td>\n",
              "    </tr>\n",
              "  </tbody>\n",
              "</table>\n",
              "<p>731 rows × 8 columns</p>\n",
              "</div>"
            ]
          },
          "metadata": {},
          "execution_count": 70
        }
      ],
      "source": [
        "data"
      ]
    },
    {
      "cell_type": "markdown",
      "metadata": {
        "id": "i4P6TGhNCDGh"
      },
      "source": [
        "Создами колонку с кумулятивной суммой поездок."
      ]
    },
    {
      "cell_type": "code",
      "execution_count": null,
      "metadata": {
        "id": "5YGnlVdJCDGh"
      },
      "outputs": [],
      "source": [
        "data['cum_sum'] = data['cnt'].cumsum()"
      ]
    },
    {
      "cell_type": "code",
      "execution_count": null,
      "metadata": {
        "id": "kNloA-qXCDGh",
        "outputId": "24e09fa2-eea0-4b62-fc93-ee5222f4c278"
      },
      "outputs": [
        {
          "data": {
            "text/html": [
              "<div>\n",
              "<style scoped>\n",
              "    .dataframe tbody tr th:only-of-type {\n",
              "        vertical-align: middle;\n",
              "    }\n",
              "\n",
              "    .dataframe tbody tr th {\n",
              "        vertical-align: top;\n",
              "    }\n",
              "\n",
              "    .dataframe thead th {\n",
              "        text-align: right;\n",
              "    }\n",
              "</style>\n",
              "<table border=\"1\" class=\"dataframe\">\n",
              "  <thead>\n",
              "    <tr style=\"text-align: right;\">\n",
              "      <th></th>\n",
              "      <th>season</th>\n",
              "      <th>yr</th>\n",
              "      <th>mnth</th>\n",
              "      <th>holiday</th>\n",
              "      <th>weekday</th>\n",
              "      <th>workingday</th>\n",
              "      <th>weathersit</th>\n",
              "      <th>cnt</th>\n",
              "      <th>cum_sum</th>\n",
              "    </tr>\n",
              "  </thead>\n",
              "  <tbody>\n",
              "    <tr>\n",
              "      <th>0</th>\n",
              "      <td>1</td>\n",
              "      <td>0</td>\n",
              "      <td>1</td>\n",
              "      <td>0</td>\n",
              "      <td>6</td>\n",
              "      <td>0</td>\n",
              "      <td>2</td>\n",
              "      <td>985</td>\n",
              "      <td>985</td>\n",
              "    </tr>\n",
              "    <tr>\n",
              "      <th>1</th>\n",
              "      <td>1</td>\n",
              "      <td>0</td>\n",
              "      <td>1</td>\n",
              "      <td>0</td>\n",
              "      <td>0</td>\n",
              "      <td>0</td>\n",
              "      <td>2</td>\n",
              "      <td>801</td>\n",
              "      <td>1786</td>\n",
              "    </tr>\n",
              "    <tr>\n",
              "      <th>2</th>\n",
              "      <td>1</td>\n",
              "      <td>0</td>\n",
              "      <td>1</td>\n",
              "      <td>0</td>\n",
              "      <td>1</td>\n",
              "      <td>1</td>\n",
              "      <td>1</td>\n",
              "      <td>1349</td>\n",
              "      <td>3135</td>\n",
              "    </tr>\n",
              "    <tr>\n",
              "      <th>3</th>\n",
              "      <td>1</td>\n",
              "      <td>0</td>\n",
              "      <td>1</td>\n",
              "      <td>0</td>\n",
              "      <td>2</td>\n",
              "      <td>1</td>\n",
              "      <td>1</td>\n",
              "      <td>1562</td>\n",
              "      <td>4697</td>\n",
              "    </tr>\n",
              "    <tr>\n",
              "      <th>4</th>\n",
              "      <td>1</td>\n",
              "      <td>0</td>\n",
              "      <td>1</td>\n",
              "      <td>0</td>\n",
              "      <td>3</td>\n",
              "      <td>1</td>\n",
              "      <td>1</td>\n",
              "      <td>1600</td>\n",
              "      <td>6297</td>\n",
              "    </tr>\n",
              "  </tbody>\n",
              "</table>\n",
              "</div>"
            ],
            "text/plain": [
              "   season  yr  mnth  holiday  weekday  workingday  weathersit   cnt  cum_sum\n",
              "0       1   0     1        0        6           0           2   985      985\n",
              "1       1   0     1        0        0           0           2   801     1786\n",
              "2       1   0     1        0        1           1           1  1349     3135\n",
              "3       1   0     1        0        2           1           1  1562     4697\n",
              "4       1   0     1        0        3           1           1  1600     6297"
            ]
          },
          "execution_count": 74,
          "metadata": {},
          "output_type": "execute_result"
        }
      ],
      "source": [
        "data.head()"
      ]
    },
    {
      "cell_type": "markdown",
      "metadata": {
        "id": "P_IXxNipCDGh"
      },
      "source": [
        "Перезапишем наш файл."
      ]
    },
    {
      "cell_type": "code",
      "execution_count": null,
      "metadata": {
        "id": "4Qlbu1TDCDGh"
      },
      "outputs": [],
      "source": [
        "data.to_csv('../data/bikes_rent.csv', index=False)"
      ]
    },
    {
      "cell_type": "markdown",
      "metadata": {
        "id": "UUE3CBF9CDGh"
      },
      "source": [
        "С запись в экселевский формат немного длиннее. Сначало нам нужно создать объект, который будет записывать файл и в него передать нашу таблицу."
      ]
    },
    {
      "cell_type": "code",
      "execution_count": null,
      "metadata": {
        "id": "0TPSJkspCDGh"
      },
      "outputs": [],
      "source": [
        "writer = pd.ExcelWriter('bikes_rent.xlsx')\n",
        "data.to_excel(writer, sheet_name ='bikes_rent_sheet')"
      ]
    },
    {
      "cell_type": "markdown",
      "source": [
        "#Продолжаем практиковатья\n"
      ],
      "metadata": {
        "id": "0Qjjo55-vTnB"
      }
    },
    {
      "cell_type": "markdown",
      "source": [
        "**По возможности ребята должны сами пытаться решать, с подсказками от преподавателя.**\n",
        "\n",
        "Стараемся дать ребятам время на подумать, они могут использовать литературу для работы с библиотеками.Разбираем каждую задачу с ребятами. Можем придумывать задачи посложнее и давать ребятам сделать самостоятельно."
      ],
      "metadata": {
        "id": "Cv_HNm32uuel"
      }
    },
    {
      "cell_type": "markdown",
      "source": [
        "**Не забываем добавить файл в директорию с проектом!**"
      ],
      "metadata": {
        "id": "LIRgbTYOF15p"
      }
    },
    {
      "cell_type": "markdown",
      "source": [
        "#Задание №1\n",
        "\n",
        "Напишите программу Pandas для импорта данных в формате Excel в кадр данных Pandas."
      ],
      "metadata": {
        "id": "_EMwzCMyC395"
      }
    },
    {
      "cell_type": "code",
      "source": [
        "import pandas as pd\n",
        "import numpy as np\n",
        "df = pd.read_excel('Table1.xlsx')\n",
        "print(df.head)"
      ],
      "metadata": {
        "colab": {
          "base_uri": "https://localhost:8080/"
        },
        "id": "NLmXIWckC3kp",
        "outputId": "776d5838-aef1-4517-f971-12aebd161276"
      },
      "execution_count": null,
      "outputs": [
        {
          "output_type": "stream",
          "name": "stdout",
          "text": [
            "<bound method NDFrame.head of                      Группа  % Посещаемость    % ДЗ  Успещность ДЗ  Взвешенное\n",
            "0   2год_инф_гр1_2021.09.09          0.9990  0.8382           71.9      0.8988\n",
            "1   2год_инф_гр2_2021.09.15          0.8815  0.6486           72.6      0.7779\n",
            "2   2год_инф_гр5_2021.10.11          0.9551  0.7057           71.6      0.8320\n",
            "3   2год_мат_гр1_2021.09.07          0.9995  0.9379           75.2      0.9377\n",
            "4   2год_мат_гр2_2021.09.16          0.9194  0.9559           69.8      0.8946\n",
            "..                      ...             ...     ...            ...         ...\n",
            "80   год_мат_гр1_2021.09.06          0.9974  0.9714           78.3      0.9530\n",
            "81  год_мат_гр12_2021.09.14          0.9873  0.8317           71.4      0.8898\n",
            "82  год_мат_гр17_2021.09.27          0.9450  0.7059           73.1      0.8296\n",
            "83  год_рус_гр16_2021.09.23          0.9967  0.7846           73.5      0.8824\n",
            "84   год_физ_гр3_2021.10.03          0.8595  0.6500           66.0      0.7564\n",
            "\n",
            "[85 rows x 5 columns]>\n"
          ]
        }
      ]
    },
    {
      "cell_type": "markdown",
      "source": [
        "#Задание №2\n",
        "\n",
        "Напишите программу Pandas, чтобы получить типы данных для данных полей Excel."
      ],
      "metadata": {
        "id": "XT2_bxU6DC5G"
      }
    },
    {
      "cell_type": "code",
      "source": [
        "import pandas as pd\n",
        "import numpy as np\n",
        "df = pd.read_excel('Table1.xlsx')\n",
        "df.dtypes"
      ],
      "metadata": {
        "id": "EA3pchvrC3Mb",
        "colab": {
          "base_uri": "https://localhost:8080/"
        },
        "outputId": "e16f3eed-d7b1-442c-c584-55db42c3bedd"
      },
      "execution_count": null,
      "outputs": [
        {
          "output_type": "execute_result",
          "data": {
            "text/plain": [
              "Группа             object\n",
              "% Посещаемость    float64\n",
              "% ДЗ              float64\n",
              "Успещность ДЗ     float64\n",
              "Взвешенное        float64\n",
              "dtype: object"
            ]
          },
          "metadata": {},
          "execution_count": 8
        }
      ]
    },
    {
      "cell_type": "markdown",
      "source": [
        "#Задание №3\n",
        "\n",
        "Напишите программу Pandas для чтения определенных столбцов из данного файла Excel."
      ],
      "metadata": {
        "id": "fthSAyiCGq7N"
      }
    },
    {
      "cell_type": "code",
      "source": [
        "import pandas as pd\n",
        "import numpy as np\n",
        "cols = [1, 2, 4]\n",
        "df = pd.read_excel('Table1.xlsx', usecols=cols)\n",
        "print(df)"
      ],
      "metadata": {
        "id": "3OXPe0boC2qH",
        "colab": {
          "base_uri": "https://localhost:8080/",
          "height": 423
        },
        "outputId": "a2c6fd3d-1548-43e7-9cef-8722f4fa28a8"
      },
      "execution_count": null,
      "outputs": [
        {
          "output_type": "execute_result",
          "data": {
            "text/plain": [
              "    % Посещаемость    % ДЗ  Взвешенное\n",
              "0           0.9990  0.8382      0.8988\n",
              "1           0.8815  0.6486      0.7779\n",
              "2           0.9551  0.7057      0.8320\n",
              "3           0.9995  0.9379      0.9377\n",
              "4           0.9194  0.9559      0.8946\n",
              "..             ...     ...         ...\n",
              "80          0.9974  0.9714      0.9530\n",
              "81          0.9873  0.8317      0.8898\n",
              "82          0.9450  0.7059      0.8296\n",
              "83          0.9967  0.7846      0.8824\n",
              "84          0.8595  0.6500      0.7564\n",
              "\n",
              "[85 rows x 3 columns]"
            ],
            "text/html": [
              "\n",
              "  <div id=\"df-7b3c10e4-057d-4da6-846b-9bdf35726960\">\n",
              "    <div class=\"colab-df-container\">\n",
              "      <div>\n",
              "<style scoped>\n",
              "    .dataframe tbody tr th:only-of-type {\n",
              "        vertical-align: middle;\n",
              "    }\n",
              "\n",
              "    .dataframe tbody tr th {\n",
              "        vertical-align: top;\n",
              "    }\n",
              "\n",
              "    .dataframe thead th {\n",
              "        text-align: right;\n",
              "    }\n",
              "</style>\n",
              "<table border=\"1\" class=\"dataframe\">\n",
              "  <thead>\n",
              "    <tr style=\"text-align: right;\">\n",
              "      <th></th>\n",
              "      <th>% Посещаемость</th>\n",
              "      <th>% ДЗ</th>\n",
              "      <th>Взвешенное</th>\n",
              "    </tr>\n",
              "  </thead>\n",
              "  <tbody>\n",
              "    <tr>\n",
              "      <th>0</th>\n",
              "      <td>0.9990</td>\n",
              "      <td>0.8382</td>\n",
              "      <td>0.8988</td>\n",
              "    </tr>\n",
              "    <tr>\n",
              "      <th>1</th>\n",
              "      <td>0.8815</td>\n",
              "      <td>0.6486</td>\n",
              "      <td>0.7779</td>\n",
              "    </tr>\n",
              "    <tr>\n",
              "      <th>2</th>\n",
              "      <td>0.9551</td>\n",
              "      <td>0.7057</td>\n",
              "      <td>0.8320</td>\n",
              "    </tr>\n",
              "    <tr>\n",
              "      <th>3</th>\n",
              "      <td>0.9995</td>\n",
              "      <td>0.9379</td>\n",
              "      <td>0.9377</td>\n",
              "    </tr>\n",
              "    <tr>\n",
              "      <th>4</th>\n",
              "      <td>0.9194</td>\n",
              "      <td>0.9559</td>\n",
              "      <td>0.8946</td>\n",
              "    </tr>\n",
              "    <tr>\n",
              "      <th>...</th>\n",
              "      <td>...</td>\n",
              "      <td>...</td>\n",
              "      <td>...</td>\n",
              "    </tr>\n",
              "    <tr>\n",
              "      <th>80</th>\n",
              "      <td>0.9974</td>\n",
              "      <td>0.9714</td>\n",
              "      <td>0.9530</td>\n",
              "    </tr>\n",
              "    <tr>\n",
              "      <th>81</th>\n",
              "      <td>0.9873</td>\n",
              "      <td>0.8317</td>\n",
              "      <td>0.8898</td>\n",
              "    </tr>\n",
              "    <tr>\n",
              "      <th>82</th>\n",
              "      <td>0.9450</td>\n",
              "      <td>0.7059</td>\n",
              "      <td>0.8296</td>\n",
              "    </tr>\n",
              "    <tr>\n",
              "      <th>83</th>\n",
              "      <td>0.9967</td>\n",
              "      <td>0.7846</td>\n",
              "      <td>0.8824</td>\n",
              "    </tr>\n",
              "    <tr>\n",
              "      <th>84</th>\n",
              "      <td>0.8595</td>\n",
              "      <td>0.6500</td>\n",
              "      <td>0.7564</td>\n",
              "    </tr>\n",
              "  </tbody>\n",
              "</table>\n",
              "<p>85 rows × 3 columns</p>\n",
              "</div>\n",
              "      <button class=\"colab-df-convert\" onclick=\"convertToInteractive('df-7b3c10e4-057d-4da6-846b-9bdf35726960')\"\n",
              "              title=\"Convert this dataframe to an interactive table.\"\n",
              "              style=\"display:none;\">\n",
              "        \n",
              "  <svg xmlns=\"http://www.w3.org/2000/svg\" height=\"24px\"viewBox=\"0 0 24 24\"\n",
              "       width=\"24px\">\n",
              "    <path d=\"M0 0h24v24H0V0z\" fill=\"none\"/>\n",
              "    <path d=\"M18.56 5.44l.94 2.06.94-2.06 2.06-.94-2.06-.94-.94-2.06-.94 2.06-2.06.94zm-11 1L8.5 8.5l.94-2.06 2.06-.94-2.06-.94L8.5 2.5l-.94 2.06-2.06.94zm10 10l.94 2.06.94-2.06 2.06-.94-2.06-.94-.94-2.06-.94 2.06-2.06.94z\"/><path d=\"M17.41 7.96l-1.37-1.37c-.4-.4-.92-.59-1.43-.59-.52 0-1.04.2-1.43.59L10.3 9.45l-7.72 7.72c-.78.78-.78 2.05 0 2.83L4 21.41c.39.39.9.59 1.41.59.51 0 1.02-.2 1.41-.59l7.78-7.78 2.81-2.81c.8-.78.8-2.07 0-2.86zM5.41 20L4 18.59l7.72-7.72 1.47 1.35L5.41 20z\"/>\n",
              "  </svg>\n",
              "      </button>\n",
              "      \n",
              "  <style>\n",
              "    .colab-df-container {\n",
              "      display:flex;\n",
              "      flex-wrap:wrap;\n",
              "      gap: 12px;\n",
              "    }\n",
              "\n",
              "    .colab-df-convert {\n",
              "      background-color: #E8F0FE;\n",
              "      border: none;\n",
              "      border-radius: 50%;\n",
              "      cursor: pointer;\n",
              "      display: none;\n",
              "      fill: #1967D2;\n",
              "      height: 32px;\n",
              "      padding: 0 0 0 0;\n",
              "      width: 32px;\n",
              "    }\n",
              "\n",
              "    .colab-df-convert:hover {\n",
              "      background-color: #E2EBFA;\n",
              "      box-shadow: 0px 1px 2px rgba(60, 64, 67, 0.3), 0px 1px 3px 1px rgba(60, 64, 67, 0.15);\n",
              "      fill: #174EA6;\n",
              "    }\n",
              "\n",
              "    [theme=dark] .colab-df-convert {\n",
              "      background-color: #3B4455;\n",
              "      fill: #D2E3FC;\n",
              "    }\n",
              "\n",
              "    [theme=dark] .colab-df-convert:hover {\n",
              "      background-color: #434B5C;\n",
              "      box-shadow: 0px 1px 3px 1px rgba(0, 0, 0, 0.15);\n",
              "      filter: drop-shadow(0px 1px 2px rgba(0, 0, 0, 0.3));\n",
              "      fill: #FFFFFF;\n",
              "    }\n",
              "  </style>\n",
              "\n",
              "      <script>\n",
              "        const buttonEl =\n",
              "          document.querySelector('#df-7b3c10e4-057d-4da6-846b-9bdf35726960 button.colab-df-convert');\n",
              "        buttonEl.style.display =\n",
              "          google.colab.kernel.accessAllowed ? 'block' : 'none';\n",
              "\n",
              "        async function convertToInteractive(key) {\n",
              "          const element = document.querySelector('#df-7b3c10e4-057d-4da6-846b-9bdf35726960');\n",
              "          const dataTable =\n",
              "            await google.colab.kernel.invokeFunction('convertToInteractive',\n",
              "                                                     [key], {});\n",
              "          if (!dataTable) return;\n",
              "\n",
              "          const docLinkHtml = 'Like what you see? Visit the ' +\n",
              "            '<a target=\"_blank\" href=https://colab.research.google.com/notebooks/data_table.ipynb>data table notebook</a>'\n",
              "            + ' to learn more about interactive tables.';\n",
              "          element.innerHTML = '';\n",
              "          dataTable['output_type'] = 'display_data';\n",
              "          await google.colab.output.renderOutput(dataTable, element);\n",
              "          const docLink = document.createElement('div');\n",
              "          docLink.innerHTML = docLinkHtml;\n",
              "          element.appendChild(docLink);\n",
              "        }\n",
              "      </script>\n",
              "    </div>\n",
              "  </div>\n",
              "  "
            ]
          },
          "metadata": {},
          "execution_count": 9
        }
      ]
    },
    {
      "cell_type": "markdown",
      "source": [
        "#Задание №4\n",
        "\n",
        "Напишите программу Pandas, чтобы найти сумму, среднее, максимальное и минимальное значение столбца «Посещение» файла Table1.xlsx."
      ],
      "metadata": {
        "id": "aJHbaOPpHCSz"
      }
    },
    {
      "cell_type": "code",
      "source": [
        "import pandas as pd\n",
        "import numpy as np\n",
        "\n",
        "df = pd.read_excel('Table1.xlsx')\n",
        "\n",
        "print(\"Sum: \",df[\"% Посещаемость\"].sum())\n",
        "print(\"Mean: \",df[\"% Посещаемость\"].mean())\n",
        "print(\"Maximum: \",df[\"% Посещаемость\"].max())\n",
        "print(\"Minimum: \",df[\"% Посещаемость\"].min())"
      ],
      "metadata": {
        "colab": {
          "base_uri": "https://localhost:8080/"
        },
        "id": "aCimXHuRHOAE",
        "outputId": "ae782601-97d5-41dc-d1ec-0c17b1b2bb84"
      },
      "execution_count": null,
      "outputs": [
        {
          "output_type": "stream",
          "name": "stdout",
          "text": [
            "Sum:  81.1471\n",
            "Mean:  0.9546717647058823\n",
            "Maximum:  1.0\n",
            "Minimum:  0.8348\n"
          ]
        }
      ]
    },
    {
      "cell_type": "markdown",
      "source": [
        "#Задание №5\n",
        "\n",
        "Напишите программу Pandas, чтобы вставить столбец в шестую позицию указанного листа Excel и заполнить его значениями NaN\n"
      ],
      "metadata": {
        "id": "OZO7bfBPHlfV"
      }
    },
    {
      "cell_type": "markdown",
      "source": [],
      "metadata": {
        "id": "cqr1G9unUF-A"
      }
    },
    {
      "cell_type": "code",
      "execution_count": null,
      "metadata": {
        "id": "zmsL7bwj5XGA",
        "colab": {
          "base_uri": "https://localhost:8080/"
        },
        "outputId": "3e87568e-d455-46e6-bfc6-0616a22775b2"
      },
      "outputs": [
        {
          "output_type": "stream",
          "name": "stdout",
          "text": [
            "<bound method NDFrame.head of                      Группа  % Посещаемость    % ДЗ  NEW  Успещность ДЗ  \\\n",
            "0   2год_инф_гр1_2021.09.09          0.9990  0.8382  NaN           71.9   \n",
            "1   2год_инф_гр2_2021.09.15          0.8815  0.6486  NaN           72.6   \n",
            "2   2год_инф_гр5_2021.10.11          0.9551  0.7057  NaN           71.6   \n",
            "3   2год_мат_гр1_2021.09.07          0.9995  0.9379  NaN           75.2   \n",
            "4   2год_мат_гр2_2021.09.16          0.9194  0.9559  NaN           69.8   \n",
            "..                      ...             ...     ...  ...            ...   \n",
            "80   год_мат_гр1_2021.09.06          0.9974  0.9714  NaN           78.3   \n",
            "81  год_мат_гр12_2021.09.14          0.9873  0.8317  NaN           71.4   \n",
            "82  год_мат_гр17_2021.09.27          0.9450  0.7059  NaN           73.1   \n",
            "83  год_рус_гр16_2021.09.23          0.9967  0.7846  NaN           73.5   \n",
            "84   год_физ_гр3_2021.10.03          0.8595  0.6500  NaN           66.0   \n",
            "\n",
            "    Взвешенное  \n",
            "0       0.8988  \n",
            "1       0.7779  \n",
            "2       0.8320  \n",
            "3       0.9377  \n",
            "4       0.8946  \n",
            "..         ...  \n",
            "80      0.9530  \n",
            "81      0.8898  \n",
            "82      0.8296  \n",
            "83      0.8824  \n",
            "84      0.7564  \n",
            "\n",
            "[85 rows x 6 columns]>\n"
          ]
        }
      ],
      "source": [
        "import pandas as pd\n",
        "import numpy as np\n",
        "\n",
        "df = pd.read_excel('Table1.xlsx')\n",
        "df.insert(3, \"NEW\", np.nan)\n",
        "\n",
        "print(df.head)"
      ]
    },
    {
      "cell_type": "markdown",
      "source": [
        "#Задание №6\n",
        "\n",
        "Напишите программу Pandas для добавления суммирования в строку данного файла Excel."
      ],
      "metadata": {
        "id": "KzOpYUVBLFE2"
      }
    },
    {
      "cell_type": "code",
      "source": [
        "import pandas as pd\n",
        "import numpy as np\n",
        "\n",
        "df = pd.read_excel('Table1.xlsx')\n",
        "sum_row = df[[\"Успещность ДЗ\", \"Взвешенное\"]].sum()\n",
        "df_sum = pd.DataFrame(data=sum_row).T\n",
        "df_sum = df_sum.reindex(columns=df.columns)\n",
        "\n",
        "print(df_sum)"
      ],
      "metadata": {
        "id": "UMWFPOegC3AM",
        "colab": {
          "base_uri": "https://localhost:8080/",
          "height": 81
        },
        "outputId": "f0c7274a-c5a0-42db-ad2c-e2d5c6d2409e"
      },
      "execution_count": null,
      "outputs": [
        {
          "output_type": "execute_result",
          "data": {
            "text/plain": [
              "   Группа  % Посещаемость  % ДЗ  Успещность ДЗ  Взвешенное\n",
              "0     NaN             NaN   NaN         6088.5     72.7745"
            ],
            "text/html": [
              "\n",
              "  <div id=\"df-51692fd8-a901-4a72-b1f7-58b2efcf172c\">\n",
              "    <div class=\"colab-df-container\">\n",
              "      <div>\n",
              "<style scoped>\n",
              "    .dataframe tbody tr th:only-of-type {\n",
              "        vertical-align: middle;\n",
              "    }\n",
              "\n",
              "    .dataframe tbody tr th {\n",
              "        vertical-align: top;\n",
              "    }\n",
              "\n",
              "    .dataframe thead th {\n",
              "        text-align: right;\n",
              "    }\n",
              "</style>\n",
              "<table border=\"1\" class=\"dataframe\">\n",
              "  <thead>\n",
              "    <tr style=\"text-align: right;\">\n",
              "      <th></th>\n",
              "      <th>Группа</th>\n",
              "      <th>% Посещаемость</th>\n",
              "      <th>% ДЗ</th>\n",
              "      <th>Успещность ДЗ</th>\n",
              "      <th>Взвешенное</th>\n",
              "    </tr>\n",
              "  </thead>\n",
              "  <tbody>\n",
              "    <tr>\n",
              "      <th>0</th>\n",
              "      <td>NaN</td>\n",
              "      <td>NaN</td>\n",
              "      <td>NaN</td>\n",
              "      <td>6088.5</td>\n",
              "      <td>72.7745</td>\n",
              "    </tr>\n",
              "  </tbody>\n",
              "</table>\n",
              "</div>\n",
              "      <button class=\"colab-df-convert\" onclick=\"convertToInteractive('df-51692fd8-a901-4a72-b1f7-58b2efcf172c')\"\n",
              "              title=\"Convert this dataframe to an interactive table.\"\n",
              "              style=\"display:none;\">\n",
              "        \n",
              "  <svg xmlns=\"http://www.w3.org/2000/svg\" height=\"24px\"viewBox=\"0 0 24 24\"\n",
              "       width=\"24px\">\n",
              "    <path d=\"M0 0h24v24H0V0z\" fill=\"none\"/>\n",
              "    <path d=\"M18.56 5.44l.94 2.06.94-2.06 2.06-.94-2.06-.94-.94-2.06-.94 2.06-2.06.94zm-11 1L8.5 8.5l.94-2.06 2.06-.94-2.06-.94L8.5 2.5l-.94 2.06-2.06.94zm10 10l.94 2.06.94-2.06 2.06-.94-2.06-.94-.94-2.06-.94 2.06-2.06.94z\"/><path d=\"M17.41 7.96l-1.37-1.37c-.4-.4-.92-.59-1.43-.59-.52 0-1.04.2-1.43.59L10.3 9.45l-7.72 7.72c-.78.78-.78 2.05 0 2.83L4 21.41c.39.39.9.59 1.41.59.51 0 1.02-.2 1.41-.59l7.78-7.78 2.81-2.81c.8-.78.8-2.07 0-2.86zM5.41 20L4 18.59l7.72-7.72 1.47 1.35L5.41 20z\"/>\n",
              "  </svg>\n",
              "      </button>\n",
              "      \n",
              "  <style>\n",
              "    .colab-df-container {\n",
              "      display:flex;\n",
              "      flex-wrap:wrap;\n",
              "      gap: 12px;\n",
              "    }\n",
              "\n",
              "    .colab-df-convert {\n",
              "      background-color: #E8F0FE;\n",
              "      border: none;\n",
              "      border-radius: 50%;\n",
              "      cursor: pointer;\n",
              "      display: none;\n",
              "      fill: #1967D2;\n",
              "      height: 32px;\n",
              "      padding: 0 0 0 0;\n",
              "      width: 32px;\n",
              "    }\n",
              "\n",
              "    .colab-df-convert:hover {\n",
              "      background-color: #E2EBFA;\n",
              "      box-shadow: 0px 1px 2px rgba(60, 64, 67, 0.3), 0px 1px 3px 1px rgba(60, 64, 67, 0.15);\n",
              "      fill: #174EA6;\n",
              "    }\n",
              "\n",
              "    [theme=dark] .colab-df-convert {\n",
              "      background-color: #3B4455;\n",
              "      fill: #D2E3FC;\n",
              "    }\n",
              "\n",
              "    [theme=dark] .colab-df-convert:hover {\n",
              "      background-color: #434B5C;\n",
              "      box-shadow: 0px 1px 3px 1px rgba(0, 0, 0, 0.15);\n",
              "      filter: drop-shadow(0px 1px 2px rgba(0, 0, 0, 0.3));\n",
              "      fill: #FFFFFF;\n",
              "    }\n",
              "  </style>\n",
              "\n",
              "      <script>\n",
              "        const buttonEl =\n",
              "          document.querySelector('#df-51692fd8-a901-4a72-b1f7-58b2efcf172c button.colab-df-convert');\n",
              "        buttonEl.style.display =\n",
              "          google.colab.kernel.accessAllowed ? 'block' : 'none';\n",
              "\n",
              "        async function convertToInteractive(key) {\n",
              "          const element = document.querySelector('#df-51692fd8-a901-4a72-b1f7-58b2efcf172c');\n",
              "          const dataTable =\n",
              "            await google.colab.kernel.invokeFunction('convertToInteractive',\n",
              "                                                     [key], {});\n",
              "          if (!dataTable) return;\n",
              "\n",
              "          const docLinkHtml = 'Like what you see? Visit the ' +\n",
              "            '<a target=\"_blank\" href=https://colab.research.google.com/notebooks/data_table.ipynb>data table notebook</a>'\n",
              "            + ' to learn more about interactive tables.';\n",
              "          element.innerHTML = '';\n",
              "          dataTable['output_type'] = 'display_data';\n",
              "          await google.colab.output.renderOutput(dataTable, element);\n",
              "          const docLink = document.createElement('div');\n",
              "          docLink.innerHTML = docLinkHtml;\n",
              "          element.appendChild(docLink);\n",
              "        }\n",
              "      </script>\n",
              "    </div>\n",
              "  </div>\n",
              "  "
            ]
          },
          "metadata": {},
          "execution_count": 16
        }
      ]
    },
    {
      "cell_type": "markdown",
      "source": [
        "#Задание №7\n",
        "\n",
        "Напишите программу Pandas для импорта данных Excel (Table1.xlsx) в кадр данных Pandas и отобразите последние десять строк."
      ],
      "metadata": {
        "id": "HRk6ZT1ZMuX1"
      }
    },
    {
      "cell_type": "code",
      "source": [
        "import pandas as pd\n",
        "import numpy as np\n",
        "\n",
        "df = pd.read_excel('Table1.xlsx')\n",
        "df.tail(n=10)"
      ],
      "metadata": {
        "colab": {
          "base_uri": "https://localhost:8080/",
          "height": 363
        },
        "id": "IZqd1lWKM2w8",
        "outputId": "65512395-53c3-4886-ab06-8caa88aa2a71"
      },
      "execution_count": null,
      "outputs": [
        {
          "output_type": "execute_result",
          "data": {
            "text/plain": [
              "                        Группа  % Посещаемость    % ДЗ  Успещность ДЗ  \\\n",
              "75  год_инт_инф_гр1_2021.11.05          0.9667  0.7692           74.4   \n",
              "76  год_инт_мат_гр1_2021.11.03          0.9800  0.9000           74.4   \n",
              "77  год_инт_мат_гр2_2021.11.11          0.9500  0.8500           84.0   \n",
              "78  год_инт_общ_гр1_2021.11.21          0.9500  0.8000           16.5   \n",
              "79  год_инт_рус_гр1_2021.11.04          0.9621  0.7686           81.0   \n",
              "80      год_мат_гр1_2021.09.06          0.9974  0.9714           78.3   \n",
              "81     год_мат_гр12_2021.09.14          0.9873  0.8317           71.4   \n",
              "82     год_мат_гр17_2021.09.27          0.9450  0.7059           73.1   \n",
              "83     год_рус_гр16_2021.09.23          0.9967  0.7846           73.5   \n",
              "84      год_физ_гр3_2021.10.03          0.8595  0.6500           66.0   \n",
              "\n",
              "    Взвешенное  \n",
              "75      0.8637  \n",
              "76      0.9140  \n",
              "77      0.8983  \n",
              "78      0.7692  \n",
              "79      0.8723  \n",
              "80      0.9530  \n",
              "81      0.8898  \n",
              "82      0.8296  \n",
              "83      0.8824  \n",
              "84      0.7564  "
            ],
            "text/html": [
              "\n",
              "  <div id=\"df-6d6eecc0-07c0-4326-b316-b290754e90af\">\n",
              "    <div class=\"colab-df-container\">\n",
              "      <div>\n",
              "<style scoped>\n",
              "    .dataframe tbody tr th:only-of-type {\n",
              "        vertical-align: middle;\n",
              "    }\n",
              "\n",
              "    .dataframe tbody tr th {\n",
              "        vertical-align: top;\n",
              "    }\n",
              "\n",
              "    .dataframe thead th {\n",
              "        text-align: right;\n",
              "    }\n",
              "</style>\n",
              "<table border=\"1\" class=\"dataframe\">\n",
              "  <thead>\n",
              "    <tr style=\"text-align: right;\">\n",
              "      <th></th>\n",
              "      <th>Группа</th>\n",
              "      <th>% Посещаемость</th>\n",
              "      <th>% ДЗ</th>\n",
              "      <th>Успещность ДЗ</th>\n",
              "      <th>Взвешенное</th>\n",
              "    </tr>\n",
              "  </thead>\n",
              "  <tbody>\n",
              "    <tr>\n",
              "      <th>75</th>\n",
              "      <td>год_инт_инф_гр1_2021.11.05</td>\n",
              "      <td>0.9667</td>\n",
              "      <td>0.7692</td>\n",
              "      <td>74.4</td>\n",
              "      <td>0.8637</td>\n",
              "    </tr>\n",
              "    <tr>\n",
              "      <th>76</th>\n",
              "      <td>год_инт_мат_гр1_2021.11.03</td>\n",
              "      <td>0.9800</td>\n",
              "      <td>0.9000</td>\n",
              "      <td>74.4</td>\n",
              "      <td>0.9140</td>\n",
              "    </tr>\n",
              "    <tr>\n",
              "      <th>77</th>\n",
              "      <td>год_инт_мат_гр2_2021.11.11</td>\n",
              "      <td>0.9500</td>\n",
              "      <td>0.8500</td>\n",
              "      <td>84.0</td>\n",
              "      <td>0.8983</td>\n",
              "    </tr>\n",
              "    <tr>\n",
              "      <th>78</th>\n",
              "      <td>год_инт_общ_гр1_2021.11.21</td>\n",
              "      <td>0.9500</td>\n",
              "      <td>0.8000</td>\n",
              "      <td>16.5</td>\n",
              "      <td>0.7692</td>\n",
              "    </tr>\n",
              "    <tr>\n",
              "      <th>79</th>\n",
              "      <td>год_инт_рус_гр1_2021.11.04</td>\n",
              "      <td>0.9621</td>\n",
              "      <td>0.7686</td>\n",
              "      <td>81.0</td>\n",
              "      <td>0.8723</td>\n",
              "    </tr>\n",
              "    <tr>\n",
              "      <th>80</th>\n",
              "      <td>год_мат_гр1_2021.09.06</td>\n",
              "      <td>0.9974</td>\n",
              "      <td>0.9714</td>\n",
              "      <td>78.3</td>\n",
              "      <td>0.9530</td>\n",
              "    </tr>\n",
              "    <tr>\n",
              "      <th>81</th>\n",
              "      <td>год_мат_гр12_2021.09.14</td>\n",
              "      <td>0.9873</td>\n",
              "      <td>0.8317</td>\n",
              "      <td>71.4</td>\n",
              "      <td>0.8898</td>\n",
              "    </tr>\n",
              "    <tr>\n",
              "      <th>82</th>\n",
              "      <td>год_мат_гр17_2021.09.27</td>\n",
              "      <td>0.9450</td>\n",
              "      <td>0.7059</td>\n",
              "      <td>73.1</td>\n",
              "      <td>0.8296</td>\n",
              "    </tr>\n",
              "    <tr>\n",
              "      <th>83</th>\n",
              "      <td>год_рус_гр16_2021.09.23</td>\n",
              "      <td>0.9967</td>\n",
              "      <td>0.7846</td>\n",
              "      <td>73.5</td>\n",
              "      <td>0.8824</td>\n",
              "    </tr>\n",
              "    <tr>\n",
              "      <th>84</th>\n",
              "      <td>год_физ_гр3_2021.10.03</td>\n",
              "      <td>0.8595</td>\n",
              "      <td>0.6500</td>\n",
              "      <td>66.0</td>\n",
              "      <td>0.7564</td>\n",
              "    </tr>\n",
              "  </tbody>\n",
              "</table>\n",
              "</div>\n",
              "      <button class=\"colab-df-convert\" onclick=\"convertToInteractive('df-6d6eecc0-07c0-4326-b316-b290754e90af')\"\n",
              "              title=\"Convert this dataframe to an interactive table.\"\n",
              "              style=\"display:none;\">\n",
              "        \n",
              "  <svg xmlns=\"http://www.w3.org/2000/svg\" height=\"24px\"viewBox=\"0 0 24 24\"\n",
              "       width=\"24px\">\n",
              "    <path d=\"M0 0h24v24H0V0z\" fill=\"none\"/>\n",
              "    <path d=\"M18.56 5.44l.94 2.06.94-2.06 2.06-.94-2.06-.94-.94-2.06-.94 2.06-2.06.94zm-11 1L8.5 8.5l.94-2.06 2.06-.94-2.06-.94L8.5 2.5l-.94 2.06-2.06.94zm10 10l.94 2.06.94-2.06 2.06-.94-2.06-.94-.94-2.06-.94 2.06-2.06.94z\"/><path d=\"M17.41 7.96l-1.37-1.37c-.4-.4-.92-.59-1.43-.59-.52 0-1.04.2-1.43.59L10.3 9.45l-7.72 7.72c-.78.78-.78 2.05 0 2.83L4 21.41c.39.39.9.59 1.41.59.51 0 1.02-.2 1.41-.59l7.78-7.78 2.81-2.81c.8-.78.8-2.07 0-2.86zM5.41 20L4 18.59l7.72-7.72 1.47 1.35L5.41 20z\"/>\n",
              "  </svg>\n",
              "      </button>\n",
              "      \n",
              "  <style>\n",
              "    .colab-df-container {\n",
              "      display:flex;\n",
              "      flex-wrap:wrap;\n",
              "      gap: 12px;\n",
              "    }\n",
              "\n",
              "    .colab-df-convert {\n",
              "      background-color: #E8F0FE;\n",
              "      border: none;\n",
              "      border-radius: 50%;\n",
              "      cursor: pointer;\n",
              "      display: none;\n",
              "      fill: #1967D2;\n",
              "      height: 32px;\n",
              "      padding: 0 0 0 0;\n",
              "      width: 32px;\n",
              "    }\n",
              "\n",
              "    .colab-df-convert:hover {\n",
              "      background-color: #E2EBFA;\n",
              "      box-shadow: 0px 1px 2px rgba(60, 64, 67, 0.3), 0px 1px 3px 1px rgba(60, 64, 67, 0.15);\n",
              "      fill: #174EA6;\n",
              "    }\n",
              "\n",
              "    [theme=dark] .colab-df-convert {\n",
              "      background-color: #3B4455;\n",
              "      fill: #D2E3FC;\n",
              "    }\n",
              "\n",
              "    [theme=dark] .colab-df-convert:hover {\n",
              "      background-color: #434B5C;\n",
              "      box-shadow: 0px 1px 3px 1px rgba(0, 0, 0, 0.15);\n",
              "      filter: drop-shadow(0px 1px 2px rgba(0, 0, 0, 0.3));\n",
              "      fill: #FFFFFF;\n",
              "    }\n",
              "  </style>\n",
              "\n",
              "      <script>\n",
              "        const buttonEl =\n",
              "          document.querySelector('#df-6d6eecc0-07c0-4326-b316-b290754e90af button.colab-df-convert');\n",
              "        buttonEl.style.display =\n",
              "          google.colab.kernel.accessAllowed ? 'block' : 'none';\n",
              "\n",
              "        async function convertToInteractive(key) {\n",
              "          const element = document.querySelector('#df-6d6eecc0-07c0-4326-b316-b290754e90af');\n",
              "          const dataTable =\n",
              "            await google.colab.kernel.invokeFunction('convertToInteractive',\n",
              "                                                     [key], {});\n",
              "          if (!dataTable) return;\n",
              "\n",
              "          const docLinkHtml = 'Like what you see? Visit the ' +\n",
              "            '<a target=\"_blank\" href=https://colab.research.google.com/notebooks/data_table.ipynb>data table notebook</a>'\n",
              "            + ' to learn more about interactive tables.';\n",
              "          element.innerHTML = '';\n",
              "          dataTable['output_type'] = 'display_data';\n",
              "          await google.colab.output.renderOutput(dataTable, element);\n",
              "          const docLink = document.createElement('div');\n",
              "          docLink.innerHTML = docLinkHtml;\n",
              "          element.appendChild(docLink);\n",
              "        }\n",
              "      </script>\n",
              "    </div>\n",
              "  </div>\n",
              "  "
            ]
          },
          "metadata": {},
          "execution_count": 17
        }
      ]
    },
    {
      "cell_type": "markdown",
      "source": [
        "#Задание №8\n",
        "\n",
        "Напишите программу Pandas для импорта данных в формате Excel (Table1.xlsx) в фрейм данных и найдите конкретный идентификатор Группа."
      ],
      "metadata": {
        "id": "in0Yk7wWOFmR"
      }
    },
    {
      "cell_type": "code",
      "source": [
        "import pandas as pd\n",
        "import numpy as np\n",
        "\n",
        "df = pd.read_excel('Table1.xlsx')\n",
        "df[df[\"Группа\"] == \"год_мат_гр17_2021.09.27\"].head()"
      ],
      "metadata": {
        "colab": {
          "base_uri": "https://localhost:8080/",
          "height": 81
        },
        "id": "2pPY_wzHOEL1",
        "outputId": "98d4d905-dc07-4770-a502-a928ac750530"
      },
      "execution_count": null,
      "outputs": [
        {
          "output_type": "execute_result",
          "data": {
            "text/plain": [
              "                     Группа  % Посещаемость    % ДЗ  Успещность ДЗ  Взвешенное\n",
              "82  год_мат_гр17_2021.09.27           0.945  0.7059           73.1      0.8296"
            ],
            "text/html": [
              "\n",
              "  <div id=\"df-968e4644-1f09-4a6a-a1ab-56140510fd81\">\n",
              "    <div class=\"colab-df-container\">\n",
              "      <div>\n",
              "<style scoped>\n",
              "    .dataframe tbody tr th:only-of-type {\n",
              "        vertical-align: middle;\n",
              "    }\n",
              "\n",
              "    .dataframe tbody tr th {\n",
              "        vertical-align: top;\n",
              "    }\n",
              "\n",
              "    .dataframe thead th {\n",
              "        text-align: right;\n",
              "    }\n",
              "</style>\n",
              "<table border=\"1\" class=\"dataframe\">\n",
              "  <thead>\n",
              "    <tr style=\"text-align: right;\">\n",
              "      <th></th>\n",
              "      <th>Группа</th>\n",
              "      <th>% Посещаемость</th>\n",
              "      <th>% ДЗ</th>\n",
              "      <th>Успещность ДЗ</th>\n",
              "      <th>Взвешенное</th>\n",
              "    </tr>\n",
              "  </thead>\n",
              "  <tbody>\n",
              "    <tr>\n",
              "      <th>82</th>\n",
              "      <td>год_мат_гр17_2021.09.27</td>\n",
              "      <td>0.945</td>\n",
              "      <td>0.7059</td>\n",
              "      <td>73.1</td>\n",
              "      <td>0.8296</td>\n",
              "    </tr>\n",
              "  </tbody>\n",
              "</table>\n",
              "</div>\n",
              "      <button class=\"colab-df-convert\" onclick=\"convertToInteractive('df-968e4644-1f09-4a6a-a1ab-56140510fd81')\"\n",
              "              title=\"Convert this dataframe to an interactive table.\"\n",
              "              style=\"display:none;\">\n",
              "        \n",
              "  <svg xmlns=\"http://www.w3.org/2000/svg\" height=\"24px\"viewBox=\"0 0 24 24\"\n",
              "       width=\"24px\">\n",
              "    <path d=\"M0 0h24v24H0V0z\" fill=\"none\"/>\n",
              "    <path d=\"M18.56 5.44l.94 2.06.94-2.06 2.06-.94-2.06-.94-.94-2.06-.94 2.06-2.06.94zm-11 1L8.5 8.5l.94-2.06 2.06-.94-2.06-.94L8.5 2.5l-.94 2.06-2.06.94zm10 10l.94 2.06.94-2.06 2.06-.94-2.06-.94-.94-2.06-.94 2.06-2.06.94z\"/><path d=\"M17.41 7.96l-1.37-1.37c-.4-.4-.92-.59-1.43-.59-.52 0-1.04.2-1.43.59L10.3 9.45l-7.72 7.72c-.78.78-.78 2.05 0 2.83L4 21.41c.39.39.9.59 1.41.59.51 0 1.02-.2 1.41-.59l7.78-7.78 2.81-2.81c.8-.78.8-2.07 0-2.86zM5.41 20L4 18.59l7.72-7.72 1.47 1.35L5.41 20z\"/>\n",
              "  </svg>\n",
              "      </button>\n",
              "      \n",
              "  <style>\n",
              "    .colab-df-container {\n",
              "      display:flex;\n",
              "      flex-wrap:wrap;\n",
              "      gap: 12px;\n",
              "    }\n",
              "\n",
              "    .colab-df-convert {\n",
              "      background-color: #E8F0FE;\n",
              "      border: none;\n",
              "      border-radius: 50%;\n",
              "      cursor: pointer;\n",
              "      display: none;\n",
              "      fill: #1967D2;\n",
              "      height: 32px;\n",
              "      padding: 0 0 0 0;\n",
              "      width: 32px;\n",
              "    }\n",
              "\n",
              "    .colab-df-convert:hover {\n",
              "      background-color: #E2EBFA;\n",
              "      box-shadow: 0px 1px 2px rgba(60, 64, 67, 0.3), 0px 1px 3px 1px rgba(60, 64, 67, 0.15);\n",
              "      fill: #174EA6;\n",
              "    }\n",
              "\n",
              "    [theme=dark] .colab-df-convert {\n",
              "      background-color: #3B4455;\n",
              "      fill: #D2E3FC;\n",
              "    }\n",
              "\n",
              "    [theme=dark] .colab-df-convert:hover {\n",
              "      background-color: #434B5C;\n",
              "      box-shadow: 0px 1px 3px 1px rgba(0, 0, 0, 0.15);\n",
              "      filter: drop-shadow(0px 1px 2px rgba(0, 0, 0, 0.3));\n",
              "      fill: #FFFFFF;\n",
              "    }\n",
              "  </style>\n",
              "\n",
              "      <script>\n",
              "        const buttonEl =\n",
              "          document.querySelector('#df-968e4644-1f09-4a6a-a1ab-56140510fd81 button.colab-df-convert');\n",
              "        buttonEl.style.display =\n",
              "          google.colab.kernel.accessAllowed ? 'block' : 'none';\n",
              "\n",
              "        async function convertToInteractive(key) {\n",
              "          const element = document.querySelector('#df-968e4644-1f09-4a6a-a1ab-56140510fd81');\n",
              "          const dataTable =\n",
              "            await google.colab.kernel.invokeFunction('convertToInteractive',\n",
              "                                                     [key], {});\n",
              "          if (!dataTable) return;\n",
              "\n",
              "          const docLinkHtml = 'Like what you see? Visit the ' +\n",
              "            '<a target=\"_blank\" href=https://colab.research.google.com/notebooks/data_table.ipynb>data table notebook</a>'\n",
              "            + ' to learn more about interactive tables.';\n",
              "          element.innerHTML = '';\n",
              "          dataTable['output_type'] = 'display_data';\n",
              "          await google.colab.output.renderOutput(dataTable, element);\n",
              "          const docLink = document.createElement('div');\n",
              "          docLink.innerHTML = docLinkHtml;\n",
              "          element.appendChild(docLink);\n",
              "        }\n",
              "      </script>\n",
              "    </div>\n",
              "  </div>\n",
              "  "
            ]
          },
          "metadata": {},
          "execution_count": 27
        }
      ]
    },
    {
      "cell_type": "markdown",
      "source": [
        "#Задание №9\n",
        "\n",
        "Напишите программу Pandas для импорта данных Excel (Table1.xlsx) в кадр данных и найдите группы, где «взвешенное» > 0.85."
      ],
      "metadata": {
        "id": "4urQmtYPP0JV"
      }
    },
    {
      "cell_type": "code",
      "source": [
        "import pandas as pd\n",
        "import numpy as np\n",
        "\n",
        "df = pd.read_excel('Table1.xlsx')\n",
        "df[df[\"Взвешенное\"] > 0.85].head()"
      ],
      "metadata": {
        "colab": {
          "base_uri": "https://localhost:8080/",
          "height": 206
        },
        "id": "1ijb67JdKkQu",
        "outputId": "f0696fac-ed95-4f52-8dc6-57633e07c4e2"
      },
      "execution_count": null,
      "outputs": [
        {
          "output_type": "execute_result",
          "data": {
            "text/plain": [
              "                    Группа  % Посещаемость    % ДЗ  Успещность ДЗ  Взвешенное\n",
              "0  2год_инф_гр1_2021.09.09          0.9990  0.8382           71.9      0.8988\n",
              "3  2год_мат_гр1_2021.09.07          0.9995  0.9379           75.2      0.9377\n",
              "4  2год_мат_гр2_2021.09.16          0.9194  0.9559           69.8      0.8946\n",
              "5  2год_мат_гр3_2021.09.21          0.9995  0.7944           77.9      0.8944\n",
              "6  2год_мат_гр5_2021.10.14          0.9594  0.8761           78.5      0.9026"
            ],
            "text/html": [
              "\n",
              "  <div id=\"df-077f81ce-3c81-4d5b-8451-cfde7e1d46bb\">\n",
              "    <div class=\"colab-df-container\">\n",
              "      <div>\n",
              "<style scoped>\n",
              "    .dataframe tbody tr th:only-of-type {\n",
              "        vertical-align: middle;\n",
              "    }\n",
              "\n",
              "    .dataframe tbody tr th {\n",
              "        vertical-align: top;\n",
              "    }\n",
              "\n",
              "    .dataframe thead th {\n",
              "        text-align: right;\n",
              "    }\n",
              "</style>\n",
              "<table border=\"1\" class=\"dataframe\">\n",
              "  <thead>\n",
              "    <tr style=\"text-align: right;\">\n",
              "      <th></th>\n",
              "      <th>Группа</th>\n",
              "      <th>% Посещаемость</th>\n",
              "      <th>% ДЗ</th>\n",
              "      <th>Успещность ДЗ</th>\n",
              "      <th>Взвешенное</th>\n",
              "    </tr>\n",
              "  </thead>\n",
              "  <tbody>\n",
              "    <tr>\n",
              "      <th>0</th>\n",
              "      <td>2год_инф_гр1_2021.09.09</td>\n",
              "      <td>0.9990</td>\n",
              "      <td>0.8382</td>\n",
              "      <td>71.9</td>\n",
              "      <td>0.8988</td>\n",
              "    </tr>\n",
              "    <tr>\n",
              "      <th>3</th>\n",
              "      <td>2год_мат_гр1_2021.09.07</td>\n",
              "      <td>0.9995</td>\n",
              "      <td>0.9379</td>\n",
              "      <td>75.2</td>\n",
              "      <td>0.9377</td>\n",
              "    </tr>\n",
              "    <tr>\n",
              "      <th>4</th>\n",
              "      <td>2год_мат_гр2_2021.09.16</td>\n",
              "      <td>0.9194</td>\n",
              "      <td>0.9559</td>\n",
              "      <td>69.8</td>\n",
              "      <td>0.8946</td>\n",
              "    </tr>\n",
              "    <tr>\n",
              "      <th>5</th>\n",
              "      <td>2год_мат_гр3_2021.09.21</td>\n",
              "      <td>0.9995</td>\n",
              "      <td>0.7944</td>\n",
              "      <td>77.9</td>\n",
              "      <td>0.8944</td>\n",
              "    </tr>\n",
              "    <tr>\n",
              "      <th>6</th>\n",
              "      <td>2год_мат_гр5_2021.10.14</td>\n",
              "      <td>0.9594</td>\n",
              "      <td>0.8761</td>\n",
              "      <td>78.5</td>\n",
              "      <td>0.9026</td>\n",
              "    </tr>\n",
              "  </tbody>\n",
              "</table>\n",
              "</div>\n",
              "      <button class=\"colab-df-convert\" onclick=\"convertToInteractive('df-077f81ce-3c81-4d5b-8451-cfde7e1d46bb')\"\n",
              "              title=\"Convert this dataframe to an interactive table.\"\n",
              "              style=\"display:none;\">\n",
              "        \n",
              "  <svg xmlns=\"http://www.w3.org/2000/svg\" height=\"24px\"viewBox=\"0 0 24 24\"\n",
              "       width=\"24px\">\n",
              "    <path d=\"M0 0h24v24H0V0z\" fill=\"none\"/>\n",
              "    <path d=\"M18.56 5.44l.94 2.06.94-2.06 2.06-.94-2.06-.94-.94-2.06-.94 2.06-2.06.94zm-11 1L8.5 8.5l.94-2.06 2.06-.94-2.06-.94L8.5 2.5l-.94 2.06-2.06.94zm10 10l.94 2.06.94-2.06 2.06-.94-2.06-.94-.94-2.06-.94 2.06-2.06.94z\"/><path d=\"M17.41 7.96l-1.37-1.37c-.4-.4-.92-.59-1.43-.59-.52 0-1.04.2-1.43.59L10.3 9.45l-7.72 7.72c-.78.78-.78 2.05 0 2.83L4 21.41c.39.39.9.59 1.41.59.51 0 1.02-.2 1.41-.59l7.78-7.78 2.81-2.81c.8-.78.8-2.07 0-2.86zM5.41 20L4 18.59l7.72-7.72 1.47 1.35L5.41 20z\"/>\n",
              "  </svg>\n",
              "      </button>\n",
              "      \n",
              "  <style>\n",
              "    .colab-df-container {\n",
              "      display:flex;\n",
              "      flex-wrap:wrap;\n",
              "      gap: 12px;\n",
              "    }\n",
              "\n",
              "    .colab-df-convert {\n",
              "      background-color: #E8F0FE;\n",
              "      border: none;\n",
              "      border-radius: 50%;\n",
              "      cursor: pointer;\n",
              "      display: none;\n",
              "      fill: #1967D2;\n",
              "      height: 32px;\n",
              "      padding: 0 0 0 0;\n",
              "      width: 32px;\n",
              "    }\n",
              "\n",
              "    .colab-df-convert:hover {\n",
              "      background-color: #E2EBFA;\n",
              "      box-shadow: 0px 1px 2px rgba(60, 64, 67, 0.3), 0px 1px 3px 1px rgba(60, 64, 67, 0.15);\n",
              "      fill: #174EA6;\n",
              "    }\n",
              "\n",
              "    [theme=dark] .colab-df-convert {\n",
              "      background-color: #3B4455;\n",
              "      fill: #D2E3FC;\n",
              "    }\n",
              "\n",
              "    [theme=dark] .colab-df-convert:hover {\n",
              "      background-color: #434B5C;\n",
              "      box-shadow: 0px 1px 3px 1px rgba(0, 0, 0, 0.15);\n",
              "      filter: drop-shadow(0px 1px 2px rgba(0, 0, 0, 0.3));\n",
              "      fill: #FFFFFF;\n",
              "    }\n",
              "  </style>\n",
              "\n",
              "      <script>\n",
              "        const buttonEl =\n",
              "          document.querySelector('#df-077f81ce-3c81-4d5b-8451-cfde7e1d46bb button.colab-df-convert');\n",
              "        buttonEl.style.display =\n",
              "          google.colab.kernel.accessAllowed ? 'block' : 'none';\n",
              "\n",
              "        async function convertToInteractive(key) {\n",
              "          const element = document.querySelector('#df-077f81ce-3c81-4d5b-8451-cfde7e1d46bb');\n",
              "          const dataTable =\n",
              "            await google.colab.kernel.invokeFunction('convertToInteractive',\n",
              "                                                     [key], {});\n",
              "          if (!dataTable) return;\n",
              "\n",
              "          const docLinkHtml = 'Like what you see? Visit the ' +\n",
              "            '<a target=\"_blank\" href=https://colab.research.google.com/notebooks/data_table.ipynb>data table notebook</a>'\n",
              "            + ' to learn more about interactive tables.';\n",
              "          element.innerHTML = '';\n",
              "          dataTable['output_type'] = 'display_data';\n",
              "          await google.colab.output.renderOutput(dataTable, element);\n",
              "          const docLink = document.createElement('div');\n",
              "          docLink.innerHTML = docLinkHtml;\n",
              "          element.appendChild(docLink);\n",
              "        }\n",
              "      </script>\n",
              "    </div>\n",
              "  </div>\n",
              "  "
            ]
          },
          "metadata": {},
          "execution_count": 3
        }
      ]
    },
    {
      "cell_type": "markdown",
      "source": [
        "#Задание №10\n",
        "\n",
        "Напишите программу Pandas для импорта данных в формате Excel (Table1.xlsx) в фрейм данных Pandas и найдите список указанных групп по имени"
      ],
      "metadata": {
        "id": "8GSO6SINRoPD"
      }
    },
    {
      "cell_type": "code",
      "source": [
        "#год_инт_рус_гр1_2021.11.04\n",
        "#2год_мат_гр3_2021.09.21\n",
        "#год_рус_гр16_2021.09.23\n",
        "\n",
        "import pandas as pd\n",
        "import numpy as np\n",
        "df = pd.read_excel('Table1.xlsx')\n",
        "df.query('Группа == [\"год_инт_рус_гр1_2021.11.04\", \"2год_мат_гр3_2021.09.21\", \"год_рус_гр16_2021.09.23\"]').head()"
      ],
      "metadata": {
        "colab": {
          "base_uri": "https://localhost:8080/",
          "height": 143
        },
        "id": "2sxFIzB0LVN9",
        "outputId": "672790a0-cf78-48a8-aaea-38e56c6ef78a"
      },
      "execution_count": null,
      "outputs": [
        {
          "output_type": "execute_result",
          "data": {
            "text/plain": [
              "                        Группа  % Посещаемость    % ДЗ  Успещность ДЗ  \\\n",
              "5      2год_мат_гр3_2021.09.21          0.9995  0.7944           77.9   \n",
              "79  год_инт_рус_гр1_2021.11.04          0.9621  0.7686           81.0   \n",
              "83     год_рус_гр16_2021.09.23          0.9967  0.7846           73.5   \n",
              "\n",
              "    Взвешенное  \n",
              "5       0.8944  \n",
              "79      0.8723  \n",
              "83      0.8824  "
            ],
            "text/html": [
              "\n",
              "  <div id=\"df-3db75cef-8933-4688-b7e1-1fcec11f6d05\">\n",
              "    <div class=\"colab-df-container\">\n",
              "      <div>\n",
              "<style scoped>\n",
              "    .dataframe tbody tr th:only-of-type {\n",
              "        vertical-align: middle;\n",
              "    }\n",
              "\n",
              "    .dataframe tbody tr th {\n",
              "        vertical-align: top;\n",
              "    }\n",
              "\n",
              "    .dataframe thead th {\n",
              "        text-align: right;\n",
              "    }\n",
              "</style>\n",
              "<table border=\"1\" class=\"dataframe\">\n",
              "  <thead>\n",
              "    <tr style=\"text-align: right;\">\n",
              "      <th></th>\n",
              "      <th>Группа</th>\n",
              "      <th>% Посещаемость</th>\n",
              "      <th>% ДЗ</th>\n",
              "      <th>Успещность ДЗ</th>\n",
              "      <th>Взвешенное</th>\n",
              "    </tr>\n",
              "  </thead>\n",
              "  <tbody>\n",
              "    <tr>\n",
              "      <th>5</th>\n",
              "      <td>2год_мат_гр3_2021.09.21</td>\n",
              "      <td>0.9995</td>\n",
              "      <td>0.7944</td>\n",
              "      <td>77.9</td>\n",
              "      <td>0.8944</td>\n",
              "    </tr>\n",
              "    <tr>\n",
              "      <th>79</th>\n",
              "      <td>год_инт_рус_гр1_2021.11.04</td>\n",
              "      <td>0.9621</td>\n",
              "      <td>0.7686</td>\n",
              "      <td>81.0</td>\n",
              "      <td>0.8723</td>\n",
              "    </tr>\n",
              "    <tr>\n",
              "      <th>83</th>\n",
              "      <td>год_рус_гр16_2021.09.23</td>\n",
              "      <td>0.9967</td>\n",
              "      <td>0.7846</td>\n",
              "      <td>73.5</td>\n",
              "      <td>0.8824</td>\n",
              "    </tr>\n",
              "  </tbody>\n",
              "</table>\n",
              "</div>\n",
              "      <button class=\"colab-df-convert\" onclick=\"convertToInteractive('df-3db75cef-8933-4688-b7e1-1fcec11f6d05')\"\n",
              "              title=\"Convert this dataframe to an interactive table.\"\n",
              "              style=\"display:none;\">\n",
              "        \n",
              "  <svg xmlns=\"http://www.w3.org/2000/svg\" height=\"24px\"viewBox=\"0 0 24 24\"\n",
              "       width=\"24px\">\n",
              "    <path d=\"M0 0h24v24H0V0z\" fill=\"none\"/>\n",
              "    <path d=\"M18.56 5.44l.94 2.06.94-2.06 2.06-.94-2.06-.94-.94-2.06-.94 2.06-2.06.94zm-11 1L8.5 8.5l.94-2.06 2.06-.94-2.06-.94L8.5 2.5l-.94 2.06-2.06.94zm10 10l.94 2.06.94-2.06 2.06-.94-2.06-.94-.94-2.06-.94 2.06-2.06.94z\"/><path d=\"M17.41 7.96l-1.37-1.37c-.4-.4-.92-.59-1.43-.59-.52 0-1.04.2-1.43.59L10.3 9.45l-7.72 7.72c-.78.78-.78 2.05 0 2.83L4 21.41c.39.39.9.59 1.41.59.51 0 1.02-.2 1.41-.59l7.78-7.78 2.81-2.81c.8-.78.8-2.07 0-2.86zM5.41 20L4 18.59l7.72-7.72 1.47 1.35L5.41 20z\"/>\n",
              "  </svg>\n",
              "      </button>\n",
              "      \n",
              "  <style>\n",
              "    .colab-df-container {\n",
              "      display:flex;\n",
              "      flex-wrap:wrap;\n",
              "      gap: 12px;\n",
              "    }\n",
              "\n",
              "    .colab-df-convert {\n",
              "      background-color: #E8F0FE;\n",
              "      border: none;\n",
              "      border-radius: 50%;\n",
              "      cursor: pointer;\n",
              "      display: none;\n",
              "      fill: #1967D2;\n",
              "      height: 32px;\n",
              "      padding: 0 0 0 0;\n",
              "      width: 32px;\n",
              "    }\n",
              "\n",
              "    .colab-df-convert:hover {\n",
              "      background-color: #E2EBFA;\n",
              "      box-shadow: 0px 1px 2px rgba(60, 64, 67, 0.3), 0px 1px 3px 1px rgba(60, 64, 67, 0.15);\n",
              "      fill: #174EA6;\n",
              "    }\n",
              "\n",
              "    [theme=dark] .colab-df-convert {\n",
              "      background-color: #3B4455;\n",
              "      fill: #D2E3FC;\n",
              "    }\n",
              "\n",
              "    [theme=dark] .colab-df-convert:hover {\n",
              "      background-color: #434B5C;\n",
              "      box-shadow: 0px 1px 3px 1px rgba(0, 0, 0, 0.15);\n",
              "      filter: drop-shadow(0px 1px 2px rgba(0, 0, 0, 0.3));\n",
              "      fill: #FFFFFF;\n",
              "    }\n",
              "  </style>\n",
              "\n",
              "      <script>\n",
              "        const buttonEl =\n",
              "          document.querySelector('#df-3db75cef-8933-4688-b7e1-1fcec11f6d05 button.colab-df-convert');\n",
              "        buttonEl.style.display =\n",
              "          google.colab.kernel.accessAllowed ? 'block' : 'none';\n",
              "\n",
              "        async function convertToInteractive(key) {\n",
              "          const element = document.querySelector('#df-3db75cef-8933-4688-b7e1-1fcec11f6d05');\n",
              "          const dataTable =\n",
              "            await google.colab.kernel.invokeFunction('convertToInteractive',\n",
              "                                                     [key], {});\n",
              "          if (!dataTable) return;\n",
              "\n",
              "          const docLinkHtml = 'Like what you see? Visit the ' +\n",
              "            '<a target=\"_blank\" href=https://colab.research.google.com/notebooks/data_table.ipynb>data table notebook</a>'\n",
              "            + ' to learn more about interactive tables.';\n",
              "          element.innerHTML = '';\n",
              "          dataTable['output_type'] = 'display_data';\n",
              "          await google.colab.output.renderOutput(dataTable, element);\n",
              "          const docLink = document.createElement('div');\n",
              "          docLink.innerHTML = docLinkHtml;\n",
              "          element.appendChild(docLink);\n",
              "        }\n",
              "      </script>\n",
              "    </div>\n",
              "  </div>\n",
              "  "
            ]
          },
          "metadata": {},
          "execution_count": 5
        }
      ]
    },
    {
      "cell_type": "markdown",
      "source": [
        "#Задание №11\n",
        "\n",
        "Напишите программу Pandas для импорта данных в формате Excel (Table2.xlsx) в кадр данных Pandas и найдите список учеников, которые относятся к информатике."
      ],
      "metadata": {
        "id": "7UASanJURqEl"
      }
    },
    {
      "cell_type": "code",
      "source": [
        "import pandas as pd\n",
        "import numpy as np\n",
        "df = pd.read_excel('Table2.xlsx')\n",
        "df[df['предмет'] =='ИНФ']"
      ],
      "metadata": {
        "colab": {
          "base_uri": "https://localhost:8080/",
          "height": 696
        },
        "id": "vD9nZEl3OBsC",
        "outputId": "2bf150d9-6df2-44cb-b9eb-0e1ad0239157"
      },
      "execution_count": null,
      "outputs": [
        {
          "output_type": "execute_result",
          "data": {
            "text/plain": [
              "                                    Unique практикумы  \\\n",
              "0    annakuligina2007@mail.ru 2год_инф_гр1_2022.09.12   \n",
              "1   das13hab123ykova2201@gmail.com 2год_инф_гр1_20...   \n",
              "2      egorurudenko@yandex.ru 2год_инф_гр1_2022.09.12   \n",
              "3     irisha0021944@gmail.com 2год_инф_гр1_2022.09.12   \n",
              "4    kirillovegor69@gmail.com 2год_инф_гр1_2022.09.12   \n",
              "..                                                ...   \n",
              "72   semennadytkin2@gmail.com 2год_инф_гр7_2022.09.12   \n",
              "73  yanakasaeva2006@gmail.com 2год_инф_гр7_2022.09.12   \n",
              "74       babanovniki2@mail.ru 2год_инф_гр8_2022.09.12   \n",
              "75          mirzamonz@mail.ru 2год_инф_гр8_2022.09.12   \n",
              "76       vikusik053@gmail.com 2год_инф_гр8_2022.09.12   \n",
              "\n",
              "                        Почта         ФИ ученика                     Курс  \\\n",
              "0    annakuligina2007@mail.ru      Анна Кулигина  2год_инф_гр1_2022.09.12   \n",
              "1   dashabykova2201@gmail.com       Дарья Быкова  2год_инф_гр1_2022.09.12   \n",
              "2      egorurudenko@yandex.ru       Егор Руденко  2год_инф_гр1_2022.09.12   \n",
              "3     irisha0021944@gmail.com       Ирина Ступко  2год_инф_гр1_2022.09.12   \n",
              "4    kirillovegor69@gmail.com      Егор Кириллов  2год_инф_гр1_2022.09.12   \n",
              "..                        ...                ...                      ...   \n",
              "72   semennadytkin2@gmail.com     Семен Надуткин  2год_инф_гр7_2022.09.12   \n",
              "73  yanakasaeva2006@gmail.com        Яна Касаева  2год_инф_гр7_2022.09.12   \n",
              "74       babanovniki2@mail.ru     Никита Бабанов  2год_инф_гр8_2022.09.12   \n",
              "75          mirzamonz@mail.ru   Мирзамон Замонов  2год_инф_гр8_2022.09.12   \n",
              "76       vikusik053@gmail.com  Виктория Брянцева  2год_инф_гр8_2022.09.12   \n",
              "\n",
              "      Формат предмет  Посещаемость \\nзанятий 16.01  \\\n",
              "0   10 класс     ИНФ                        0.6667   \n",
              "1   10 класс     ИНФ                        0.0000   \n",
              "2   10 класс     ИНФ                        0.5556   \n",
              "3   10 класс     ИНФ                        1.0000   \n",
              "4   10 класс     ИНФ                        0.8889   \n",
              "..       ...     ...                           ...   \n",
              "72  10 класс     ИНФ                        0.1111   \n",
              "73  10 класс     ИНФ                        0.1111   \n",
              "74  10 класс     ИНФ                        1.0000   \n",
              "75  10 класс     ИНФ                        0.2222   \n",
              "76  10 класс     ИНФ                        0.1111   \n",
              "\n",
              "    Посещаемость \\nзанятий\\n28.12  Посещаемость \\nпрактикумов\\n16.01  \\\n",
              "0                           0.625                             0.0000   \n",
              "1                           0.000                             0.0000   \n",
              "2                           0.375                             0.7143   \n",
              "3                           0.875                             1.0000   \n",
              "4                           0.750                             0.7143   \n",
              "..                            ...                                ...   \n",
              "72                          0.000                             0.6667   \n",
              "73                          0.125                             0.6667   \n",
              "74                            NaN                             0.0000   \n",
              "75                          0.250                             1.0000   \n",
              "76                            NaN                             0.0000   \n",
              "\n",
              "    Посещаемость \\nпрактикумов\\n28.12  ...  ДЗ практикумов\\n16.01  \\\n",
              "0                              0.0000  ...                  0.000   \n",
              "1                              0.0000  ...                  0.000   \n",
              "2                              0.7143  ...                  0.500   \n",
              "3                              1.0000  ...                  0.500   \n",
              "4                              0.7143  ...                  0.375   \n",
              "..                                ...  ...                    ...   \n",
              "72                             0.6667  ...                  0.125   \n",
              "73                             0.6667  ...                  0.375   \n",
              "74                                NaN  ...                  0.000   \n",
              "75                                NaN  ...                  0.000   \n",
              "76                                NaN  ...                  0.125   \n",
              "\n",
              "    ДЗ практикумов\\n28.12  Правильность ДЗ занятий\\n16.01  \\\n",
              "0                  0.0000                          0.8350   \n",
              "1                  0.0000                             NaN   \n",
              "2                  0.6667                          0.7567   \n",
              "3                  0.5000                          0.3150   \n",
              "4                  0.5000                          0.4057   \n",
              "..                    ...                             ...   \n",
              "72                 0.0000                          0.6000   \n",
              "73                 0.7500                          0.9150   \n",
              "74                    NaN                          0.8600   \n",
              "75                    NaN                          0.5550   \n",
              "76                    NaN                             NaN   \n",
              "\n",
              "    Правильность ДЗ занятий\\n28.12  Правильность ДЗ практикумов\\n16.01  \\\n",
              "0                           0.8350                                 NaN   \n",
              "1                              NaN                                 NaN   \n",
              "2                           0.7567                              0.8500   \n",
              "3                           0.3020                              0.2575   \n",
              "4                           0.3560                              0.6100   \n",
              "..                             ...                                 ...   \n",
              "72                          0.6000                              0.8300   \n",
              "73                          0.9150                              1.0000   \n",
              "74                             NaN                                 NaN   \n",
              "75                          0.7100                                 NaN   \n",
              "76                             NaN                              0.8900   \n",
              "\n",
              "    Правильность ДЗ практикумов\\n28.12  Взвешенное\\n16.01  Взвешенное\\n28.12  \\\n",
              "0                                  NaN                NaN             0.2675   \n",
              "1                                  NaN                NaN             0.0000   \n",
              "2                               0.8500             0.5902             0.5798   \n",
              "3                               0.3433             0.7422             0.7100   \n",
              "4                               0.6100             0.6776             0.6341   \n",
              "..                                 ...                ...                ...   \n",
              "72                                 NaN             0.3530             0.2375   \n",
              "73                              1.0000             0.4536             0.5242   \n",
              "74                                 NaN                NaN                NaN   \n",
              "75                                 NaN                NaN             0.1425   \n",
              "76                                 NaN                NaN                NaN   \n",
              "\n",
              "    Кагорта\\n16.01  Кагорта\\n28.12  \n",
              "0             0-49            0-49  \n",
              "1             0-49            0-49  \n",
              "2            60-69           50-59  \n",
              "3            70-79           70-79  \n",
              "4            60-69           60-69  \n",
              "..             ...             ...  \n",
              "72            0-49            0-49  \n",
              "73            0-49           50-59  \n",
              "74            0-49             NaN  \n",
              "75            0-49            0-49  \n",
              "76            0-49             NaN  \n",
              "\n",
              "[77 rows x 22 columns]"
            ],
            "text/html": [
              "\n",
              "  <div id=\"df-a3606cbb-9cd3-408a-a45c-0fcf19539336\">\n",
              "    <div class=\"colab-df-container\">\n",
              "      <div>\n",
              "<style scoped>\n",
              "    .dataframe tbody tr th:only-of-type {\n",
              "        vertical-align: middle;\n",
              "    }\n",
              "\n",
              "    .dataframe tbody tr th {\n",
              "        vertical-align: top;\n",
              "    }\n",
              "\n",
              "    .dataframe thead th {\n",
              "        text-align: right;\n",
              "    }\n",
              "</style>\n",
              "<table border=\"1\" class=\"dataframe\">\n",
              "  <thead>\n",
              "    <tr style=\"text-align: right;\">\n",
              "      <th></th>\n",
              "      <th>Unique практикумы</th>\n",
              "      <th>Почта</th>\n",
              "      <th>ФИ ученика</th>\n",
              "      <th>Курс</th>\n",
              "      <th>Формат</th>\n",
              "      <th>предмет</th>\n",
              "      <th>Посещаемость \\nзанятий 16.01</th>\n",
              "      <th>Посещаемость \\nзанятий\\n28.12</th>\n",
              "      <th>Посещаемость \\nпрактикумов\\n16.01</th>\n",
              "      <th>Посещаемость \\nпрактикумов\\n28.12</th>\n",
              "      <th>...</th>\n",
              "      <th>ДЗ практикумов\\n16.01</th>\n",
              "      <th>ДЗ практикумов\\n28.12</th>\n",
              "      <th>Правильность ДЗ занятий\\n16.01</th>\n",
              "      <th>Правильность ДЗ занятий\\n28.12</th>\n",
              "      <th>Правильность ДЗ практикумов\\n16.01</th>\n",
              "      <th>Правильность ДЗ практикумов\\n28.12</th>\n",
              "      <th>Взвешенное\\n16.01</th>\n",
              "      <th>Взвешенное\\n28.12</th>\n",
              "      <th>Кагорта\\n16.01</th>\n",
              "      <th>Кагорта\\n28.12</th>\n",
              "    </tr>\n",
              "  </thead>\n",
              "  <tbody>\n",
              "    <tr>\n",
              "      <th>0</th>\n",
              "      <td>annakuligina2007@mail.ru 2год_инф_гр1_2022.09.12</td>\n",
              "      <td>annakuligina2007@mail.ru</td>\n",
              "      <td>Анна Кулигина</td>\n",
              "      <td>2год_инф_гр1_2022.09.12</td>\n",
              "      <td>10 класс</td>\n",
              "      <td>ИНФ</td>\n",
              "      <td>0.6667</td>\n",
              "      <td>0.625</td>\n",
              "      <td>0.0000</td>\n",
              "      <td>0.0000</td>\n",
              "      <td>...</td>\n",
              "      <td>0.000</td>\n",
              "      <td>0.0000</td>\n",
              "      <td>0.8350</td>\n",
              "      <td>0.8350</td>\n",
              "      <td>NaN</td>\n",
              "      <td>NaN</td>\n",
              "      <td>NaN</td>\n",
              "      <td>0.2675</td>\n",
              "      <td>0-49</td>\n",
              "      <td>0-49</td>\n",
              "    </tr>\n",
              "    <tr>\n",
              "      <th>1</th>\n",
              "      <td>das13hab123ykova2201@gmail.com 2год_инф_гр1_20...</td>\n",
              "      <td>dashabykova2201@gmail.com</td>\n",
              "      <td>Дарья Быкова</td>\n",
              "      <td>2год_инф_гр1_2022.09.12</td>\n",
              "      <td>10 класс</td>\n",
              "      <td>ИНФ</td>\n",
              "      <td>0.0000</td>\n",
              "      <td>0.000</td>\n",
              "      <td>0.0000</td>\n",
              "      <td>0.0000</td>\n",
              "      <td>...</td>\n",
              "      <td>0.000</td>\n",
              "      <td>0.0000</td>\n",
              "      <td>NaN</td>\n",
              "      <td>NaN</td>\n",
              "      <td>NaN</td>\n",
              "      <td>NaN</td>\n",
              "      <td>NaN</td>\n",
              "      <td>0.0000</td>\n",
              "      <td>0-49</td>\n",
              "      <td>0-49</td>\n",
              "    </tr>\n",
              "    <tr>\n",
              "      <th>2</th>\n",
              "      <td>egorurudenko@yandex.ru 2год_инф_гр1_2022.09.12</td>\n",
              "      <td>egorurudenko@yandex.ru</td>\n",
              "      <td>Егор Руденко</td>\n",
              "      <td>2год_инф_гр1_2022.09.12</td>\n",
              "      <td>10 класс</td>\n",
              "      <td>ИНФ</td>\n",
              "      <td>0.5556</td>\n",
              "      <td>0.375</td>\n",
              "      <td>0.7143</td>\n",
              "      <td>0.7143</td>\n",
              "      <td>...</td>\n",
              "      <td>0.500</td>\n",
              "      <td>0.6667</td>\n",
              "      <td>0.7567</td>\n",
              "      <td>0.7567</td>\n",
              "      <td>0.8500</td>\n",
              "      <td>0.8500</td>\n",
              "      <td>0.5902</td>\n",
              "      <td>0.5798</td>\n",
              "      <td>60-69</td>\n",
              "      <td>50-59</td>\n",
              "    </tr>\n",
              "    <tr>\n",
              "      <th>3</th>\n",
              "      <td>irisha0021944@gmail.com 2год_инф_гр1_2022.09.12</td>\n",
              "      <td>irisha0021944@gmail.com</td>\n",
              "      <td>Ирина Ступко</td>\n",
              "      <td>2год_инф_гр1_2022.09.12</td>\n",
              "      <td>10 класс</td>\n",
              "      <td>ИНФ</td>\n",
              "      <td>1.0000</td>\n",
              "      <td>0.875</td>\n",
              "      <td>1.0000</td>\n",
              "      <td>1.0000</td>\n",
              "      <td>...</td>\n",
              "      <td>0.500</td>\n",
              "      <td>0.5000</td>\n",
              "      <td>0.3150</td>\n",
              "      <td>0.3020</td>\n",
              "      <td>0.2575</td>\n",
              "      <td>0.3433</td>\n",
              "      <td>0.7422</td>\n",
              "      <td>0.7100</td>\n",
              "      <td>70-79</td>\n",
              "      <td>70-79</td>\n",
              "    </tr>\n",
              "    <tr>\n",
              "      <th>4</th>\n",
              "      <td>kirillovegor69@gmail.com 2год_инф_гр1_2022.09.12</td>\n",
              "      <td>kirillovegor69@gmail.com</td>\n",
              "      <td>Егор Кириллов</td>\n",
              "      <td>2год_инф_гр1_2022.09.12</td>\n",
              "      <td>10 класс</td>\n",
              "      <td>ИНФ</td>\n",
              "      <td>0.8889</td>\n",
              "      <td>0.750</td>\n",
              "      <td>0.7143</td>\n",
              "      <td>0.7143</td>\n",
              "      <td>...</td>\n",
              "      <td>0.375</td>\n",
              "      <td>0.5000</td>\n",
              "      <td>0.4057</td>\n",
              "      <td>0.3560</td>\n",
              "      <td>0.6100</td>\n",
              "      <td>0.6100</td>\n",
              "      <td>0.6776</td>\n",
              "      <td>0.6341</td>\n",
              "      <td>60-69</td>\n",
              "      <td>60-69</td>\n",
              "    </tr>\n",
              "    <tr>\n",
              "      <th>...</th>\n",
              "      <td>...</td>\n",
              "      <td>...</td>\n",
              "      <td>...</td>\n",
              "      <td>...</td>\n",
              "      <td>...</td>\n",
              "      <td>...</td>\n",
              "      <td>...</td>\n",
              "      <td>...</td>\n",
              "      <td>...</td>\n",
              "      <td>...</td>\n",
              "      <td>...</td>\n",
              "      <td>...</td>\n",
              "      <td>...</td>\n",
              "      <td>...</td>\n",
              "      <td>...</td>\n",
              "      <td>...</td>\n",
              "      <td>...</td>\n",
              "      <td>...</td>\n",
              "      <td>...</td>\n",
              "      <td>...</td>\n",
              "      <td>...</td>\n",
              "    </tr>\n",
              "    <tr>\n",
              "      <th>72</th>\n",
              "      <td>semennadytkin2@gmail.com 2год_инф_гр7_2022.09.12</td>\n",
              "      <td>semennadytkin2@gmail.com</td>\n",
              "      <td>Семен Надуткин</td>\n",
              "      <td>2год_инф_гр7_2022.09.12</td>\n",
              "      <td>10 класс</td>\n",
              "      <td>ИНФ</td>\n",
              "      <td>0.1111</td>\n",
              "      <td>0.000</td>\n",
              "      <td>0.6667</td>\n",
              "      <td>0.6667</td>\n",
              "      <td>...</td>\n",
              "      <td>0.125</td>\n",
              "      <td>0.0000</td>\n",
              "      <td>0.6000</td>\n",
              "      <td>0.6000</td>\n",
              "      <td>0.8300</td>\n",
              "      <td>NaN</td>\n",
              "      <td>0.3530</td>\n",
              "      <td>0.2375</td>\n",
              "      <td>0-49</td>\n",
              "      <td>0-49</td>\n",
              "    </tr>\n",
              "    <tr>\n",
              "      <th>73</th>\n",
              "      <td>yanakasaeva2006@gmail.com 2год_инф_гр7_2022.09.12</td>\n",
              "      <td>yanakasaeva2006@gmail.com</td>\n",
              "      <td>Яна Касаева</td>\n",
              "      <td>2год_инф_гр7_2022.09.12</td>\n",
              "      <td>10 класс</td>\n",
              "      <td>ИНФ</td>\n",
              "      <td>0.1111</td>\n",
              "      <td>0.125</td>\n",
              "      <td>0.6667</td>\n",
              "      <td>0.6667</td>\n",
              "      <td>...</td>\n",
              "      <td>0.375</td>\n",
              "      <td>0.7500</td>\n",
              "      <td>0.9150</td>\n",
              "      <td>0.9150</td>\n",
              "      <td>1.0000</td>\n",
              "      <td>1.0000</td>\n",
              "      <td>0.4536</td>\n",
              "      <td>0.5242</td>\n",
              "      <td>0-49</td>\n",
              "      <td>50-59</td>\n",
              "    </tr>\n",
              "    <tr>\n",
              "      <th>74</th>\n",
              "      <td>babanovniki2@mail.ru 2год_инф_гр8_2022.09.12</td>\n",
              "      <td>babanovniki2@mail.ru</td>\n",
              "      <td>Никита Бабанов</td>\n",
              "      <td>2год_инф_гр8_2022.09.12</td>\n",
              "      <td>10 класс</td>\n",
              "      <td>ИНФ</td>\n",
              "      <td>1.0000</td>\n",
              "      <td>NaN</td>\n",
              "      <td>0.0000</td>\n",
              "      <td>NaN</td>\n",
              "      <td>...</td>\n",
              "      <td>0.000</td>\n",
              "      <td>NaN</td>\n",
              "      <td>0.8600</td>\n",
              "      <td>NaN</td>\n",
              "      <td>NaN</td>\n",
              "      <td>NaN</td>\n",
              "      <td>NaN</td>\n",
              "      <td>NaN</td>\n",
              "      <td>0-49</td>\n",
              "      <td>NaN</td>\n",
              "    </tr>\n",
              "    <tr>\n",
              "      <th>75</th>\n",
              "      <td>mirzamonz@mail.ru 2год_инф_гр8_2022.09.12</td>\n",
              "      <td>mirzamonz@mail.ru</td>\n",
              "      <td>Мирзамон Замонов</td>\n",
              "      <td>2год_инф_гр8_2022.09.12</td>\n",
              "      <td>10 класс</td>\n",
              "      <td>ИНФ</td>\n",
              "      <td>0.2222</td>\n",
              "      <td>0.250</td>\n",
              "      <td>1.0000</td>\n",
              "      <td>NaN</td>\n",
              "      <td>...</td>\n",
              "      <td>0.000</td>\n",
              "      <td>NaN</td>\n",
              "      <td>0.5550</td>\n",
              "      <td>0.7100</td>\n",
              "      <td>NaN</td>\n",
              "      <td>NaN</td>\n",
              "      <td>NaN</td>\n",
              "      <td>0.1425</td>\n",
              "      <td>0-49</td>\n",
              "      <td>0-49</td>\n",
              "    </tr>\n",
              "    <tr>\n",
              "      <th>76</th>\n",
              "      <td>vikusik053@gmail.com 2год_инф_гр8_2022.09.12</td>\n",
              "      <td>vikusik053@gmail.com</td>\n",
              "      <td>Виктория Брянцева</td>\n",
              "      <td>2год_инф_гр8_2022.09.12</td>\n",
              "      <td>10 класс</td>\n",
              "      <td>ИНФ</td>\n",
              "      <td>0.1111</td>\n",
              "      <td>NaN</td>\n",
              "      <td>0.0000</td>\n",
              "      <td>NaN</td>\n",
              "      <td>...</td>\n",
              "      <td>0.125</td>\n",
              "      <td>NaN</td>\n",
              "      <td>NaN</td>\n",
              "      <td>NaN</td>\n",
              "      <td>0.8900</td>\n",
              "      <td>NaN</td>\n",
              "      <td>NaN</td>\n",
              "      <td>NaN</td>\n",
              "      <td>0-49</td>\n",
              "      <td>NaN</td>\n",
              "    </tr>\n",
              "  </tbody>\n",
              "</table>\n",
              "<p>77 rows × 22 columns</p>\n",
              "</div>\n",
              "      <button class=\"colab-df-convert\" onclick=\"convertToInteractive('df-a3606cbb-9cd3-408a-a45c-0fcf19539336')\"\n",
              "              title=\"Convert this dataframe to an interactive table.\"\n",
              "              style=\"display:none;\">\n",
              "        \n",
              "  <svg xmlns=\"http://www.w3.org/2000/svg\" height=\"24px\"viewBox=\"0 0 24 24\"\n",
              "       width=\"24px\">\n",
              "    <path d=\"M0 0h24v24H0V0z\" fill=\"none\"/>\n",
              "    <path d=\"M18.56 5.44l.94 2.06.94-2.06 2.06-.94-2.06-.94-.94-2.06-.94 2.06-2.06.94zm-11 1L8.5 8.5l.94-2.06 2.06-.94-2.06-.94L8.5 2.5l-.94 2.06-2.06.94zm10 10l.94 2.06.94-2.06 2.06-.94-2.06-.94-.94-2.06-.94 2.06-2.06.94z\"/><path d=\"M17.41 7.96l-1.37-1.37c-.4-.4-.92-.59-1.43-.59-.52 0-1.04.2-1.43.59L10.3 9.45l-7.72 7.72c-.78.78-.78 2.05 0 2.83L4 21.41c.39.39.9.59 1.41.59.51 0 1.02-.2 1.41-.59l7.78-7.78 2.81-2.81c.8-.78.8-2.07 0-2.86zM5.41 20L4 18.59l7.72-7.72 1.47 1.35L5.41 20z\"/>\n",
              "  </svg>\n",
              "      </button>\n",
              "      \n",
              "  <style>\n",
              "    .colab-df-container {\n",
              "      display:flex;\n",
              "      flex-wrap:wrap;\n",
              "      gap: 12px;\n",
              "    }\n",
              "\n",
              "    .colab-df-convert {\n",
              "      background-color: #E8F0FE;\n",
              "      border: none;\n",
              "      border-radius: 50%;\n",
              "      cursor: pointer;\n",
              "      display: none;\n",
              "      fill: #1967D2;\n",
              "      height: 32px;\n",
              "      padding: 0 0 0 0;\n",
              "      width: 32px;\n",
              "    }\n",
              "\n",
              "    .colab-df-convert:hover {\n",
              "      background-color: #E2EBFA;\n",
              "      box-shadow: 0px 1px 2px rgba(60, 64, 67, 0.3), 0px 1px 3px 1px rgba(60, 64, 67, 0.15);\n",
              "      fill: #174EA6;\n",
              "    }\n",
              "\n",
              "    [theme=dark] .colab-df-convert {\n",
              "      background-color: #3B4455;\n",
              "      fill: #D2E3FC;\n",
              "    }\n",
              "\n",
              "    [theme=dark] .colab-df-convert:hover {\n",
              "      background-color: #434B5C;\n",
              "      box-shadow: 0px 1px 3px 1px rgba(0, 0, 0, 0.15);\n",
              "      filter: drop-shadow(0px 1px 2px rgba(0, 0, 0, 0.3));\n",
              "      fill: #FFFFFF;\n",
              "    }\n",
              "  </style>\n",
              "\n",
              "      <script>\n",
              "        const buttonEl =\n",
              "          document.querySelector('#df-a3606cbb-9cd3-408a-a45c-0fcf19539336 button.colab-df-convert');\n",
              "        buttonEl.style.display =\n",
              "          google.colab.kernel.accessAllowed ? 'block' : 'none';\n",
              "\n",
              "        async function convertToInteractive(key) {\n",
              "          const element = document.querySelector('#df-a3606cbb-9cd3-408a-a45c-0fcf19539336');\n",
              "          const dataTable =\n",
              "            await google.colab.kernel.invokeFunction('convertToInteractive',\n",
              "                                                     [key], {});\n",
              "          if (!dataTable) return;\n",
              "\n",
              "          const docLinkHtml = 'Like what you see? Visit the ' +\n",
              "            '<a target=\"_blank\" href=https://colab.research.google.com/notebooks/data_table.ipynb>data table notebook</a>'\n",
              "            + ' to learn more about interactive tables.';\n",
              "          element.innerHTML = '';\n",
              "          dataTable['output_type'] = 'display_data';\n",
              "          await google.colab.output.renderOutput(dataTable, element);\n",
              "          const docLink = document.createElement('div');\n",
              "          docLink.innerHTML = docLinkHtml;\n",
              "          element.appendChild(docLink);\n",
              "        }\n",
              "      </script>\n",
              "    </div>\n",
              "  </div>\n",
              "  "
            ]
          },
          "metadata": {},
          "execution_count": 6
        }
      ]
    },
    {
      "cell_type": "markdown",
      "source": [
        "#Задание №12\n",
        "\n",
        "Напишите программу Pandas для импорта данных Excel (Table2.xlsx) в кадр данных Pandas и сортировки по нескольким заданным столбцам.\n"
      ],
      "metadata": {
        "id": "xdf7X0a3RrSm"
      }
    },
    {
      "cell_type": "code",
      "source": [
        "import pandas as pd\n",
        "import numpy as np\n",
        "\n",
        "df = pd.read_excel('Table2.xlsx')\n",
        "result = df.sort_values(by=['ФИ ученика','Кагорта 28.12'],ascending=[0,1])\n",
        "print(result)"
      ],
      "metadata": {
        "colab": {
          "base_uri": "https://localhost:8080/"
        },
        "id": "VblHkdv6Ok-y",
        "outputId": "d87c4c49-1be6-427e-dd1b-cea5f842626c"
      },
      "execution_count": null,
      "outputs": [
        {
          "output_type": "stream",
          "name": "stdout",
          "text": [
            "                                    Unique практикумы  \\\n",
            "9    shustriyshustr@gmail.com 2год_инф_гр1_2022.09.12   \n",
            "83   shustriyshustr@gmail.com 2год_мат_гр1_2022.09.13   \n",
            "73  yanakasaeva2006@gmail.com 2год_инф_гр7_2022.09.12   \n",
            "20        yulek2006@gmail.com 2год_инф_гр2_2022.09.12   \n",
            "97        yulek2006@gmail.com 2год_мат_гр2_2022.09.13   \n",
            "..                                                ...   \n",
            "15      revalex2612@gmail.com 2год_инф_гр2_2022.09.12   \n",
            "93      revalex2612@gmail.com 2год_мат_гр2_2022.09.13   \n",
            "56  bogdan.bogdan.type.sukhanov@mail.ru 2год_инф_г...   \n",
            "65  bogdan.bogdan.type.sukhanov@mail.ru 2год_инф_г...   \n",
            "60             mz_@rambler.ru 2год_инф_гр6_2022.09.12   \n",
            "\n",
            "                                  Почта             ФИ ученика  \\\n",
            "9              shustriyshustr@gmail.com      Ярослав Алимбочка   \n",
            "83             shustriyshustr@gmail.com      Ярослав Алимбочка   \n",
            "73            yanakasaeva2006@gmail.com            Яна Касаева   \n",
            "20                  yulek2006@gmail.com          Юлия Малышева   \n",
            "97                  yulek2006@gmail.com          Юлия Малышева   \n",
            "..                                  ...                    ...   \n",
            "15                revalex2612@gmail.com  Александр Селиверстов   \n",
            "93                revalex2612@gmail.com  Александр Селиверстов   \n",
            "56  bogdan.bogdan.type.sukhanov@mail.ru                    NaN   \n",
            "65  bogdan.bogdan.type.sukhanov@mail.ru                    NaN   \n",
            "60                       mz_@rambler.ru                    NaN   \n",
            "\n",
            "                       Курс    Формат предмет  Посещаемость \\nзанятий 16.01  \\\n",
            "9   2год_инф_гр1_2022.09.12  10 класс     ИНФ                        0.8889   \n",
            "83  2год_мат_гр1_2022.09.13  10 класс     МАТ                        1.0000   \n",
            "73  2год_инф_гр7_2022.09.12  10 класс     ИНФ                        0.1111   \n",
            "20  2год_инф_гр2_2022.09.12  10 класс     ИНФ                        1.0000   \n",
            "97  2год_мат_гр2_2022.09.13  10 класс     МАТ                        1.0000   \n",
            "..                      ...       ...     ...                           ...   \n",
            "15  2год_инф_гр2_2022.09.12  10 класс     ИНФ                        0.7778   \n",
            "93  2год_мат_гр2_2022.09.13  10 класс     МАТ                        0.7778   \n",
            "56  2год_инф_гр6_2022.09.12  10 класс     ИНФ                        1.0000   \n",
            "65  2год_инф_гр7_2022.09.12  10 класс     ИНФ                        1.0000   \n",
            "60  2год_инф_гр6_2022.09.12  10 класс     ИНФ                        0.0000   \n",
            "\n",
            "    Посещаемость \\nзанятий\\n28.12  Посещаемость \\nпрактикумов\\n16.01  \\\n",
            "9                          0.5000                             0.4286   \n",
            "83                         0.4286                             0.5714   \n",
            "73                         0.1250                             0.6667   \n",
            "20                         0.8750                             0.8750   \n",
            "97                         1.0000                             1.0000   \n",
            "..                            ...                                ...   \n",
            "15                         0.7500                             0.8750   \n",
            "93                         0.7143                             1.0000   \n",
            "56                         0.8750                             0.0000   \n",
            "65                         0.8750                             1.0000   \n",
            "60                            NaN                             0.0000   \n",
            "\n",
            "    Посещаемость \\nпрактикумов\\n28.12  ...  ДЗ практикумов\\n16.01  \\\n",
            "9                              0.4286  ...                 0.1250   \n",
            "83                             0.5714  ...                 0.2500   \n",
            "73                             0.6667  ...                 0.3750   \n",
            "20                             0.8571  ...                 0.6667   \n",
            "97                             1.0000  ...                 1.0000   \n",
            "..                                ...  ...                    ...   \n",
            "15                             0.8571  ...                 0.2222   \n",
            "93                             1.0000  ...                 0.8750   \n",
            "56                             0.0000  ...                 0.0000   \n",
            "65                             1.0000  ...                 0.5000   \n",
            "60                                NaN  ...                 0.0000   \n",
            "\n",
            "    ДЗ практикумов\\n28.12  Правильность ДЗ занятий\\n16.01  \\\n",
            "9                  0.1667                          0.9333   \n",
            "83                 0.3333                          0.3600   \n",
            "73                 0.7500                          0.9150   \n",
            "20                 1.0000                          0.7638   \n",
            "97                 1.0000                          0.7578   \n",
            "..                    ...                             ...   \n",
            "15                 0.3333                          1.0000   \n",
            "93                 0.5714                          0.8000   \n",
            "56                 0.0000                          0.6300   \n",
            "65                 1.0000                          0.6300   \n",
            "60                    NaN                             NaN   \n",
            "\n",
            "    Правильность ДЗ занятий\\n28.12  Правильность ДЗ практикумов\\n16.01  \\\n",
            "9                           0.9333                              0.0000   \n",
            "83                          0.4450                              0.6050   \n",
            "73                          0.9150                              1.0000   \n",
            "20                          0.7933                              0.9617   \n",
            "97                          0.7457                              0.7988   \n",
            "..                             ...                                 ...   \n",
            "15                          1.0000                              0.3900   \n",
            "93                          0.8000                              0.6643   \n",
            "56                          0.6300                                 NaN   \n",
            "65                          0.6300                              0.4575   \n",
            "60                             NaN                                 NaN   \n",
            "\n",
            "    Правильность ДЗ практикумов\\n28.12  Взвешенное\\n16.01  Взвешенное\\n28.12  \\\n",
            "9                               0.0000             0.4835             0.4002   \n",
            "83                              0.6050             0.6261             0.4883   \n",
            "73                              1.0000             0.4536             0.5242   \n",
            "20                              0.9617             0.8718             0.8709   \n",
            "97                              0.9129             0.9630             0.9716   \n",
            "..                                 ...                ...                ...   \n",
            "15                              0.3900             0.5846             0.5940   \n",
            "93                              0.8850             0.7679             0.7357   \n",
            "56                                 NaN                NaN             0.3129   \n",
            "65                              0.4575             0.7110             0.7677   \n",
            "60                                 NaN                NaN                NaN   \n",
            "\n",
            "    Кагорта\\n16.01  Кагорта 28.12  \n",
            "9             0-49           0-49  \n",
            "83           60-69           0-49  \n",
            "73            0-49          50-59  \n",
            "20           80-89          80-89  \n",
            "97          90-100         90-100  \n",
            "..             ...            ...  \n",
            "15           50-59          60-69  \n",
            "93           70-79          70-79  \n",
            "56            0-49           0-49  \n",
            "65           70-79          70-79  \n",
            "60            0-49            NaN  \n",
            "\n",
            "[99 rows x 22 columns]\n"
          ]
        }
      ]
    },
    {
      "cell_type": "markdown",
      "source": [
        "#Задание №13\n",
        "\n",
        "Напишите программу Pandas, чтобы импортировать три таблицы данных из данных Excel (Table2.xlsx)  и (Table1.xlsx) в один фрейм данных и экспортировать результат в новый файл Excel."
      ],
      "metadata": {
        "id": "uOCB-9yBRs4d"
      }
    },
    {
      "cell_type": "code",
      "source": [
        "import pandas as pd\n",
        "import numpy as np\n",
        "\n",
        "df1 = pd.read_excel('Table1.xlsx',sheet_name=0)\n",
        "df2 = pd.read_excel('Table2.xlsx',sheet_name=0)\n",
        "\n",
        "df = pd.concat([df1, df2])\n",
        "\n",
        "df.to_excel('output.xlsx', index=False)"
      ],
      "metadata": {
        "id": "Plg0FU7DQ4fv"
      },
      "execution_count": null,
      "outputs": []
    },
    {
      "cell_type": "code",
      "source": [],
      "metadata": {
        "id": "_rGt_v1kvTMZ"
      },
      "execution_count": null,
      "outputs": []
    }
  ]
}