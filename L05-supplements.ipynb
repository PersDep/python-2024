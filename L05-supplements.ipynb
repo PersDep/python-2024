{
  "cells": [
    {
      "cell_type": "markdown",
      "metadata": {
        "id": "wjXkqsFhyxAz"
      },
      "source": [
        "## 1. Reverse a string without affecting special characters\n",
        "\n",
        "Возьмем строку и перевернем порядок ее буквенных символов, не затрагивая специальные символы.\n",
        "\n",
        "Пример:\n",
        "\n",
        "Ввод: `\"ab$cd#ef\"`\n",
        "\n",
        "Вывод: `\"fe$dc#ba\"`\n",
        "\n",
        "Буквенные символы `'a'`, `'b'`, `'e'` и `'f'` перевернуты, в то время как специальные символы `'$'`, `'*'` и `'#'` остаются на своих местах."
      ]
    },
    {
      "cell_type": "code",
      "execution_count": null,
      "metadata": {
        "id": "BVfGS1hcyxAz"
      },
      "outputs": [],
      "source": [
        "def reverse_string(text):\n",
        "    # Convert the string to a list of characters\n",
        "    text_list = list(text)\n",
        "\n",
        "    # Initialize two pointers, one at the beginning and one at the end of the string\n",
        "    left = 0\n",
        "    right = len(text_list) - 1\n",
        "\n",
        "    # Swap the alphabetic characters from both ends until the pointers meet or cross each other\n",
        "    while left < right:\n",
        "        if not text_list[left].isalpha():\n",
        "            left += 1\n",
        "        elif not text_list[right].isalpha():\n",
        "            right -= 1\n",
        "        else:\n",
        "            text_list[left], text_list[right] = text_list[right], text_list[left]\n",
        "            left += 1\n",
        "            right -= 1\n",
        "\n",
        "    # Convert the list of characters back to a string and return it\n",
        "    return ''.join(text_list)\n"
      ]
    },
    {
      "cell_type": "markdown",
      "metadata": {
        "id": "3DHSqiz1yxA0"
      },
      "source": [
        "**Объяснение:**\n",
        "\n",
        "Код использует подход с двумя указателями для обмена буквенными символами в строке. Входная строка преобразуется в список символов, чтобы ее можно было изменить. Левый указатель начинает с начала строки, а правый указатель начинает с конца строки. Указатели движутся навстречу друг другу, пока не встретятся или не пересекутся.\n",
        "\n",
        "На каждой итерации код проверяет, является ли символ, на который указывает левый указатель, буквенным. Если нет, то левый указатель увеличивается, чтобы пропустить специальный символ. Аналогично, если символ, на который указывает правый указатель, не является буквенным, то правый указатель уменьшается, чтобы пропустить специальный символ.\n",
        "\n",
        "Если оба левый и правый указатели указывают на буквенные символы, то символы обмениваются с помощью присваивания кортежей. После обмена левый указатель увеличивается, а правый уменьшается.\n",
        "\n",
        "Как только указатели пересеклись, обратная строка формируется из измененного списка с использованием метода `join()`.\n",
        "\n",
        "**Временная и пространственная сложность:**\n",
        "\n",
        "Временная сложность кода - `O(n)`, где `n` - длина входной строки. Это потому, что код проходит по каждому символу строки не более одного раза. Пространственная сложность кода - `O(n)`, потому что входная строка преобразуется в список символов, что требует дополнительного пространства `O(n)`.\n",
        "\n",
        "**Тест:**"
      ]
    },
    {
      "cell_type": "code",
      "execution_count": null,
      "metadata": {
        "id": "zXIlreQMyxA0",
        "outputId": "1f5362ba-8c70-4c66-a18e-81e85da85d2a"
      },
      "outputs": [
        {
          "name": "stdout",
          "output_type": "stream",
          "text": [
            "Original text:  ab$cd#ef\n",
            "Reversed text:  fe$dc#ba\n",
            "Original text:  ab$cd#ef\n",
            "Reversed text:  fe$dc#ba\n",
            "Original text:  \n",
            "Reversed text:  \n",
            "Original text:  abcd\n",
            "Reversed text:  dcba\n",
            "Original text:  a!bcd?efgh$ijklmn#opqr&stuvwxy^z\n",
            "Reversed text:  z!yxw?vuts$rqponm#lkji&hgfedcb^a\n"
          ]
        }
      ],
      "source": [
        "# Test case 1\n",
        "text_1 = 'ab$cd#ef'\n",
        "expected_1 = 'fe$dc#ba'\n",
        "\n",
        "print('Original text: ', text_1)\n",
        "print('Reversed text: ', reverse_string(text_1))\n",
        "assert reverse_string(text_1) == expected_1\n",
        "\n",
        "# Test case 2\n",
        "text_2 = 'ab$cd#ef'\n",
        "expected_2 = 'fe$dc#ba'\n",
        "\n",
        "print('Original text: ', text_2)\n",
        "print('Reversed text: ', reverse_string(text_2))\n",
        "assert reverse_string(text_2) == expected_2\n",
        "\n",
        "# Test case 3\n",
        "text_3 = ''\n",
        "expected_3 = ''\n",
        "\n",
        "print('Original text: ', text_3)\n",
        "print('Reversed text: ', reverse_string(text_3))\n",
        "assert reverse_string(text_3) == expected_3\n",
        "\n",
        "# Test case 4\n",
        "text_4 = 'abcd'\n",
        "expected_4 = 'dcba'\n",
        "\n",
        "print('Original text: ', text_4)\n",
        "print('Reversed text: ', reverse_string(text_4))\n",
        "assert reverse_string(text_4) == expected_4\n",
        "\n",
        "# Test case 5\n",
        "text_5 = 'a!bcd?efgh$ijklmn#opqr&stuvwxy^z'\n",
        "expected_5 = 'z!yxw?vuts$rqponm#lkji&hgfedcb^a'\n",
        "\n",
        "print('Original text: ', text_5)\n",
        "print('Reversed text: ', reverse_string(text_5))\n",
        "assert reverse_string(text_5) == expected_5"
      ]
    },
    {
      "cell_type": "markdown",
      "metadata": {
        "id": "9U8RjqcCyxA1"
      },
      "source": [
        "## 2. Учитывая строку, выведите все возможные палиндромные разбиения\n",
        "\n",
        "Вопрос заключается в том, чтобы найти все возможные палиндромные разбиения данной строки. Например, если входная строка `\"aab\"`, функция должна вывести следующие возможные разбиения: `[[\"a\", \"a\", \"b\"], [\"aa\", \"b\"]]`."
      ]
    },
    {
      "cell_type": "code",
      "execution_count": null,
      "metadata": {
        "id": "QHFAR7rnyxA1"
      },
      "outputs": [],
      "source": [
        "def all_pal_partitions(string):\n",
        "    # To Store all palindromic partitions\n",
        "    all_parts = []\n",
        "    # To store current palindromic partition\n",
        "    curr_part = []\n",
        "    left = 0\n",
        "    right = len(string)\n",
        "    # Call recursive function to generate all partitions and store in all_parts\n",
        "    all_pal_partitions_helper(all_parts, curr_part, left, right, string)\n",
        "    return all_parts\n",
        "\n",
        "# A utility function to check if a substring is a palindrome\n",
        "def is_palindrome(string, left, right):\n",
        "    while left < right:\n",
        "        if string[left] != string[right]:\n",
        "            return False\n",
        "        left += 1\n",
        "        right -= 1\n",
        "    return True\n",
        "\n",
        "# Recursive function to find all palindromic partitions of string[start..n-1]\n",
        "# all_parts --> A list of lists of strings.\n",
        "#               Every list inside it stores a partition\n",
        "# curr_part --> A list of strings to store current partition\n",
        "def all_pal_partitions_helper(all_parts, curr_part, left, right, string):\n",
        "    # If 'left' has reached len (right)\n",
        "    if left >= right:\n",
        "        # In Python lists are passed by reference, that is why it is needed to copy first\n",
        "        # and then append\n",
        "        x = curr_part.copy()\n",
        "        all_parts.append(x)\n",
        "        return\n",
        "    # Pick all possible ending points for substrings\n",
        "    for i in range(left, right):\n",
        "        # If substring string[left..i] is palindrome\n",
        "        if is_palindrome(string, left, i):\n",
        "            # Add the substring to result\n",
        "            curr_part.append(string[left:i + 1])\n",
        "            # Recur for remaining substring\n",
        "            all_pal_partitions_helper(all_parts, curr_part, i + 1, right, string)\n",
        "            # Remove substring string[left..i] from current partition and make curr_part empty\n",
        "            curr_part.pop()\n"
      ]
    },
    {
      "cell_type": "markdown",
      "metadata": {
        "id": "djLQ7JfgyxA2"
      },
      "source": [
        "**Объяснение:**\n",
        "\n",
        "Функция `all_pal_partitions` принимает строку на вход и инициализирует пустой список `all_parts` для хранения всех палиндромных разбиений. Также она создает пустой список `curr_part` для хранения текущего палиндромного разбиения. Затем переменные `left` и `right` устанавливаются равными 0 и длине строки соответственно. Функция `all_pal_partitions_helper` вызывается с параметрами `all_parts`, `curr_part`, `left`, `right` и `string`.\n",
        "\n",
        "Функция `is_palindrome` - это вспомогательная функция, которая принимает строку и два индекса на вход и возвращает True, если подстрока строки между индексами является палиндромом, в противном случае False.\n",
        "\n",
        "Функция `all_pal_partitions_helper` - это рекурсивная функция, которая генерирует все палиндромные разбиения. Она принимает `all_parts`, `curr_part`, `left`, `right` и `string` на вход. Если `left` больше или равно `right`, список `curr_part` копируется и добавляется в `all_parts`, после чего функция возвращает управление. В противном случае функция выбирает все возможные конечные точки подстрок с помощью цикла for. Если подстрока строки между `left` и `i` является палиндромом, она добавляется в список `curr_part`, и функция вызывается рекурсивно с обновленными параметрами `curr_part`, `i + 1` и `right`. Затем элемент удаляется из списка `curr_part`, чтобы продолжить итерацию цикла for.\n",
        "\n",
        "Затем функция возвращает список `all_parts`, который содержит все возможные палиндромные разбиения входной строки.\n",
        "\n",
        "**Временная и пространственная сложность:**\n",
        "\n",
        "Временная сложность кода составляет `O(n * 2^n)`, где `n` - длина входной строки. Это связано с тем, что код генерирует все возможные разбиения строки, что занимает `O(2^n)`, и для каждого разбиения проверяет, является ли оно палиндромом, что занимает `O(n)`. Пространственная сложность кода составляет `O(n)`, потому что он использует список строк для хранения текущего палиндромного разбиения, что требует дополнительных `O(n)` памяти.\n",
        "\n",
        "**Тест:**"
      ]
    },
    {
      "cell_type": "code",
      "execution_count": null,
      "metadata": {
        "id": "GnNKR3IqyxA2",
        "outputId": "4edb1761-29f5-483f-eb3a-d75b4411ea61"
      },
      "outputs": [
        {
          "name": "stdout",
          "output_type": "stream",
          "text": [
            "String: a\n",
            "All palindromic partitions:  [['a']]\n",
            "String: ab\n",
            "All palindromic partitions:  [['a', 'b']]\n",
            "String: abc\n",
            "All palindromic partitions:  [['a', 'b', 'c']]\n",
            "String: aba\n",
            "All palindromic partitions:  [['a', 'b', 'a'], ['aba']]\n",
            "String: abba\n",
            "All palindromic partitions:  [['a', 'b', 'b', 'a'], ['a', 'bb', 'a'], ['abba']]\n"
          ]
        }
      ],
      "source": [
        "# Test case 1: a single character string\n",
        "print('String: a')\n",
        "print('All palindromic partitions: ', all_pal_partitions('a'))\n",
        "assert all_pal_partitions('a') == [['a']]\n",
        "\n",
        "# Test case 2: a two character string\n",
        "print('String: ab')\n",
        "print('All palindromic partitions: ', all_pal_partitions('ab'))\n",
        "assert all_pal_partitions('ab') == [['a', 'b']]\n",
        "\n",
        "# Test case 3: a three character string with no palindromic substrings\n",
        "print('String: abc')\n",
        "print('All palindromic partitions: ', all_pal_partitions('abc'))\n",
        "assert all_pal_partitions('abc') == [['a', 'b', 'c']]\n",
        "\n",
        "# Test case 4: a three character string with one palindromic substring\n",
        "print('String: aba')\n",
        "print('All palindromic partitions: ', all_pal_partitions('aba'))\n",
        "assert all_pal_partitions('aba') == [['a', 'b', 'a'], ['aba']]\n",
        "\n",
        "# Test case 5: a four character string with two palindromic substrings\n",
        "print('String: abba')\n",
        "print('All palindromic partitions: ', all_pal_partitions('abba'))\n",
        "assert all_pal_partitions('abba') == [['a', 'b', 'b', 'a'], ['a', 'bb', 'a'], ['abba']]\n"
      ]
    },
    {
      "cell_type": "markdown",
      "metadata": {
        "id": "UfiWym_KyxA2"
      },
      "source": [
        "## 3. Подсчет троек с суммой меньше заданного значения\n",
        "\n",
        "Напишите функцию, которая возвращает количество троек во входном массиве, сумма элементов которых меньше заданной целевой суммы. Например, если входной массив `[3, 1, 0, -2]`, а целевая сумма `2`, функция должна вернуть `2`, так как существуют две тройки, удовлетворяющие условию: `[-2, 0, 3]` и `[-2, 1, 3]`."
      ]
    },
    {
      "cell_type": "code",
      "execution_count": null,
      "metadata": {
        "id": "xHFjI-BayxA2"
      },
      "outputs": [],
      "source": [
        "def count_triplets(array, target_sum):\n",
        "    array.sort()\n",
        "    result = []\n",
        "\n",
        "    for i in range(len(array) - 2):\n",
        "        left = i + 1\n",
        "        right = len(array) - 1\n",
        "        while left < right:\n",
        "            current_sum = array[i] + array[left] + array[right]\n",
        "            if current_sum == target_sum:\n",
        "                result.append([array[i], array[left], array[right]])\n",
        "                right -= 1\n",
        "                left += 1\n",
        "            elif target_sum < current_sum:\n",
        "                right -= 1\n",
        "            elif target_sum > current_sum:\n",
        "                left += 1\n",
        "\n",
        "    return result"
      ]
    },
    {
      "cell_type": "markdown",
      "metadata": {
        "id": "wSujAd_4yxA3"
      },
      "source": [
        "**Объяснение:**\n",
        "\n",
        "Функция `count_triplets` принимает два аргумента: массив целых чисел `array` и целевую сумму `target_sum`. Цель функции - подсчитать количество троек целых чисел в массиве `array`, сумма элементов которых меньше заданной `target_sum`. Функция возвращает список всех троек, удовлетворяющих этому условию.\n",
        "\n",
        "Сначала функция сортирует входной массив в неубывающем порядке, используя метод `sort` типа данных list в Python.\n",
        "\n",
        "Функция инициализирует пустой список `result` для хранения троек, удовлетворяющих условию.\n",
        "\n",
        "Затем функция использует цикл для итерации по каждому индексу `i` в массиве до предпоследнего элемента. Это потому что функция рассматривает тройки, и нам нужно как минимум три элемента, чтобы сформировать тройку.\n",
        "\n",
        "Внутри этого цикла функция инициализирует два указателя `left` и `right`, где `left` указывает на элемент, находящийся сразу справа от `i`, а `right` указывает на последний элемент в массиве.\n",
        "\n",
        "Затем функция входит в цикл while, который продолжается до тех пор, пока указатель `left` не станет больше или равен указателю `right`. Это потому что указатели в конечном итоге сойдутся в центре массива, и мы хотим избежать подсчета одной и той же тройки более одного раза.\n",
        "\n",
        "На каждой итерации цикла while функция вычисляет сумму элементов на указателях `i`, `left` и `right` и сохраняет ее в переменной `current_sum`.\n",
        "\n",
        "Если `current_sum` равна `target_sum`, то функция добавляет тройку, состоящую из элементов на указателях `i`, `left` и `right`, в список `result`. Затем указатель `left` увеличивается на единицу, а указатель `right` уменьшается на единицу, чтобы найти следующую тройку, удовлетворяющую условию.\n",
        "\n",
        "Если `current_sum` меньше `target_sum`, то указатель `left` увеличивается на единицу, чтобы найти более крупное значение, которое можно было бы добавить к текущим элементам `i` и `right`, чтобы создать сумму, которая меньше `target_sum`.\n",
        "\n",
        "Если `current_sum` больше `target_sum`, то указатель `right` уменьшается на единицу, чтобы найти более мелкое значение, которое можно было бы добавить к текущим элементам `i` и `left`, чтобы создать сумму, которая меньше `target_sum`.\n",
        "\n",
        "Наконец, функция возвращает список `result`, который содержит все тройки, удовлетворяющие условию.\n",
        "\n",
        "**Временная и пространственная сложность:**\n",
        "\n",
        "Временная сложность кода составляет `O(n^2)`, где `n` - длина входного массива. Это потому что код итерирует по каждому элементу массива, и для каждого элемента он итерирует по оставшимся элементам массива. Пространственная сложность кода составляет `O(n)`, потому что код использует список для хранения троек, удовлетворяющих условию, что требует дополнительных `O(n)` памяти.\n",
        "\n",
        "**Тест:**"
      ]
    },
    {
      "cell_type": "code",
      "execution_count": null,
      "metadata": {
        "id": "YC7u2GpnyxA3",
        "outputId": "b18abc14-72dc-40bb-a984-92c279b8ac7e"
      },
      "outputs": [
        {
          "name": "stdout",
          "output_type": "stream",
          "text": [
            "array = [5, 1, 3, 4, 7], target_sum = 12\n",
            "triplets:  [[1, 4, 7], [3, 4, 5]]\n",
            "array = [], target_sum = 10\n",
            "triplets:  []\n",
            "array = [1, 2, 3, 4, 5], target_sum = 20\n",
            "triplets:  []\n"
          ]
        }
      ],
      "source": [
        "# Example usage of the function\n",
        "array = [5, 1, 3, 4, 7]\n",
        "target_sum = 12\n",
        "triplets = count_triplets(array, target_sum)\n",
        "print('array = [5, 1, 3, 4, 7], target_sum = 12')\n",
        "print('triplets: ', triplets)\n",
        "assert triplets == [[1, 4, 7], [3, 4, 5]]\n",
        "\n",
        "# Test case 1: empty array\n",
        "array = []\n",
        "target_sum = 10\n",
        "triplets = count_triplets(array, target_sum)\n",
        "print('array = [], target_sum = 10')\n",
        "print('triplets: ', triplets)\n",
        "assert triplets == []\n",
        "\n",
        "# Test case 2: target sum is larger than all possible triplets\n",
        "array = [1, 2, 3, 4, 5]\n",
        "target_sum = 20\n",
        "triplets = count_triplets(array, target_sum)\n",
        "print('array = [1, 2, 3, 4, 5], target_sum = 20')\n",
        "print('triplets: ', triplets)\n",
        "assert triplets == []\n",
        "\n"
      ]
    },
    {
      "cell_type": "markdown",
      "metadata": {
        "id": "9QGz62P9yxA4"
      },
      "source": [
        "## 4. Тройка Пифагора в массиве\n",
        "\n",
        "Учитывая массив целых чисел, напишите функцию, которая возвращает true, если существует тройка (a, b, c), удовлетворяющая условию $a^2 + b^2 = c^2$."
      ]
    },
    {
      "cell_type": "code",
      "execution_count": null,
      "metadata": {
        "id": "dHmTO-VVyxA4"
      },
      "outputs": [],
      "source": [
        "# O(n^2) time | O(1) space\n",
        "def is_triplet(array):\n",
        "    # Square all the elements\n",
        "    for i in range(len(array)):\n",
        "        array[i] = array[i] * array[i]\n",
        "\n",
        "    # sort array elements\n",
        "    array.sort(reverse=True)\n",
        "\n",
        "    # fix one element\n",
        "    # and find other two\n",
        "    # i goes from 0 to len(arr) - 1\n",
        "    for i in range(len(array) - 1):\n",
        "        # start two index variables from\n",
        "        # two corners of the array and\n",
        "        # move them toward each other\n",
        "        left = i + 1\n",
        "        right = len(array) - 1\n",
        "        while left < right:\n",
        "            # A triplet found\n",
        "            if array[left] + array[right] == array[i]:\n",
        "                return True\n",
        "            else:\n",
        "                if array[left] + array[right] > array[i]:\n",
        "                    left += 1\n",
        "                else:\n",
        "                    right -= 1\n",
        "    # If we reach here, then no triplet found\n",
        "    return False\n"
      ]
    },
    {
      "cell_type": "markdown",
      "metadata": {
        "id": "eFEnYxRPyxA4"
      },
      "source": [
        "**Объяснение:**\n",
        "\n",
        "Функция `is_triplet` принимает на вход массив целых чисел и возвращает логическое значение, указывающее, существует ли в массиве тройка чисел, удовлетворяющая условию Пифагоровой тройки. Функция сначала возводит в квадрат все элементы массива, перебирая его. Затем она сортирует массив по убыванию. **Это происходит потому, что мы хотим начать с самого большого числа в массиве и найти два других числа, которые удовлетворят теореме Пифагора.**\n",
        "\n",
        "Затем функция выбирает один элемент и пытается найти два других элемента так, чтобы их сумма была равна квадрату выбранного элемента. Она делает это с помощью двух индексных переменных - одной начиная с `left`, а другой начиная с `right` массива. Обе индексные переменные движутся друг к другу, проверяя, равна ли сумма квадратов соответствующих элементов квадрату выбранного элемента или нет. Если сумма равна, тогда функция возвращает `True`, указывая на то, что в массиве существует Пифагорова тройка. Если сумма больше квадрата выбранного элемента, тогда индексная переменная `left` увеличивается, а если она меньше, то индексная переменная `right` уменьшается. Это происходит потому, что мы отсортировали массив по убыванию, и поэтому левая индексная переменная всегда будет соответствовать меньшему числу, чем правая индексная переменная.\n",
        "\n",
        "Основное отличие между этим кодом и кодом для поиска суммы троек заключается в том, что в задаче нахождения суммы троек мы ищем тройку чисел, сумма которых равна целевому значению. Однако в этом коде мы ищем тройку чисел, удовлетворяющую конкретному математическому свойству, т.е. теореме Пифагора.\n",
        "\n",
        "**Временная и пространственная сложность:**\n",
        "\n",
        "Временная сложность функции `O(n^2)`, где `n` - размер входного массива. Это потому, что функция дважды перебирает массив, и каждая итерация занимает `O(n)` времени. Пространственная сложность функции `O(1)`, что означает, что для выполнения функции используется постоянное количество дополнительной памяти, независимо от размера входного массива.\n",
        "\n",
        "**Тест:**"
      ]
    },
    {
      "cell_type": "code",
      "execution_count": null,
      "metadata": {
        "id": "BbEnhiESyxA4",
        "outputId": "fcb63530-d3f8-4e5c-9e01-9279786721da"
      },
      "outputs": [
        {
          "name": "stdout",
          "output_type": "stream",
          "text": [
            "array: [3, 1, 4, 6, 5]\n",
            "is_triplet: True\n",
            "array: [10, 4, 6, 12, 5]\n",
            "is_triplet: False\n"
          ]
        }
      ],
      "source": [
        "# test case 1\n",
        "array = [3, 1, 4, 6, 5]\n",
        "print(\"array:\", array)\n",
        "result = is_triplet(array)\n",
        "print(\"is_triplet:\", result)\n",
        "assert result == True\n",
        "\n",
        "# test case 2\n",
        "array = [10, 4, 6, 12, 5]\n",
        "print(\"array:\", array)\n",
        "result = is_triplet(array)\n",
        "print(\"is_triplet:\", result)\n",
        "assert result == False\n"
      ]
    },
    {
      "cell_type": "markdown",
      "metadata": {
        "id": "UgSvTyOJyxA5"
      },
      "source": [
        "## 5. Сумма двух чисел\n",
        "\n",
        "Учитывая массив целых чисел, напишите функцию, которая возвращает пару чисел такую, что их сумма равна определенной цели. Вы можете предположить, что будет только одна пара чисел, сумма которых равна цели."
      ]
    },
    {
      "cell_type": "code",
      "execution_count": null,
      "metadata": {
        "id": "nGp4m2A5yxA5"
      },
      "outputs": [],
      "source": [
        "def two_number_sum_sorting(array, target_sum):\n",
        "    array.sort() # This is the only line we added. Everything else is the same.\n",
        "    left = 0\n",
        "    right = len(array) - 1\n",
        "\n",
        "    while left < right:\n",
        "        sum_candidate = array[left] + array[right]\n",
        "\n",
        "        if sum_candidate < target_sum:\n",
        "            left += 1\n",
        "        elif sum_candidate > target_sum:\n",
        "            right -= 1\n",
        "        elif sum_candidate == target_sum:\n",
        "            return [array[left], array[right]]\n",
        "\n",
        "    return []\n",
        "\n",
        "\n",
        "def two_number_sum_hashing(array, target_sum):\n",
        "    nums = {}\n",
        "    for num in array:\n",
        "        potential_match = target_sum - num\n",
        "        if potential_match in nums:\n",
        "            return [potential_match, num]\n",
        "        else:\n",
        "            nums[num] = True\n",
        "    return []"
      ]
    },
    {
      "cell_type": "markdown",
      "metadata": {
        "id": "QGczWbIOyxA5"
      },
      "source": [
        "**Объяснение:**\n",
        "\n",
        "Первая функция, `two_number_sum_sorting`, работает так: сначала сортируется входной массив, а затем используются два указателя: один в начале массива, другой в конце. Затем проверяется сумма значений на этих указателях, и если она меньше целевой суммы, левый указатель перемещается вправо. Если она больше целевой суммы, правый указатель перемещается влево. Если она равна целевой сумме, возвращаются два числа.\n",
        "\n",
        "Временная сложность этой функции составляет `O(nlogn)`, где n - длина входного массива. Пространственная сложность составляет `O(1)`, так как она использует только константное количество дополнительной памяти.\n",
        "\n",
        "Вторая функция, `two_number_sum_hashing`, работает с использованием хэш-таблицы для хранения чисел в массиве. Она перебирает каждое число в массиве, и для каждого числа вычисляет разницу между целевой суммой и этим числом. Затем проверяется, есть ли эта разница уже в хэш-таблице. Если есть, возвращаются два числа. Если нет, текущее число добавляется в хэш-таблицу.\n",
        "\n",
        "Временная сложность этой функции - O(n), где n - длина входного массива. Пространственная сложность также O(n), так как в худшем случае все n элементов массива могут быть сохранены в хэш-таблице.\n",
        "\n",
        "С точки зрения программирования, две функции используют разные подходы для решения одной и той же задачи. Подход с сортировкой более интуитивно понятен и легок в понимании, но требует сортировки входного массива, что может занимать много времени для больших массивов. Подход с хэшированием более эффективен, но требует использования хэш-таблицы, что может быть сложнее для понимания начинающими.\n",
        "\n",
        "**тест:**"
      ]
    },
    {
      "cell_type": "code",
      "execution_count": null,
      "metadata": {
        "id": "4AZ28U22yxA5",
        "outputId": "ad91a295-86eb-4c34-c635-9326931abf8a"
      },
      "outputs": [
        {
          "name": "stdout",
          "output_type": "stream",
          "text": [
            "array: [3, 5, -4, 8, 11, 1, -1, 6]\n",
            "target_sum: 10\n",
            "two_number_sum_sorting: [-1, 11]\n",
            "two_number_sum_hashing: [-1, 11]\n",
            "array: [4, 6]\n",
            "target_sum: 10\n",
            "two_number_sum_sorting: [4, 6]\n",
            "two_number_sum_hashing: [4, 6]\n",
            "array: [4, 6, 2]\n",
            "target_sum: 5\n",
            "two_number_sum_sorting: []\n",
            "two_number_sum_hashing: []\n",
            "array: [4, 6, 1, -3]\n",
            "target_sum: 1\n",
            "two_number_sum_sorting: [-3, 4]\n",
            "two_number_sum_hashing: [-3, 4]\n"
          ]
        }
      ],
      "source": [
        "def test_two_sum(array, target_sum, expected_result):\n",
        "    print(\"array:\", array)\n",
        "    print(\"target_sum:\", target_sum)\n",
        "    result = two_number_sum_sorting(array, target_sum)\n",
        "    print(\"two_number_sum_sorting:\", result)\n",
        "    assert result == expected_result\n",
        "\n",
        "    result = two_number_sum_hashing(array, target_sum)\n",
        "    print(\"two_number_sum_hashing:\", result)\n",
        "    assert result == expected_result\n",
        "\n",
        "# Test Case 1\n",
        "# Both functions should return [-1, 11] for this input.\n",
        "array = [3, 5, -4, 8, 11, 1, -1, 6]\n",
        "target_sum = 10\n",
        "excepted_result = [-1, 11]\n",
        "test_two_sum(array, target_sum, excepted_result)\n",
        "\n",
        "# Test Case 2\n",
        "# Both functions should return [4, 6] for this input.\n",
        "array = [4, 6]\n",
        "target_sum = 10\n",
        "excepted_result = [4, 6]\n",
        "test_two_sum(array, target_sum, excepted_result)\n",
        "\n",
        "# Test Case 3\n",
        "# Both functions should return [] for this input.\n",
        "array = [4, 6, 2]\n",
        "target_sum = 5\n",
        "excepted_result = []\n",
        "test_two_sum(array, target_sum, excepted_result)\n",
        "\n",
        "# Test Case 4\n",
        "# Both functions should return [-3, 4] for this input.\n",
        "array = [4, 6, 1, -3]\n",
        "target_sum = 1\n",
        "excepted_result = [-3, 4]\n",
        "test_two_sum(array, target_sum, excepted_result)\n"
      ]
    },
    {
      "cell_type": "markdown",
      "metadata": {
        "id": "kDX-sZT-yxA6"
      },
      "source": [
        "> What if we want to return index of two numbers instead of the numbers themselves?"
      ]
    },
    {
      "cell_type": "code",
      "execution_count": null,
      "metadata": {
        "id": "TNd65qtGyxA6"
      },
      "outputs": [],
      "source": [
        "def two_number_sum_hashing_idx(array, targetSum):\n",
        "    nums = {}\n",
        "    for i, num in enumerate(array):\n",
        "        potential_match = targetSum - num\n",
        "        if potential_match in nums:\n",
        "            return [nums[potential_match], i]\n",
        "        else:\n",
        "            nums[num] = i\n",
        "    return []"
      ]
    },
    {
      "cell_type": "markdown",
      "metadata": {
        "id": "Vzink9KEyxA9"
      },
      "source": [
        "Let's test it:"
      ]
    },
    {
      "cell_type": "code",
      "execution_count": null,
      "metadata": {
        "id": "x-jfAtRNyxA9",
        "outputId": "0bdd212b-3e87-425c-fdd5-fbd0ae61d94d"
      },
      "outputs": [
        {
          "name": "stdout",
          "output_type": "stream",
          "text": [
            "array: [3, 5, -4, 8, 11, 1, -1, 6]\n",
            "target_sum: 10\n",
            "two_number_sum_hashing: [11, -1]\n",
            "two_number_sum_hashing_idx: [4, 6]\n",
            "array: [1, 2, 3, 4, 5, 6, 7]\n",
            "target_sum: 6\n",
            "two_number_sum_hashing: [2, 4]\n",
            "two_number_sum_hashing_idx: [1, 3]\n"
          ]
        }
      ],
      "source": [
        "def test_two_sum_idx(array, target_sum, expected_result):\n",
        "    print(\"array:\", array)\n",
        "    print(\"target_sum:\", target_sum)\n",
        "    result = two_number_sum_hashing_idx(array, target_sum)\n",
        "    print(\"two_number_sum_hashing:\", two_number_sum_hashing(array, target_sum))\n",
        "    print(\"two_number_sum_hashing_idx:\", result)\n",
        "    assert result == expected_result\n",
        "\n",
        "# Test Case 1\n",
        "# Both functions should return [-1, 11] for this input.\n",
        "array = [3, 5, -4, 8, 11, 1, -1, 6]\n",
        "target_sum = 10\n",
        "excepted_result = [4, 6]\n",
        "test_two_sum_idx(array, target_sum, excepted_result)\n",
        "\n",
        "\n",
        "# Test Case 2\n",
        "# Both functions should return [1, 3] for this input.\n",
        "array = [1, 2, 3, 4, 5, 6, 7]\n",
        "target_sum = 6\n",
        "expected_result = [1, 3]\n",
        "test_two_sum_idx(array, target_sum, expected_result)\n",
        "\n",
        "\n"
      ]
    },
    {
      "cell_type": "markdown",
      "metadata": {
        "id": "-6bo6IW0yxA9"
      },
      "source": [
        "## 6. Наименьший подмассив с суммой больше заданного значения\n",
        "\n",
        "Учитывая массив целых чисел, напишите функцию, которая возвращает длину наименьшего подмассива и сам подмассив с суммой больше заданного значения. Если такого подмассива нет, верните 0."
      ]
    },
    {
      "cell_type": "code",
      "execution_count": null,
      "metadata": {
        "id": "rKenmlQ-yxA-"
      },
      "outputs": [],
      "source": [
        "def smallest_subarray_with_sum(array, target_sum):\n",
        "    # target_sum is target\n",
        "    n = len(array)\n",
        "    # Initialize current sum and minimum length\n",
        "    curr_sum = 0\n",
        "\n",
        "    # set as maximum possible length\n",
        "    min_len = n + 1\n",
        "\n",
        "    # Initialize starting and ending indexes\n",
        "    start = 0\n",
        "    end = 0\n",
        "    start_res, end_res = 0, 0\n",
        "    while (end < n):\n",
        "\n",
        "        # Keep adding array elements while current\n",
        "        # sum is smaller than or equal to target_sum\n",
        "        while curr_sum <= target_sum and end < n:\n",
        "            curr_sum += array[end]\n",
        "            end += 1\n",
        "\n",
        "        # If current sum becomes greater than target_sum\n",
        "        while curr_sum > target_sum and start < n:\n",
        "\n",
        "            # Update minimum length if needed\n",
        "            if (end - start < min_len):\n",
        "                min_len = end - start\n",
        "                end_res = end\n",
        "                start_res = start\n",
        "\n",
        "            # remove starting elements\n",
        "            curr_sum -= array[start]\n",
        "            start += 1\n",
        "\n",
        "    return min_len, array[start_res: end_res]\n"
      ]
    },
    {
      "cell_type": "markdown",
      "metadata": {
        "id": "rnwtSZ4wyxA-"
      },
      "source": [
        "**Объяснение:**\n",
        "\n",
        "Функция принимает на вход массив `array` и целевую сумму `target_sum`, и возвращает кортеж, содержащий минимальную длину подмассива с суммой больше или равной `target_sum`, и сам подмассив.\n",
        "\n",
        "`n` - длина входного массива. `curr_sum` - текущая сумма рассматриваемого подмассива. `min_len` инициализируется так, чтобы быть больше длины входного массива, чтобы его можно было обновить с длиной самого короткого подмассива с суммой больше или равной `target_sum`. `start` и `end` - указатели на начало и конец рассматриваемого подмассива. `start_res` и `end_res` используются для хранения начального и конечного индексов подмассива с минимальной длиной.\n",
        "\n",
        "Затем функция входит в цикл while, который выполняется, пока указатель `end` не достигнет конца входного массива. Внутри цикла есть два вложенных цикла while:\n",
        "\n",
        "- Внутренний цикл while увеличивает указатель `end` и добавляет соответствующий элемент входного массива к `curr_sum` до тех пор, пока `curr_sum` не станет больше или равным `target_sum`. Как только это условие выполнено, внешний цикл while переходит к следующему шагу\n",
        "\n",
        "- Второй внутренний цикл while уменьшает указатель `start` и вычитает соответствующий элемент входного массива из `curr_sum` до тех пор, пока `curr_sum` не станет меньше или равным `target_sum`. На каждом шаге функция проверяет, меньше ли длина подмассива текущей минимальной длины (`min_len`). Если да, переменные `min_len`, `start_res` и `end_res` обновляются, чтобы отразить новый самый короткий подмассив. Как только `curr_sum` становится меньше или равным `target_sum`, внутренний цикл while завершается, и внешний цикл while увеличивает указатель `end` и добавляет соответствующий элемент входного массива к `curr_sum`, начиная процесс заново.\n",
        "\n",
        "Как только цикл завершен, функция возвращает кортеж, содержащий минимальную длину подмассива с суммой больше или равной `target_sum`, и сам подмассив.\n",
        "\n",
        "В целом функция работает путем поддержания двух указателей (`start` и `end`) к **скользящему окну** входного массива и увеличивает или уменьшает их в зависимости от того, меньше или больше текущая сумма окна целевой суммы `target_sum`. Функция отслеживает самый короткий подмассив с суммой больше или равной `target_sum` и возвращает его в конце.\n",
        "\n",
        "**Временная и пространственная сложность:**\n",
        "\n",
        "Временная сложность функции `smallest_subarray_with_sum` составляет `O(n)`, где `n` - длина входного массива. Это потому, что функция перебирает входной массив один раз, и каждая итерация занимает `O(1)` времени. Пространственная сложность функции также `O(1)`, так как она хранит только константное количество переменных независимо от размера входного массива.\n",
        "\n",
        "**Тест:**\n"
      ]
    },
    {
      "cell_type": "code",
      "execution_count": null,
      "metadata": {
        "id": "GewZmmdhyxA-",
        "outputId": "ebd7e6d4-9749-457f-8cb9-5f9b6b98c398"
      },
      "outputs": [
        {
          "name": "stdout",
          "output_type": "stream",
          "text": [
            "array: [1, 4, 45, 6, 0, 19]\n",
            "target_sum: 51\n",
            "result: (3, [4, 45, 6])\n",
            "array: [1, 10, 5, 2, 7]\n",
            "target_sum: 9\n",
            "result: (1, [10])\n",
            "array: [1, 11, 100, 1, 0, 200, 3, 2, 1, 250]\n",
            "target_sum: 280\n",
            "result: (4, [100, 1, 0, 200])\n"
          ]
        }
      ],
      "source": [
        "def test_smallest_subarray(array, target_sum, expected_result):\n",
        "    print(\"array:\", array)\n",
        "    print(\"target_sum:\", target_sum)\n",
        "    result = smallest_subarray_with_sum(array, target_sum)\n",
        "    print(\"result:\", result)\n",
        "    assert result == expected_result\n",
        "\n",
        "\n",
        "# Test Case 1\n",
        "array = [1, 4, 45, 6, 0, 19]\n",
        "target_sum = 51\n",
        "expected_result = (3, [4, 45, 6])\n",
        "test_smallest_subarray(array, target_sum, expected_result)\n",
        "\n",
        "\n",
        "# Test Case 2\n",
        "array = [1, 10, 5, 2, 7]\n",
        "target_sum = 9\n",
        "expected_result = (1, [10])\n",
        "test_smallest_subarray(array, target_sum, expected_result)\n",
        "\n",
        "# Test Case 3\n",
        "array = [1, 11, 100, 1, 0, 200, 3, 2, 1, 250]\n",
        "target_sum = 280\n",
        "expected_result = (4, [100, 1, 0, 200])\n",
        "test_smallest_subarray(array, target_sum, expected_result)\n"
      ]
    },
    {
      "cell_type": "markdown",
      "metadata": {
        "id": "TlZu43wqyxA-"
      },
      "source": [
        "## 7. Преобразование инфиксного выражения в префиксное\n",
        "\n",
        "\n",
        "Учитывая инфиксное выражение, преобразуйте его в префиксное выражение, используя два стека.\n",
        "\n",
        "**Инфикс:** Выражение называется инфиксным выражением, если оператор появляется между операндами в выражении. Просто в форме (операнд1 оператор операнд2).\n",
        "\n",
        "`Пример : (A+B) * (C-D)`\n",
        "\n",
        "**Префикс:** Выражение называется префиксным выражением, если оператор появляется в выражении перед операндами. Просто в форме (оператор операнд1 операнд2).\n",
        "\n",
        "`Пример : *+AB-CD (Инфикс : (A+B) * (C-D) )`"
      ]
    },
    {
      "cell_type": "code",
      "execution_count": null,
      "metadata": {
        "id": "jwm2reD9yxA-"
      },
      "outputs": [],
      "source": [
        "def infix_to_prefix(infix):\n",
        "  # initial empty stack for operands and operator\n",
        "  operands = []\n",
        "  operators = []\n",
        "\n",
        "  for i in range(len(infix)):\n",
        "\n",
        "    # If current character is an opening bracket, then\n",
        "    # push into the operators stack.\n",
        "    if infix[i] == '(':\n",
        "      operators.append(infix[i])\n",
        "\n",
        "    # edge case when there is white space in infix\n",
        "    elif infix[i] == \" \":\n",
        "      continue\n",
        "\n",
        "    # If current character is a closing bracket, then pop from\n",
        "    # both stacks and push result in operands stack until\n",
        "    # matching opening bracket is not found.\n",
        "    elif infix[i] == ')':\n",
        "      while len(operators) != 0 and operators[-1] != '(':\n",
        "        operands, operators = operandsAppend(operands, operators)\n",
        "      operators.pop()\n",
        "\n",
        "    elif not is_operator(infix[i]):\n",
        "      operands.append(infix[i])\n",
        "\n",
        "    else:\n",
        "      while len(operators) != 0 and get_priority(infix[i]) <= get_priority(operators[-1]):\n",
        "        operands, operators = operandsAppend(operands, operators)\n",
        "      operators.append(infix[i])\n",
        "\n",
        "\n",
        "  while len(operators) != 0:\n",
        "    operands, operators = operandsAppend(operands, operators)\n",
        "\n",
        "\n",
        "  return operands[-1]\n",
        "\n",
        "\n",
        "# function for adding operands and operator in form operator\n",
        "# + operand1 + operand2.\n",
        "def operandsAppend(operands, operators):\n",
        "  operand1 = operands.pop()\n",
        "  operand2 = operands.pop()\n",
        "\n",
        "  operator = operators.pop()\n",
        "\n",
        "  new_str = operator + operand2 + operand1\n",
        "  operands.append(new_str)\n",
        "\n",
        "  return operands, operators\n",
        "\n",
        "# Function to check if given character is an operator or not.\n",
        "def is_operator(char):\n",
        "  return (not char.isalpha()) and (not char.isdigit())\n",
        "\n",
        "\n",
        "# Function to get the priority of operators\n",
        "def get_priority(c):\n",
        "    if c == '-' or c == '+':\n",
        "        return 1\n",
        "    elif c == '*' or c == '/':\n",
        "        return 2\n",
        "    elif c == '^':\n",
        "        return 3\n",
        "    return 0\n",
        "\n",
        "\n"
      ]
    },
    {
      "cell_type": "markdown",
      "metadata": {
        "id": "9SxG3tZDyxA-"
      },
      "source": [
        "**Объяснение:**\n",
        "\n",
        "Этот код преобразует инфиксное выражение в префиксное, используя два стека. Вот как это работает:\n",
        "\n",
        "- Реверс инфиксного выражения: Первый шаг - реверс инфиксного выражения. Это потому, что в префиксной нотации оператор идет перед операндами, в то время как в инфиксной нотации оператор находится между операндами. Реверс инфиксного выражения позволяет применить ту же логику, что и в постфиксной нотации, где оператор следует после операндов. Например, инфиксное выражение `'(A+B)*(C-D)` преобразуется в `)D-C(*)B+A(`.\n",
        "\n",
        "- Инициализация пустых стеков: Код инициализирует два пустых стека - один для операторов и один для операндов.\n",
        "\n",
        "- Определение приоритета операторов: Код определяет словарь, который сопоставляет каждому оператору его уровень приоритета. Это используется для определения порядка, в котором операторы должны быть добавлены в префиксное выражение.\n",
        "\n",
        "- Обход инфиксного выражения: Код обходит реверсированное инфиксное выражение справа налево, по одному символу за раз.\n",
        "\n",
        "- Если текущий символ - операнд: Если текущий символ - это буква или цифра, он помещается в стек операндов.\n",
        "\n",
        "- Если текущий символ - закрывающаяся скобка: Если текущий символ - это закрывающаяся скобка, он помещается в стек операторов.\n",
        "\n",
        "- Если текущий символ - открывающаяся скобка: Если текущий символ - это открывающаяся скобка, операторы извлекаются из стека операторов и добавляются в префиксное выражение до тех пор, пока не встретится закрывающаяся скобка. Затем закрывающаяся скобка извлекается и отбрасывается.\n",
        "\n",
        "- Если текущий символ - оператор: Если текущий символ - это оператор, операторы извлекаются из стека операторов и добавляются в префиксное выражение до тех пор, пока не будет встречен оператор с более низким приоритетом или закрывающаяся скобка. Затем текущий оператор помещается в стек операторов.\n",
        "\n",
        "- Извлечение оставшихся операторов: После того как инфиксное выражение было полностью обработано, все оставшиеся операторы извлекаются из стека операторов и добавляются в префиксное выражение.\n",
        "\n",
        "- Реверс префиксного выражения: Наконец, префиксное выражение реверсируется, чтобы получить окончательный результат.\n",
        "\n",
        "> Примечание: При использовании метода `pop()` для списка в Python он удаляет и возвращает последний элемент в списке. Другими словами, он извлекает элемент из конца списка. Если вы хотите удалить и вернуть элемент из определенной позиции в списке, вы можете использовать метод `pop(index)`, где index - это позиция элемента, который вы хотите удалить.\n",
        "\n",
        "**Временная и пространственная сложность:**\n",
        "\n",
        "Временная сложность этого алгоритма - `O(n)`, где `n` - длина инфиксного выражения. Это потому, что каждый символ в инфиксном выражении обрабатывается ровно один раз. Пространственная сложность этого алгоритма также `O(n)`, так как он использует два стека размером `n` каждый.\n",
        "\n",
        "**Тест:**"
      ]
    },
    {
      "cell_type": "code",
      "execution_count": null,
      "metadata": {
        "id": "l0T02-L_yxA_"
      },
      "outputs": [],
      "source": [
        "def test_infix_to_prefix(infix, expected_prefix):\n",
        "  print(\"infix:\", infix)\n",
        "  prefix = infix_to_prefix(infix)\n",
        "  print(\"prefix:\", prefix)\n",
        "  assert prefix == expected_prefix"
      ]
    },
    {
      "cell_type": "code",
      "execution_count": null,
      "metadata": {
        "id": "MLOuEimnyxA_",
        "outputId": "2e8d2228-bef0-48a5-a951-cc6fc69b88d3"
      },
      "outputs": [
        {
          "name": "stdout",
          "output_type": "stream",
          "text": [
            "Test Case 1\n",
            "infix: (a+b)*(c+d)\n",
            "prefix: *+ab+cd\n",
            "Test Case 2\n",
            "infix: x+y*z/w+u\n",
            "prefix: ++x/*yzwu\n",
            "Test Case 3\n",
            "infix: 1+2*3-4\n",
            "prefix: -+1*234\n",
            "Test Case 4\n",
            "infix: a+b*c-d/e\n",
            "prefix: -+a*bc/de\n"
          ]
        }
      ],
      "source": [
        "print(\"Test Case 1\")\n",
        "infix = \"(a+b)*(c+d)\"\n",
        "expected_prefix = \"*+ab+cd\"\n",
        "test_infix_to_prefix(infix, expected_prefix)\n",
        "\n",
        "print(\"Test Case 2\")\n",
        "infix = \"x+y*z/w+u\"\n",
        "expected_prefix = \"++x/*yzwu\"\n",
        "test_infix_to_prefix(infix, expected_prefix)\n",
        "\n",
        "print(\"Test Case 3\")\n",
        "infix = \"1+2*3-4\"\n",
        "expected_prefix = \"-+1*234\"\n",
        "test_infix_to_prefix(infix, expected_prefix)\n",
        "\n",
        "print(\"Test Case 4\")\n",
        "infix = \"a+b*c-d/e\"\n",
        "expected_prefix = \"-+a*bc/de\"\n",
        "test_infix_to_prefix(infix, expected_prefix)\n",
        "\n"
      ]
    },
    {
      "cell_type": "markdown",
      "metadata": {
        "id": "Fke3orFWyxA_"
      },
      "source": [
        "**8. Различные строки с разрешенными нечетными и четными изменениями**\n",
        "\n",
        "Учитывая массив строк в нижнем регистре, задача состоит в том, чтобы найти количество строк, которые являются различными. Две строки считаются различными, если, применяя следующие операции к одной строке, вторая строка не может быть образована.  \n",
        "\n",
        "- Символ на нечетном индексе может быть заменен другим символом только на нечетном индексе.\n",
        "- Символ на четном индексе может быть заменен другим символом только на четном индексе.\n",
        "\n",
        "\n",
        "Ввод : `arr[] = {\"abcd\", \"cbad\", \"bacd\"}`\n",
        "\n",
        "Вывод : `2`\n",
        "\n",
        "Объяснение :\n",
        "Вторая строка может быть преобразована в первую, поменяв местами первый и третий символы. Таким образом, они различные"
      ]
    },
    {
      "cell_type": "code",
      "execution_count": null,
      "metadata": {
        "id": "Zqqo7m5KyxA_"
      },
      "outputs": [],
      "source": [
        "MAX_CHAR = 26\n",
        "\n",
        "def encode_string(string):\n",
        "    # Initialize two arrays to store the count of even and odd indexed characters for each string\n",
        "    hash_even = [0] * MAX_CHAR\n",
        "    hash_odd = [0] * MAX_CHAR\n",
        "\n",
        "    # Create a hash for each string\n",
        "    for i in range(len(string)):\n",
        "        c = string[i]\n",
        "        if i % 2 == 0:\n",
        "            # If the index of the current character is even, increment the count of even indexed characters\n",
        "            hash_even[ord(c) - ord('a')] += 1\n",
        "\n",
        "        else:\n",
        "            # If the index of the current character is odd, increment the count of odd indexed characters\n",
        "            hash_odd[ord(c) - ord('a')] += 1\n",
        "\n",
        "    # Store the counts of even and odd indexed characters for each string in a single string, separated by '-'\n",
        "    encoding = '-'.join(str(hash_even[i]) + '-' + str(hash_odd[i]) for i in range(MAX_CHAR))\n",
        "\n",
        "    return encoding\n",
        "\n",
        "# This function uses a hashing based set to store strings that are distinct according to the criteria given in the question.\n",
        "def count_distinct(input_strings):\n",
        "    count_distinct = 0 # Initialize result\n",
        "    n = len(input_strings)\n",
        "\n",
        "    # Create an empty set and store all distinct strings in it\n",
        "    string_set = set()\n",
        "\n",
        "    for i in range(n):\n",
        "        # If this encoding appears for the first time, increment the count of distinct encodings.\n",
        "        if encode_string(input_strings[i]) not in string_set:\n",
        "            string_set.add(encode_string(input_strings[i]))\n",
        "            count_distinct += 1\n",
        "\n",
        "    return count_distinct\n"
      ]
    },
    {
      "cell_type": "markdown",
      "metadata": {
        "id": "LpHYZeBryxA_"
      },
      "source": [
        "**Объяснение:**\n",
        "\n",
        "Функция `encode_string` принимает строку на входе и создает хэш для этой строки, подсчитывая количество символов с четным и нечетным индексом в строке. Затем она объединяет подсчеты в одну строку с использованием `\"-\"` в качестве разделителя и возвращает полученную строку.\n",
        "\n",
        "- Сначала функция инициализирует два массива `hash_even` и `hash_odd`, оба размером `MAX_CHAR` (в данном случае 26 - количество английских символов). Эти массивы будут использоваться для хранения количества символов с четным и нечетным индексом для каждой строки.\n",
        "\n",
        "- Затем функция проходит через каждый символ входной строки с помощью цикла for. Для каждого символа она проверяет, четный ли его индекс, используя оператор остатка от деления (`% 2`). Если индекс четный, она увеличивает счетчик соответствующего символа в `hash_even`. В противном случае она увеличивает счетчик соответствующего символа в `hash_odd`. Этот процесс создает подсчеты символов с четным и нечетным индексом для каждой строки.\n",
        "- Затем функция создает одну строку кодировки для каждой входной строки. Она конкатенирует подсчеты символов с четным и нечетным индексом для каждого символа в строке, разделяя их символом `'-'`. Это делается с помощью генератора списка, который перебирает диапазон `MAX_CHAR`, и для каждого символа в диапазоне конкатенирует подсчет символов с четным индексом, '-', и подсчет символов с нечетным индексом. Полученные строки затем объединяются вместе с использованием символов `'-'` в качестве разделителей с помощью метода join().\n",
        "\n",
        "например, возьмем строки `abcd` и `cbad`:\n",
        "\n",
        "`encode_string(\"abcd\")`\n",
        "\n",
        "`hash_even = [1, 0, 1, 0, 0, 0, 0, 0, 0, 0, 0, 0, 0, 0, 0, 0, 0, 0, 0, 0, 0, 0, 0, 0, 0, 0]`\n",
        "\n",
        "`hash_odd = [0, 1, 0, 1, 0, 0, 0, 0, 0, 0, 0, 0, 0, 0, 0, 0, 0, 0, 0, 0, 0, 0, 0, 0, 0, 0]`\n",
        "\n",
        "тогда окончательный вывод:\n",
        "\n",
        "`'1-0-0-1-1-0-0-1-0-0-0-0-0-0-0-0-0-0-0-0-0-0-0-0-0-0-0-0-0-0-0-0-0-0-0-0-0-0-0-0-0-0-0-0-0-0-0-0-0-0-0-0'`\n",
        "\n",
        "\n",
        "\n",
        "`encode_string(\"abcd\")`\n",
        "\n",
        "`hash_even = [1, 0, 1, 0, 0, 0, 0, 0, 0, 0, 0, 0, 0, 0, 0, 0, 0, 0, 0, 0, 0, 0, 0, 0, 0, 0]`\n",
        "\n",
        "`hash_odd = [0, 1, 0, 1, 0, 0, 0, 0, 0, 0, 0, 0, 0, 0, 0, 0, 0, 0, 0, 0, 0, 0, 0, 0, 0, 0]`\n",
        "\n",
        "тогда окончательный вывод:\n",
        "\n",
        "`'1-0-0-1-1-0-0-1-0-0-0-0-0-0-0-0-0-0-0-0-0-0-0-0-0-0-0-0-0-0-0-0-0-0-0-0-0-0-0-0-0-0-0-0-0-0-0-0-0-0-0'`\n",
        "\n",
        "и эти две строки закодированы в одну и ту же строку, поэтому мы можем сказать, что они не различаются.\n",
        "\n",
        "Наконец, функция `count_distinct` принимает список строк на входе и инициализирует счетчик уникальных строк нулем. Затем она создает пустое множество для хранения всех уникальных строк. Для каждой строки в списке она генерирует хэш с использованием функции `encode_string` и проверяет, есть ли хэш уже в множестве уникальных строк. Если хэш отсутствует в множестве, она добавляет его в множество и увеличивает счетчик уникальных строк. Наконец, она возвращает счетчик уникальных строк."
      ]
    },
    {
      "cell_type": "markdown",
      "metadata": {
        "id": "Ru8H-FcQyxA_"
      },
      "source": [
        "**Временная и пространственная сложность:**\n",
        "\n",
        "Временная сложность функции `encode_string` составляет `O(n)`, где `n` - длина входной строки. Это происходит потому, что функция проходит через каждый символ входной строки ровно один раз.\n",
        "\n",
        "Пространственная сложность функции `encode_string` составляет `O(1)`, потому что она использует два массива фиксированной длины (`MAX_CHAR` = 26) для хранения подсчетов символов с четным и нечетным индексом, а также создает одну строку фиксированной длины (52) для хранения кодировки. Таким образом, используемое функцией пространство является постоянным относительно длины входной строки.\n",
        "\n",
        "Временная сложность функции `count_distinct` составляет `O(n*m)` в худшем случае, где `m` - количество входных строк, а `n` - длина входной строки. Это происходит потому, что для каждой входной строки функция вызывает функцию `encode_string`, которая занимает `O(n)` времени, а затем проверяет, существует ли полученная кодировка уже в множестве уникальных кодировок, что также занимает `O(m)` времени в худшем случае (когда все кодировки различны). Поскольку есть `m` входных строк, и каждая из них может занять до `O(n)` времени, общая временная сложность функции составляет `O(n*m)`.\n",
        "\n",
        "Пространственная сложность функции `count_distinct` составляет `O(m)` в худшем случае. Это происходит потому, что функция использует множество для хранения всех уникальных кодировок, которое может содержать до `m` элементов, если все входные строки различны, и каждая кодировка может иметь длину до 52 (длина строки кодировки, возвращаемой `encode_string`).\n",
        "\n",
        "**тест:**"
      ]
    },
    {
      "cell_type": "code",
      "execution_count": null,
      "metadata": {
        "id": "45fsRnuayxA_",
        "outputId": "3d94c16c-61c3-4a60-b39f-743552c3a949"
      },
      "outputs": [
        {
          "name": "stdout",
          "output_type": "stream",
          "text": [
            "Test Case 1\n",
            "input_strings: ['abcd', 'cdab', 'bacd', 'bcda', 'abcd']\n",
            "count_distinct: 3\n",
            "Test Case 2\n",
            "input_strings: ['aaa', 'aaa', 'aaa', 'aaa', 'aaa']\n",
            "count_distinct: 1\n",
            "Test Case 3\n",
            "input_strings: ['abc', 'def', 'ghi', 'jkl']\n",
            "count_distinct: 4\n",
            "Test Case 4\n",
            "input_strings: ['aabbcc', 'abcabc', 'acbabc', 'abccba']\n",
            "count_distinct: 2\n"
          ]
        }
      ],
      "source": [
        "def test_count_distinct(input_strings, expected_count_distinct):\n",
        "    print(\"input_strings:\", input_strings)\n",
        "    count = count_distinct(input_strings)\n",
        "    print(\"count_distinct:\", count)\n",
        "    assert count == expected_count_distinct\n",
        "\n",
        "print(\"Test Case 1\")\n",
        "input_strings = ['abcd', 'cdab', 'bacd', 'bcda', 'abcd']\n",
        "expected_count_distinct = 3\n",
        "test_count_distinct(input_strings, expected_count_distinct)\n",
        "\n",
        "\n",
        "print(\"Test Case 2\")\n",
        "input_strings = ['aaa', 'aaa', 'aaa', 'aaa', 'aaa']\n",
        "expected_count_distinct = 1\n",
        "test_count_distinct(input_strings, expected_count_distinct)\n",
        "\n",
        "print(\"Test Case 3\")\n",
        "input_strings = ['abc', 'def', 'ghi', 'jkl']\n",
        "expected_count_distinct = 4\n",
        "test_count_distinct(input_strings, expected_count_distinct)\n",
        "\n",
        "print(\"Test Case 4\")\n",
        "input_strings = ['aabbcc', 'abcabc', 'acbabc', 'abccba']\n",
        "expected_count_distinct = 2\n",
        "test_count_distinct(input_strings, expected_count_distinct)\n",
        "\n"
      ]
    },
    {
      "cell_type": "markdown",
      "metadata": {
        "id": "7vleIJj1yxA_"
      },
      "source": [
        "## 9. Knuth-Morris-Pratt (KMP) Algorithm"
      ]
    },
    {
      "cell_type": "markdown",
      "metadata": {
        "id": "thxx4SNRyxBA"
      },
      "source": [
        "\n",
        "Алгоритм Кнута-Морриса-Пратта (KMP) используется для эффективного поиска всех вхождений шаблона (подстроки) в строке (тексте). Он был придуман Дональдом Кнутом, Воном Праттом и Джеймсом Моррисом в 1977 году. Алгоритм предварительно обрабатывает шаблон, чтобы создать таблицу частичного соответствия, которая затем используется для выполнения сопоставления.\n",
        "\n",
        "Алгоритм KMP работает следующим образом:\n",
        "\n",
        "Сначала для шаблона строится таблица частичного соответствия (также называемая таблицей отказов). Эта таблица хранит длину самого длинного правильного префикса шаблона, который также является правильным суффиксом этого же шаблона. Правильный префикс строки - это непустой префикс, который не равен всей строке, и правильный суффикс - это непустой суффикс, который не равен всей строке. Таблица строится таким образом, чтобы можно было быстро определить правильное место для продолжения сопоставления после несоответствия.\n",
        "Затем строка сравнивается с шаблоном с использованием таблицы частичного соответствия. Процесс сопоставления начинается в начале строки и в начале шаблона. На каждом шаге алгоритм сравнивает текущие символы в строке и шаблоне. Если они совпадают, алгоритм переходит к следующему символу. Если они не совпадают, алгоритм использует таблицу частичного соответствия, чтобы определить правильное место для продолжения сопоставления. В частности, алгоритм находит длину самого длинного правильного префикса шаблона, который также является правильным суффиксом подстроки шаблона, заканчивающейся на предыдущем символе. Это значение используется для определения следующего символа в шаблоне для сравнения с текущим символом в строке."
      ]
    },
    {
      "cell_type": "code",
      "execution_count": null,
      "metadata": {
        "id": "NnwUcncuyxBA"
      },
      "outputs": [],
      "source": [
        "def knuth_morris_pratt_algorithm(string, substring):\n",
        "    \"\"\"\n",
        "    Implementation of the Knuth-Morris-Pratt algorithm to check if a substring exists in a string.\n",
        "    Returns True if the substring is found, and False otherwise.\n",
        "    \"\"\"\n",
        "    pattern = build_pattern(substring)\n",
        "    return does_match(string, substring, pattern)\n",
        "\n",
        "\n",
        "def build_pattern(substring):\n",
        "    \"\"\"\n",
        "    Helper function to build the pattern used in the KMP algorithm.\n",
        "    Returns a list of integers representing the pattern.\n",
        "    \"\"\"\n",
        "    pattern = [-1] * len(substring)\n",
        "    j = 0\n",
        "    i = 1\n",
        "    while i < len(substring):\n",
        "        if substring[i] == substring[j]:\n",
        "            pattern[i] = j\n",
        "            i += 1\n",
        "            j += 1\n",
        "        elif j > 0:\n",
        "            j = pattern[j - 1] + 1\n",
        "        else:\n",
        "            i += 1\n",
        "    return pattern\n",
        "\n",
        "\n",
        "def does_match(string, substring, pattern):\n",
        "    \"\"\"\n",
        "    Helper function to check if a substring exists in a string using the pattern from build_pattern().\n",
        "    Returns True if the substring is found, and False otherwise.\n",
        "    \"\"\"\n",
        "    i = 0\n",
        "    j = 0\n",
        "    while i + len(substring) - j <= len(string):\n",
        "        if string[i] == substring[j]:\n",
        "            if j == len(substring) - 1:\n",
        "                return True\n",
        "            i += 1\n",
        "            j += 1\n",
        "        elif j > 0:\n",
        "            j = pattern[j - 1] + 1\n",
        "        else:\n",
        "            i += 1\n",
        "    return False\n"
      ]
    },
    {
      "cell_type": "markdown",
      "metadata": {
        "id": "IMFZfwkdyxBA"
      },
      "source": [
        "**Объяснение:**\n",
        "\n",
        "Этот код реализует алгоритм Кнута-Морриса-Пратта для проверки существования заданной подстроки в заданной строке. Основная функция - `knuth_morris_pratt_algorithm()`, которая принимает два аргумента: `string` и `substring`. Функция возвращает `True`, если подстрока найдена в строке, и `False` в противном случае.\n",
        "\n",
        "Реализация алгоритма KMP включает две вспомогательные функции: `build_pattern()` и `does_match()`. Функция `build_pattern()` создает шаблон для подстроки. Этот шаблон представляет собой список целых чисел, которые указывают позиции, с которых начать сопоставление символов в подстроке при несоответствии.\n",
        "\n",
        "Функция `does_match()` принимает строку, подстроку и список шаблона в качестве аргументов. Затем она использует их, чтобы проверить, существует ли подстрока в строке, используя шаблон, сгенерированный функцией `build_pattern()`.\n",
        "\n",
        "Реализация функции `does_match()` включает два указателя i и j. Указатель i проходит по строке, а указатель j - по подстроке. Когда происходит несоответствие между `string[i]` и `substring[j]`, функция использует список шаблона, чтобы определить, с какого места начать сопоставление символов снова. Алгоритм продолжается, пока либо подстрока не будет найдена в строке, либо не будет достигнут конец строки."
      ]
    },
    {
      "cell_type": "code",
      "execution_count": null,
      "metadata": {
        "id": "cgGaWFvryxBA",
        "outputId": "f8f937a7-f7b5-4877-c9c2-5c0275f25b30"
      },
      "outputs": [
        {
          "name": "stdout",
          "output_type": "stream",
          "text": [
            "Test Case 1\n",
            "string: aefoaefcdaefcdaed\n",
            "substring: aefcdaed\n",
            "Reponse of Function: True\n",
            "Test Case 2\n",
            "string: aefoaefcdaefcdaed\n",
            "substring: aefcaefaeiaefaed\n",
            "Reponse of Function: False\n",
            "Test Case 3\n",
            "string: bccbefbcdabbbcabfdcfe\n",
            "substring: abc\n",
            "Reponse of Function: False\n",
            "Test Case 4\n",
            "string: bccbefbcdabbbcabfdcfe\n",
            "substring: bcc\n",
            "Reponse of Function: True\n"
          ]
        }
      ],
      "source": [
        "def test_Knuth_Morris_Pratt_Algorithm(string, substring, expected):\n",
        "    print(\"string:\", string)\n",
        "    print(\"substring:\", substring)\n",
        "    print(\"Reponse of Function:\", knuth_morris_pratt_algorithm(string, substring))\n",
        "    assert knuth_morris_pratt_algorithm(string, substring) == expected\n",
        "\n",
        "\n",
        "print(\"Test Case 1\")\n",
        "string = \"aefoaefcdaefcdaed\"\n",
        "substring = \"aefcdaed\"\n",
        "expected = True\n",
        "test_Knuth_Morris_Pratt_Algorithm(string, substring, expected)\n",
        "\n",
        "print(\"Test Case 2\")\n",
        "string = \"aefoaefcdaefcdaed\"\n",
        "substring = \"aefcaefaeiaefaed\"\n",
        "expected = False\n",
        "test_Knuth_Morris_Pratt_Algorithm(string, substring, expected)\n",
        "\n",
        "print(\"Test Case 3\")\n",
        "string = \"bccbefbcdabbbcabfdcfe\"\n",
        "substring = \"abc\"\n",
        "expected = False\n",
        "test_Knuth_Morris_Pratt_Algorithm(string, substring, expected)\n",
        "\n",
        "print(\"Test Case 4\")\n",
        "string = \"bccbefbcdabbbcabfdcfe\"\n",
        "substring = \"bcc\"\n",
        "expected = True\n",
        "test_Knuth_Morris_Pratt_Algorithm(string, substring, expected)"
      ]
    }
  ],
  "metadata": {
    "kernelspec": {
      "display_name": "base",
      "language": "python",
      "name": "python3"
    },
    "language_info": {
      "codemirror_mode": {
        "name": "ipython",
        "version": 3
      },
      "file_extension": ".py",
      "mimetype": "text/x-python",
      "name": "python",
      "nbconvert_exporter": "python",
      "pygments_lexer": "ipython3",
      "version": "3.9.13"
    },
    "orig_nbformat": 4,
    "vscode": {
      "interpreter": {
        "hash": "05655b172e02d0543f4689a9fd02cca4a7857b55ad1449565d55716c4230d5c1"
      }
    },
    "colab": {
      "provenance": []
    }
  },
  "nbformat": 4,
  "nbformat_minor": 0
}