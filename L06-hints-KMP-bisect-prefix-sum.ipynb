{
  "cells": [
    {
      "cell_type": "markdown",
      "metadata": {
        "id": "2JtMtGQHgJWa"
      },
      "source": [
        "Мальчик Кирилл написал однажды на листе бумаги строчку, состоящую из больших и маленьких латинских букв, а после этого ушел играть в футбол. Когда он вернулся, то обнаружил, что его друг Дима написал под его строкой еще одну строчку такой же длины. Дима утверждает, что свою строчку он получил циклическим сдвигом строки Кирилла на несколько шагов вправо (циклический сдвиг строки abcde на 2 позиции вправо даст строку deabc). Однако Дима известен тем, что может случайно ошибиться в большом количестве вычислений, поэтому Кирилл в растерянности – верить ли Диме? Помогите ему! По данным строкам выведите минимальный возможный размер сдвига или -1, если Дима ошибся.\n",
        "\n",
        "Входные данные\n",
        "Первые две строки входных данных содержат строки Кирилла и Димы, соответственно. Длины строк одинаковы, не превышают 10000 и не равны 0.\n",
        "\n",
        "Выходные данные\n",
        "Выведите единственное число – ответ  на вопрос задачи."
      ]
    },
    {
      "cell_type": "code",
      "execution_count": 6,
      "metadata": {
        "colab": {
          "base_uri": "https://localhost:8080/"
        },
        "id": "aSS3ElgQpSUT",
        "outputId": "e4cc9550-a3df-43d2-ca4b-9931f4394587"
      },
      "outputs": [
        {
          "name": "stdout",
          "output_type": "stream",
          "text": [
            "abcabcabcabcabcabcabcabcabcabc\n",
            "abcabcabcabcabcabcabc\n",
            "[0, 0, 0, 1, 2, 3, 4, 5, 6, 7, 8, 9, 10, 11, 12, 13, 14, 15, 16, 17, 18, 19, 20, 21, 22, 23, 24, 25, 26, 27]\n",
            "0\n"
          ]
        }
      ],
      "source": [
        "kirill = input()\n",
        "dima = input()\n",
        "print(min_shift(kirill, dima))"
      ]
    },
    {
      "cell_type": "code",
      "execution_count": 4,
      "metadata": {
        "id": "rOOdSW7u08GB"
      },
      "outputs": [],
      "source": [
        "def min_shift(kirill, dima):\n",
        "  if kirill == dima:\n",
        "    return 0\n",
        "\n",
        "  for i in range(len(dima)): # O(n)\n",
        "    if kirill == dima[i:] + dima[:i]: # сравнение со слайсом это тоже O(m), где m -- длина суммы слайсов\n",
        "      return i\n",
        "  return -1"
      ]
    },
    {
      "cell_type": "markdown",
      "metadata": {
        "id": "J2yPTgfhf-ml"
      },
      "source": [
        "Теперь используем KMP-подход. Вместо поиска подстроки, мы будем искать префикс-функцию строки, представленной конкатенацией двух строк. Затем мы можем найти минимальный сдвиг, который приводит к совпадению строк:"
      ]
    },
    {
      "cell_type": "code",
      "execution_count": 1,
      "metadata": {
        "id": "l6vP8Yj4f_se"
      },
      "outputs": [],
      "source": [
        "def min_shift(kirill, dima):\n",
        "    if kirill == dima:\n",
        "      return 0\n",
        "\n",
        "    combined = dima * 2\n",
        "    pos = kmp_search(combined, kirill) # просто find : уже лучше чем просто проверять все сдвиги\n",
        "\n",
        "    return pos"
      ]
    },
    {
      "cell_type": "code",
      "execution_count": 2,
      "metadata": {
        "id": "2I-PlHL92ddj"
      },
      "outputs": [],
      "source": [
        "def kmp_search(text, pattern):\n",
        "  n, m = len(text), len(pattern)\n",
        "  if m == 0:\n",
        "    return 0\n",
        "  lps = [0] * m\n",
        "\n",
        "  compute_lps_array(pattern, m, lps)\n",
        "\n",
        "  i = 0 # for text\n",
        "  j = 0 # for pattern\n",
        "  while i < n: # (O(n))\n",
        "    # просто двигаемся вперёд\n",
        "    if pattern[j] == text[i]:\n",
        "      i += 1\n",
        "      j += 1\n",
        "    # теперь рассматриваем где мы оказались\n",
        "    if j == m:\n",
        "      return i - j\n",
        "    elif i < n and pattern[j] != text[i]:\n",
        "      if j != 0:\n",
        "        j = lps[j - 1] # пересмотр паттерна\n",
        "      else:\n",
        "        i += 1"
      ]
    },
    {
      "cell_type": "code",
      "execution_count": 3,
      "metadata": {
        "id": "8syvsEyO3ruo"
      },
      "outputs": [],
      "source": [
        "def compute_lps_array(pattern, m, lps):\n",
        "  # calculate longest prefix + suffix array\n",
        "  length = 0\n",
        "  lps[0] = 0\n",
        "  i = 1\n",
        "  while i < m:\n",
        "    if pattern[i] == pattern[length]:\n",
        "      length += 1\n",
        "      lps[i] = length\n",
        "      i += 1\n",
        "    else:\n",
        "      if length != 0:\n",
        "        length = lps[length - 1]\n",
        "      else:\n",
        "        lps[i] = 0\n",
        "        i += 1\n",
        "  print(lps)"
      ]
    },
    {
      "cell_type": "markdown",
      "metadata": {
        "id": "S9JU4bFqKLSe"
      },
      "source": [
        "# Префиксная сумма"
      ]
    },
    {
      "cell_type": "markdown",
      "metadata": {
        "id": "wjD9QlFQKUDC"
      },
      "source": [
        "Дан массив, найдите префиксные суммы данного массива. Примеры:\n",
        "\n",
        "Ввод: arr = [1, 2, 3]\n",
        "Вывод: sum = [1, 3, 6]\n",
        "\n",
        "Ввод: arr = [4, 6, 12]\n",
        "Вывод: sum = [4, 10, 22]\n",
        "\n",
        "Префиксная сумма — это последовательность частичных сумм заданной последовательности. Например, кумулятивные суммы последовательности $(\\{a, b, c, \\ldots\\})$ будут $(a), (a+b), (a+b+c)$ и так далее. Мы можем быстро решить эту задачу на Python, используя метод `accumulate(iterable)`.\n",
        "\n",
        "Реализация:"
      ]
    },
    {
      "cell_type": "code",
      "execution_count": 8,
      "metadata": {
        "id": "qaPa4qRoKg1Z"
      },
      "outputs": [],
      "source": [
        "from itertools import accumulate\n",
        "\n",
        "def cumulativeSum(input):\n",
        "    print (\"Sum :\", list(accumulate(input)))"
      ]
    },
    {
      "cell_type": "code",
      "execution_count": 9,
      "metadata": {
        "colab": {
          "base_uri": "https://localhost:8080/"
        },
        "id": "FHXAqCFKKiBI",
        "outputId": "a87e6766-52eb-4895-a0e9-57b2143b7c74"
      },
      "outputs": [
        {
          "name": "stdout",
          "output_type": "stream",
          "text": [
            "Sum : [4, 10, 22]\n"
          ]
        }
      ],
      "source": [
        "input = [4, 6, 12]\n",
        "cumulativeSum(input)"
      ]
    },
    {
      "cell_type": "markdown",
      "metadata": {
        "id": "HyX9lngsKiiK"
      },
      "source": [
        "Временная сложность этой функции cumulativeSum составляет \\(O(n)\\), где \\(n\\) — длина входного массива.\n",
        "\n",
        "Пространственная сложность этой функции также составляет \\(O(n)\\), где \\(n\\) — длина входного массива."
      ]
    },
    {
      "cell_type": "markdown",
      "metadata": {
        "id": "qxotSSa4Kk2i"
      },
      "source": [
        "Без accumulate:"
      ]
    },
    {
      "cell_type": "code",
      "execution_count": 14,
      "metadata": {
        "id": "oGQuLqnOKlSX"
      },
      "outputs": [],
      "source": [
        "# Fills prefix sum array\n",
        "def fillPrefixProduct(arr, n, prefixSum):\n",
        "\tprefixSum[0] = arr[0]\n",
        "\n",
        "\t# Adding present element with previous element\n",
        "\tfor i in range(1, n):\n",
        "\t\tprefixSum[i] = prefixSum[i - 1] * arr[i]\n"
      ]
    },
    {
      "cell_type": "code",
      "execution_count": 15,
      "metadata": {
        "colab": {
          "base_uri": "https://localhost:8080/"
        },
        "id": "4ugPc6eWKpHf",
        "outputId": "e5d29df4-62d4-4f01-a038-5c7d27afe872"
      },
      "outputs": [
        {
          "name": "stdout",
          "output_type": "stream",
          "text": [
            "10  40  640  12800  "
          ]
        }
      ],
      "source": [
        "arr = [10, 4, 16, 20]\n",
        "n = len(arr)\n",
        "prefixSum = [0] * n\n",
        "\n",
        "fillPrefixProduct(arr, n, prefixSum)\n",
        "\n",
        "for i in range(n):\n",
        "\tprint(prefixSum[i], \" \", end=\"\")"
      ]
    },
    {
      "cell_type": "markdown",
      "metadata": {
        "id": "iCdC5vTIPa_E"
      },
      "source": [
        "# Сортировка и поиск\n",
        "\n",
        "Рассмотрим bisect"
      ]
    },
    {
      "cell_type": "markdown",
      "metadata": {
        "id": "bdhN2esgPmgX"
      },
      "source": [
        "Дан массив из $N$ целых чисел. Все числа находятся в диапазоне от \\(-10^9\\) до \\(10^9\\).\n",
        "Необходимо уметь отвечать на запросы вида \"Сколько чисел имеют значения между \\(L\\) и \\(R\\)?\".\n",
        "\n",
        "### Формат ввода\n",
        "\n",
        "Число $N$ $$(1 \\leq N \\leq 10^5)$$ Затем $N$ целых чисел.\n",
        "Далее, количество запросов $K$ $$(1 \\leq K \\leq 10^5)$$\n",
        "Далее, $K$ пар чисел \\(L, R\\) $$( -10^9 \\leq L \\leq R \\leq 10^9)$$ — сами запросы.\n",
        "\n",
        "### Формат вывода\n",
        "\n",
        "Выведите $K$ чисел — ответы на запросы."
      ]
    },
    {
      "cell_type": "code",
      "execution_count": null,
      "metadata": {
        "id": "6OJfFC06QZ4q"
      },
      "outputs": [],
      "source": [
        "from bisect bisect_right, bisect_left\n",
        "\n",
        "_ = input()\n",
        "arr = list(map(int, input().split()))\n",
        "k = int(input())\n",
        "\n",
        "arr.sort() # предпосчитанный отсортированный масив\n",
        "results = []\n",
        "for _ in range(k):\n",
        "  left, right = map(int, input().split())\n",
        "  # apply bisections to find the most right element with the given \"right\"\n",
        "  index_of_the_most_right_elem = bisect_right(arr, right)\n",
        "  # and the most left element with the given \"left\" value\n",
        "  index_of_the_most_left_elem = bisect_left(arr, left)\n",
        "  results.append(index_of_the_most_right_elem - index_of_the_most_left_elem)\n",
        "\n",
        "print(*results)"
      ]
    },
    {
      "cell_type": "markdown",
      "metadata": {
        "id": "H-heUDYopUaP"
      },
      "source": [
        "Пирамиды:\n",
        "\n",
        "1. С какой стороны списка лучше идти: слева направо или справа налево?\n",
        "2. Какой признак можно использовать, чтобы понять, когда у нас есть возможность получить готовую пирамиду?\n",
        "3. Что проверить, чтобы уточнить, что пирамида действительно получилась?\n",
        "4. Попробуйте просто \"хранить\" то что остаётся после получающихся пирамид"
      ]
    },
    {
      "cell_type": "markdown",
      "metadata": {
        "id": "JNI4YN_ZBGLN"
      },
      "source": [
        "Автомойка:\n",
        "\n",
        "1. Жадный алгоритм\n",
        "2. Следить за размером работы (особенно учесть самую большую)\n",
        "3. При правильном подходе делается за два прохода\n",
        "\n",
        "Эта задача будет бонусной, т.е. за отсутствие решения баллы вычитаться не будут. При наличии решения баллы пойдут бонусом в другие ДЗ. Помечена *"
      ]
    },
    {
      "cell_type": "markdown",
      "metadata": {
        "id": "V65vRmsNBCxe"
      },
      "source": [
        "Безопасная поездка:\n",
        "\n",
        "1. Использовать что-то вроде бинарного поиска, но не в структуре данных, а по числам\n",
        "2. Использовать decimal будет удобнее: https://docs.python.org/3/library/decimal.html"
      ]
    },
    {
      "cell_type": "markdown",
      "metadata": {
        "id": "h_lrR8HFrJys"
      },
      "source": [
        "Пошаговый обход графа:\n",
        "\n",
        "1. Использовать deque и dfs\n",
        "\n",
        "\n"
      ]
    },
    {
      "cell_type": "markdown",
      "metadata": {
        "id": "Gf_wLDP4Do06"
      },
      "source": [
        "Дубы:\n",
        "\n",
        "1. Использовать динамическое программирование и рекурсию\n",
        "2. Воспользоваться методами решения задачи о наибольшей возрастающей подпоследовательности за nlog(n)\n",
        "\n",
        "Эта задача будет бонусной, т.е. за отсутствие решения баллы вычитаться не будут. При наличии решения баллы пойдут бонусом в другие ДЗ. Помечена *"
      ]
    }
  ],
  "metadata": {
    "colab": {
      "provenance": []
    },
    "kernelspec": {
      "display_name": "Python 3",
      "name": "python3"
    },
    "language_info": {
      "name": "python"
    }
  },
  "nbformat": 4,
  "nbformat_minor": 0
}
