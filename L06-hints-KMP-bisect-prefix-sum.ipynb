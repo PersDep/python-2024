{
  "nbformat": 4,
  "nbformat_minor": 0,
  "metadata": {
    "colab": {
      "provenance": []
    },
    "kernelspec": {
      "name": "python3",
      "display_name": "Python 3"
    },
    "language_info": {
      "name": "python"
    }
  },
  "cells": [
    {
      "cell_type": "markdown",
      "source": [
        "Мальчик Кирилл написал однажды на листе бумаги строчку, состоящую из больших и маленьких латинских букв, а после этого ушел играть в футбол. Когда он вернулся, то обнаружил, что его друг Дима написал под его строкой еще одну строчку такой же длины. Дима утверждает, что свою строчку он получил циклическим сдвигом строки Кирилла на несколько шагов вправо (циклический сдвиг строки abcde на 2 позиции вправо даст строку deabc). Однако Дима известен тем, что может случайно ошибиться в большом количестве вычислений, поэтому Кирилл в растерянности – верить ли Диме? Помогите ему! По данным строкам выведите минимальный возможный размер сдвига или -1, если Дима ошибся.\n",
        "\n",
        "Входные данные\n",
        "Первые две строки входных данных содержат строки Кирилла и Димы, соответственно. Длины строк одинаковы, не превышают 10000 и не равны 0.\n",
        "\n",
        "Выходные данные\n",
        "Выведите единственное число – ответ  на вопрос задачи."
      ],
      "metadata": {
        "id": "2JtMtGQHgJWa"
      }
    },
    {
      "cell_type": "code",
      "source": [
        "kirill = input()\n",
        "dima = input()\n",
        "print(min_shift(kirill, dima))"
      ],
      "metadata": {
        "colab": {
          "base_uri": "https://localhost:8080/"
        },
        "id": "aSS3ElgQpSUT",
        "outputId": "e4cc9550-a3df-43d2-ca4b-9931f4394587"
      },
      "execution_count": 6,
      "outputs": [
        {
          "output_type": "stream",
          "name": "stdout",
          "text": [
            "abcabcabcabcabcabcabcabcabcabc\n",
            "abcabcabcabcabcabcabc\n",
            "[0, 0, 0, 1, 2, 3, 4, 5, 6, 7, 8, 9, 10, 11, 12, 13, 14, 15, 16, 17, 18, 19, 20, 21, 22, 23, 24, 25, 26, 27]\n",
            "0\n"
          ]
        }
      ]
    },
    {
      "cell_type": "code",
      "source": [
        "def min_shift(kirill, dima):\n",
        "  if kirill == dima:\n",
        "    return 0\n",
        "\n",
        "  for i in range(len(dima)): # O(n)\n",
        "    if kirill == dima[i:] + dima[:i]: # сравнение со слайсом это тоже O(m), где m -- длина суммы слайсов\n",
        "      return i\n",
        "  return -1"
      ],
      "metadata": {
        "id": "rOOdSW7u08GB"
      },
      "execution_count": 4,
      "outputs": []
    },
    {
      "cell_type": "markdown",
      "source": [
        "Теперь используем KMP-подход. Вместо поиска подстроки, мы будем искать префикс-функцию строки, представленной конкатенацией двух строк. Затем мы можем найти минимальный сдвиг, который приводит к совпадению строк:"
      ],
      "metadata": {
        "id": "J2yPTgfhf-ml"
      }
    },
    {
      "cell_type": "code",
      "source": [
        "def min_shift(kirill, dima):\n",
        "    if kirill == dima:\n",
        "      return 0\n",
        "\n",
        "    combined = dima * 2\n",
        "    pos = kmp_search(combined, kirill) # просто find : уже лучше чем просто проверять все сдвиги\n",
        "\n",
        "    return pos"
      ],
      "metadata": {
        "id": "l6vP8Yj4f_se"
      },
      "execution_count": 1,
      "outputs": []
    },
    {
      "cell_type": "code",
      "source": [
        "def kmp_search(text, pattern):\n",
        "  n, m = len(text), len(pattern)\n",
        "  if m == 0:\n",
        "    return 0\n",
        "  lps = [0] * m\n",
        "\n",
        "  compute_lps_array(pattern, m, lps)\n",
        "\n",
        "  i = 0 # for text\n",
        "  j = 0 # for pattern\n",
        "  while i < n: # (O(n))\n",
        "    # просто двигаемся вперёд\n",
        "    if pattern[j] == text[i]:\n",
        "      i += 1\n",
        "      j += 1\n",
        "    # теперь рассматриваем где мы оказались\n",
        "    if j == m:\n",
        "      return i - j\n",
        "    elif i < n and pattern[j] != text[i]:\n",
        "      if j != 0:\n",
        "        j = lps[j - 1] # пересмотр паттерна\n",
        "      else:\n",
        "        i += 1"
      ],
      "metadata": {
        "id": "2I-PlHL92ddj"
      },
      "execution_count": 2,
      "outputs": []
    },
    {
      "cell_type": "code",
      "source": [
        "def compute_lps_array(pattern, m, lps):\n",
        "  # calculate longest prefix + suffix array\n",
        "  length = 0\n",
        "  lps[0] = 0\n",
        "  i = 1\n",
        "  while i < m:\n",
        "    if pattern[i] == pattern[length]:\n",
        "      length += 1\n",
        "      lps[i] = length\n",
        "      i += 1\n",
        "    else:\n",
        "      if length != 0:\n",
        "        length = lps[length - 1]\n",
        "      else:\n",
        "        lps[i] = 0\n",
        "        i += 1\n",
        "  print(lps)"
      ],
      "metadata": {
        "id": "8syvsEyO3ruo"
      },
      "execution_count": 3,
      "outputs": []
    },
    {
      "cell_type": "markdown",
      "source": [
        "# Префиксная сумма"
      ],
      "metadata": {
        "id": "S9JU4bFqKLSe"
      }
    },
    {
      "cell_type": "markdown",
      "source": [
        "Дан массив, найдите префиксные суммы данного массива. Примеры:\n",
        "\n",
        "Ввод: arr = [1, 2, 3]\n",
        "Вывод: sum = [1, 3, 6]\n",
        "\n",
        "Ввод: arr = [4, 6, 12]\n",
        "Вывод: sum = [4, 10, 22]\n",
        "\n",
        "Префиксная сумма — это последовательность частичных сумм заданной последовательности. Например, кумулятивные суммы последовательности $(\\{a, b, c, \\ldots\\})$ будут $(a), (a+b), (a+b+c)$ и так далее. Мы можем быстро решить эту задачу на Python, используя метод `accumulate(iterable)`.\n",
        "\n",
        "Реализация:"
      ],
      "metadata": {
        "id": "wjD9QlFQKUDC"
      }
    },
    {
      "cell_type": "code",
      "source": [
        "from itertools import accumulate\n",
        "\n",
        "def cumulativeSum(input):\n",
        "    print (\"Sum :\", list(accumulate(input)))"
      ],
      "metadata": {
        "id": "qaPa4qRoKg1Z"
      },
      "execution_count": 8,
      "outputs": []
    },
    {
      "cell_type": "code",
      "source": [
        "input = [4, 6, 12]\n",
        "cumulativeSum(input)"
      ],
      "metadata": {
        "id": "FHXAqCFKKiBI",
        "colab": {
          "base_uri": "https://localhost:8080/"
        },
        "outputId": "a87e6766-52eb-4895-a0e9-57b2143b7c74"
      },
      "execution_count": 9,
      "outputs": [
        {
          "output_type": "stream",
          "name": "stdout",
          "text": [
            "Sum : [4, 10, 22]\n"
          ]
        }
      ]
    },
    {
      "cell_type": "markdown",
      "source": [
        "Временная сложность этой функции cumulativeSum составляет \\(O(n)\\), где \\(n\\) — длина входного массива.\n",
        "\n",
        "Пространственная сложность этой функции также составляет \\(O(n)\\), где \\(n\\) — длина входного массива."
      ],
      "metadata": {
        "id": "HyX9lngsKiiK"
      }
    },
    {
      "cell_type": "markdown",
      "source": [
        "Без accumulate:"
      ],
      "metadata": {
        "id": "qxotSSa4Kk2i"
      }
    },
    {
      "cell_type": "code",
      "source": [
        "# Fills prefix sum array\n",
        "def fillPrefixProduct(arr, n, prefixSum):\n",
        "\tprefixSum[0] = arr[0]\n",
        "\n",
        "\t# Adding present element with previous element\n",
        "\tfor i in range(1, n):\n",
        "\t\tprefixSum[i] = prefixSum[i - 1] * arr[i]\n"
      ],
      "metadata": {
        "id": "oGQuLqnOKlSX"
      },
      "execution_count": 14,
      "outputs": []
    },
    {
      "cell_type": "code",
      "source": [
        "arr = [10, 4, 16, 20]\n",
        "n = len(arr)\n",
        "prefixSum = [0] * n\n",
        "\n",
        "fillPrefixProduct(arr, n, prefixSum)\n",
        "\n",
        "for i in range(n):\n",
        "\tprint(prefixSum[i], \" \", end=\"\")"
      ],
      "metadata": {
        "id": "4ugPc6eWKpHf",
        "colab": {
          "base_uri": "https://localhost:8080/"
        },
        "outputId": "e5d29df4-62d4-4f01-a038-5c7d27afe872"
      },
      "execution_count": 15,
      "outputs": [
        {
          "output_type": "stream",
          "name": "stdout",
          "text": [
            "10  40  640  12800  "
          ]
        }
      ]
    },
    {
      "cell_type": "markdown",
      "source": [
        "# Сортировка и поиск\n",
        "\n",
        "Рассмотрим bisect"
      ],
      "metadata": {
        "id": "iCdC5vTIPa_E"
      }
    },
    {
      "cell_type": "markdown",
      "source": [
        "Дан массив из $N$ целых чисел. Все числа находятся в диапазоне от \\(-10^9\\) до \\(10^9\\).\n",
        "Необходимо уметь отвечать на запросы вида \"Сколько чисел имеют значения между \\(L\\) и \\(R\\)?\".\n",
        "\n",
        "### Формат ввода\n",
        "\n",
        "Число $N$ $$(1 \\leq N \\leq 10^5)$$ Затем $N$ целых чисел.\n",
        "Далее, количество запросов $K$ $$(1 \\leq K \\leq 10^5)$$\n",
        "Далее, $K$ пар чисел \\(L, R\\) $$( -10^9 \\leq L \\leq R \\leq 10^9)$$ — сами запросы.\n",
        "\n",
        "### Формат вывода\n",
        "\n",
        "Выведите $K$ чисел — ответы на запросы."
      ],
      "metadata": {
        "id": "bdhN2esgPmgX"
      }
    },
    {
      "cell_type": "code",
      "source": [
        "from bisect bisect_right, bisect_left\n",
        "\n",
        "_ = input()\n",
        "arr = list(map(int, input().split()))\n",
        "k = int(input())\n",
        "\n",
        "arr.sort() # предпосчитанный отсортированный масив\n",
        "results = []\n",
        "for _ in range(k):\n",
        "  left, right = map(int, input().split())\n",
        "  # apply bisections to find the most right element with the given \"right\"\n",
        "  index_of_the_most_right_elem = bisect_right(arr, right)\n",
        "  # and the most left element with the given \"left\" value\n",
        "  index_of_the_most_left_elem = bisect_left(arr, left)\n",
        "  results.append(index_of_the_most_right_elem - index_of_the_most_left_elem)\n",
        "\n",
        "print(*results)"
      ],
      "metadata": {
        "id": "6OJfFC06QZ4q"
      },
      "execution_count": null,
      "outputs": []
    },
    {
      "cell_type": "markdown",
      "source": [
        "Пирамиды:\n",
        "\n",
        "1. С какой стороны списка лучше идти: слева направо или справа налево?\n",
        "2. Какой признак можно использовать, чтобы понять, когда у нас есть возможность получить готовую пирамиду?\n",
        "3. Что проверить, чтобы уточнить, что пирамида действительно получилась?\n",
        "4. Попробуйте просто \"хранить\" то что остаётся после получающихся пирамид"
      ],
      "metadata": {
        "id": "H-heUDYopUaP"
      }
    },
    {
      "cell_type": "markdown",
      "source": [
        "Автомойка:\n",
        "\n",
        "1. Жадный алгоритм\n",
        "2. Следить за размером работы (особенно учесть самую большую)\n",
        "3. При правильном подходе делается за два прохода"
      ],
      "metadata": {
        "id": "JNI4YN_ZBGLN"
      }
    },
    {
      "cell_type": "markdown",
      "source": [
        "Безопасная поездка:\n",
        "\n",
        "1. Использовать что-то вроде бинарного поиска, но не в структуре данных, а по числам\n",
        "2. Использовать decimal будет удобнее: https://docs.python.org/3/library/decimal.html"
      ],
      "metadata": {
        "id": "V65vRmsNBCxe"
      }
    },
    {
      "cell_type": "markdown",
      "source": [
        "Пошаговый обход графа:\n",
        "\n",
        "1. Использовать deque и dfs\n",
        "\n",
        "Эта задача будет бонусной, т.е. за отсутствие решения баллы вычитаться не будут. При наличии решения баллы пойдут бонусом в другие ДЗ. Помечена *\n"
      ],
      "metadata": {
        "id": "h_lrR8HFrJys"
      }
    },
    {
      "cell_type": "markdown",
      "source": [
        "Дубы:\n",
        "\n",
        "1. Использовать динамическое программирование и рекурсию\n",
        "2. Воспользоваться методами решения задачи о наибольшей возрастающей подпоследовательности за nlog(n)\n",
        "\n",
        "Эта задача будет бонусной, т.е. за отсутствие решения баллы вычитаться не будут. При наличии решения баллы пойдут бонусом в другие ДЗ. Помечена *"
      ],
      "metadata": {
        "id": "Gf_wLDP4Do06"
      }
    }
  ]
}